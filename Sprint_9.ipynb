{
 "cells": [
  {
   "cell_type": "markdown",
   "metadata": {},
   "source": [
    "# Цели исследования\n",
    "1. Изучить и приоритезирвоать гиппотезы.\n",
    "2. Запустить A/B-тест и проанализирвоать его резхультаты."
   ]
  },
  {
   "cell_type": "markdown",
   "metadata": {},
   "source": [
    "# Ход исследования\n",
    "\n",
    "**Часть 1.  Приоритизация гипотез:**\n",
    "1. Примените фреймворк ICE для приоритизации гипотез. Отсортируйте их по убыванию приоритета.\n",
    "2. Примените фреймворк RICE для приоритизации гипотез. Отсортируйте их по убыванию приоритета.\n",
    "3. Укажите, как изменилась приоритизация гипотез при применении RICE вместо ICE. Объясните, почему так произошло.\n",
    "\n",
    "**Часть 2. Анализ A/B-теста:**\n",
    "1. Постройте график кумулятивной выручки по группам. Сделайте выводы и предположения.\n",
    "2. Постройте график кумулятивного среднего чека по группам. Сделайте выводы и предположения.\n",
    "3. Постройте график относительного изменения кумулятивного среднего чека группы B к группе A. Сделайте выводы и предположения.\n",
    "4. Постройте график кумулятивного среднего количества заказов на посетителя по группам. Сделайте выводы и предположения.\n",
    "5. Постройте график относительного изменения кумулятивного среднего количества заказов на посетителя группы B к группе A.    Сделайте выводы и предположения.\n",
    "6. Постройте точечный график количества заказов по пользователям. Сделайте выводы и предположения.\n",
    "7. Посчитайте 95-й и 99-й перцентили количества заказов на пользователя. Выберите границу для определения аномальных пользователей.\n",
    "8. Постройте точечный график стоимостей заказов. Сделайте выводы и предположения.\n",
    "9. Посчитайте 95-й и 99-й перцентили стоимости заказов. Выберите границу для определения аномальных заказов.\n",
    "10. Посчитайте статистическую значимость различий в среднем количестве заказов на посетителя между группами по «сырым» данным. Сделайте выводы и предположения.\n",
    "11. Посчитайте статистическую значимость различий в среднем чеке заказа между группами по «сырым» данным. Сделайте выводы и предположения.\n",
    "12. Посчитайте статистическую значимость различий в среднем количестве заказов на посетителя между группами по «очищенным» данным. Сделайте выводы и предположения.\n",
    "13. Посчитайте статистическую значимость различий в среднем чеке заказа между группами по «очищенным» данным. Сделайте выводы и предположения.\n",
    "14. Примите решение по результатам теста и объясните его. Варианты решений:\n",
    "- Остановить тест, зафиксировать победу одной из групп.\n",
    "- Остановить тест, зафиксировать отсутствие различий между группами.\n",
    "- Продолжить тест."
   ]
  },
  {
   "cell_type": "markdown",
   "metadata": {},
   "source": [
    "<a name=\"stage_1\"></a>\n",
    "# Часть 1. Приоритезация гипотез"
   ]
  },
  {
   "cell_type": "code",
   "execution_count": 1,
   "metadata": {},
   "outputs": [],
   "source": [
    "#Выгрузим библиотеки которые могут понадобиться в ходе исследования:\n",
    "import pandas as pd\n",
    "import matplotlib.pyplot as plt\n",
    "\n",
    "import seaborn as sns\n",
    "\n",
    "\n",
    "import scipy.stats as stats\n",
    "from scipy import stats as st\n",
    "\n",
    "import math\n",
    "\n",
    "import numpy as np\n"
   ]
  },
  {
   "cell_type": "code",
   "execution_count": 2,
   "metadata": {},
   "outputs": [
    {
     "data": {
      "text/html": [
       "<div>\n",
       "<style scoped>\n",
       "    .dataframe tbody tr th:only-of-type {\n",
       "        vertical-align: middle;\n",
       "    }\n",
       "\n",
       "    .dataframe tbody tr th {\n",
       "        vertical-align: top;\n",
       "    }\n",
       "\n",
       "    .dataframe thead th {\n",
       "        text-align: right;\n",
       "    }\n",
       "</style>\n",
       "<table border=\"1\" class=\"dataframe\">\n",
       "  <thead>\n",
       "    <tr style=\"text-align: right;\">\n",
       "      <th></th>\n",
       "      <th>Hypothesis</th>\n",
       "      <th>Reach</th>\n",
       "      <th>Impact</th>\n",
       "      <th>Confidence</th>\n",
       "      <th>Efforts</th>\n",
       "    </tr>\n",
       "  </thead>\n",
       "  <tbody>\n",
       "    <tr>\n",
       "      <th>0</th>\n",
       "      <td>Добавить два новых канала привлечения трафика,...</td>\n",
       "      <td>3</td>\n",
       "      <td>10</td>\n",
       "      <td>8</td>\n",
       "      <td>6</td>\n",
       "    </tr>\n",
       "    <tr>\n",
       "      <th>1</th>\n",
       "      <td>Запустить собственную службу доставки, что сок...</td>\n",
       "      <td>2</td>\n",
       "      <td>5</td>\n",
       "      <td>4</td>\n",
       "      <td>10</td>\n",
       "    </tr>\n",
       "    <tr>\n",
       "      <th>2</th>\n",
       "      <td>Добавить блоки рекомендаций товаров на сайт ин...</td>\n",
       "      <td>8</td>\n",
       "      <td>3</td>\n",
       "      <td>7</td>\n",
       "      <td>3</td>\n",
       "    </tr>\n",
       "    <tr>\n",
       "      <th>3</th>\n",
       "      <td>Изменить структура категорий, что увеличит кон...</td>\n",
       "      <td>8</td>\n",
       "      <td>3</td>\n",
       "      <td>3</td>\n",
       "      <td>8</td>\n",
       "    </tr>\n",
       "    <tr>\n",
       "      <th>4</th>\n",
       "      <td>Изменить цвет фона главной страницы, чтобы уве...</td>\n",
       "      <td>3</td>\n",
       "      <td>1</td>\n",
       "      <td>1</td>\n",
       "      <td>1</td>\n",
       "    </tr>\n",
       "    <tr>\n",
       "      <th>5</th>\n",
       "      <td>Добавить страницу отзывов клиентов о магазине,...</td>\n",
       "      <td>3</td>\n",
       "      <td>2</td>\n",
       "      <td>2</td>\n",
       "      <td>3</td>\n",
       "    </tr>\n",
       "    <tr>\n",
       "      <th>6</th>\n",
       "      <td>Показать на главной странице баннеры с актуаль...</td>\n",
       "      <td>5</td>\n",
       "      <td>3</td>\n",
       "      <td>8</td>\n",
       "      <td>3</td>\n",
       "    </tr>\n",
       "    <tr>\n",
       "      <th>7</th>\n",
       "      <td>Добавить форму подписки на все основные страни...</td>\n",
       "      <td>10</td>\n",
       "      <td>7</td>\n",
       "      <td>8</td>\n",
       "      <td>5</td>\n",
       "    </tr>\n",
       "    <tr>\n",
       "      <th>8</th>\n",
       "      <td>Запустить акцию, дающую скидку на товар в день...</td>\n",
       "      <td>1</td>\n",
       "      <td>9</td>\n",
       "      <td>9</td>\n",
       "      <td>5</td>\n",
       "    </tr>\n",
       "  </tbody>\n",
       "</table>\n",
       "</div>"
      ],
      "text/plain": [
       "                                          Hypothesis  Reach  Impact  \\\n",
       "0  Добавить два новых канала привлечения трафика,...      3      10   \n",
       "1  Запустить собственную службу доставки, что сок...      2       5   \n",
       "2  Добавить блоки рекомендаций товаров на сайт ин...      8       3   \n",
       "3  Изменить структура категорий, что увеличит кон...      8       3   \n",
       "4  Изменить цвет фона главной страницы, чтобы уве...      3       1   \n",
       "5  Добавить страницу отзывов клиентов о магазине,...      3       2   \n",
       "6  Показать на главной странице баннеры с актуаль...      5       3   \n",
       "7  Добавить форму подписки на все основные страни...     10       7   \n",
       "8  Запустить акцию, дающую скидку на товар в день...      1       9   \n",
       "\n",
       "   Confidence  Efforts  \n",
       "0           8        6  \n",
       "1           4       10  \n",
       "2           7        3  \n",
       "3           3        8  \n",
       "4           1        1  \n",
       "5           2        3  \n",
       "6           8        3  \n",
       "7           8        5  \n",
       "8           9        5  "
      ]
     },
     "execution_count": 2,
     "metadata": {},
     "output_type": "execute_result"
    }
   ],
   "source": [
    "#загружаем и читаем датафрейм\n",
    "hypothesis = pd.read_csv('/datasets/hypothesis.csv')\n",
    "\n",
    "#посмотрим на данные:\n",
    "hypothesis"
   ]
  },
  {
   "cell_type": "code",
   "execution_count": 3,
   "metadata": {},
   "outputs": [
    {
     "name": "stdout",
     "output_type": "stream",
     "text": [
      "<class 'pandas.core.frame.DataFrame'>\n",
      "RangeIndex: 9 entries, 0 to 8\n",
      "Data columns (total 5 columns):\n",
      " #   Column      Non-Null Count  Dtype \n",
      "---  ------      --------------  ----- \n",
      " 0   Hypothesis  9 non-null      object\n",
      " 1   Reach       9 non-null      int64 \n",
      " 2   Impact      9 non-null      int64 \n",
      " 3   Confidence  9 non-null      int64 \n",
      " 4   Efforts     9 non-null      int64 \n",
      "dtypes: int64(4), object(1)\n",
      "memory usage: 488.0+ bytes\n"
     ]
    }
   ],
   "source": [
    "hypothesis.info()"
   ]
  },
  {
   "cell_type": "markdown",
   "metadata": {},
   "source": [
    "Проведём стандартные проверки на дубликаты и тип данных в колонках."
   ]
  },
  {
   "cell_type": "code",
   "execution_count": 4,
   "metadata": {},
   "outputs": [
    {
     "data": {
      "text/plain": [
       "0"
      ]
     },
     "execution_count": 4,
     "metadata": {},
     "output_type": "execute_result"
    }
   ],
   "source": [
    "hypothesis.duplicated().sum()"
   ]
  },
  {
   "cell_type": "code",
   "execution_count": 5,
   "metadata": {},
   "outputs": [
    {
     "data": {
      "text/plain": [
       "Hypothesis    0\n",
       "Reach         0\n",
       "Impact        0\n",
       "Confidence    0\n",
       "Efforts       0\n",
       "dtype: int64"
      ]
     },
     "execution_count": 5,
     "metadata": {},
     "output_type": "execute_result"
    }
   ],
   "source": [
    "hypothesis.isna().sum()"
   ]
  },
  {
   "cell_type": "markdown",
   "metadata": {},
   "source": [
    "<div class=\"alert alert-success\">\n",
    "<b>Комментарий от ревьюера:</b> Хорошо, что ты не забываешь проверить данные.\n",
    "\n",
    "</div>"
   ]
  },
  {
   "cell_type": "markdown",
   "metadata": {},
   "source": [
    "Вывод:\n",
    "\n",
    "Исправлять нчиего не нужно. С данными можно работать."
   ]
  },
  {
   "cell_type": "markdown",
   "metadata": {},
   "source": [
    "**Примените фреймворк ICE для приоритизации гипотез. Отсортируйте их по убыванию приоритета**"
   ]
  },
  {
   "cell_type": "code",
   "execution_count": 6,
   "metadata": {},
   "outputs": [
    {
     "data": {
      "text/html": [
       "<div>\n",
       "<style scoped>\n",
       "    .dataframe tbody tr th:only-of-type {\n",
       "        vertical-align: middle;\n",
       "    }\n",
       "\n",
       "    .dataframe tbody tr th {\n",
       "        vertical-align: top;\n",
       "    }\n",
       "\n",
       "    .dataframe thead th {\n",
       "        text-align: right;\n",
       "    }\n",
       "</style>\n",
       "<table border=\"1\" class=\"dataframe\">\n",
       "  <thead>\n",
       "    <tr style=\"text-align: right;\">\n",
       "      <th></th>\n",
       "      <th>Hypothesis</th>\n",
       "      <th>Reach</th>\n",
       "      <th>Impact</th>\n",
       "      <th>Confidence</th>\n",
       "      <th>Efforts</th>\n",
       "      <th>ICE</th>\n",
       "    </tr>\n",
       "  </thead>\n",
       "  <tbody>\n",
       "    <tr>\n",
       "      <th>8</th>\n",
       "      <td>Запустить акцию, дающую скидку на товар в день...</td>\n",
       "      <td>1</td>\n",
       "      <td>9</td>\n",
       "      <td>9</td>\n",
       "      <td>5</td>\n",
       "      <td>16.200000</td>\n",
       "    </tr>\n",
       "    <tr>\n",
       "      <th>0</th>\n",
       "      <td>Добавить два новых канала привлечения трафика,...</td>\n",
       "      <td>3</td>\n",
       "      <td>10</td>\n",
       "      <td>8</td>\n",
       "      <td>6</td>\n",
       "      <td>13.333333</td>\n",
       "    </tr>\n",
       "    <tr>\n",
       "      <th>7</th>\n",
       "      <td>Добавить форму подписки на все основные страни...</td>\n",
       "      <td>10</td>\n",
       "      <td>7</td>\n",
       "      <td>8</td>\n",
       "      <td>5</td>\n",
       "      <td>11.200000</td>\n",
       "    </tr>\n",
       "    <tr>\n",
       "      <th>6</th>\n",
       "      <td>Показать на главной странице баннеры с актуаль...</td>\n",
       "      <td>5</td>\n",
       "      <td>3</td>\n",
       "      <td>8</td>\n",
       "      <td>3</td>\n",
       "      <td>8.000000</td>\n",
       "    </tr>\n",
       "    <tr>\n",
       "      <th>2</th>\n",
       "      <td>Добавить блоки рекомендаций товаров на сайт ин...</td>\n",
       "      <td>8</td>\n",
       "      <td>3</td>\n",
       "      <td>7</td>\n",
       "      <td>3</td>\n",
       "      <td>7.000000</td>\n",
       "    </tr>\n",
       "  </tbody>\n",
       "</table>\n",
       "</div>"
      ],
      "text/plain": [
       "                                          Hypothesis  Reach  Impact  \\\n",
       "8  Запустить акцию, дающую скидку на товар в день...      1       9   \n",
       "0  Добавить два новых канала привлечения трафика,...      3      10   \n",
       "7  Добавить форму подписки на все основные страни...     10       7   \n",
       "6  Показать на главной странице баннеры с актуаль...      5       3   \n",
       "2  Добавить блоки рекомендаций товаров на сайт ин...      8       3   \n",
       "\n",
       "   Confidence  Efforts        ICE  \n",
       "8           9        5  16.200000  \n",
       "0           8        6  13.333333  \n",
       "7           8        5  11.200000  \n",
       "6           8        3   8.000000  \n",
       "2           7        3   7.000000  "
      ]
     },
     "execution_count": 6,
     "metadata": {},
     "output_type": "execute_result"
    }
   ],
   "source": [
    "hypothesis['ICE'] = hypothesis['Impact'] * hypothesis['Confidence'] / hypothesis['Efforts']\n",
    "hypothesis.sort_values('ICE', ascending=False).head()"
   ]
  },
  {
   "cell_type": "markdown",
   "metadata": {},
   "source": [
    "**Примените фреймворк RICE для приоритизации гипотез. Отсортируйте их по убыванию приоритета.**"
   ]
  },
  {
   "cell_type": "code",
   "execution_count": 7,
   "metadata": {},
   "outputs": [
    {
     "data": {
      "text/html": [
       "<div>\n",
       "<style scoped>\n",
       "    .dataframe tbody tr th:only-of-type {\n",
       "        vertical-align: middle;\n",
       "    }\n",
       "\n",
       "    .dataframe tbody tr th {\n",
       "        vertical-align: top;\n",
       "    }\n",
       "\n",
       "    .dataframe thead th {\n",
       "        text-align: right;\n",
       "    }\n",
       "</style>\n",
       "<table border=\"1\" class=\"dataframe\">\n",
       "  <thead>\n",
       "    <tr style=\"text-align: right;\">\n",
       "      <th></th>\n",
       "      <th>Hypothesis</th>\n",
       "      <th>Reach</th>\n",
       "      <th>Impact</th>\n",
       "      <th>Confidence</th>\n",
       "      <th>Efforts</th>\n",
       "      <th>ICE</th>\n",
       "      <th>RICE</th>\n",
       "    </tr>\n",
       "  </thead>\n",
       "  <tbody>\n",
       "    <tr>\n",
       "      <th>7</th>\n",
       "      <td>Добавить форму подписки на все основные страни...</td>\n",
       "      <td>10</td>\n",
       "      <td>7</td>\n",
       "      <td>8</td>\n",
       "      <td>5</td>\n",
       "      <td>11.200000</td>\n",
       "      <td>112.0</td>\n",
       "    </tr>\n",
       "    <tr>\n",
       "      <th>2</th>\n",
       "      <td>Добавить блоки рекомендаций товаров на сайт ин...</td>\n",
       "      <td>8</td>\n",
       "      <td>3</td>\n",
       "      <td>7</td>\n",
       "      <td>3</td>\n",
       "      <td>7.000000</td>\n",
       "      <td>56.0</td>\n",
       "    </tr>\n",
       "    <tr>\n",
       "      <th>0</th>\n",
       "      <td>Добавить два новых канала привлечения трафика,...</td>\n",
       "      <td>3</td>\n",
       "      <td>10</td>\n",
       "      <td>8</td>\n",
       "      <td>6</td>\n",
       "      <td>13.333333</td>\n",
       "      <td>40.0</td>\n",
       "    </tr>\n",
       "    <tr>\n",
       "      <th>6</th>\n",
       "      <td>Показать на главной странице баннеры с актуаль...</td>\n",
       "      <td>5</td>\n",
       "      <td>3</td>\n",
       "      <td>8</td>\n",
       "      <td>3</td>\n",
       "      <td>8.000000</td>\n",
       "      <td>40.0</td>\n",
       "    </tr>\n",
       "    <tr>\n",
       "      <th>8</th>\n",
       "      <td>Запустить акцию, дающую скидку на товар в день...</td>\n",
       "      <td>1</td>\n",
       "      <td>9</td>\n",
       "      <td>9</td>\n",
       "      <td>5</td>\n",
       "      <td>16.200000</td>\n",
       "      <td>16.2</td>\n",
       "    </tr>\n",
       "  </tbody>\n",
       "</table>\n",
       "</div>"
      ],
      "text/plain": [
       "                                          Hypothesis  Reach  Impact  \\\n",
       "7  Добавить форму подписки на все основные страни...     10       7   \n",
       "2  Добавить блоки рекомендаций товаров на сайт ин...      8       3   \n",
       "0  Добавить два новых канала привлечения трафика,...      3      10   \n",
       "6  Показать на главной странице баннеры с актуаль...      5       3   \n",
       "8  Запустить акцию, дающую скидку на товар в день...      1       9   \n",
       "\n",
       "   Confidence  Efforts        ICE   RICE  \n",
       "7           8        5  11.200000  112.0  \n",
       "2           7        3   7.000000   56.0  \n",
       "0           8        6  13.333333   40.0  \n",
       "6           8        3   8.000000   40.0  \n",
       "8           9        5  16.200000   16.2  "
      ]
     },
     "execution_count": 7,
     "metadata": {},
     "output_type": "execute_result"
    }
   ],
   "source": [
    "hypothesis['RICE'] = hypothesis['Reach'] * hypothesis['Impact'] * hypothesis['Confidence'] / hypothesis['Efforts']\n",
    "hypothesis.sort_values('RICE', ascending=False).head()"
   ]
  },
  {
   "cell_type": "markdown",
   "metadata": {},
   "source": [
    "**Укажите, как изменилась приоритизация гипотез при применении RICE вместо ICE. Объясните, почему так произошло.**\n",
    "\n",
    "Главное меняется тройка лидеров : если в ICE это гипотезы с индексами 8, 0, 7 , то в RICE - 7(была на 3 мете), 2(была на 5), 0(на 2); а лидер таблицы ICE - 8 сместился аж на пятыю позицыию, в то время как 2 перешел на второе место с пятого. Такое отличие продиктовано, тем что в фреймворке RICE мы учитываем важный параметр - Reach (скольких пользователей затронет изменение, которое мы хотим внести), и в гипотезах 7 и 2 он очень высок (в 7 он =10 - максимальный! А в 2 он =8,тоже высокий, а в лидере ICE - в 8 он минимальный =1). Поэтому надо предложить для тестирования гипотезу №7 и возможно еще №2*"
   ]
  },
  {
   "cell_type": "markdown",
   "metadata": {},
   "source": [
    "<a name=\"stage_1\"></a>\n",
    "# Часть 2. Анализ A/B-теста"
   ]
  },
  {
   "cell_type": "code",
   "execution_count": 8,
   "metadata": {},
   "outputs": [],
   "source": [
    "#Прочтём и посомтрим на оставшиеся два датафрейма:\n",
    "orders = pd.read_csv('/datasets/orders.csv')\n",
    "visitors = pd.read_csv('/datasets/visitors.csv')"
   ]
  },
  {
   "cell_type": "code",
   "execution_count": 9,
   "metadata": {},
   "outputs": [
    {
     "data": {
      "text/html": [
       "<div>\n",
       "<style scoped>\n",
       "    .dataframe tbody tr th:only-of-type {\n",
       "        vertical-align: middle;\n",
       "    }\n",
       "\n",
       "    .dataframe tbody tr th {\n",
       "        vertical-align: top;\n",
       "    }\n",
       "\n",
       "    .dataframe thead th {\n",
       "        text-align: right;\n",
       "    }\n",
       "</style>\n",
       "<table border=\"1\" class=\"dataframe\">\n",
       "  <thead>\n",
       "    <tr style=\"text-align: right;\">\n",
       "      <th></th>\n",
       "      <th>transactionId</th>\n",
       "      <th>visitorId</th>\n",
       "      <th>date</th>\n",
       "      <th>revenue</th>\n",
       "      <th>group</th>\n",
       "    </tr>\n",
       "  </thead>\n",
       "  <tbody>\n",
       "    <tr>\n",
       "      <th>0</th>\n",
       "      <td>3667963787</td>\n",
       "      <td>3312258926</td>\n",
       "      <td>2019-08-15</td>\n",
       "      <td>1650</td>\n",
       "      <td>B</td>\n",
       "    </tr>\n",
       "    <tr>\n",
       "      <th>1</th>\n",
       "      <td>2804400009</td>\n",
       "      <td>3642806036</td>\n",
       "      <td>2019-08-15</td>\n",
       "      <td>730</td>\n",
       "      <td>B</td>\n",
       "    </tr>\n",
       "    <tr>\n",
       "      <th>2</th>\n",
       "      <td>2961555356</td>\n",
       "      <td>4069496402</td>\n",
       "      <td>2019-08-15</td>\n",
       "      <td>400</td>\n",
       "      <td>A</td>\n",
       "    </tr>\n",
       "    <tr>\n",
       "      <th>3</th>\n",
       "      <td>3797467345</td>\n",
       "      <td>1196621759</td>\n",
       "      <td>2019-08-15</td>\n",
       "      <td>9759</td>\n",
       "      <td>B</td>\n",
       "    </tr>\n",
       "    <tr>\n",
       "      <th>4</th>\n",
       "      <td>2282983706</td>\n",
       "      <td>2322279887</td>\n",
       "      <td>2019-08-15</td>\n",
       "      <td>2308</td>\n",
       "      <td>B</td>\n",
       "    </tr>\n",
       "  </tbody>\n",
       "</table>\n",
       "</div>"
      ],
      "text/plain": [
       "   transactionId   visitorId        date  revenue group\n",
       "0     3667963787  3312258926  2019-08-15     1650     B\n",
       "1     2804400009  3642806036  2019-08-15      730     B\n",
       "2     2961555356  4069496402  2019-08-15      400     A\n",
       "3     3797467345  1196621759  2019-08-15     9759     B\n",
       "4     2282983706  2322279887  2019-08-15     2308     B"
      ]
     },
     "execution_count": 9,
     "metadata": {},
     "output_type": "execute_result"
    }
   ],
   "source": [
    "orders.head(5)"
   ]
  },
  {
   "cell_type": "code",
   "execution_count": 10,
   "metadata": {},
   "outputs": [
    {
     "data": {
      "text/html": [
       "<div>\n",
       "<style scoped>\n",
       "    .dataframe tbody tr th:only-of-type {\n",
       "        vertical-align: middle;\n",
       "    }\n",
       "\n",
       "    .dataframe tbody tr th {\n",
       "        vertical-align: top;\n",
       "    }\n",
       "\n",
       "    .dataframe thead th {\n",
       "        text-align: right;\n",
       "    }\n",
       "</style>\n",
       "<table border=\"1\" class=\"dataframe\">\n",
       "  <thead>\n",
       "    <tr style=\"text-align: right;\">\n",
       "      <th></th>\n",
       "      <th>date</th>\n",
       "      <th>group</th>\n",
       "      <th>visitors</th>\n",
       "    </tr>\n",
       "  </thead>\n",
       "  <tbody>\n",
       "    <tr>\n",
       "      <th>0</th>\n",
       "      <td>2019-08-01</td>\n",
       "      <td>A</td>\n",
       "      <td>719</td>\n",
       "    </tr>\n",
       "    <tr>\n",
       "      <th>1</th>\n",
       "      <td>2019-08-02</td>\n",
       "      <td>A</td>\n",
       "      <td>619</td>\n",
       "    </tr>\n",
       "    <tr>\n",
       "      <th>2</th>\n",
       "      <td>2019-08-03</td>\n",
       "      <td>A</td>\n",
       "      <td>507</td>\n",
       "    </tr>\n",
       "    <tr>\n",
       "      <th>3</th>\n",
       "      <td>2019-08-04</td>\n",
       "      <td>A</td>\n",
       "      <td>717</td>\n",
       "    </tr>\n",
       "    <tr>\n",
       "      <th>4</th>\n",
       "      <td>2019-08-05</td>\n",
       "      <td>A</td>\n",
       "      <td>756</td>\n",
       "    </tr>\n",
       "  </tbody>\n",
       "</table>\n",
       "</div>"
      ],
      "text/plain": [
       "         date group  visitors\n",
       "0  2019-08-01     A       719\n",
       "1  2019-08-02     A       619\n",
       "2  2019-08-03     A       507\n",
       "3  2019-08-04     A       717\n",
       "4  2019-08-05     A       756"
      ]
     },
     "execution_count": 10,
     "metadata": {},
     "output_type": "execute_result"
    }
   ],
   "source": [
    "visitors.head(5)"
   ]
  },
  {
   "cell_type": "code",
   "execution_count": 11,
   "metadata": {},
   "outputs": [
    {
     "name": "stdout",
     "output_type": "stream",
     "text": [
      "<class 'pandas.core.frame.DataFrame'>\n",
      "RangeIndex: 1197 entries, 0 to 1196\n",
      "Data columns (total 5 columns):\n",
      " #   Column         Non-Null Count  Dtype \n",
      "---  ------         --------------  ----- \n",
      " 0   transactionId  1197 non-null   int64 \n",
      " 1   visitorId      1197 non-null   int64 \n",
      " 2   date           1197 non-null   object\n",
      " 3   revenue        1197 non-null   int64 \n",
      " 4   group          1197 non-null   object\n",
      "dtypes: int64(3), object(2)\n",
      "memory usage: 46.9+ KB\n",
      "<class 'pandas.core.frame.DataFrame'>\n",
      "RangeIndex: 62 entries, 0 to 61\n",
      "Data columns (total 3 columns):\n",
      " #   Column    Non-Null Count  Dtype \n",
      "---  ------    --------------  ----- \n",
      " 0   date      62 non-null     object\n",
      " 1   group     62 non-null     object\n",
      " 2   visitors  62 non-null     int64 \n",
      "dtypes: int64(1), object(2)\n",
      "memory usage: 1.6+ KB\n"
     ]
    }
   ],
   "source": [
    "#Посмотрим на дубликаты и тип данных.\n",
    "orders.info()\n",
    "visitors.info()"
   ]
  },
  {
   "cell_type": "code",
   "execution_count": 12,
   "metadata": {},
   "outputs": [
    {
     "data": {
      "text/plain": [
       "0"
      ]
     },
     "execution_count": 12,
     "metadata": {},
     "output_type": "execute_result"
    }
   ],
   "source": [
    "orders.duplicated().sum()"
   ]
  },
  {
   "cell_type": "code",
   "execution_count": 13,
   "metadata": {},
   "outputs": [
    {
     "data": {
      "text/plain": [
       "0"
      ]
     },
     "execution_count": 13,
     "metadata": {},
     "output_type": "execute_result"
    }
   ],
   "source": [
    "visitors.duplicated().sum()"
   ]
  },
  {
   "cell_type": "code",
   "execution_count": 14,
   "metadata": {},
   "outputs": [
    {
     "data": {
      "text/plain": [
       "transactionId    0\n",
       "visitorId        0\n",
       "date             0\n",
       "revenue          0\n",
       "group            0\n",
       "dtype: int64"
      ]
     },
     "execution_count": 14,
     "metadata": {},
     "output_type": "execute_result"
    }
   ],
   "source": [
    "orders.isna().sum()"
   ]
  },
  {
   "cell_type": "code",
   "execution_count": 15,
   "metadata": {},
   "outputs": [
    {
     "data": {
      "text/plain": [
       "date        0\n",
       "group       0\n",
       "visitors    0\n",
       "dtype: int64"
      ]
     },
     "execution_count": 15,
     "metadata": {},
     "output_type": "execute_result"
    }
   ],
   "source": [
    "visitors.isna().sum()"
   ]
  },
  {
   "cell_type": "markdown",
   "metadata": {},
   "source": [
    "Данные в поярдке, но вот дата в типе object. Это надо испарвить."
   ]
  },
  {
   "cell_type": "code",
   "execution_count": 16,
   "metadata": {},
   "outputs": [
    {
     "name": "stdout",
     "output_type": "stream",
     "text": [
      "<class 'pandas.core.frame.DataFrame'>\n",
      "RangeIndex: 1197 entries, 0 to 1196\n",
      "Data columns (total 5 columns):\n",
      " #   Column          Non-Null Count  Dtype         \n",
      "---  ------          --------------  -----         \n",
      " 0   transaction_id  1197 non-null   int64         \n",
      " 1   visitor_id      1197 non-null   int64         \n",
      " 2   date            1197 non-null   datetime64[ns]\n",
      " 3   revenue         1197 non-null   int64         \n",
      " 4   group           1197 non-null   object        \n",
      "dtypes: datetime64[ns](1), int64(3), object(1)\n",
      "memory usage: 46.9+ KB\n",
      "<class 'pandas.core.frame.DataFrame'>\n",
      "RangeIndex: 62 entries, 0 to 61\n",
      "Data columns (total 3 columns):\n",
      " #   Column    Non-Null Count  Dtype         \n",
      "---  ------    --------------  -----         \n",
      " 0   date      62 non-null     datetime64[ns]\n",
      " 1   group     62 non-null     object        \n",
      " 2   visitors  62 non-null     int64         \n",
      "dtypes: datetime64[ns](1), int64(1), object(1)\n",
      "memory usage: 1.6+ KB\n"
     ]
    }
   ],
   "source": [
    "orders['date'] = pd.to_datetime(orders['date'])\n",
    "visitors['date'] = pd.to_datetime(visitors['date'])\n",
    "\n",
    "orders.columns = ['transaction_id', 'visitor_id', 'date', 'revenue', 'group']\n",
    "\n",
    "#И проверяем:\n",
    "orders.info()\n",
    "visitors.info()"
   ]
  },
  {
   "cell_type": "markdown",
   "metadata": {},
   "source": [
    "Данные подготовлены к работе с ними. \n",
    "\n",
    "И теперь подготовим их для анализа: - соберём данные в группу, посчитатем куммулятивные суммы и т.д."
   ]
  },
  {
   "cell_type": "code",
   "execution_count": 17,
   "metadata": {},
   "outputs": [],
   "source": [
    "orders_grouped = (orders.groupby(['date','group'], as_index=False)\n",
    "                        .agg({'transaction_id':'nunique','visitor_id':'nunique','revenue':'sum'}))\\\n",
    "                        .rename(columns={'transaction_id':'orders','visitor_id':'buyers'})\n",
    "orders_grouped['group_copy'] = orders_grouped['group']\n",
    "orders_grouped = orders_grouped.set_index(['date','group'])\n",
    "orders_cumsum = orders_grouped.sort_values(['date','group']).groupby('group_copy').cumsum().reset_index()\n"
   ]
  },
  {
   "cell_type": "code",
   "execution_count": 18,
   "metadata": {},
   "outputs": [],
   "source": [
    "# Сумма визитов по дням в каждой группе\n",
    "visitors_cumsum = visitors.groupby(['date','group'], as_index=False).agg({'visitors':'sum'}).sort_values(['date','group'])\n",
    "# куммулятивная сумма\n",
    "visitors_cumsum['group_copy'] = visitors_cumsum['group']\n",
    "visitors_cumsum = visitors_cumsum.set_index(['date','group']).groupby('group_copy').cumsum().reset_index()\n",
    "\n",
    "cummulative = orders_cumsum.join(visitors_cumsum[['visitors']])\n",
    "\n",
    "cummulative['average_check'] = cummulative['revenue'] / cummulative['orders']\n",
    "cummulative['conversion'] = cummulative['orders'] / cummulative['visitors']"
   ]
  },
  {
   "cell_type": "code",
   "execution_count": 19,
   "metadata": {},
   "outputs": [
    {
     "data": {
      "text/html": [
       "<div>\n",
       "<style scoped>\n",
       "    .dataframe tbody tr th:only-of-type {\n",
       "        vertical-align: middle;\n",
       "    }\n",
       "\n",
       "    .dataframe tbody tr th {\n",
       "        vertical-align: top;\n",
       "    }\n",
       "\n",
       "    .dataframe thead th {\n",
       "        text-align: right;\n",
       "    }\n",
       "</style>\n",
       "<table border=\"1\" class=\"dataframe\">\n",
       "  <thead>\n",
       "    <tr style=\"text-align: right;\">\n",
       "      <th></th>\n",
       "      <th>date</th>\n",
       "      <th>group</th>\n",
       "      <th>orders</th>\n",
       "      <th>buyers</th>\n",
       "      <th>revenue</th>\n",
       "      <th>visitors</th>\n",
       "      <th>average_check</th>\n",
       "      <th>conversion</th>\n",
       "    </tr>\n",
       "  </thead>\n",
       "  <tbody>\n",
       "    <tr>\n",
       "      <th>0</th>\n",
       "      <td>2019-08-01</td>\n",
       "      <td>A</td>\n",
       "      <td>24</td>\n",
       "      <td>20</td>\n",
       "      <td>148579</td>\n",
       "      <td>719</td>\n",
       "      <td>6190.791667</td>\n",
       "      <td>0.033380</td>\n",
       "    </tr>\n",
       "    <tr>\n",
       "      <th>1</th>\n",
       "      <td>2019-08-01</td>\n",
       "      <td>B</td>\n",
       "      <td>21</td>\n",
       "      <td>20</td>\n",
       "      <td>101217</td>\n",
       "      <td>713</td>\n",
       "      <td>4819.857143</td>\n",
       "      <td>0.029453</td>\n",
       "    </tr>\n",
       "    <tr>\n",
       "      <th>2</th>\n",
       "      <td>2019-08-02</td>\n",
       "      <td>A</td>\n",
       "      <td>44</td>\n",
       "      <td>39</td>\n",
       "      <td>242401</td>\n",
       "      <td>1338</td>\n",
       "      <td>5509.113636</td>\n",
       "      <td>0.032885</td>\n",
       "    </tr>\n",
       "    <tr>\n",
       "      <th>3</th>\n",
       "      <td>2019-08-02</td>\n",
       "      <td>B</td>\n",
       "      <td>45</td>\n",
       "      <td>43</td>\n",
       "      <td>266748</td>\n",
       "      <td>1294</td>\n",
       "      <td>5927.733333</td>\n",
       "      <td>0.034776</td>\n",
       "    </tr>\n",
       "    <tr>\n",
       "      <th>4</th>\n",
       "      <td>2019-08-03</td>\n",
       "      <td>A</td>\n",
       "      <td>68</td>\n",
       "      <td>63</td>\n",
       "      <td>354874</td>\n",
       "      <td>1845</td>\n",
       "      <td>5218.735294</td>\n",
       "      <td>0.036856</td>\n",
       "    </tr>\n",
       "  </tbody>\n",
       "</table>\n",
       "</div>"
      ],
      "text/plain": [
       "        date group  orders  buyers  revenue  visitors  average_check  \\\n",
       "0 2019-08-01     A      24      20   148579       719    6190.791667   \n",
       "1 2019-08-01     B      21      20   101217       713    4819.857143   \n",
       "2 2019-08-02     A      44      39   242401      1338    5509.113636   \n",
       "3 2019-08-02     B      45      43   266748      1294    5927.733333   \n",
       "4 2019-08-03     A      68      63   354874      1845    5218.735294   \n",
       "\n",
       "   conversion  \n",
       "0    0.033380  \n",
       "1    0.029453  \n",
       "2    0.032885  \n",
       "3    0.034776  \n",
       "4    0.036856  "
      ]
     },
     "execution_count": 19,
     "metadata": {},
     "output_type": "execute_result"
    }
   ],
   "source": [
    "#Смотрми что получилось:\n",
    "cummulative.head()"
   ]
  },
  {
   "cell_type": "markdown",
   "metadata": {},
   "source": [
    "Всё сделано, можно приступать к анализу по заданию"
   ]
  },
  {
   "cell_type": "markdown",
   "metadata": {},
   "source": [
    "**1.Постройте график кумулятивной выручки по группам. Сделайте выводы и предположения**"
   ]
  },
  {
   "cell_type": "code",
   "execution_count": 20,
   "metadata": {},
   "outputs": [
    {
     "data": {
      "image/png": "[encoded data removed]",
      "text/plain": [
       "<Figure size 432x288 with 1 Axes>"
      ]
     },
     "metadata": {
      "needs_background": "light"
     },
     "output_type": "display_data"
    }
   ],
   "source": [
    "cumulativeRevenueA = cummulative[cummulative['group']=='A'][['date','revenue']]\n",
    "cumulativeRevenueB = cummulative[cummulative['group']=='B'][['date','revenue']]\n",
    "\n",
    "plt.plot(cumulativeRevenueA['date'], cumulativeRevenueA['revenue'], label='A')\n",
    "plt.plot(cumulativeRevenueB['date'], cumulativeRevenueB['revenue'], label='B')\n",
    "\n",
    "\n",
    "plt.xticks(rotation=45)\n",
    "sns.set(rc={'figure.figsize':(15, 10)})\n",
    "\n",
    "\n",
    "plt.title('График кумулятивной выручки по группам')\n",
    "\n",
    "plt.xlabel('Дата')\n",
    "plt.ylabel('Выручка')\n",
    "\n",
    "plt.legend() \n",
    "plt.show()"
   ]
  },
  {
   "cell_type": "markdown",
   "metadata": {},
   "source": [
    "В группе B наблюдается резкий скачёк. Возможно это влияние аномалий. Тем не менее, она показыввает больгий рост чем группа А."
   ]
  },
  {
   "cell_type": "markdown",
   "metadata": {},
   "source": [
    "**2. Постройте график кумулятивного среднего чека по группам. Сделайте выводы и предположения.**"
   ]
  },
  {
   "cell_type": "code",
   "execution_count": 21,
   "metadata": {},
   "outputs": [
    {
     "data": {
      "image/png": "[encoded data removed]",
      "text/plain": [
       "<Figure size 1080x720 with 1 Axes>"
      ]
     },
     "metadata": {},
     "output_type": "display_data"
    }
   ],
   "source": [
    "cumulativeRevenueA = cummulative[cummulative['group']=='A'][['date','average_check']]\n",
    "cumulativeRevenueB = cummulative[cummulative['group']=='B'][['date','average_check']]\n",
    "\n",
    "plt.plot(cumulativeRevenueA['date'], cumulativeRevenueA['average_check'], label='A')\n",
    "plt.plot(cumulativeRevenueB['date'], cumulativeRevenueB['average_check'], label='B')\n",
    "\n",
    "plt.xticks(rotation=45)\n",
    "sns.set(rc={'figure.figsize':(15, 10)})\n",
    "\n",
    "plt.title('График кумулятивной выручки по группам')\n",
    "\n",
    "plt.xlabel('Дата')\n",
    "plt.ylabel('Выручка')\n",
    "\n",
    "plt.legend() \n",
    "plt.show()"
   ]
  },
  {
   "cell_type": "markdown",
   "metadata": {},
   "source": [
    "Картина та же что и на предыдущем графике: группа B подскакивает, затем снижается, но по уровню всё также выше чем группа А"
   ]
  },
  {
   "cell_type": "markdown",
   "metadata": {},
   "source": [
    "**3. Постройте график относительного изменения кумулятивного среднего чека группы B к группе A. Сделайте выводы и предположения.**"
   ]
  },
  {
   "cell_type": "code",
   "execution_count": 22,
   "metadata": {},
   "outputs": [
    {
     "data": {
      "image/png": "[encoded data removed]",
      "text/plain": [
       "<Figure size 1080x720 with 1 Axes>"
      ]
     },
     "metadata": {},
     "output_type": "display_data"
    }
   ],
   "source": [
    "temp = (cumulativeRevenueA[['date', 'average_check']].merge(cumulativeRevenueB[['date', 'average_check']],\\\n",
    "                                                            left_on='date', right_on='date', how='left', suffixes=['_A', '_B']))\n",
    "plt.plot(temp['date'], temp['average_check_B'] / temp['average_check_A']-1)\n",
    "\n",
    "plt.title('График относительного изменения кумулятивного среднего чека группы B к группе A')\n",
    "plt.axhline(y=0)\n",
    "\n",
    "plt.xticks(rotation=45)\n",
    "sns.set(rc={'figure.figsize':(15, 10)})\n",
    "\n",
    "plt.xlabel('Дата')\n",
    "plt.ylabel('Средний чек')\n",
    "\n",
    "plt.show()"
   ]
  },
  {
   "cell_type": "markdown",
   "metadata": {},
   "source": [
    "Чек в группе В сначала рос, затем резко просел 13 августа, затем снвоа пошёл в рост., затем примерно с 18 августа резкий посдкок, который отмечался и на предыдущих графиках, затем снова плавный спад. Картина, в целом, одна и та же."
   ]
  },
  {
   "cell_type": "markdown",
   "metadata": {},
   "source": [
    "**4.Постройте график кумулятивного среднего количества заказов на посетителя по группам. Сделайте выводы и предположения.**\n"
   ]
  },
  {
   "cell_type": "code",
   "execution_count": 23,
   "metadata": {},
   "outputs": [
    {
     "data": {
      "image/png": "[encoded data removed]",
      "text/plain": [
       "<Figure size 1080x720 with 1 Axes>"
      ]
     },
     "metadata": {},
     "output_type": "display_data"
    }
   ],
   "source": [
    "cummulativeA = cummulative[cummulative['group']=='A'][['date', 'conversion']]\n",
    "cummulativeB = cummulative[cummulative['group']=='B'][['date', 'conversion']]\n",
    "\n",
    "plt.plot(cummulativeA.iloc[:,0].to_frame(), cummulativeA.iloc[:,1].to_frame(), label='A' )\n",
    "plt.plot(cummulativeB.iloc[:,0].to_frame(), cummulativeB.iloc[:,1].to_frame(), label='B')\n",
    "\n",
    "plt.title('График кумулятивной конверсии по группам')\n",
    "\n",
    "\n",
    "plt.xticks(rotation=45)\n",
    "sns.set(rc={'figure.figsize':(15, 10)})\n",
    "\n",
    "plt.xlabel('Дата')\n",
    "plt.ylabel('Выручка')\n",
    "\n",
    "plt.legend()\n",
    "plt.show()"
   ]
  },
  {
   "cell_type": "markdown",
   "metadata": {},
   "source": [
    "Вначале у обоих групп происходит пиковый скачёк, затем у группы А среднее количество заказов колеблется в районе в районе 0,029 и до 0,031. У группы В среднее количество заказов колеблется от 0,037 и до 0,033. и выглядет лучшем чем у гурппы А."
   ]
  },
  {
   "cell_type": "markdown",
   "metadata": {},
   "source": [
    "**5.Постройте график относительного изменения кумулятивного среднего количества заказов на посетителя группы B к группе A. Сделайте выводы и предположения.**"
   ]
  },
  {
   "cell_type": "code",
   "execution_count": 24,
   "metadata": {},
   "outputs": [
    {
     "data": {
      "image/png": "[encoded data removed]",
      "text/plain": [
       "<Figure size 1080x720 with 1 Axes>"
      ]
     },
     "metadata": {},
     "output_type": "display_data"
    }
   ],
   "source": [
    "izmen = (cummulativeA[['date', 'conversion']].merge(cummulativeB[['date', 'conversion']], \n",
    "                                            left_on='date', right_on='date', how='left', suffixes=['_A', '_B']))\n",
    "plt.plot(izmen['date'], izmen['conversion_B'] / izmen['conversion_A']-1)\n",
    "\n",
    "plt.title('График относительного изменения кумулятивной конверсии группы B к группе A')\n",
    "plt.axhline(y=0)\n",
    "plt.axhline(y=0.15)\n",
    "\n",
    "plt.xticks(rotation=45)\n",
    "sns.set(rc={'figure.figsize':(15, 10)})\n",
    "\n",
    "plt.xlabel('Дата')\n",
    "plt.ylabel('Конверсия')\n",
    "\n",
    "plt.show()"
   ]
  },
  {
   "cell_type": "markdown",
   "metadata": {},
   "source": [
    "Стоит отметить не большоей колчиество дней теста, но на этом промежутке группа В выглядит хорошо. "
   ]
  },
  {
   "cell_type": "markdown",
   "metadata": {},
   "source": [
    "**6.Постройте точечный график количества заказов по пользователям. Сделайте выводы и предположения.**"
   ]
  },
  {
   "cell_type": "code",
   "execution_count": 25,
   "metadata": {},
   "outputs": [
    {
     "data": {
      "image/png": "[encoded data removed]",
      "text/plain": [
       "<Figure size 1080x720 with 1 Axes>"
      ]
     },
     "metadata": {},
     "output_type": "display_data"
    }
   ],
   "source": [
    "orders_pers_users = orders.groupby('visitor_id', as_index=False).agg({'transaction_id':'nunique'})\\\n",
    "                         .rename(columns={'transaction_id':'orders'})\n",
    "\n",
    "x_values = pd.Series(range(0,len(orders_pers_users['orders'])))\n",
    "plt.scatter(x_values, orders_pers_users['orders'])\n",
    "\n",
    "plt.xticks(rotation=45)\n",
    "sns.set(rc={'figure.figsize':(15, 10)})\n",
    "\n",
    "plt.xlabel('Количесвто заказов')\n",
    "plt.ylabel('Количество пользвоателей')\n",
    "\n",
    "plt.show()"
   ]
  },
  {
   "cell_type": "markdown",
   "metadata": {},
   "source": [
    "По этимоу графику видно, что большинство покупок совершается 1 раз, но етсь и т кто совершают больше однйо покупки."
   ]
  },
  {
   "cell_type": "markdown",
   "metadata": {},
   "source": [
    "**7.Посчитайте 95-й и 99-й перцентили количества заказов на пользователя. Выберите границу для определения аномальных пользователей.**"
   ]
  },
  {
   "cell_type": "code",
   "execution_count": 26,
   "metadata": {},
   "outputs": [
    {
     "name": "stdout",
     "output_type": "stream",
     "text": [
      "95 перцентиль: 2.00\n",
      "99 перцентиль: 4.00\n"
     ]
    }
   ],
   "source": [
    "print('95 перцентиль: %.2f' % (np.percentile(orders_pers_users['orders'], [95])))\n",
    "print('99 перцентиль: %.2f' % (np.percentile(orders_pers_users['orders'], [99])))"
   ]
  },
  {
   "cell_type": "code",
   "execution_count": 27,
   "metadata": {},
   "outputs": [
    {
     "data": {
      "text/plain": [
       "11"
      ]
     },
     "execution_count": 27,
     "metadata": {},
     "output_type": "execute_result"
    }
   ],
   "source": [
    "orders_pers_users['orders'].max()"
   ]
  },
  {
   "cell_type": "code",
   "execution_count": 28,
   "metadata": {},
   "outputs": [
    {
     "data": {
      "text/plain": [
       "10"
      ]
     },
     "execution_count": 28,
     "metadata": {},
     "output_type": "execute_result"
    }
   ],
   "source": [
    "np.ptp(orders_pers_users['orders'], axis=0)"
   ]
  },
  {
   "cell_type": "code",
   "execution_count": 29,
   "metadata": {},
   "outputs": [
    {
     "name": "stdout",
     "output_type": "stream",
     "text": [
      "4.0\n"
     ]
    }
   ],
   "source": [
    "pers = np.percentile(orders_pers_users['orders'], [99])\n",
    "pers = float(pers)\n",
    "print(pers)"
   ]
  },
  {
   "cell_type": "code",
   "execution_count": 30,
   "metadata": {},
   "outputs": [],
   "source": [
    "outlaws = orders_pers_users[orders_pers_users['orders'] >= pers]['visitor_id'].to_list()"
   ]
  },
  {
   "cell_type": "markdown",
   "metadata": {},
   "source": [
    "Лучше всего считать аномалиями всё что за 99 перцентилем."
   ]
  },
  {
   "cell_type": "markdown",
   "metadata": {},
   "source": [
    "**8.Постройте точечный график стоимостей заказов. Сделайте выводы и предположения.**"
   ]
  },
  {
   "cell_type": "code",
   "execution_count": 31,
   "metadata": {},
   "outputs": [
    {
     "data": {
      "image/png": "[encoded data removed]",
      "text/plain": [
       "<Figure size 1080x720 with 1 Axes>"
      ]
     },
     "metadata": {},
     "output_type": "display_data"
    }
   ],
   "source": [
    "x_values = pd.Series(range(0,len(orders['revenue'])))\n",
    "plt.scatter(x_values, orders['revenue'])\n",
    "\n",
    "plt.xticks(rotation=45)\n",
    "sns.set(rc={'figure.figsize':(15, 10)})\n",
    "\n",
    "plt.xlabel('Стоимость заказов')\n",
    "plt.ylabel('Количество заказов')\n",
    "\n",
    "plt.show()"
   ]
  },
  {
   "cell_type": "markdown",
   "metadata": {},
   "source": [
    "Все заказы в районе одной суммы. При этмо наблюдаются две точки - заказа с болшей стоимостью, по всей видимости, это аноммалии."
   ]
  },
  {
   "cell_type": "markdown",
   "metadata": {},
   "source": [
    "**9.Посчитайте 95-й и 99-й перцентили стоимости заказов. Выберите границу для определения аномальных заказов.**"
   ]
  },
  {
   "cell_type": "code",
   "execution_count": 32,
   "metadata": {},
   "outputs": [
    {
     "name": "stdout",
     "output_type": "stream",
     "text": [
      "95 перцентиль: 28000.00\n",
      "99 перцентиль: 58233.20\n"
     ]
    }
   ],
   "source": [
    "print('95 перцентиль: %.2f' % (np.percentile(orders['revenue'], [95])))\n",
    "print('99 перцентиль: %.2f' % (np.percentile(orders['revenue'], [99])))"
   ]
  },
  {
   "cell_type": "code",
   "execution_count": 33,
   "metadata": {},
   "outputs": [
    {
     "data": {
      "text/plain": [
       "1294500"
      ]
     },
     "execution_count": 33,
     "metadata": {},
     "output_type": "execute_result"
    }
   ],
   "source": [
    "orders['revenue'].max()"
   ]
  },
  {
   "cell_type": "code",
   "execution_count": 34,
   "metadata": {},
   "outputs": [
    {
     "data": {
      "text/plain": [
       "1294450"
      ]
     },
     "execution_count": 34,
     "metadata": {},
     "output_type": "execute_result"
    }
   ],
   "source": [
    "np.ptp(orders['revenue'], axis=0)"
   ]
  },
  {
   "cell_type": "markdown",
   "metadata": {},
   "source": [
    "Так же как и в предыдущем случае лучше всего остекать всё что за 99 перцентилем - это анмоалии."
   ]
  },
  {
   "cell_type": "markdown",
   "metadata": {},
   "source": [
    "**10.Посчитайте статистическую значимость различий в среднем количестве заказов на посетителя между группами по «сырым» данным. Сделайте выводы и предположения.**"
   ]
  },
  {
   "cell_type": "markdown",
   "metadata": {},
   "source": [
    "Определим гипотезы:\n",
    "\n",
    "H0: Среднее количество заказов в группе A РАВНО среднему колчиеству заказов в группе B\n",
    "\n",
    "H1: Среднее количество заказовв группе A НЕ РАВНО среднему колчиеству заказов в группе B\n",
    "\n",
    "- alpha берётся 0.05\n",
    "- Используется напараметрический тест Уилкоксона-Манна-Уитни с методом st.mannwhitneyu(), с помощью него сможем проранжировать две выборки по порядку от меньшего к большему и сравнить ранги одних и тех же значений, попавших в обе выборки с учётом выбросов, которые имеются в данных. Также отмечу, что сам тест работает с рангами, не учитывая сами значения."
   ]
  },
  {
   "cell_type": "code",
   "execution_count": 35,
   "metadata": {},
   "outputs": [],
   "source": [
    "visitorsADaily = visitors[visitors['group'] == 'A'][['date', 'visitors']]\n",
    "visitorsADaily.columns = ['date', 'visitorsPerDateA']\n",
    "\n",
    "visitorsACummulative = visitorsADaily.apply(\n",
    "    lambda x: visitorsADaily[visitorsADaily['date'] <= x['date']].agg(\n",
    "        {'date': 'max', 'visitorsPerDateA': 'sum'}\n",
    "    ),\n",
    "    axis=1,\n",
    ")\n",
    "visitorsACummulative.columns = ['date', 'visitorsCummulativeA']\n",
    "\n",
    "visitorsBDaily = visitors[visitors['group'] == 'B'][['date', 'visitors']]\n",
    "visitorsBDaily.columns = ['date', 'visitorsPerDateB']\n",
    "\n",
    "visitorsBCummulative = visitorsBDaily.apply(\n",
    "    lambda x: visitorsBDaily[visitorsBDaily['date'] <= x['date']].agg(\n",
    "        {'date': 'max', 'visitorsPerDateB': 'sum'}\n",
    "    ),\n",
    "    axis=1,\n",
    ")\n",
    "visitorsBCummulative.columns = ['date', 'visitorsCummulativeB']\n",
    "\n",
    "ordersADaily = (\n",
    "    orders[orders['group'] == 'A'][['date', 'transaction_id', 'visitor_id', 'revenue']]\n",
    "    .groupby('date', as_index=False)\n",
    "    .agg({'transaction_id': pd.Series.nunique, 'revenue': 'sum'})\n",
    ")\n",
    "ordersADaily.columns = ['date', 'ordersPerDateA', 'revenuePerDateA']\n",
    "\n",
    "ordersACummulative = ordersADaily.apply(\n",
    "    lambda x: ordersADaily[ordersADaily['date'] <= x['date']].agg(\n",
    "        {'date': 'max', 'ordersPerDateA': 'sum', 'revenuePerDateA': 'sum'}\n",
    "    ),\n",
    "    axis=1,\n",
    ").sort_values(by=['date'])\n",
    "ordersACummulative.columns = [\n",
    "    'date',\n",
    "    'ordersCummulativeA',\n",
    "    'revenueCummulativeA',\n",
    "]\n",
    "\n",
    "ordersBDaily = (\n",
    "    orders[orders['group'] == 'B'][['date', 'transaction_id', 'visitor_id', 'revenue']]\n",
    "    .groupby('date', as_index=False)\n",
    "    .agg({'transaction_id': pd.Series.nunique, 'revenue': 'sum'})\n",
    ")\n",
    "ordersBDaily.columns = ['date', 'ordersPerDateB', 'revenuePerDateB']\n",
    "\n",
    "ordersBCummulative = ordersBDaily.apply(\n",
    "    lambda x: ordersBDaily[ordersBDaily['date'] <= x['date']].agg(\n",
    "        {'date': 'max', 'ordersPerDateB': 'sum', 'revenuePerDateB': 'sum'}\n",
    "    ),\n",
    "    axis=1,\n",
    ").sort_values(by=['date'])\n",
    "ordersBCummulative.columns = [\n",
    "    'date',\n",
    "    'ordersCummulativeB',\n",
    "    'revenueCummulativeB',\n",
    "]\n",
    "\n",
    "data = (\n",
    "    ordersADaily.merge(\n",
    "        ordersBDaily, left_on='date', right_on='date', how='left'\n",
    "    )\n",
    "    .merge(ordersACummulative, left_on='date', right_on='date', how='left')\n",
    "    .merge(ordersBCummulative, left_on='date', right_on='date', how='left')\n",
    "    .merge(visitorsADaily, left_on='date', right_on='date', how='left')\n",
    "    .merge(visitorsBDaily, left_on='date', right_on='date', how='left')\n",
    "    .merge(visitorsACummulative, left_on='date', right_on='date', how='left')\n",
    "    .merge(visitorsBCummulative, left_on='date', right_on='date', how='left')\n",
    ")"
   ]
  },
  {
   "cell_type": "code",
   "execution_count": 36,
   "metadata": {},
   "outputs": [
    {
     "name": "stdout",
     "output_type": "stream",
     "text": [
      "P-value: 0.017\n",
      "Относительные различия: 0.138\n"
     ]
    }
   ],
   "source": [
    "ordersByUsersA = (\n",
    "    orders[orders['group'] == 'A']\n",
    "    .groupby('visitor_id', as_index=False)\n",
    "    .agg({'transaction_id': pd.Series.nunique})\n",
    ")\n",
    "ordersByUsersA.columns = ['visitor_id', 'transaction_id']\n",
    "\n",
    "ordersByUsersB = (\n",
    "    orders[orders['group'] == 'B']\n",
    "    .groupby('visitor_id', as_index=False)\n",
    "    .agg({'transaction_id': pd.Series.nunique})\n",
    ")\n",
    "ordersByUsersB.columns = ['visitor_id', 'transaction_id'] \n",
    "sampleA = pd.concat([ordersByUsersA['transaction_id'],pd.Series(0, index=np.arange(data['visitorsPerDateA'].sum() - len(ordersByUsersA['transaction_id'])), name='orders')],axis=0)\n",
    "\n",
    "sampleB = pd.concat([ordersByUsersB['transaction_id'],pd.Series(0, index=np.arange(data['visitorsPerDateB'].sum() - len(ordersByUsersB['transaction_id'])), name='orders')],axis=0)\n",
    "print('P-value:',\"{0:.3f}\".format(stats.mannwhitneyu(sampleA, sampleB)[1]))\n",
    "\n",
    "print('Относительные различия:',\"{0:.3f}\".format(sampleB.mean() / sampleA.mean() - 1))"
   ]
  },
  {
   "cell_type": "markdown",
   "metadata": {},
   "source": [
    "Статистическая значимость есть, т.к. заказов в группе В значительно больше."
   ]
  },
  {
   "cell_type": "markdown",
   "metadata": {},
   "source": [
    "**11.Посчитайте статистическую значимость различий в среднем чеке заказа между группами по «сырым» данным. Сделайте выводы и предположения.**"
   ]
  },
  {
   "cell_type": "markdown",
   "metadata": {},
   "source": [
    "Гипотезы:\n",
    "\n",
    "H0: Средний чек A равен среднему чеку группы B\n",
    "\n",
    "H1: Средний чек A не равен среднему чеку группы B\n",
    "\n",
    "- alpha берётся 0.05\n",
    "- Используется напараметрический тест Уилкоксона-Манна-Уитни с методом st.mannwhitneyu(), с помощью него сможем проранжировать две выборки по порядку от меньшего к большему и сравнить ранги одних и тех же значений, попавших в обе выборки с учётом выбросов, которые имеются в данных. Также отмечу, что сам тест работает с рангами, не учитывая сами значения."
   ]
  },
  {
   "cell_type": "code",
   "execution_count": 37,
   "metadata": {},
   "outputs": [
    {
     "name": "stdout",
     "output_type": "stream",
     "text": [
      "P-value: 0.729\n",
      "Относительные различия: 0.259\n"
     ]
    }
   ],
   "source": [
    "print('P-value:','{0:.3f}'.format(stats.mannwhitneyu(orders[orders['group']=='A']['revenue'], orders[orders['group']=='B']['revenue'])[1]))\n",
    "print('Относительные различия:','{0:.3f}'.format(orders[orders['group']=='B']['revenue'].mean()/orders[orders['group']=='A']['revenue'].mean()-1))"
   ]
  },
  {
   "cell_type": "code",
   "execution_count": 38,
   "metadata": {},
   "outputs": [
    {
     "data": {
      "text/plain": [
       "7333.578096947936"
      ]
     },
     "execution_count": 38,
     "metadata": {},
     "output_type": "execute_result"
    }
   ],
   "source": [
    "orders[orders['group']=='A']['revenue'].mean()"
   ]
  },
  {
   "cell_type": "code",
   "execution_count": 39,
   "metadata": {},
   "outputs": [
    {
     "data": {
      "text/plain": [
       "9230.875"
      ]
     },
     "execution_count": 39,
     "metadata": {},
     "output_type": "execute_result"
    }
   ],
   "source": [
    "orders[orders['group']=='B']['revenue'].mean()"
   ]
  },
  {
   "cell_type": "markdown",
   "metadata": {},
   "source": [
    "Нулевую гепотизу не удалось отвергнуть. В гуррпе В среднйи чек не превосходит  среднйи чек в группе А. Это показывает и статичтическая значимость."
   ]
  },
  {
   "cell_type": "markdown",
   "metadata": {},
   "source": [
    "**12.Посчитайте статистическую значимость различий в среднем количестве заказов на посетителя между группами по «очищенным» данным. Сделайте выводы и предположения.**"
   ]
  },
  {
   "cell_type": "markdown",
   "metadata": {},
   "source": [
    "Затем проверим гипотезы:\n",
    "\n",
    "H0: Среднее колчиество заказов в группе A РАВНО среднему количеству заказов в группе B\n",
    "\n",
    "H1: Среднее колчиество заказов в группе A НЕ РАВНО среднему количеству заказов в группе B\n",
    "\n",
    "- alpha берётся 0.05\n",
    "- - Используется напараметрический тест Уилкоксона-Манна-Уитни с методом st.mannwhitneyu(), с помощью него сможем проранжировать две выборки по порядку от меньшего к большему и сравнить ранги одних и тех же значений, попавших в обе выборки с учётом выбросов, которые имеются в данных. Также отмечу, что сам тест работает с рангами, не учитывая сами значения."
   ]
  },
  {
   "cell_type": "code",
   "execution_count": 40,
   "metadata": {},
   "outputs": [],
   "source": [
    "usersWithManyOrders = pd.concat(\n",
    "    [\n",
    "        ordersByUsersA[ordersByUsersA['transaction_id'] > pers]['visitor_id'],\n",
    "        ordersByUsersB[ordersByUsersB['transaction_id'] > pers]['visitor_id'],\n",
    "    ],\n",
    "    axis=0,\n",
    ")\n",
    "usersWithExpensiveOrders = orders[orders['revenue'] > 30000]['visitor_id']\n",
    "abnormalUsers = (\n",
    "    pd.concat([usersWithManyOrders, usersWithExpensiveOrders], axis=0)\n",
    "    .drop_duplicates()\n",
    "    .sort_values()\n",
    ")"
   ]
  },
  {
   "cell_type": "code",
   "execution_count": 41,
   "metadata": {},
   "outputs": [
    {
     "name": "stdout",
     "output_type": "stream",
     "text": [
      "P-value: 0.019\n",
      "Относительные различия: 0.144\n"
     ]
    }
   ],
   "source": [
    "sampleAFiltered = pd.concat(\n",
    "    [\n",
    "        ordersByUsersA[\n",
    "            np.logical_not(ordersByUsersA['visitor_id'].isin(abnormalUsers))\n",
    "        ]['transaction_id'],\n",
    "        pd.Series(\n",
    "            0,\n",
    "            index=np.arange(\n",
    "                data['visitorsPerDateA'].sum() - len(ordersByUsersA['transaction_id'])\n",
    "            ),\n",
    "            name='orders',\n",
    "        ),\n",
    "    ],\n",
    "    axis=0,\n",
    ")\n",
    "\n",
    "sampleBFiltered = pd.concat(\n",
    "    [\n",
    "        ordersByUsersB[\n",
    "            np.logical_not(ordersByUsersB['visitor_id'].isin(abnormalUsers))\n",
    "        ]['transaction_id'],\n",
    "        pd.Series(\n",
    "            0,\n",
    "            index=np.arange(\n",
    "                data['visitorsPerDateB'].sum() - len(ordersByUsersB['transaction_id'])\n",
    "            ),\n",
    "            name='orders',\n",
    "        ),\n",
    "    ],\n",
    "    axis=0,\n",
    ") \n",
    "print('P-value:','{0:.3f}'.format(stats.mannwhitneyu(sampleAFiltered, sampleBFiltered)[1]))\n",
    "print('Относительные различия:','{0:.3f}'.format(sampleBFiltered.mean()/sampleAFiltered.mean()-1)) "
   ]
  },
  {
   "cell_type": "markdown",
   "metadata": {},
   "source": [
    "Статистчиески подтверждается что количество заказов группы В не равна количеству заказов группы А."
   ]
  },
  {
   "cell_type": "markdown",
   "metadata": {},
   "source": [
    "**13.Посчитайте статистическую значимость различий в среднем чеке заказа между группами по «очищенным» данным. Сделайте выводы и предположения.**"
   ]
  },
  {
   "cell_type": "code",
   "execution_count": 42,
   "metadata": {},
   "outputs": [],
   "source": [
    "pers_1 = np.percentile(orders['revenue'],99)\n",
    "\n",
    "orders_clear = orders.query('revenue <= @pers_1')\n"
   ]
  },
  {
   "cell_type": "markdown",
   "metadata": {},
   "source": [
    "Гипотезы:\n",
    "\n",
    "H0: Средний чек A равен среднему чеку группы B\n",
    "\n",
    "H1: Средний чек A не равен среднему чеку группы B\n",
    "\n",
    "- alpha берётся 0.05\n",
    "- Используется напараметрический тест Уилкоксона-Манна-Уитни с методом st.mannwhitneyu(), с помощью него сможем проранжировать две выборки по порядку от меньшего к большему и сравнить ранги одних и тех же значений, попавших в обе выборки с учётом выбросов, которые имеются в данных. Также отмечу, что сам тест работает с рангами, не учитывая сами значения."
   ]
  },
  {
   "cell_type": "code",
   "execution_count": 46,
   "metadata": {},
   "outputs": [
    {
     "name": "stdout",
     "output_type": "stream",
     "text": [
      "P-value: 0.979\n",
      "Относительные различия: -0.017\n"
     ]
    }
   ],
   "source": [
    "print('P-value:',\n",
    "    '{0:.3f}'.format(\n",
    "        stats.mannwhitneyu(\n",
    "            orders[\n",
    "                np.logical_and(\n",
    "                    orders['group'] == 'A',\n",
    "                    np.logical_not(orders['visitor_id'].isin(abnormalUsers)),\n",
    "                )\n",
    "            ]['revenue'],\n",
    "            orders[\n",
    "                np.logical_and(\n",
    "                    orders['group'] == 'B',\n",
    "                    np.logical_not(orders['visitor_id'].isin(abnormalUsers)),\n",
    "                )\n",
    "            ]['revenue'],\n",
    "        )[1]\n",
    "    )\n",
    ")\n",
    "\n",
    "print('Относительные различия:',\n",
    "    \"{0:.3f}\".format(\n",
    "        orders[\n",
    "            np.logical_and(\n",
    "                orders['group'] == 'B',\n",
    "                np.logical_not(orders['visitor_id'].isin(abnormalUsers)),\n",
    "            )\n",
    "        ]['revenue'].mean()\n",
    "        / orders[\n",
    "            np.logical_and(\n",
    "                orders['group'] == 'A',\n",
    "                np.logical_not(orders['visitor_id'].isin(abnormalUsers)),\n",
    "            )\n",
    "        ]['revenue'].mean()\n",
    "        - 1\n",
    "    )\n",
    ") "
   ]
  },
  {
   "cell_type": "code",
   "execution_count": 44,
   "metadata": {},
   "outputs": [
    {
     "data": {
      "text/plain": [
       "6470.587272727273"
      ]
     },
     "execution_count": 44,
     "metadata": {},
     "output_type": "execute_result"
    }
   ],
   "source": [
    "orders_clear[orders_clear['group']=='A']['revenue'].mean()"
   ]
  },
  {
   "cell_type": "code",
   "execution_count": 45,
   "metadata": {},
   "outputs": [
    {
     "data": {
      "text/plain": [
       "6592.692913385827"
      ]
     },
     "execution_count": 45,
     "metadata": {},
     "output_type": "execute_result"
    }
   ],
   "source": [
    "orders_clear[orders_clear['group']=='B']['revenue'].mean()"
   ]
  },
  {
   "cell_type": "markdown",
   "metadata": {},
   "source": [
    "P-value после очистки данных, остался почти на том же уровне, разница не большая. Нулевую гипотезу отвергнуть не получается. Если говорить о среднем чеке, то получается, чек группы А стал больше, чем чек группы В примерно на 2%. Это результат того, что данные были очищены."
   ]
  },
  {
   "cell_type": "markdown",
   "metadata": {},
   "source": [
    "**14.Примите решение по результатам теста и объясните его. Варианты решений:**\n",
    "- Остановить тест, зафиксировать победу одной из групп.\n",
    "- Остановить тест, зафиксировать отсутствие различий между группами.\n",
    "- Продолжить тест."
   ]
  },
  {
   "cell_type": "markdown",
   "metadata": {},
   "source": [
    "В итоге можно принять решение остановить тестирование и констатировать успех и победу группы B : группа B значительно лучше (эффективнее) группы A по среднему количеству, хотя по среднему чеку группы примерно равны."
   ]
  },
  {
   "cell_type": "code",
   "execution_count": null,
   "metadata": {},
   "outputs": [],
   "source": []
  }
 ],
 "metadata": {
  "ExecuteTimeLog": [
   {
    "duration": 1391,
    "start_time": "2023-01-18T09:16:07.280Z"
   },
   {
    "duration": 91,
    "start_time": "2023-01-18T09:16:08.673Z"
   },
   {
    "duration": 13,
    "start_time": "2023-01-18T09:17:03.969Z"
   },
   {
    "duration": 5,
    "start_time": "2023-01-18T09:17:33.847Z"
   },
   {
    "duration": 6,
    "start_time": "2023-01-18T09:17:43.901Z"
   },
   {
    "duration": 13,
    "start_time": "2023-01-18T09:20:43.100Z"
   },
   {
    "duration": 13,
    "start_time": "2023-01-18T09:46:03.941Z"
   },
   {
    "duration": 1289,
    "start_time": "2023-01-19T17:21:07.425Z"
   },
   {
    "duration": 65,
    "start_time": "2023-01-19T17:21:08.716Z"
   },
   {
    "duration": 11,
    "start_time": "2023-01-19T17:21:09.288Z"
   },
   {
    "duration": 5,
    "start_time": "2023-01-19T17:21:10.169Z"
   },
   {
    "duration": 5,
    "start_time": "2023-01-19T17:21:10.593Z"
   },
   {
    "duration": 13,
    "start_time": "2023-01-19T17:21:11.536Z"
   },
   {
    "duration": 13,
    "start_time": "2023-01-19T17:21:12.519Z"
   },
   {
    "duration": 146,
    "start_time": "2023-01-19T17:21:13.904Z"
   },
   {
    "duration": 11,
    "start_time": "2023-01-19T17:21:14.544Z"
   },
   {
    "duration": 7,
    "start_time": "2023-01-19T17:21:15.153Z"
   },
   {
    "duration": 19,
    "start_time": "2023-01-19T17:22:22.530Z"
   },
   {
    "duration": 7,
    "start_time": "2023-01-19T17:22:23.377Z"
   },
   {
    "duration": 7,
    "start_time": "2023-01-19T17:22:23.867Z"
   },
   {
    "duration": 7,
    "start_time": "2023-01-19T17:23:37.514Z"
   },
   {
    "duration": 25,
    "start_time": "2023-01-19T17:23:54.191Z"
   },
   {
    "duration": 18,
    "start_time": "2023-01-19T17:29:29.369Z"
   },
   {
    "duration": 16,
    "start_time": "2023-01-19T17:29:32.841Z"
   },
   {
    "duration": 7,
    "start_time": "2023-01-19T17:29:33.512Z"
   },
   {
    "duration": 10,
    "start_time": "2023-01-19T17:29:33.951Z"
   },
   {
    "duration": 21,
    "start_time": "2023-01-19T17:30:20.505Z"
   },
   {
    "duration": 15,
    "start_time": "2023-01-19T17:30:22.266Z"
   },
   {
    "duration": 7,
    "start_time": "2023-01-19T17:30:22.420Z"
   },
   {
    "duration": 10,
    "start_time": "2023-01-19T17:30:22.546Z"
   },
   {
    "duration": 1268,
    "start_time": "2023-01-20T09:20:36.084Z"
   },
   {
    "duration": 89,
    "start_time": "2023-01-20T09:20:37.353Z"
   },
   {
    "duration": 10,
    "start_time": "2023-01-20T09:20:37.443Z"
   },
   {
    "duration": 5,
    "start_time": "2023-01-20T09:20:37.524Z"
   },
   {
    "duration": 6,
    "start_time": "2023-01-20T09:20:38.300Z"
   },
   {
    "duration": 11,
    "start_time": "2023-01-20T09:20:39.699Z"
   },
   {
    "duration": 12,
    "start_time": "2023-01-20T09:20:40.587Z"
   },
   {
    "duration": 167,
    "start_time": "2023-01-20T09:20:41.812Z"
   },
   {
    "duration": 7,
    "start_time": "2023-01-20T09:20:42.211Z"
   },
   {
    "duration": 7,
    "start_time": "2023-01-20T09:20:42.843Z"
   },
   {
    "duration": 17,
    "start_time": "2023-01-20T09:20:43.387Z"
   },
   {
    "duration": 6,
    "start_time": "2023-01-20T09:20:43.939Z"
   },
   {
    "duration": 6,
    "start_time": "2023-01-20T09:20:44.452Z"
   },
   {
    "duration": 20,
    "start_time": "2023-01-20T09:20:45.731Z"
   },
   {
    "duration": 22,
    "start_time": "2023-01-20T09:20:46.795Z"
   },
   {
    "duration": 14,
    "start_time": "2023-01-20T09:20:47.516Z"
   },
   {
    "duration": 7,
    "start_time": "2023-01-20T09:20:47.914Z"
   },
   {
    "duration": 13,
    "start_time": "2023-01-20T09:20:48.524Z"
   },
   {
    "duration": 110,
    "start_time": "2023-01-20T09:20:50.045Z"
   },
   {
    "duration": 329,
    "start_time": "2023-01-20T09:21:41.589Z"
   },
   {
    "duration": 959,
    "start_time": "2023-01-20T09:22:06.365Z"
   },
   {
    "duration": 294,
    "start_time": "2023-01-20T09:22:30.094Z"
   },
   {
    "duration": 262,
    "start_time": "2023-01-20T09:26:46.169Z"
   },
   {
    "duration": 279,
    "start_time": "2023-01-20T09:34:27.315Z"
   },
   {
    "duration": 256,
    "start_time": "2023-01-20T09:38:56.589Z"
   },
   {
    "duration": 169,
    "start_time": "2023-01-20T09:39:04.042Z"
   },
   {
    "duration": 196,
    "start_time": "2023-01-20T09:39:19.407Z"
   },
   {
    "duration": 214,
    "start_time": "2023-01-20T09:39:31.233Z"
   },
   {
    "duration": 270,
    "start_time": "2023-01-20T09:39:44.261Z"
   },
   {
    "duration": 295,
    "start_time": "2023-01-20T09:40:36.332Z"
   },
   {
    "duration": 313,
    "start_time": "2023-01-20T09:40:47.902Z"
   },
   {
    "duration": 13,
    "start_time": "2023-01-20T09:43:17.538Z"
   },
   {
    "duration": 13,
    "start_time": "2023-01-20T09:43:20.498Z"
   },
   {
    "duration": 12,
    "start_time": "2023-01-20T09:43:29.833Z"
   },
   {
    "duration": 9,
    "start_time": "2023-01-20T09:43:45.769Z"
   },
   {
    "duration": 265,
    "start_time": "2023-01-20T09:44:04.867Z"
   },
   {
    "duration": 277,
    "start_time": "2023-01-20T09:44:18.357Z"
   },
   {
    "duration": 272,
    "start_time": "2023-01-20T09:44:34.757Z"
   },
   {
    "duration": 267,
    "start_time": "2023-01-20T09:44:41.178Z"
   },
   {
    "duration": 1068,
    "start_time": "2023-01-20T09:45:12.691Z"
   },
   {
    "duration": 266,
    "start_time": "2023-01-20T09:45:23.831Z"
   },
   {
    "duration": 15,
    "start_time": "2023-01-20T10:07:03.616Z"
   },
   {
    "duration": 15,
    "start_time": "2023-01-20T10:07:51.514Z"
   },
   {
    "duration": 4,
    "start_time": "2023-01-20T10:07:57.665Z"
   },
   {
    "duration": 31,
    "start_time": "2023-01-20T10:07:58.133Z"
   },
   {
    "duration": 11,
    "start_time": "2023-01-20T10:07:58.608Z"
   },
   {
    "duration": 5,
    "start_time": "2023-01-20T10:07:59.104Z"
   },
   {
    "duration": 6,
    "start_time": "2023-01-20T10:07:59.272Z"
   },
   {
    "duration": 11,
    "start_time": "2023-01-20T10:07:59.769Z"
   },
   {
    "duration": 11,
    "start_time": "2023-01-20T10:08:00.097Z"
   },
   {
    "duration": 61,
    "start_time": "2023-01-20T10:08:00.600Z"
   },
   {
    "duration": 8,
    "start_time": "2023-01-20T10:08:00.785Z"
   },
   {
    "duration": 7,
    "start_time": "2023-01-20T10:08:00.944Z"
   },
   {
    "duration": 18,
    "start_time": "2023-01-20T10:08:01.120Z"
   },
   {
    "duration": 7,
    "start_time": "2023-01-20T10:08:01.368Z"
   },
   {
    "duration": 7,
    "start_time": "2023-01-20T10:08:01.617Z"
   },
   {
    "duration": 23,
    "start_time": "2023-01-20T10:08:01.984Z"
   },
   {
    "duration": 17,
    "start_time": "2023-01-20T10:08:02.457Z"
   },
   {
    "duration": 19,
    "start_time": "2023-01-20T10:08:02.687Z"
   },
   {
    "duration": 7,
    "start_time": "2023-01-20T10:08:02.904Z"
   },
   {
    "duration": 13,
    "start_time": "2023-01-20T10:08:03.139Z"
   },
   {
    "duration": 277,
    "start_time": "2023-01-20T10:08:04.442Z"
   },
   {
    "duration": 323,
    "start_time": "2023-01-20T10:08:05.566Z"
   },
   {
    "duration": 14,
    "start_time": "2023-01-20T10:08:07.776Z"
   },
   {
    "duration": 18,
    "start_time": "2023-01-20T10:08:18.811Z"
   },
   {
    "duration": 13,
    "start_time": "2023-01-20T10:09:29.476Z"
   },
   {
    "duration": 13,
    "start_time": "2023-01-20T10:09:32.044Z"
   },
   {
    "duration": 13,
    "start_time": "2023-01-20T10:09:40.371Z"
   },
   {
    "duration": 880,
    "start_time": "2023-01-20T10:10:05.939Z"
   },
   {
    "duration": 51,
    "start_time": "2023-01-20T10:12:10.807Z"
   },
   {
    "duration": 888,
    "start_time": "2023-01-20T10:12:23.707Z"
   },
   {
    "duration": 483,
    "start_time": "2023-01-20T10:12:44.296Z"
   },
   {
    "duration": 395,
    "start_time": "2023-01-20T10:12:48.912Z"
   },
   {
    "duration": 374,
    "start_time": "2023-01-20T10:12:55.942Z"
   },
   {
    "duration": 354,
    "start_time": "2023-01-20T10:15:11.857Z"
   },
   {
    "duration": 408,
    "start_time": "2023-01-20T10:15:27.617Z"
   },
   {
    "duration": 21,
    "start_time": "2023-01-20T10:15:51.393Z"
   },
   {
    "duration": 12,
    "start_time": "2023-01-20T10:17:21.029Z"
   },
   {
    "duration": 14,
    "start_time": "2023-01-20T10:17:42.953Z"
   },
   {
    "duration": 151,
    "start_time": "2023-01-20T10:18:17.437Z"
   },
   {
    "duration": 162,
    "start_time": "2023-01-20T10:18:24.068Z"
   },
   {
    "duration": 386,
    "start_time": "2023-01-20T10:18:33.333Z"
   },
   {
    "duration": 6,
    "start_time": "2023-01-20T10:25:23.582Z"
   },
   {
    "duration": 4,
    "start_time": "2023-01-20T10:25:24.085Z"
   },
   {
    "duration": 5,
    "start_time": "2023-01-20T10:25:24.485Z"
   },
   {
    "duration": 766,
    "start_time": "2023-01-20T10:25:25.261Z"
   },
   {
    "duration": 4,
    "start_time": "2023-01-20T10:25:35.564Z"
   },
   {
    "duration": 4,
    "start_time": "2023-01-20T10:25:40.408Z"
   },
   {
    "duration": 162,
    "start_time": "2023-01-20T10:25:59.957Z"
   },
   {
    "duration": 8,
    "start_time": "2023-01-20T10:26:29.901Z"
   },
   {
    "duration": 5,
    "start_time": "2023-01-20T10:26:30.350Z"
   },
   {
    "duration": 5,
    "start_time": "2023-01-20T10:26:30.645Z"
   },
   {
    "duration": 16,
    "start_time": "2023-01-20T10:26:59.695Z"
   },
   {
    "duration": 19,
    "start_time": "2023-01-20T10:27:11.686Z"
   },
   {
    "duration": 7,
    "start_time": "2023-01-20T10:27:33.295Z"
   },
   {
    "duration": 8,
    "start_time": "2023-01-20T10:27:33.758Z"
   },
   {
    "duration": 10,
    "start_time": "2023-01-20T10:28:04.295Z"
   },
   {
    "duration": 6,
    "start_time": "2023-01-20T10:28:04.728Z"
   },
   {
    "duration": 5,
    "start_time": "2023-01-20T10:28:05.024Z"
   },
   {
    "duration": 712,
    "start_time": "2023-01-20T10:28:17.371Z"
   },
   {
    "duration": 12,
    "start_time": "2023-01-20T10:28:30.353Z"
   },
   {
    "duration": 7,
    "start_time": "2023-01-20T10:28:38.538Z"
   },
   {
    "duration": 5,
    "start_time": "2023-01-20T10:29:12.184Z"
   },
   {
    "duration": 9,
    "start_time": "2023-01-20T10:29:13.104Z"
   },
   {
    "duration": 7,
    "start_time": "2023-01-20T10:29:13.639Z"
   },
   {
    "duration": 5,
    "start_time": "2023-01-20T10:29:13.994Z"
   },
   {
    "duration": 4,
    "start_time": "2023-01-20T13:58:10.412Z"
   },
   {
    "duration": 4,
    "start_time": "2023-01-20T13:58:12.004Z"
   },
   {
    "duration": 5,
    "start_time": "2023-01-20T13:58:12.467Z"
   },
   {
    "duration": 4,
    "start_time": "2023-01-20T13:58:12.843Z"
   },
   {
    "duration": 8,
    "start_time": "2023-01-20T13:59:36.150Z"
   },
   {
    "duration": 164,
    "start_time": "2023-01-20T13:59:59.118Z"
   },
   {
    "duration": 6,
    "start_time": "2023-01-20T14:00:01.285Z"
   },
   {
    "duration": 5,
    "start_time": "2023-01-20T14:00:02.301Z"
   },
   {
    "duration": 4,
    "start_time": "2023-01-20T14:00:03.029Z"
   },
   {
    "duration": 4,
    "start_time": "2023-01-20T14:00:03.430Z"
   },
   {
    "duration": 5,
    "start_time": "2023-01-20T14:01:38.655Z"
   },
   {
    "duration": 4,
    "start_time": "2023-01-20T14:01:39.168Z"
   },
   {
    "duration": 5,
    "start_time": "2023-01-20T14:01:39.591Z"
   },
   {
    "duration": 78,
    "start_time": "2023-01-20T14:03:27.690Z"
   },
   {
    "duration": 1463,
    "start_time": "2023-01-21T09:23:59.326Z"
   },
   {
    "duration": 95,
    "start_time": "2023-01-21T09:24:00.791Z"
   },
   {
    "duration": 11,
    "start_time": "2023-01-21T09:24:00.888Z"
   },
   {
    "duration": 5,
    "start_time": "2023-01-21T09:24:01.270Z"
   },
   {
    "duration": 6,
    "start_time": "2023-01-21T09:24:01.794Z"
   },
   {
    "duration": 13,
    "start_time": "2023-01-21T09:24:02.777Z"
   },
   {
    "duration": 13,
    "start_time": "2023-01-21T09:24:03.529Z"
   },
   {
    "duration": 170,
    "start_time": "2023-01-21T09:24:06.978Z"
   },
   {
    "duration": 8,
    "start_time": "2023-01-21T09:24:07.490Z"
   },
   {
    "duration": 7,
    "start_time": "2023-01-21T09:24:07.979Z"
   },
   {
    "duration": 17,
    "start_time": "2023-01-21T09:24:08.368Z"
   },
   {
    "duration": 6,
    "start_time": "2023-01-21T09:24:08.945Z"
   },
   {
    "duration": 5,
    "start_time": "2023-01-21T09:24:09.330Z"
   },
   {
    "duration": 7,
    "start_time": "2023-01-21T09:24:09.577Z"
   },
   {
    "duration": 6,
    "start_time": "2023-01-21T09:24:10.603Z"
   },
   {
    "duration": 30,
    "start_time": "2023-01-21T09:24:11.665Z"
   },
   {
    "duration": 16,
    "start_time": "2023-01-21T09:24:12.426Z"
   },
   {
    "duration": 20,
    "start_time": "2023-01-21T09:24:12.750Z"
   },
   {
    "duration": 11,
    "start_time": "2023-01-21T09:24:13.049Z"
   },
   {
    "duration": 254,
    "start_time": "2023-01-21T09:24:14.169Z"
   },
   {
    "duration": 193,
    "start_time": "2023-01-21T09:24:16.210Z"
   },
   {
    "duration": 369,
    "start_time": "2023-01-21T09:24:23.825Z"
   },
   {
    "duration": 181,
    "start_time": "2023-01-21T09:24:26.186Z"
   },
   {
    "duration": 277,
    "start_time": "2023-01-21T09:24:27.610Z"
   },
   {
    "duration": 98,
    "start_time": "2023-01-21T09:24:29.009Z"
   },
   {
    "duration": 260,
    "start_time": "2023-01-21T09:25:13.563Z"
   },
   {
    "duration": 12,
    "start_time": "2023-01-21T09:25:47.980Z"
   },
   {
    "duration": 13,
    "start_time": "2023-01-21T09:26:01.612Z"
   },
   {
    "duration": 98,
    "start_time": "2023-01-21T09:26:09.180Z"
   },
   {
    "duration": 4,
    "start_time": "2023-01-21T09:26:12.109Z"
   },
   {
    "duration": 5,
    "start_time": "2023-01-21T09:26:12.580Z"
   },
   {
    "duration": 5,
    "start_time": "2023-01-21T09:26:12.908Z"
   },
   {
    "duration": 5,
    "start_time": "2023-01-21T09:26:13.214Z"
   },
   {
    "duration": 206,
    "start_time": "2023-01-21T09:26:14.411Z"
   },
   {
    "duration": 6,
    "start_time": "2023-01-21T09:26:17.324Z"
   },
   {
    "duration": 5,
    "start_time": "2023-01-21T09:26:17.746Z"
   },
   {
    "duration": 4,
    "start_time": "2023-01-21T09:26:18.078Z"
   },
   {
    "duration": 18,
    "start_time": "2023-01-21T09:26:19.564Z"
   },
   {
    "duration": 8,
    "start_time": "2023-01-21T09:26:20.555Z"
   },
   {
    "duration": 9,
    "start_time": "2023-01-21T09:26:20.933Z"
   },
   {
    "duration": 9,
    "start_time": "2023-01-21T09:26:22.700Z"
   },
   {
    "duration": 6,
    "start_time": "2023-01-21T09:26:23.148Z"
   },
   {
    "duration": 6,
    "start_time": "2023-01-21T09:26:23.492Z"
   },
   {
    "duration": 12,
    "start_time": "2023-01-21T09:26:24.572Z"
   },
   {
    "duration": 9,
    "start_time": "2023-01-21T09:26:34.533Z"
   },
   {
    "duration": 11,
    "start_time": "2023-01-21T09:26:36.500Z"
   },
   {
    "duration": 7,
    "start_time": "2023-01-21T09:26:37.356Z"
   },
   {
    "duration": 5,
    "start_time": "2023-01-21T09:26:38.653Z"
   },
   {
    "duration": 9,
    "start_time": "2023-01-21T09:26:39.356Z"
   },
   {
    "duration": 6,
    "start_time": "2023-01-21T09:26:39.868Z"
   },
   {
    "duration": 6,
    "start_time": "2023-01-21T09:26:40.340Z"
   },
   {
    "duration": 1655,
    "start_time": "2023-01-21T11:15:49.481Z"
   },
   {
    "duration": 128,
    "start_time": "2023-01-21T11:15:51.138Z"
   },
   {
    "duration": 14,
    "start_time": "2023-01-21T11:15:51.268Z"
   },
   {
    "duration": 18,
    "start_time": "2023-01-21T11:15:51.284Z"
   },
   {
    "duration": 14,
    "start_time": "2023-01-21T11:15:51.305Z"
   },
   {
    "duration": 41,
    "start_time": "2023-01-21T11:15:51.322Z"
   },
   {
    "duration": 15,
    "start_time": "2023-01-21T11:15:51.365Z"
   },
   {
    "duration": 260,
    "start_time": "2023-01-21T11:15:51.382Z"
   },
   {
    "duration": 16,
    "start_time": "2023-01-21T11:15:51.644Z"
   },
   {
    "duration": 33,
    "start_time": "2023-01-21T11:15:51.662Z"
   },
   {
    "duration": 22,
    "start_time": "2023-01-21T11:15:51.699Z"
   },
   {
    "duration": 12,
    "start_time": "2023-01-21T11:15:51.723Z"
   },
   {
    "duration": 41,
    "start_time": "2023-01-21T11:15:51.737Z"
   },
   {
    "duration": 12,
    "start_time": "2023-01-21T11:15:51.782Z"
   },
   {
    "duration": 16,
    "start_time": "2023-01-21T11:15:51.796Z"
   },
   {
    "duration": 29,
    "start_time": "2023-01-21T11:15:51.814Z"
   },
   {
    "duration": 41,
    "start_time": "2023-01-21T11:15:51.846Z"
   },
   {
    "duration": 24,
    "start_time": "2023-01-21T11:15:51.889Z"
   },
   {
    "duration": 13,
    "start_time": "2023-01-21T11:15:51.914Z"
   },
   {
    "duration": 403,
    "start_time": "2023-01-21T11:15:51.929Z"
   },
   {
    "duration": 274,
    "start_time": "2023-01-21T11:15:52.334Z"
   },
   {
    "duration": 427,
    "start_time": "2023-01-21T11:15:52.611Z"
   },
   {
    "duration": 285,
    "start_time": "2023-01-21T11:15:53.041Z"
   },
   {
    "duration": 390,
    "start_time": "2023-01-21T11:15:53.328Z"
   },
   {
    "duration": 177,
    "start_time": "2023-01-21T11:15:53.720Z"
   },
   {
    "duration": 7,
    "start_time": "2023-01-21T11:15:53.906Z"
   },
   {
    "duration": 11,
    "start_time": "2023-01-21T11:15:53.916Z"
   },
   {
    "duration": 11,
    "start_time": "2023-01-21T11:15:53.929Z"
   },
   {
    "duration": 47,
    "start_time": "2023-01-21T11:15:53.941Z"
   },
   {
    "duration": 196,
    "start_time": "2023-01-21T11:15:53.990Z"
   },
   {
    "duration": 8,
    "start_time": "2023-01-21T11:15:54.192Z"
   },
   {
    "duration": 26,
    "start_time": "2023-01-21T11:15:54.205Z"
   },
   {
    "duration": 12,
    "start_time": "2023-01-21T11:15:54.233Z"
   },
   {
    "duration": 59,
    "start_time": "2023-01-21T11:15:54.247Z"
   },
   {
    "duration": 103,
    "start_time": "2023-01-21T11:15:54.308Z"
   },
   {
    "duration": 16,
    "start_time": "2023-01-21T11:15:54.414Z"
   },
   {
    "duration": 25,
    "start_time": "2023-01-21T11:15:54.432Z"
   },
   {
    "duration": 37,
    "start_time": "2023-01-21T11:15:54.459Z"
   },
   {
    "duration": 17,
    "start_time": "2023-01-21T11:15:54.498Z"
   },
   {
    "duration": 18,
    "start_time": "2023-01-21T11:15:54.517Z"
   },
   {
    "duration": 49,
    "start_time": "2023-01-21T11:15:54.540Z"
   },
   {
    "duration": 30,
    "start_time": "2023-01-21T11:15:54.592Z"
   },
   {
    "duration": 16,
    "start_time": "2023-01-21T11:15:54.630Z"
   },
   {
    "duration": 47,
    "start_time": "2023-01-21T11:15:54.649Z"
   },
   {
    "duration": 7,
    "start_time": "2023-01-21T11:15:54.698Z"
   },
   {
    "duration": 82,
    "start_time": "2023-01-21T11:18:39.332Z"
   },
   {
    "duration": 1339,
    "start_time": "2023-01-21T13:35:38.734Z"
   },
   {
    "duration": 89,
    "start_time": "2023-01-21T13:35:40.075Z"
   },
   {
    "duration": 31,
    "start_time": "2023-01-21T13:35:43.465Z"
   },
   {
    "duration": 11,
    "start_time": "2023-01-21T13:35:43.767Z"
   },
   {
    "duration": 5,
    "start_time": "2023-01-21T13:35:44.327Z"
   },
   {
    "duration": 6,
    "start_time": "2023-01-21T13:35:44.496Z"
   },
   {
    "duration": 12,
    "start_time": "2023-01-21T13:35:45.520Z"
   },
   {
    "duration": 13,
    "start_time": "2023-01-21T13:35:46.677Z"
   },
   {
    "duration": 154,
    "start_time": "2023-01-21T13:35:48.292Z"
   },
   {
    "duration": 8,
    "start_time": "2023-01-21T13:35:48.678Z"
   },
   {
    "duration": 8,
    "start_time": "2023-01-21T13:35:49.053Z"
   },
   {
    "duration": 18,
    "start_time": "2023-01-21T13:35:49.325Z"
   },
   {
    "duration": 5,
    "start_time": "2023-01-21T13:35:49.629Z"
   },
   {
    "duration": 5,
    "start_time": "2023-01-21T13:35:49.942Z"
   },
   {
    "duration": 7,
    "start_time": "2023-01-21T13:35:50.205Z"
   },
   {
    "duration": 6,
    "start_time": "2023-01-21T13:35:50.525Z"
   },
   {
    "duration": 22,
    "start_time": "2023-01-21T13:35:51.493Z"
   },
   {
    "duration": 19,
    "start_time": "2023-01-21T13:35:52.237Z"
   },
   {
    "duration": 20,
    "start_time": "2023-01-21T13:35:52.614Z"
   },
   {
    "duration": 12,
    "start_time": "2023-01-21T13:35:53.038Z"
   },
   {
    "duration": 425,
    "start_time": "2023-01-21T13:35:58.049Z"
   },
   {
    "duration": 203,
    "start_time": "2023-01-21T13:37:07.210Z"
   },
   {
    "duration": 317,
    "start_time": "2023-01-21T13:37:15.591Z"
   },
   {
    "duration": 436,
    "start_time": "2023-01-21T13:37:26.096Z"
   },
   {
    "duration": 516,
    "start_time": "2023-01-21T13:38:23.139Z"
   },
   {
    "duration": 478,
    "start_time": "2023-01-21T13:38:33.777Z"
   },
   {
    "duration": 487,
    "start_time": "2023-01-21T13:38:44.057Z"
   },
   {
    "duration": 483,
    "start_time": "2023-01-21T13:38:55.589Z"
   },
   {
    "duration": 386,
    "start_time": "2023-01-21T13:39:02.569Z"
   },
   {
    "duration": 413,
    "start_time": "2023-01-21T13:39:10.419Z"
   },
   {
    "duration": 376,
    "start_time": "2023-01-21T13:39:15.466Z"
   },
   {
    "duration": 382,
    "start_time": "2023-01-21T13:39:41.300Z"
   },
   {
    "duration": 495,
    "start_time": "2023-01-21T13:40:22.827Z"
   },
   {
    "duration": 459,
    "start_time": "2023-01-21T13:40:35.219Z"
   },
   {
    "duration": 346,
    "start_time": "2023-01-21T13:40:55.828Z"
   },
   {
    "duration": 425,
    "start_time": "2023-01-21T13:41:24.972Z"
   },
   {
    "duration": 195,
    "start_time": "2023-01-21T13:41:57.692Z"
   },
   {
    "duration": 203,
    "start_time": "2023-01-21T13:42:24.581Z"
   },
   {
    "duration": 92,
    "start_time": "2023-01-21T13:49:35.053Z"
   },
   {
    "duration": 5,
    "start_time": "2023-01-21T13:50:31.989Z"
   },
   {
    "duration": 4,
    "start_time": "2023-01-21T13:50:42.493Z"
   },
   {
    "duration": 105,
    "start_time": "2023-01-21T13:50:58.303Z"
   },
   {
    "duration": 3,
    "start_time": "2023-01-21T13:51:03.824Z"
   },
   {
    "duration": 11,
    "start_time": "2023-01-21T13:51:04.981Z"
   },
   {
    "duration": 5,
    "start_time": "2023-01-21T13:51:13.853Z"
   },
   {
    "duration": 10,
    "start_time": "2023-01-21T13:51:14.663Z"
   },
   {
    "duration": 7,
    "start_time": "2023-01-21T13:51:15.180Z"
   },
   {
    "duration": 11,
    "start_time": "2023-01-21T13:51:18.742Z"
   },
   {
    "duration": 1217,
    "start_time": "2023-01-21T13:51:34.845Z"
   },
   {
    "duration": 36,
    "start_time": "2023-01-21T13:51:36.065Z"
   },
   {
    "duration": 11,
    "start_time": "2023-01-21T13:51:36.103Z"
   },
   {
    "duration": 9,
    "start_time": "2023-01-21T13:51:36.116Z"
   },
   {
    "duration": 13,
    "start_time": "2023-01-21T13:51:36.127Z"
   },
   {
    "duration": 14,
    "start_time": "2023-01-21T13:51:36.374Z"
   },
   {
    "duration": 13,
    "start_time": "2023-01-21T13:51:36.734Z"
   },
   {
    "duration": 75,
    "start_time": "2023-01-21T13:51:37.365Z"
   },
   {
    "duration": 10,
    "start_time": "2023-01-21T13:51:37.498Z"
   },
   {
    "duration": 9,
    "start_time": "2023-01-21T13:51:37.629Z"
   },
   {
    "duration": 18,
    "start_time": "2023-01-21T13:51:37.749Z"
   },
   {
    "duration": 6,
    "start_time": "2023-01-21T13:51:37.868Z"
   },
   {
    "duration": 5,
    "start_time": "2023-01-21T13:51:37.996Z"
   },
   {
    "duration": 7,
    "start_time": "2023-01-21T13:51:38.116Z"
   },
   {
    "duration": 7,
    "start_time": "2023-01-21T13:51:38.247Z"
   },
   {
    "duration": 23,
    "start_time": "2023-01-21T13:51:38.637Z"
   },
   {
    "duration": 19,
    "start_time": "2023-01-21T13:51:38.900Z"
   },
   {
    "duration": 20,
    "start_time": "2023-01-21T13:51:39.028Z"
   },
   {
    "duration": 11,
    "start_time": "2023-01-21T13:51:39.174Z"
   },
   {
    "duration": 293,
    "start_time": "2023-01-21T13:51:39.733Z"
   },
   {
    "duration": 363,
    "start_time": "2023-01-21T13:51:40.493Z"
   },
   {
    "duration": 459,
    "start_time": "2023-01-21T13:51:41.117Z"
   },
   {
    "duration": 374,
    "start_time": "2023-01-21T13:51:41.749Z"
   },
   {
    "duration": 441,
    "start_time": "2023-01-21T13:51:42.461Z"
   },
   {
    "duration": 208,
    "start_time": "2023-01-21T13:51:43.029Z"
   },
   {
    "duration": 6,
    "start_time": "2023-01-21T13:51:43.470Z"
   },
   {
    "duration": 5,
    "start_time": "2023-01-21T13:51:43.605Z"
   },
   {
    "duration": 5,
    "start_time": "2023-01-21T13:51:43.757Z"
   },
   {
    "duration": 4,
    "start_time": "2023-01-21T13:51:43.909Z"
   },
   {
    "duration": 226,
    "start_time": "2023-01-21T13:51:44.863Z"
   },
   {
    "duration": 5,
    "start_time": "2023-01-21T13:51:45.677Z"
   },
   {
    "duration": 4,
    "start_time": "2023-01-21T13:51:45.877Z"
   },
   {
    "duration": 4,
    "start_time": "2023-01-21T13:51:46.117Z"
   },
   {
    "duration": 15,
    "start_time": "2023-01-21T13:51:46.949Z"
   },
   {
    "duration": 180,
    "start_time": "2023-01-21T13:51:47.341Z"
   },
   {
    "duration": 10,
    "start_time": "2023-01-21T13:51:47.610Z"
   },
   {
    "duration": 11,
    "start_time": "2023-01-21T13:51:49.180Z"
   },
   {
    "duration": 6,
    "start_time": "2023-01-21T13:51:49.460Z"
   },
   {
    "duration": 6,
    "start_time": "2023-01-21T13:51:49.701Z"
   },
   {
    "duration": 13,
    "start_time": "2023-01-21T13:51:50.516Z"
   },
   {
    "duration": 12,
    "start_time": "2023-01-21T13:51:50.845Z"
   },
   {
    "duration": 7,
    "start_time": "2023-01-21T13:51:51.988Z"
   },
   {
    "duration": 10,
    "start_time": "2023-01-21T13:51:52.765Z"
   },
   {
    "duration": 6,
    "start_time": "2023-01-21T13:51:52.932Z"
   },
   {
    "duration": 7,
    "start_time": "2023-01-21T13:51:53.095Z"
   },
   {
    "duration": 12,
    "start_time": "2023-01-21T14:21:13.758Z"
   },
   {
    "duration": 11,
    "start_time": "2023-01-21T14:21:19.149Z"
   },
   {
    "duration": 12,
    "start_time": "2023-01-21T14:21:19.773Z"
   },
   {
    "duration": 119,
    "start_time": "2023-01-21T14:22:05.359Z"
   },
   {
    "duration": 83,
    "start_time": "2023-01-21T14:22:20.991Z"
   },
   {
    "duration": 14,
    "start_time": "2023-01-21T14:22:34.687Z"
   },
   {
    "duration": 13,
    "start_time": "2023-01-21T14:23:01.328Z"
   },
   {
    "duration": 1231,
    "start_time": "2023-01-21T14:23:54.726Z"
   },
   {
    "duration": 35,
    "start_time": "2023-01-21T14:23:55.958Z"
   },
   {
    "duration": 12,
    "start_time": "2023-01-21T14:23:55.994Z"
   },
   {
    "duration": 12,
    "start_time": "2023-01-21T14:23:56.008Z"
   },
   {
    "duration": 5,
    "start_time": "2023-01-21T14:23:56.104Z"
   },
   {
    "duration": 13,
    "start_time": "2023-01-21T14:23:57.206Z"
   },
   {
    "duration": 13,
    "start_time": "2023-01-21T14:23:57.950Z"
   },
   {
    "duration": 59,
    "start_time": "2023-01-21T14:23:59.102Z"
   },
   {
    "duration": 11,
    "start_time": "2023-01-21T14:23:59.270Z"
   },
   {
    "duration": 7,
    "start_time": "2023-01-21T14:23:59.646Z"
   },
   {
    "duration": 19,
    "start_time": "2023-01-21T14:24:00.029Z"
   },
   {
    "duration": 6,
    "start_time": "2023-01-21T14:24:00.387Z"
   },
   {
    "duration": 5,
    "start_time": "2023-01-21T14:24:00.647Z"
   },
   {
    "duration": 6,
    "start_time": "2023-01-21T14:24:00.886Z"
   },
   {
    "duration": 7,
    "start_time": "2023-01-21T14:24:01.214Z"
   },
   {
    "duration": 23,
    "start_time": "2023-01-21T14:24:02.222Z"
   },
   {
    "duration": 19,
    "start_time": "2023-01-21T14:24:02.973Z"
   },
   {
    "duration": 20,
    "start_time": "2023-01-21T14:24:03.334Z"
   },
   {
    "duration": 12,
    "start_time": "2023-01-21T14:24:03.726Z"
   },
   {
    "duration": 292,
    "start_time": "2023-01-21T14:24:05.429Z"
   },
   {
    "duration": 358,
    "start_time": "2023-01-21T14:24:07.727Z"
   },
   {
    "duration": 423,
    "start_time": "2023-01-21T14:24:09.254Z"
   },
   {
    "duration": 392,
    "start_time": "2023-01-21T14:24:10.655Z"
   },
   {
    "duration": 406,
    "start_time": "2023-01-21T14:24:12.694Z"
   },
   {
    "duration": 231,
    "start_time": "2023-01-21T14:24:14.342Z"
   },
   {
    "duration": 5,
    "start_time": "2023-01-21T14:24:15.910Z"
   },
   {
    "duration": 5,
    "start_time": "2023-01-21T14:24:17.718Z"
   },
   {
    "duration": 4,
    "start_time": "2023-01-21T14:24:18.215Z"
   },
   {
    "duration": 4,
    "start_time": "2023-01-21T14:24:28.991Z"
   },
   {
    "duration": 6,
    "start_time": "2023-01-21T14:24:41.726Z"
   },
   {
    "duration": 118,
    "start_time": "2023-01-21T14:24:55.697Z"
   },
   {
    "duration": 82,
    "start_time": "2023-01-21T14:25:16.096Z"
   },
   {
    "duration": 5,
    "start_time": "2023-01-21T14:25:20.815Z"
   },
   {
    "duration": 4,
    "start_time": "2023-01-21T14:25:31.200Z"
   },
   {
    "duration": 15,
    "start_time": "2023-01-21T14:26:07.401Z"
   },
   {
    "duration": 6,
    "start_time": "2023-01-21T14:26:33.336Z"
   },
   {
    "duration": 5,
    "start_time": "2023-01-21T14:27:49.557Z"
   },
   {
    "duration": 5,
    "start_time": "2023-01-21T14:27:52.081Z"
   },
   {
    "duration": 3,
    "start_time": "2023-01-21T14:28:08.426Z"
   },
   {
    "duration": 68,
    "start_time": "2023-01-21T14:29:31.355Z"
   },
   {
    "duration": 1257,
    "start_time": "2023-01-21T14:36:29.109Z"
   },
   {
    "duration": 35,
    "start_time": "2023-01-21T14:36:30.368Z"
   },
   {
    "duration": 18,
    "start_time": "2023-01-21T14:36:30.405Z"
   },
   {
    "duration": 48,
    "start_time": "2023-01-21T14:36:30.425Z"
   },
   {
    "duration": 39,
    "start_time": "2023-01-21T14:36:30.474Z"
   },
   {
    "duration": 12,
    "start_time": "2023-01-21T14:36:30.673Z"
   },
   {
    "duration": 13,
    "start_time": "2023-01-21T14:36:31.097Z"
   },
   {
    "duration": 67,
    "start_time": "2023-01-21T14:36:31.969Z"
   },
   {
    "duration": 9,
    "start_time": "2023-01-21T14:36:32.138Z"
   },
   {
    "duration": 10,
    "start_time": "2023-01-21T14:36:32.458Z"
   },
   {
    "duration": 20,
    "start_time": "2023-01-21T14:36:32.690Z"
   },
   {
    "duration": 6,
    "start_time": "2023-01-21T14:36:33.034Z"
   },
   {
    "duration": 6,
    "start_time": "2023-01-21T14:36:33.377Z"
   },
   {
    "duration": 8,
    "start_time": "2023-01-21T14:36:33.730Z"
   },
   {
    "duration": 7,
    "start_time": "2023-01-21T14:36:34.258Z"
   },
   {
    "duration": 27,
    "start_time": "2023-01-21T14:36:35.626Z"
   },
   {
    "duration": 18,
    "start_time": "2023-01-21T14:36:36.194Z"
   },
   {
    "duration": 21,
    "start_time": "2023-01-21T14:36:36.474Z"
   },
   {
    "duration": 11,
    "start_time": "2023-01-21T14:36:36.738Z"
   },
   {
    "duration": 325,
    "start_time": "2023-01-21T14:36:38.074Z"
   },
   {
    "duration": 352,
    "start_time": "2023-01-21T14:36:40.561Z"
   },
   {
    "duration": 530,
    "start_time": "2023-01-21T14:36:42.226Z"
   },
   {
    "duration": 389,
    "start_time": "2023-01-21T14:36:44.211Z"
   },
   {
    "duration": 471,
    "start_time": "2023-01-21T14:36:46.122Z"
   },
   {
    "duration": 217,
    "start_time": "2023-01-21T14:36:48.146Z"
   },
   {
    "duration": 5,
    "start_time": "2023-01-21T14:36:49.313Z"
   },
   {
    "duration": 5,
    "start_time": "2023-01-21T14:36:49.642Z"
   },
   {
    "duration": 4,
    "start_time": "2023-01-21T14:36:49.954Z"
   },
   {
    "duration": 4,
    "start_time": "2023-01-21T14:36:50.187Z"
   },
   {
    "duration": 6,
    "start_time": "2023-01-21T14:36:50.578Z"
   },
   {
    "duration": 231,
    "start_time": "2023-01-21T14:36:52.162Z"
   },
   {
    "duration": 6,
    "start_time": "2023-01-21T14:36:53.601Z"
   },
   {
    "duration": 5,
    "start_time": "2023-01-21T14:36:53.994Z"
   },
   {
    "duration": 4,
    "start_time": "2023-01-21T14:36:54.258Z"
   },
   {
    "duration": 15,
    "start_time": "2023-01-21T14:36:55.602Z"
   },
   {
    "duration": 187,
    "start_time": "2023-01-21T14:36:56.442Z"
   },
   {
    "duration": 3,
    "start_time": "2023-01-21T14:37:31.516Z"
   },
   {
    "duration": 31,
    "start_time": "2023-01-21T14:37:31.963Z"
   },
   {
    "duration": 11,
    "start_time": "2023-01-21T14:37:32.091Z"
   },
   {
    "duration": 6,
    "start_time": "2023-01-21T14:37:32.322Z"
   },
   {
    "duration": 8,
    "start_time": "2023-01-21T14:37:32.429Z"
   },
   {
    "duration": 12,
    "start_time": "2023-01-21T14:37:32.995Z"
   },
   {
    "duration": 17,
    "start_time": "2023-01-21T14:37:33.331Z"
   },
   {
    "duration": 61,
    "start_time": "2023-01-21T14:37:33.923Z"
   },
   {
    "duration": 9,
    "start_time": "2023-01-21T14:37:34.050Z"
   },
   {
    "duration": 8,
    "start_time": "2023-01-21T14:37:34.171Z"
   },
   {
    "duration": 19,
    "start_time": "2023-01-21T14:37:34.290Z"
   },
   {
    "duration": 6,
    "start_time": "2023-01-21T14:37:34.411Z"
   },
   {
    "duration": 6,
    "start_time": "2023-01-21T14:37:34.531Z"
   },
   {
    "duration": 6,
    "start_time": "2023-01-21T14:37:34.659Z"
   },
   {
    "duration": 6,
    "start_time": "2023-01-21T14:37:34.771Z"
   },
   {
    "duration": 22,
    "start_time": "2023-01-21T14:37:35.147Z"
   },
   {
    "duration": 21,
    "start_time": "2023-01-21T14:37:35.403Z"
   },
   {
    "duration": 20,
    "start_time": "2023-01-21T14:37:35.531Z"
   },
   {
    "duration": 11,
    "start_time": "2023-01-21T14:37:35.652Z"
   },
   {
    "duration": 358,
    "start_time": "2023-01-21T14:37:36.171Z"
   },
   {
    "duration": 350,
    "start_time": "2023-01-21T14:37:36.821Z"
   },
   {
    "duration": 463,
    "start_time": "2023-01-21T14:37:37.363Z"
   },
   {
    "duration": 394,
    "start_time": "2023-01-21T14:37:37.910Z"
   },
   {
    "duration": 429,
    "start_time": "2023-01-21T14:37:38.595Z"
   },
   {
    "duration": 210,
    "start_time": "2023-01-21T14:37:39.139Z"
   },
   {
    "duration": 5,
    "start_time": "2023-01-21T14:37:39.555Z"
   },
   {
    "duration": 6,
    "start_time": "2023-01-21T14:37:39.691Z"
   },
   {
    "duration": 5,
    "start_time": "2023-01-21T14:37:39.826Z"
   },
   {
    "duration": 4,
    "start_time": "2023-01-21T14:37:39.963Z"
   },
   {
    "duration": 5,
    "start_time": "2023-01-21T14:37:40.106Z"
   },
   {
    "duration": 239,
    "start_time": "2023-01-21T14:37:40.923Z"
   },
   {
    "duration": 5,
    "start_time": "2023-01-21T14:37:41.507Z"
   },
   {
    "duration": 5,
    "start_time": "2023-01-21T14:37:41.642Z"
   },
   {
    "duration": 5,
    "start_time": "2023-01-21T14:37:41.803Z"
   },
   {
    "duration": 19,
    "start_time": "2023-01-21T14:37:42.396Z"
   },
   {
    "duration": 9,
    "start_time": "2023-01-21T14:37:42.667Z"
   },
   {
    "duration": 10,
    "start_time": "2023-01-21T14:37:42.827Z"
   },
   {
    "duration": 10,
    "start_time": "2023-01-21T14:37:43.715Z"
   },
   {
    "duration": 6,
    "start_time": "2023-01-21T14:37:43.867Z"
   },
   {
    "duration": 6,
    "start_time": "2023-01-21T14:37:44.013Z"
   },
   {
    "duration": 11,
    "start_time": "2023-01-21T14:37:44.586Z"
   },
   {
    "duration": 9,
    "start_time": "2023-01-21T14:37:44.875Z"
   },
   {
    "duration": 2,
    "start_time": "2023-01-21T14:37:45.531Z"
   },
   {
    "duration": 11,
    "start_time": "2023-01-21T14:37:46.323Z"
   },
   {
    "duration": 9,
    "start_time": "2023-01-21T14:37:46.483Z"
   },
   {
    "duration": 9,
    "start_time": "2023-01-21T14:37:46.635Z"
   },
   {
    "duration": 13,
    "start_time": "2023-01-21T14:38:01.693Z"
   },
   {
    "duration": 4,
    "start_time": "2023-01-21T14:38:21.860Z"
   },
   {
    "duration": 29,
    "start_time": "2023-01-21T14:38:22.821Z"
   },
   {
    "duration": 11,
    "start_time": "2023-01-21T14:38:24.260Z"
   },
   {
    "duration": 6,
    "start_time": "2023-01-21T14:38:25.027Z"
   },
   {
    "duration": 6,
    "start_time": "2023-01-21T14:38:25.395Z"
   },
   {
    "duration": 11,
    "start_time": "2023-01-21T14:38:26.907Z"
   },
   {
    "duration": 14,
    "start_time": "2023-01-21T14:38:27.819Z"
   },
   {
    "duration": 58,
    "start_time": "2023-01-21T14:38:28.948Z"
   },
   {
    "duration": 9,
    "start_time": "2023-01-21T14:38:29.307Z"
   },
   {
    "duration": 9,
    "start_time": "2023-01-21T14:38:29.580Z"
   },
   {
    "duration": 24,
    "start_time": "2023-01-21T14:38:29.868Z"
   },
   {
    "duration": 7,
    "start_time": "2023-01-21T14:38:30.165Z"
   },
   {
    "duration": 7,
    "start_time": "2023-01-21T14:38:30.500Z"
   },
   {
    "duration": 8,
    "start_time": "2023-01-21T14:38:30.740Z"
   },
   {
    "duration": 7,
    "start_time": "2023-01-21T14:38:30.988Z"
   },
   {
    "duration": 26,
    "start_time": "2023-01-21T14:38:31.852Z"
   },
   {
    "duration": 20,
    "start_time": "2023-01-21T14:38:32.476Z"
   },
   {
    "duration": 26,
    "start_time": "2023-01-21T14:38:32.764Z"
   },
   {
    "duration": 11,
    "start_time": "2023-01-21T14:38:33.068Z"
   },
   {
    "duration": 329,
    "start_time": "2023-01-21T14:38:34.404Z"
   },
   {
    "duration": 323,
    "start_time": "2023-01-21T14:38:36.392Z"
   },
   {
    "duration": 430,
    "start_time": "2023-01-21T14:38:37.892Z"
   },
   {
    "duration": 374,
    "start_time": "2023-01-21T14:38:39.764Z"
   },
   {
    "duration": 593,
    "start_time": "2023-01-21T14:38:41.508Z"
   },
   {
    "duration": 211,
    "start_time": "2023-01-21T14:38:43.156Z"
   },
   {
    "duration": 6,
    "start_time": "2023-01-21T14:38:44.340Z"
   },
   {
    "duration": 5,
    "start_time": "2023-01-21T14:38:44.660Z"
   },
   {
    "duration": 5,
    "start_time": "2023-01-21T14:38:44.917Z"
   },
   {
    "duration": 6,
    "start_time": "2023-01-21T14:38:45.188Z"
   },
   {
    "duration": 6,
    "start_time": "2023-01-21T14:38:45.636Z"
   },
   {
    "duration": 242,
    "start_time": "2023-01-21T14:38:48.060Z"
   },
   {
    "duration": 5,
    "start_time": "2023-01-21T14:38:49.860Z"
   },
   {
    "duration": 6,
    "start_time": "2023-01-21T14:38:50.172Z"
   },
   {
    "duration": 5,
    "start_time": "2023-01-21T14:38:50.444Z"
   },
   {
    "duration": 20,
    "start_time": "2023-01-21T14:38:52.156Z"
   },
   {
    "duration": 10,
    "start_time": "2023-01-21T14:38:52.908Z"
   },
   {
    "duration": 12,
    "start_time": "2023-01-21T14:38:53.317Z"
   },
   {
    "duration": 12,
    "start_time": "2023-01-21T14:38:56.892Z"
   },
   {
    "duration": 7,
    "start_time": "2023-01-21T14:38:58.013Z"
   },
   {
    "duration": 7,
    "start_time": "2023-01-21T14:38:59.541Z"
   },
   {
    "duration": 12,
    "start_time": "2023-01-21T14:39:00.900Z"
   },
   {
    "duration": 8,
    "start_time": "2023-01-21T14:39:02.051Z"
   },
   {
    "duration": 4,
    "start_time": "2023-01-21T14:39:03.539Z"
   },
   {
    "duration": 11,
    "start_time": "2023-01-21T14:39:05.157Z"
   },
   {
    "duration": 4,
    "start_time": "2023-01-21T14:40:29.902Z"
   },
   {
    "duration": 5,
    "start_time": "2023-01-21T14:40:30.438Z"
   },
   {
    "duration": 2,
    "start_time": "2023-01-21T14:40:36.175Z"
   },
   {
    "duration": 10,
    "start_time": "2023-01-21T14:40:37.169Z"
   },
   {
    "duration": 4,
    "start_time": "2023-01-21T14:43:39.360Z"
   },
   {
    "duration": 12,
    "start_time": "2023-01-21T14:43:40.962Z"
   },
   {
    "duration": 4,
    "start_time": "2023-01-21T14:44:01.314Z"
   },
   {
    "duration": 15,
    "start_time": "2023-01-21T14:44:02.619Z"
   },
   {
    "duration": 4,
    "start_time": "2023-01-21T14:44:08.786Z"
   },
   {
    "duration": 12,
    "start_time": "2023-01-21T14:44:09.674Z"
   },
   {
    "duration": 4,
    "start_time": "2023-01-21T14:44:26.196Z"
   },
   {
    "duration": 4,
    "start_time": "2023-01-21T14:44:50.363Z"
   },
   {
    "duration": 114,
    "start_time": "2023-01-21T14:45:00.203Z"
   },
   {
    "duration": 93,
    "start_time": "2023-01-21T14:45:03.620Z"
   },
   {
    "duration": 5,
    "start_time": "2023-01-21T14:45:05.707Z"
   },
   {
    "duration": 4,
    "start_time": "2023-01-21T14:54:24.676Z"
   },
   {
    "duration": 4,
    "start_time": "2023-01-21T14:54:28.939Z"
   },
   {
    "duration": 5,
    "start_time": "2023-01-21T14:54:33.499Z"
   },
   {
    "duration": 4,
    "start_time": "2023-01-21T14:54:36.555Z"
   },
   {
    "duration": 9,
    "start_time": "2023-01-21T14:54:39.979Z"
   },
   {
    "duration": 4,
    "start_time": "2023-01-21T14:54:59.740Z"
   },
   {
    "duration": 12,
    "start_time": "2023-01-21T14:55:02.156Z"
   },
   {
    "duration": 5,
    "start_time": "2023-01-21T14:55:08.117Z"
   },
   {
    "duration": 12,
    "start_time": "2023-01-21T14:55:09.164Z"
   },
   {
    "duration": 76,
    "start_time": "2023-01-21T14:56:57.543Z"
   },
   {
    "duration": 5,
    "start_time": "2023-01-21T14:57:22.030Z"
   },
   {
    "duration": 10,
    "start_time": "2023-01-21T14:57:24.631Z"
   },
   {
    "duration": 4,
    "start_time": "2023-01-21T15:04:29.524Z"
   },
   {
    "duration": 12,
    "start_time": "2023-01-21T15:04:31.476Z"
   },
   {
    "duration": 27,
    "start_time": "2023-01-21T15:05:06.009Z"
   },
   {
    "duration": 11,
    "start_time": "2023-01-21T15:05:14.213Z"
   },
   {
    "duration": 9,
    "start_time": "2023-01-21T15:05:18.725Z"
   },
   {
    "duration": 7,
    "start_time": "2023-01-21T15:05:39.670Z"
   },
   {
    "duration": 12,
    "start_time": "2023-01-21T15:05:40.700Z"
   },
   {
    "duration": 6,
    "start_time": "2023-01-21T15:05:41.100Z"
   },
   {
    "duration": 9,
    "start_time": "2023-01-21T15:05:41.416Z"
   },
   {
    "duration": 71,
    "start_time": "2023-01-21T15:09:20.568Z"
   },
   {
    "duration": 452,
    "start_time": "2023-01-21T15:31:45.086Z"
   },
   {
    "duration": 1311,
    "start_time": "2023-01-21T17:05:36.538Z"
   },
   {
    "duration": 70,
    "start_time": "2023-01-21T17:05:37.853Z"
   },
   {
    "duration": 11,
    "start_time": "2023-01-21T17:05:37.924Z"
   },
   {
    "duration": 12,
    "start_time": "2023-01-21T17:05:37.936Z"
   },
   {
    "duration": 18,
    "start_time": "2023-01-21T17:05:37.950Z"
   },
   {
    "duration": 17,
    "start_time": "2023-01-21T17:05:37.969Z"
   },
   {
    "duration": 12,
    "start_time": "2023-01-21T17:05:37.987Z"
   },
   {
    "duration": 131,
    "start_time": "2023-01-21T17:05:38.001Z"
   },
   {
    "duration": 10,
    "start_time": "2023-01-21T17:05:38.136Z"
   },
   {
    "duration": 14,
    "start_time": "2023-01-21T17:05:38.148Z"
   },
   {
    "duration": 63,
    "start_time": "2023-01-21T17:05:38.164Z"
   },
   {
    "duration": 22,
    "start_time": "2023-01-21T17:05:38.229Z"
   },
   {
    "duration": 33,
    "start_time": "2023-01-21T17:05:38.253Z"
   },
   {
    "duration": 37,
    "start_time": "2023-01-21T17:05:38.288Z"
   },
   {
    "duration": 55,
    "start_time": "2023-01-21T17:05:38.328Z"
   },
   {
    "duration": 40,
    "start_time": "2023-01-21T17:05:38.385Z"
   },
   {
    "duration": 64,
    "start_time": "2023-01-21T17:05:38.427Z"
   },
   {
    "duration": 21,
    "start_time": "2023-01-21T17:05:38.493Z"
   },
   {
    "duration": 38,
    "start_time": "2023-01-21T17:05:38.516Z"
   },
   {
    "duration": 296,
    "start_time": "2023-01-21T17:05:38.556Z"
   },
   {
    "duration": 310,
    "start_time": "2023-01-21T17:05:38.854Z"
   },
   {
    "duration": 476,
    "start_time": "2023-01-21T17:05:39.166Z"
   },
   {
    "duration": 344,
    "start_time": "2023-01-21T17:05:39.644Z"
   },
   {
    "duration": 395,
    "start_time": "2023-01-21T17:05:39.989Z"
   },
   {
    "duration": 188,
    "start_time": "2023-01-21T17:05:40.386Z"
   },
   {
    "duration": 6,
    "start_time": "2023-01-21T17:05:40.576Z"
   },
   {
    "duration": 6,
    "start_time": "2023-01-21T17:05:40.585Z"
   },
   {
    "duration": 11,
    "start_time": "2023-01-21T17:05:40.592Z"
   },
   {
    "duration": 7,
    "start_time": "2023-01-21T17:05:40.604Z"
   },
   {
    "duration": 8,
    "start_time": "2023-01-21T17:05:40.612Z"
   },
   {
    "duration": 203,
    "start_time": "2023-01-21T17:05:40.636Z"
   },
   {
    "duration": 4,
    "start_time": "2023-01-21T17:05:40.841Z"
   },
   {
    "duration": 6,
    "start_time": "2023-01-21T17:05:40.847Z"
   },
   {
    "duration": 9,
    "start_time": "2023-01-21T17:05:40.855Z"
   },
   {
    "duration": 19,
    "start_time": "2023-01-21T17:05:40.865Z"
   },
   {
    "duration": 96,
    "start_time": "2023-01-21T17:05:40.886Z"
   },
   {
    "duration": 22,
    "start_time": "2023-01-21T17:05:40.984Z"
   },
   {
    "duration": 18,
    "start_time": "2023-01-21T17:05:41.008Z"
   },
   {
    "duration": 10,
    "start_time": "2023-01-21T17:05:41.028Z"
   },
   {
    "duration": 7,
    "start_time": "2023-01-21T17:05:41.040Z"
   },
   {
    "duration": 12,
    "start_time": "2023-01-21T17:05:41.048Z"
   },
   {
    "duration": 15,
    "start_time": "2023-01-21T17:05:41.062Z"
   },
   {
    "duration": 15,
    "start_time": "2023-01-21T17:05:41.079Z"
   },
   {
    "duration": 14,
    "start_time": "2023-01-21T17:05:41.096Z"
   },
   {
    "duration": 8,
    "start_time": "2023-01-21T17:05:41.113Z"
   },
   {
    "duration": 18,
    "start_time": "2023-01-21T17:05:41.123Z"
   },
   {
    "duration": 45,
    "start_time": "2023-01-21T17:48:27.503Z"
   },
   {
    "duration": 1415,
    "start_time": "2023-01-21T17:49:04.442Z"
   },
   {
    "duration": 95,
    "start_time": "2023-01-21T17:49:05.860Z"
   },
   {
    "duration": 12,
    "start_time": "2023-01-21T17:49:05.956Z"
   },
   {
    "duration": 30,
    "start_time": "2023-01-21T17:49:05.969Z"
   },
   {
    "duration": 8,
    "start_time": "2023-01-21T17:49:06.001Z"
   },
   {
    "duration": 14,
    "start_time": "2023-01-21T17:49:06.011Z"
   },
   {
    "duration": 12,
    "start_time": "2023-01-21T17:49:06.209Z"
   },
   {
    "duration": 167,
    "start_time": "2023-01-21T17:49:06.929Z"
   },
   {
    "duration": 8,
    "start_time": "2023-01-21T17:49:07.098Z"
   },
   {
    "duration": 9,
    "start_time": "2023-01-21T17:49:07.178Z"
   },
   {
    "duration": 15,
    "start_time": "2023-01-21T17:49:07.305Z"
   },
   {
    "duration": 11,
    "start_time": "2023-01-21T17:49:07.433Z"
   },
   {
    "duration": 5,
    "start_time": "2023-01-21T17:49:07.561Z"
   },
   {
    "duration": 7,
    "start_time": "2023-01-21T17:49:07.689Z"
   },
   {
    "duration": 6,
    "start_time": "2023-01-21T17:49:07.826Z"
   },
   {
    "duration": 20,
    "start_time": "2023-01-21T17:49:08.234Z"
   },
   {
    "duration": 17,
    "start_time": "2023-01-21T17:49:08.504Z"
   },
   {
    "duration": 19,
    "start_time": "2023-01-21T17:49:08.642Z"
   },
   {
    "duration": 10,
    "start_time": "2023-01-21T17:49:08.777Z"
   },
   {
    "duration": 254,
    "start_time": "2023-01-21T17:49:09.321Z"
   },
   {
    "duration": 305,
    "start_time": "2023-01-21T17:49:10.633Z"
   },
   {
    "duration": 488,
    "start_time": "2023-01-21T17:49:11.825Z"
   },
   {
    "duration": 358,
    "start_time": "2023-01-21T17:49:13.326Z"
   },
   {
    "duration": 388,
    "start_time": "2023-01-21T17:49:15.330Z"
   },
   {
    "duration": 191,
    "start_time": "2023-01-21T17:49:17.140Z"
   },
   {
    "duration": 5,
    "start_time": "2023-01-21T17:49:19.121Z"
   },
   {
    "duration": 5,
    "start_time": "2023-01-21T17:49:19.362Z"
   },
   {
    "duration": 4,
    "start_time": "2023-01-21T17:49:19.554Z"
   },
   {
    "duration": 5,
    "start_time": "2023-01-21T17:49:19.808Z"
   },
   {
    "duration": 5,
    "start_time": "2023-01-21T17:49:20.085Z"
   },
   {
    "duration": 204,
    "start_time": "2023-01-21T17:49:23.025Z"
   },
   {
    "duration": 5,
    "start_time": "2023-01-21T17:49:24.497Z"
   },
   {
    "duration": 4,
    "start_time": "2023-01-21T17:49:24.698Z"
   },
   {
    "duration": 5,
    "start_time": "2023-01-21T17:49:24.994Z"
   },
   {
    "duration": 21,
    "start_time": "2023-01-21T17:49:26.290Z"
   },
   {
    "duration": 77,
    "start_time": "2023-01-21T17:49:50.250Z"
   },
   {
    "duration": 9,
    "start_time": "2023-01-21T17:49:50.765Z"
   },
   {
    "duration": 11,
    "start_time": "2023-01-21T17:49:53.426Z"
   },
   {
    "duration": 6,
    "start_time": "2023-01-21T17:49:54.162Z"
   },
   {
    "duration": 5,
    "start_time": "2023-01-21T17:49:54.764Z"
   },
   {
    "duration": 11,
    "start_time": "2023-01-21T17:49:56.563Z"
   },
   {
    "duration": 8,
    "start_time": "2023-01-21T17:49:57.378Z"
   },
   {
    "duration": 7,
    "start_time": "2023-01-21T17:50:01.714Z"
   },
   {
    "duration": 9,
    "start_time": "2023-01-21T17:50:03.091Z"
   },
   {
    "duration": 5,
    "start_time": "2023-01-21T17:50:03.835Z"
   },
   {
    "duration": 5,
    "start_time": "2023-01-21T17:50:04.731Z"
   },
   {
    "duration": 69,
    "start_time": "2023-01-21T17:50:41.301Z"
   },
   {
    "duration": 10,
    "start_time": "2023-01-21T17:51:10.812Z"
   },
   {
    "duration": 11,
    "start_time": "2023-01-21T17:55:32.655Z"
   },
   {
    "duration": 7,
    "start_time": "2023-01-21T17:55:33.600Z"
   },
   {
    "duration": 7,
    "start_time": "2023-01-21T17:55:33.881Z"
   },
   {
    "duration": 8,
    "start_time": "2023-01-21T17:57:37.492Z"
   },
   {
    "duration": 16,
    "start_time": "2023-01-21T17:59:21.134Z"
   },
   {
    "duration": 12,
    "start_time": "2023-01-21T18:03:58.131Z"
   },
   {
    "duration": 13,
    "start_time": "2023-01-21T18:04:26.658Z"
   },
   {
    "duration": 12,
    "start_time": "2023-01-21T18:05:07.260Z"
   },
   {
    "duration": 25,
    "start_time": "2023-01-21T18:05:30.164Z"
   },
   {
    "duration": 161,
    "start_time": "2023-01-21T18:07:25.958Z"
   },
   {
    "duration": 17,
    "start_time": "2023-01-21T18:08:06.719Z"
   },
   {
    "duration": 163,
    "start_time": "2023-01-21T18:08:27.167Z"
   },
   {
    "duration": 15,
    "start_time": "2023-01-21T18:09:29.976Z"
   },
   {
    "duration": 10,
    "start_time": "2023-01-21T18:09:43.296Z"
   },
   {
    "duration": 13,
    "start_time": "2023-01-21T18:11:31.971Z"
   },
   {
    "duration": 21,
    "start_time": "2023-01-21T18:11:57.591Z"
   },
   {
    "duration": 10,
    "start_time": "2023-01-21T18:12:18.170Z"
   },
   {
    "duration": 12,
    "start_time": "2023-01-21T18:12:23.570Z"
   },
   {
    "duration": 14,
    "start_time": "2023-01-21T18:12:33.050Z"
   },
   {
    "duration": 16,
    "start_time": "2023-01-21T18:12:45.652Z"
   },
   {
    "duration": 10,
    "start_time": "2023-01-21T18:16:11.798Z"
   },
   {
    "duration": 26,
    "start_time": "2023-01-21T18:16:15.185Z"
   },
   {
    "duration": 86,
    "start_time": "2023-01-21T19:14:04.040Z"
   },
   {
    "duration": 11,
    "start_time": "2023-01-21T19:14:18.213Z"
   },
   {
    "duration": 11,
    "start_time": "2023-01-21T19:15:16.784Z"
   },
   {
    "duration": 8,
    "start_time": "2023-01-21T19:15:26.175Z"
   },
   {
    "duration": 12,
    "start_time": "2023-01-21T19:17:08.200Z"
   },
   {
    "duration": 10,
    "start_time": "2023-01-21T19:17:45.029Z"
   },
   {
    "duration": 7,
    "start_time": "2023-01-21T19:31:55.928Z"
   },
   {
    "duration": 7,
    "start_time": "2023-01-21T19:32:20.152Z"
   },
   {
    "duration": 6,
    "start_time": "2023-01-21T19:38:58.288Z"
   },
   {
    "duration": 11,
    "start_time": "2023-01-21T19:39:00.593Z"
   },
   {
    "duration": 13,
    "start_time": "2023-01-21T20:11:10.085Z"
   },
   {
    "duration": 8,
    "start_time": "2023-01-21T20:12:19.312Z"
   },
   {
    "duration": 7,
    "start_time": "2023-01-21T20:12:20.740Z"
   },
   {
    "duration": 6,
    "start_time": "2023-01-21T20:12:21.315Z"
   },
   {
    "duration": 16,
    "start_time": "2023-01-21T20:13:33.293Z"
   },
   {
    "duration": 11,
    "start_time": "2023-01-21T20:14:07.416Z"
   },
   {
    "duration": 15,
    "start_time": "2023-01-21T20:14:21.223Z"
   },
   {
    "duration": 20,
    "start_time": "2023-01-21T20:14:46.094Z"
   },
   {
    "duration": 14,
    "start_time": "2023-01-21T20:18:25.055Z"
   },
   {
    "duration": 18,
    "start_time": "2023-01-21T20:19:47.830Z"
   },
   {
    "duration": 19,
    "start_time": "2023-01-21T20:19:57.516Z"
   },
   {
    "duration": 9,
    "start_time": "2023-01-21T20:20:09.839Z"
   },
   {
    "duration": 27,
    "start_time": "2023-01-21T20:28:55.913Z"
   },
   {
    "duration": 38,
    "start_time": "2023-01-21T20:29:56.160Z"
   },
   {
    "duration": 44,
    "start_time": "2023-01-21T20:30:30.444Z"
   },
   {
    "duration": 155,
    "start_time": "2023-01-21T20:33:35.846Z"
   },
   {
    "duration": 189,
    "start_time": "2023-01-21T20:34:45.085Z"
   },
   {
    "duration": 234,
    "start_time": "2023-01-21T20:35:13.700Z"
   },
   {
    "duration": 28,
    "start_time": "2023-01-21T20:35:41.862Z"
   },
   {
    "duration": 41,
    "start_time": "2023-01-21T20:36:40.841Z"
   },
   {
    "duration": 46,
    "start_time": "2023-01-21T20:36:58.249Z"
   },
   {
    "duration": 56,
    "start_time": "2023-01-21T20:37:49.158Z"
   },
   {
    "duration": 101,
    "start_time": "2023-01-21T20:38:26.300Z"
   },
   {
    "duration": 149,
    "start_time": "2023-01-21T20:38:46.196Z"
   },
   {
    "duration": 163,
    "start_time": "2023-01-21T20:39:03.259Z"
   },
   {
    "duration": 185,
    "start_time": "2023-01-21T20:39:29.201Z"
   },
   {
    "duration": 222,
    "start_time": "2023-01-21T20:39:48.531Z"
   },
   {
    "duration": 133,
    "start_time": "2023-01-21T21:16:35.553Z"
   },
   {
    "duration": 3,
    "start_time": "2023-01-21T21:16:41.159Z"
   },
   {
    "duration": 36,
    "start_time": "2023-01-21T21:16:41.515Z"
   },
   {
    "duration": 13,
    "start_time": "2023-01-21T21:16:41.632Z"
   },
   {
    "duration": 6,
    "start_time": "2023-01-21T21:16:41.997Z"
   },
   {
    "duration": 6,
    "start_time": "2023-01-21T21:16:42.118Z"
   },
   {
    "duration": 16,
    "start_time": "2023-01-21T21:16:42.743Z"
   },
   {
    "duration": 19,
    "start_time": "2023-01-21T21:16:43.100Z"
   },
   {
    "duration": 68,
    "start_time": "2023-01-21T21:16:43.890Z"
   },
   {
    "duration": 12,
    "start_time": "2023-01-21T21:16:44.009Z"
   },
   {
    "duration": 8,
    "start_time": "2023-01-21T21:16:44.151Z"
   },
   {
    "duration": 23,
    "start_time": "2023-01-21T21:16:44.295Z"
   },
   {
    "duration": 7,
    "start_time": "2023-01-21T21:16:44.424Z"
   },
   {
    "duration": 7,
    "start_time": "2023-01-21T21:16:44.559Z"
   },
   {
    "duration": 6,
    "start_time": "2023-01-21T21:16:44.702Z"
   },
   {
    "duration": 10,
    "start_time": "2023-01-21T21:16:44.839Z"
   },
   {
    "duration": 35,
    "start_time": "2023-01-21T21:16:45.282Z"
   },
   {
    "duration": 26,
    "start_time": "2023-01-21T21:16:45.558Z"
   },
   {
    "duration": 20,
    "start_time": "2023-01-21T21:16:45.711Z"
   },
   {
    "duration": 10,
    "start_time": "2023-01-21T21:16:45.848Z"
   },
   {
    "duration": 398,
    "start_time": "2023-01-21T21:16:46.407Z"
   },
   {
    "duration": 371,
    "start_time": "2023-01-21T21:16:47.303Z"
   },
   {
    "duration": 474,
    "start_time": "2023-01-21T21:16:47.900Z"
   },
   {
    "duration": 394,
    "start_time": "2023-01-21T21:16:48.496Z"
   },
   {
    "duration": 501,
    "start_time": "2023-01-21T21:16:49.358Z"
   },
   {
    "duration": 246,
    "start_time": "2023-01-21T21:16:50.001Z"
   },
   {
    "duration": 9,
    "start_time": "2023-01-21T21:16:50.510Z"
   },
   {
    "duration": 7,
    "start_time": "2023-01-21T21:16:50.700Z"
   },
   {
    "duration": 8,
    "start_time": "2023-01-21T21:16:50.897Z"
   },
   {
    "duration": 5,
    "start_time": "2023-01-21T21:16:51.101Z"
   },
   {
    "duration": 5,
    "start_time": "2023-01-21T21:16:51.293Z"
   },
   {
    "duration": 255,
    "start_time": "2023-01-21T21:16:52.751Z"
   },
   {
    "duration": 6,
    "start_time": "2023-01-21T21:16:53.905Z"
   },
   {
    "duration": 4,
    "start_time": "2023-01-21T21:16:54.323Z"
   },
   {
    "duration": 12,
    "start_time": "2023-01-21T21:16:54.566Z"
   },
   {
    "duration": 25,
    "start_time": "2023-01-21T21:16:55.618Z"
   },
   {
    "duration": 144,
    "start_time": "2023-01-21T21:16:57.229Z"
   },
   {
    "duration": 47,
    "start_time": "2023-01-21T21:16:57.663Z"
   },
   {
    "duration": 43,
    "start_time": "2023-01-21T21:16:58.952Z"
   },
   {
    "duration": 58,
    "start_time": "2023-01-22T07:11:23.557Z"
   },
   {
    "duration": 15,
    "start_time": "2023-01-22T07:13:16.154Z"
   },
   {
    "duration": 13,
    "start_time": "2023-01-22T07:13:47.337Z"
   },
   {
    "duration": 1472,
    "start_time": "2023-01-22T07:13:56.377Z"
   },
   {
    "duration": 72,
    "start_time": "2023-01-22T07:13:57.852Z"
   },
   {
    "duration": 12,
    "start_time": "2023-01-22T07:13:57.926Z"
   },
   {
    "duration": 5,
    "start_time": "2023-01-22T07:13:58.665Z"
   },
   {
    "duration": 8,
    "start_time": "2023-01-22T07:13:58.874Z"
   },
   {
    "duration": 16,
    "start_time": "2023-01-22T07:13:59.728Z"
   },
   {
    "duration": 17,
    "start_time": "2023-01-22T07:14:00.218Z"
   },
   {
    "duration": 166,
    "start_time": "2023-01-22T07:14:01.304Z"
   },
   {
    "duration": 9,
    "start_time": "2023-01-22T07:14:01.479Z"
   },
   {
    "duration": 9,
    "start_time": "2023-01-22T07:14:01.696Z"
   },
   {
    "duration": 19,
    "start_time": "2023-01-22T07:14:01.872Z"
   },
   {
    "duration": 7,
    "start_time": "2023-01-22T07:14:02.064Z"
   },
   {
    "duration": 6,
    "start_time": "2023-01-22T07:14:02.256Z"
   },
   {
    "duration": 6,
    "start_time": "2023-01-22T07:14:02.456Z"
   },
   {
    "duration": 6,
    "start_time": "2023-01-22T07:14:02.659Z"
   },
   {
    "duration": 26,
    "start_time": "2023-01-22T07:14:03.272Z"
   },
   {
    "duration": 25,
    "start_time": "2023-01-22T07:14:03.808Z"
   },
   {
    "duration": 20,
    "start_time": "2023-01-22T07:14:04.072Z"
   },
   {
    "duration": 10,
    "start_time": "2023-01-22T07:14:04.351Z"
   },
   {
    "duration": 312,
    "start_time": "2023-01-22T07:14:05.432Z"
   },
   {
    "duration": 353,
    "start_time": "2023-01-22T07:14:06.727Z"
   },
   {
    "duration": 497,
    "start_time": "2023-01-22T07:14:07.576Z"
   },
   {
    "duration": 389,
    "start_time": "2023-01-22T07:14:08.457Z"
   },
   {
    "duration": 447,
    "start_time": "2023-01-22T07:14:09.896Z"
   },
   {
    "duration": 219,
    "start_time": "2023-01-22T07:14:11.224Z"
   },
   {
    "duration": 6,
    "start_time": "2023-01-22T07:14:12.200Z"
   },
   {
    "duration": 5,
    "start_time": "2023-01-22T07:14:12.681Z"
   },
   {
    "duration": 6,
    "start_time": "2023-01-22T07:14:12.960Z"
   },
   {
    "duration": 5,
    "start_time": "2023-01-22T07:14:13.192Z"
   },
   {
    "duration": 6,
    "start_time": "2023-01-22T07:14:13.872Z"
   },
   {
    "duration": 310,
    "start_time": "2023-01-22T07:14:16.976Z"
   },
   {
    "duration": 8,
    "start_time": "2023-01-22T07:14:18.463Z"
   },
   {
    "duration": 5,
    "start_time": "2023-01-22T07:14:18.679Z"
   },
   {
    "duration": 5,
    "start_time": "2023-01-22T07:14:18.920Z"
   },
   {
    "duration": 17,
    "start_time": "2023-01-22T07:14:20.453Z"
   },
   {
    "duration": 173,
    "start_time": "2023-01-22T07:14:21.905Z"
   },
   {
    "duration": 109,
    "start_time": "2023-01-22T07:15:27.996Z"
   },
   {
    "duration": 111,
    "start_time": "2023-01-22T07:15:40.378Z"
   },
   {
    "duration": 172,
    "start_time": "2023-01-22T07:17:42.253Z"
   },
   {
    "duration": 225,
    "start_time": "2023-01-22T07:18:22.885Z"
   },
   {
    "duration": 17,
    "start_time": "2023-01-22T07:19:00.702Z"
   },
   {
    "duration": 146,
    "start_time": "2023-01-22T07:19:11.052Z"
   },
   {
    "duration": 23,
    "start_time": "2023-01-22T07:19:18.685Z"
   },
   {
    "duration": 951,
    "start_time": "2023-01-22T07:19:19.517Z"
   },
   {
    "duration": 185,
    "start_time": "2023-01-22T07:19:55.583Z"
   },
   {
    "duration": 184,
    "start_time": "2023-01-22T07:33:13.427Z"
   },
   {
    "duration": 10,
    "start_time": "2023-01-22T07:33:13.910Z"
   },
   {
    "duration": 11,
    "start_time": "2023-01-22T07:39:01.453Z"
   },
   {
    "duration": 12,
    "start_time": "2023-01-22T07:40:41.889Z"
   },
   {
    "duration": 705,
    "start_time": "2023-01-22T07:44:26.501Z"
   },
   {
    "duration": 695,
    "start_time": "2023-01-22T07:45:44.932Z"
   },
   {
    "duration": 703,
    "start_time": "2023-01-22T07:46:56.403Z"
   },
   {
    "duration": 678,
    "start_time": "2023-01-22T07:46:57.182Z"
   },
   {
    "duration": 1334,
    "start_time": "2023-01-22T07:47:19.413Z"
   },
   {
    "duration": 33,
    "start_time": "2023-01-22T07:47:20.749Z"
   },
   {
    "duration": 14,
    "start_time": "2023-01-22T07:47:20.784Z"
   },
   {
    "duration": 10,
    "start_time": "2023-01-22T07:47:20.801Z"
   },
   {
    "duration": 11,
    "start_time": "2023-01-22T07:47:20.814Z"
   },
   {
    "duration": 24,
    "start_time": "2023-01-22T07:47:20.827Z"
   },
   {
    "duration": 13,
    "start_time": "2023-01-22T07:47:21.356Z"
   },
   {
    "duration": 68,
    "start_time": "2023-01-22T07:47:22.187Z"
   },
   {
    "duration": 8,
    "start_time": "2023-01-22T07:47:22.308Z"
   },
   {
    "duration": 7,
    "start_time": "2023-01-22T07:47:22.435Z"
   },
   {
    "duration": 19,
    "start_time": "2023-01-22T07:47:22.566Z"
   },
   {
    "duration": 6,
    "start_time": "2023-01-22T07:47:22.683Z"
   },
   {
    "duration": 6,
    "start_time": "2023-01-22T07:47:22.819Z"
   },
   {
    "duration": 6,
    "start_time": "2023-01-22T07:47:22.947Z"
   },
   {
    "duration": 7,
    "start_time": "2023-01-22T07:47:23.075Z"
   },
   {
    "duration": 21,
    "start_time": "2023-01-22T07:47:23.468Z"
   },
   {
    "duration": 19,
    "start_time": "2023-01-22T07:47:23.739Z"
   },
   {
    "duration": 21,
    "start_time": "2023-01-22T07:47:23.866Z"
   },
   {
    "duration": 11,
    "start_time": "2023-01-22T07:47:24.003Z"
   },
   {
    "duration": 290,
    "start_time": "2023-01-22T07:47:24.547Z"
   },
   {
    "duration": 346,
    "start_time": "2023-01-22T07:47:25.395Z"
   },
   {
    "duration": 488,
    "start_time": "2023-01-22T07:47:25.940Z"
   },
   {
    "duration": 402,
    "start_time": "2023-01-22T07:47:26.524Z"
   },
   {
    "duration": 430,
    "start_time": "2023-01-22T07:47:27.415Z"
   },
   {
    "duration": 210,
    "start_time": "2023-01-22T07:47:28.219Z"
   },
   {
    "duration": 5,
    "start_time": "2023-01-22T07:47:28.868Z"
   },
   {
    "duration": 4,
    "start_time": "2023-01-22T07:47:29.044Z"
   },
   {
    "duration": 4,
    "start_time": "2023-01-22T07:47:29.284Z"
   },
   {
    "duration": 5,
    "start_time": "2023-01-22T07:47:29.499Z"
   },
   {
    "duration": 5,
    "start_time": "2023-01-22T07:47:29.691Z"
   },
   {
    "duration": 236,
    "start_time": "2023-01-22T07:47:31.299Z"
   },
   {
    "duration": 6,
    "start_time": "2023-01-22T07:47:32.411Z"
   },
   {
    "duration": 5,
    "start_time": "2023-01-22T07:47:32.652Z"
   },
   {
    "duration": 5,
    "start_time": "2023-01-22T07:47:32.851Z"
   },
   {
    "duration": 294,
    "start_time": "2023-01-22T07:47:34.604Z"
   },
   {
    "duration": 22,
    "start_time": "2023-01-22T07:47:34.900Z"
   },
   {
    "duration": 162,
    "start_time": "2023-01-22T07:47:35.340Z"
   },
   {
    "duration": 100,
    "start_time": "2023-01-22T07:47:37.331Z"
   },
   {
    "duration": 12,
    "start_time": "2023-01-22T07:47:48.491Z"
   },
   {
    "duration": 6,
    "start_time": "2023-01-22T07:47:49.132Z"
   },
   {
    "duration": 7,
    "start_time": "2023-01-22T07:47:50.597Z"
   },
   {
    "duration": 717,
    "start_time": "2023-01-22T07:47:52.716Z"
   },
   {
    "duration": 699,
    "start_time": "2023-01-22T07:48:21.470Z"
   },
   {
    "duration": 12,
    "start_time": "2023-01-22T07:49:51.151Z"
   },
   {
    "duration": 805,
    "start_time": "2023-01-22T07:49:59.225Z"
   },
   {
    "duration": 688,
    "start_time": "2023-01-22T07:50:32.303Z"
   },
   {
    "duration": 12,
    "start_time": "2023-01-22T07:51:14.465Z"
   },
   {
    "duration": 45,
    "start_time": "2023-01-22T07:51:19.800Z"
   },
   {
    "duration": 22,
    "start_time": "2023-01-22T07:52:43.328Z"
   },
   {
    "duration": 304,
    "start_time": "2023-01-22T07:52:44.600Z"
   },
   {
    "duration": 21,
    "start_time": "2023-01-22T07:52:44.906Z"
   },
   {
    "duration": 12,
    "start_time": "2023-01-22T07:52:45.788Z"
   },
   {
    "duration": 349,
    "start_time": "2023-01-22T07:52:48.247Z"
   },
   {
    "duration": 349,
    "start_time": "2023-01-22T07:52:52.953Z"
   },
   {
    "duration": 512,
    "start_time": "2023-01-22T07:52:54.457Z"
   },
   {
    "duration": 373,
    "start_time": "2023-01-22T07:52:55.438Z"
   },
   {
    "duration": 447,
    "start_time": "2023-01-22T07:52:56.807Z"
   },
   {
    "duration": 18,
    "start_time": "2023-01-22T07:52:58.680Z"
   },
   {
    "duration": 220,
    "start_time": "2023-01-22T07:53:32.377Z"
   },
   {
    "duration": 5,
    "start_time": "2023-01-22T07:53:45.353Z"
   },
   {
    "duration": 290,
    "start_time": "2023-01-22T07:53:49.650Z"
   },
   {
    "duration": 6,
    "start_time": "2023-01-22T07:53:51.295Z"
   },
   {
    "duration": 5,
    "start_time": "2023-01-22T07:53:51.736Z"
   },
   {
    "duration": 5,
    "start_time": "2023-01-22T07:53:52.241Z"
   },
   {
    "duration": 139,
    "start_time": "2023-01-22T07:53:54.337Z"
   },
   {
    "duration": 224,
    "start_time": "2023-01-22T07:54:16.035Z"
   },
   {
    "duration": 38,
    "start_time": "2023-01-22T07:54:20.081Z"
   },
   {
    "duration": 183,
    "start_time": "2023-01-22T07:54:34.458Z"
   },
   {
    "duration": 12,
    "start_time": "2023-01-22T07:54:43.826Z"
   },
   {
    "duration": 7,
    "start_time": "2023-01-22T07:54:44.843Z"
   },
   {
    "duration": 7,
    "start_time": "2023-01-22T07:54:45.057Z"
   },
   {
    "duration": 9,
    "start_time": "2023-01-22T07:54:58.697Z"
   },
   {
    "duration": 28,
    "start_time": "2023-01-22T07:55:24.787Z"
   },
   {
    "duration": 19,
    "start_time": "2023-01-22T07:55:38.203Z"
   },
   {
    "duration": 13,
    "start_time": "2023-01-22T07:55:48.687Z"
   },
   {
    "duration": 13,
    "start_time": "2023-01-22T07:55:49.067Z"
   },
   {
    "duration": 17,
    "start_time": "2023-01-22T07:55:58.283Z"
   },
   {
    "duration": 8,
    "start_time": "2023-01-22T07:56:01.692Z"
   },
   {
    "duration": 8,
    "start_time": "2023-01-22T07:56:03.761Z"
   },
   {
    "duration": 6,
    "start_time": "2023-01-22T07:56:04.521Z"
   },
   {
    "duration": 10,
    "start_time": "2023-01-22T08:07:20.684Z"
   },
   {
    "duration": 8,
    "start_time": "2023-01-22T08:07:27.764Z"
   },
   {
    "duration": 5,
    "start_time": "2023-01-22T08:07:50.989Z"
   },
   {
    "duration": 5,
    "start_time": "2023-01-22T08:07:55.668Z"
   },
   {
    "duration": 234,
    "start_time": "2023-01-22T08:11:28.640Z"
   },
   {
    "duration": 1274,
    "start_time": "2023-01-22T08:20:53.665Z"
   },
   {
    "duration": 39,
    "start_time": "2023-01-22T08:20:56.128Z"
   },
   {
    "duration": 16,
    "start_time": "2023-01-22T08:20:56.453Z"
   },
   {
    "duration": 7,
    "start_time": "2023-01-22T08:20:56.831Z"
   },
   {
    "duration": 8,
    "start_time": "2023-01-22T08:20:56.992Z"
   },
   {
    "duration": 19,
    "start_time": "2023-01-22T08:20:57.683Z"
   },
   {
    "duration": 15,
    "start_time": "2023-01-22T08:20:58.182Z"
   },
   {
    "duration": 54,
    "start_time": "2023-01-22T08:20:58.959Z"
   },
   {
    "duration": 9,
    "start_time": "2023-01-22T08:20:59.087Z"
   },
   {
    "duration": 8,
    "start_time": "2023-01-22T08:20:59.215Z"
   },
   {
    "duration": 27,
    "start_time": "2023-01-22T08:20:59.350Z"
   },
   {
    "duration": 10,
    "start_time": "2023-01-22T08:20:59.479Z"
   },
   {
    "duration": 9,
    "start_time": "2023-01-22T08:20:59.607Z"
   },
   {
    "duration": 8,
    "start_time": "2023-01-22T08:20:59.752Z"
   },
   {
    "duration": 9,
    "start_time": "2023-01-22T08:20:59.863Z"
   },
   {
    "duration": 23,
    "start_time": "2023-01-22T08:21:00.255Z"
   },
   {
    "duration": 360,
    "start_time": "2023-01-22T08:21:00.535Z"
   },
   {
    "duration": 138,
    "start_time": "2023-01-22T08:21:00.898Z"
   },
   {
    "duration": 0,
    "start_time": "2023-01-22T08:21:01.038Z"
   },
   {
    "duration": 15,
    "start_time": "2023-01-22T08:21:01.663Z"
   },
   {
    "duration": 353,
    "start_time": "2023-01-22T08:25:29.790Z"
   },
   {
    "duration": 318,
    "start_time": "2023-01-22T08:25:52.061Z"
   },
   {
    "duration": 339,
    "start_time": "2023-01-22T08:26:28.586Z"
   },
   {
    "duration": 699,
    "start_time": "2023-01-22T08:26:31.865Z"
   },
   {
    "duration": 302,
    "start_time": "2023-01-22T08:27:15.072Z"
   },
   {
    "duration": 751,
    "start_time": "2023-01-22T08:27:16.468Z"
   },
   {
    "duration": 313,
    "start_time": "2023-01-22T08:27:24.355Z"
   },
   {
    "duration": 326,
    "start_time": "2023-01-22T08:27:47.922Z"
   },
   {
    "duration": 21,
    "start_time": "2023-01-22T08:27:52.401Z"
   },
   {
    "duration": 13,
    "start_time": "2023-01-22T08:27:54.893Z"
   },
   {
    "duration": 305,
    "start_time": "2023-01-22T08:27:57.452Z"
   },
   {
    "duration": 366,
    "start_time": "2023-01-22T08:28:00.111Z"
   },
   {
    "duration": 494,
    "start_time": "2023-01-22T08:28:01.571Z"
   },
   {
    "duration": 409,
    "start_time": "2023-01-22T08:28:03.281Z"
   },
   {
    "duration": 456,
    "start_time": "2023-01-22T08:28:04.902Z"
   },
   {
    "duration": 302,
    "start_time": "2023-01-22T08:28:06.155Z"
   },
   {
    "duration": 5,
    "start_time": "2023-01-22T08:28:07.070Z"
   },
   {
    "duration": 5,
    "start_time": "2023-01-22T08:28:07.364Z"
   },
   {
    "duration": 5,
    "start_time": "2023-01-22T08:28:07.562Z"
   },
   {
    "duration": 5,
    "start_time": "2023-01-22T08:28:07.766Z"
   },
   {
    "duration": 5,
    "start_time": "2023-01-22T08:28:07.998Z"
   },
   {
    "duration": 305,
    "start_time": "2023-01-22T08:28:09.590Z"
   },
   {
    "duration": 6,
    "start_time": "2023-01-22T08:28:10.830Z"
   },
   {
    "duration": 4,
    "start_time": "2023-01-22T08:28:11.094Z"
   },
   {
    "duration": 5,
    "start_time": "2023-01-22T08:28:11.278Z"
   },
   {
    "duration": 239,
    "start_time": "2023-01-22T08:28:12.870Z"
   },
   {
    "duration": 190,
    "start_time": "2023-01-22T08:28:13.758Z"
   },
   {
    "duration": 15,
    "start_time": "2023-01-22T08:28:16.390Z"
   },
   {
    "duration": 7,
    "start_time": "2023-01-22T08:28:16.669Z"
   },
   {
    "duration": 7,
    "start_time": "2023-01-22T08:28:17.118Z"
   },
   {
    "duration": 9,
    "start_time": "2023-01-22T08:28:18.162Z"
   },
   {
    "duration": 32,
    "start_time": "2023-01-22T08:28:18.311Z"
   },
   {
    "duration": 7,
    "start_time": "2023-01-22T08:28:19.253Z"
   },
   {
    "duration": 18,
    "start_time": "2023-01-22T08:28:20.512Z"
   },
   {
    "duration": 7,
    "start_time": "2023-01-22T08:28:20.967Z"
   },
   {
    "duration": 7,
    "start_time": "2023-01-22T08:28:21.456Z"
   },
   {
    "duration": 26,
    "start_time": "2023-01-22T08:31:05.541Z"
   },
   {
    "duration": 22,
    "start_time": "2023-01-22T08:31:09.073Z"
   },
   {
    "duration": 11,
    "start_time": "2023-01-22T08:31:09.489Z"
   },
   {
    "duration": 371,
    "start_time": "2023-01-22T08:31:10.593Z"
   },
   {
    "duration": 382,
    "start_time": "2023-01-22T08:31:11.833Z"
   },
   {
    "duration": 479,
    "start_time": "2023-01-22T08:31:12.329Z"
   },
   {
    "duration": 438,
    "start_time": "2023-01-22T08:31:12.811Z"
   },
   {
    "duration": 444,
    "start_time": "2023-01-22T08:31:13.513Z"
   },
   {
    "duration": 211,
    "start_time": "2023-01-22T08:31:14.010Z"
   },
   {
    "duration": 6,
    "start_time": "2023-01-22T08:31:14.403Z"
   },
   {
    "duration": 5,
    "start_time": "2023-01-22T08:31:14.529Z"
   },
   {
    "duration": 5,
    "start_time": "2023-01-22T08:31:14.669Z"
   },
   {
    "duration": 4,
    "start_time": "2023-01-22T08:31:14.797Z"
   },
   {
    "duration": 4,
    "start_time": "2023-01-22T08:31:14.926Z"
   },
   {
    "duration": 242,
    "start_time": "2023-01-22T08:31:16.825Z"
   },
   {
    "duration": 5,
    "start_time": "2023-01-22T08:31:18.041Z"
   },
   {
    "duration": 5,
    "start_time": "2023-01-22T08:31:18.201Z"
   },
   {
    "duration": 5,
    "start_time": "2023-01-22T08:31:18.553Z"
   },
   {
    "duration": 224,
    "start_time": "2023-01-22T08:31:20.090Z"
   },
   {
    "duration": 166,
    "start_time": "2023-01-22T08:31:21.122Z"
   },
   {
    "duration": 14,
    "start_time": "2023-01-22T08:31:24.313Z"
   },
   {
    "duration": 7,
    "start_time": "2023-01-22T08:31:24.848Z"
   },
   {
    "duration": 7,
    "start_time": "2023-01-22T08:31:25.746Z"
   },
   {
    "duration": 12,
    "start_time": "2023-01-22T08:31:27.137Z"
   },
   {
    "duration": 31,
    "start_time": "2023-01-22T08:31:27.930Z"
   },
   {
    "duration": 6,
    "start_time": "2023-01-22T08:31:29.234Z"
   },
   {
    "duration": 17,
    "start_time": "2023-01-22T08:31:30.044Z"
   },
   {
    "duration": 7,
    "start_time": "2023-01-22T08:31:31.021Z"
   },
   {
    "duration": 8,
    "start_time": "2023-01-22T08:31:31.445Z"
   },
   {
    "duration": 1348,
    "start_time": "2023-01-22T08:58:40.211Z"
   },
   {
    "duration": 75,
    "start_time": "2023-01-22T08:58:41.561Z"
   },
   {
    "duration": 18,
    "start_time": "2023-01-22T08:58:41.638Z"
   },
   {
    "duration": 29,
    "start_time": "2023-01-22T08:58:41.659Z"
   },
   {
    "duration": 25,
    "start_time": "2023-01-22T08:58:41.689Z"
   },
   {
    "duration": 19,
    "start_time": "2023-01-22T08:58:41.716Z"
   },
   {
    "duration": 13,
    "start_time": "2023-01-22T08:58:41.737Z"
   },
   {
    "duration": 119,
    "start_time": "2023-01-22T08:58:41.752Z"
   },
   {
    "duration": 10,
    "start_time": "2023-01-22T08:58:41.874Z"
   },
   {
    "duration": 34,
    "start_time": "2023-01-22T08:58:41.887Z"
   },
   {
    "duration": 24,
    "start_time": "2023-01-22T08:58:41.923Z"
   },
   {
    "duration": 11,
    "start_time": "2023-01-22T08:58:41.950Z"
   },
   {
    "duration": 11,
    "start_time": "2023-01-22T08:58:41.963Z"
   },
   {
    "duration": 12,
    "start_time": "2023-01-22T08:58:41.976Z"
   },
   {
    "duration": 18,
    "start_time": "2023-01-22T08:58:41.990Z"
   },
   {
    "duration": 27,
    "start_time": "2023-01-22T08:58:42.010Z"
   },
   {
    "duration": 142,
    "start_time": "2023-01-22T08:58:42.039Z"
   },
   {
    "duration": 0,
    "start_time": "2023-01-22T08:58:42.183Z"
   },
   {
    "duration": 0,
    "start_time": "2023-01-22T08:58:42.185Z"
   },
   {
    "duration": 0,
    "start_time": "2023-01-22T08:58:42.186Z"
   },
   {
    "duration": 0,
    "start_time": "2023-01-22T08:58:42.187Z"
   },
   {
    "duration": 0,
    "start_time": "2023-01-22T08:58:42.188Z"
   },
   {
    "duration": 1,
    "start_time": "2023-01-22T08:58:42.199Z"
   },
   {
    "duration": 0,
    "start_time": "2023-01-22T08:58:42.201Z"
   },
   {
    "duration": 0,
    "start_time": "2023-01-22T08:58:42.202Z"
   },
   {
    "duration": 0,
    "start_time": "2023-01-22T08:58:42.205Z"
   },
   {
    "duration": 0,
    "start_time": "2023-01-22T08:58:42.206Z"
   },
   {
    "duration": 0,
    "start_time": "2023-01-22T08:58:42.207Z"
   },
   {
    "duration": 0,
    "start_time": "2023-01-22T08:58:42.208Z"
   },
   {
    "duration": 0,
    "start_time": "2023-01-22T08:58:42.209Z"
   },
   {
    "duration": 0,
    "start_time": "2023-01-22T08:58:42.211Z"
   },
   {
    "duration": 0,
    "start_time": "2023-01-22T08:58:42.212Z"
   },
   {
    "duration": 0,
    "start_time": "2023-01-22T08:58:42.213Z"
   },
   {
    "duration": 0,
    "start_time": "2023-01-22T08:58:42.214Z"
   },
   {
    "duration": 0,
    "start_time": "2023-01-22T08:58:42.215Z"
   },
   {
    "duration": 0,
    "start_time": "2023-01-22T08:58:42.216Z"
   },
   {
    "duration": 0,
    "start_time": "2023-01-22T08:58:42.217Z"
   },
   {
    "duration": 0,
    "start_time": "2023-01-22T08:58:42.218Z"
   },
   {
    "duration": 0,
    "start_time": "2023-01-22T08:58:42.219Z"
   },
   {
    "duration": 0,
    "start_time": "2023-01-22T08:58:42.220Z"
   },
   {
    "duration": 0,
    "start_time": "2023-01-22T08:58:42.221Z"
   },
   {
    "duration": 0,
    "start_time": "2023-01-22T08:58:42.223Z"
   },
   {
    "duration": 0,
    "start_time": "2023-01-22T08:58:42.224Z"
   },
   {
    "duration": 0,
    "start_time": "2023-01-22T08:58:42.225Z"
   },
   {
    "duration": 0,
    "start_time": "2023-01-22T08:58:42.226Z"
   },
   {
    "duration": 17,
    "start_time": "2023-01-22T08:59:28.289Z"
   },
   {
    "duration": 19,
    "start_time": "2023-01-22T08:59:29.206Z"
   },
   {
    "duration": 10,
    "start_time": "2023-01-22T08:59:31.499Z"
   },
   {
    "duration": 1138,
    "start_time": "2023-01-22T08:59:42.163Z"
   },
   {
    "duration": 34,
    "start_time": "2023-01-22T08:59:43.303Z"
   },
   {
    "duration": 16,
    "start_time": "2023-01-22T08:59:43.339Z"
   },
   {
    "duration": 26,
    "start_time": "2023-01-22T08:59:43.357Z"
   },
   {
    "duration": 15,
    "start_time": "2023-01-22T08:59:43.386Z"
   },
   {
    "duration": 20,
    "start_time": "2023-01-22T08:59:43.403Z"
   },
   {
    "duration": 16,
    "start_time": "2023-01-22T08:59:43.425Z"
   },
   {
    "duration": 45,
    "start_time": "2023-01-22T08:59:43.443Z"
   },
   {
    "duration": 9,
    "start_time": "2023-01-22T08:59:43.489Z"
   },
   {
    "duration": 11,
    "start_time": "2023-01-22T08:59:43.499Z"
   },
   {
    "duration": 19,
    "start_time": "2023-01-22T08:59:43.511Z"
   },
   {
    "duration": 8,
    "start_time": "2023-01-22T08:59:43.532Z"
   },
   {
    "duration": 11,
    "start_time": "2023-01-22T08:59:43.541Z"
   },
   {
    "duration": 7,
    "start_time": "2023-01-22T08:59:43.555Z"
   },
   {
    "duration": 9,
    "start_time": "2023-01-22T08:59:43.564Z"
   },
   {
    "duration": 21,
    "start_time": "2023-01-22T08:59:43.599Z"
   },
   {
    "duration": 119,
    "start_time": "2023-01-22T08:59:43.622Z"
   },
   {
    "duration": 0,
    "start_time": "2023-01-22T08:59:43.742Z"
   },
   {
    "duration": 0,
    "start_time": "2023-01-22T08:59:43.744Z"
   },
   {
    "duration": 0,
    "start_time": "2023-01-22T08:59:43.745Z"
   },
   {
    "duration": 0,
    "start_time": "2023-01-22T08:59:43.746Z"
   },
   {
    "duration": 0,
    "start_time": "2023-01-22T08:59:43.747Z"
   },
   {
    "duration": 0,
    "start_time": "2023-01-22T08:59:43.748Z"
   },
   {
    "duration": 0,
    "start_time": "2023-01-22T08:59:43.749Z"
   },
   {
    "duration": 0,
    "start_time": "2023-01-22T08:59:43.750Z"
   },
   {
    "duration": 0,
    "start_time": "2023-01-22T08:59:43.751Z"
   },
   {
    "duration": 0,
    "start_time": "2023-01-22T08:59:43.752Z"
   },
   {
    "duration": 0,
    "start_time": "2023-01-22T08:59:43.753Z"
   },
   {
    "duration": 0,
    "start_time": "2023-01-22T08:59:43.754Z"
   },
   {
    "duration": 0,
    "start_time": "2023-01-22T08:59:43.755Z"
   },
   {
    "duration": 0,
    "start_time": "2023-01-22T08:59:43.756Z"
   },
   {
    "duration": 0,
    "start_time": "2023-01-22T08:59:43.757Z"
   },
   {
    "duration": 0,
    "start_time": "2023-01-22T08:59:43.758Z"
   },
   {
    "duration": 0,
    "start_time": "2023-01-22T08:59:43.760Z"
   },
   {
    "duration": 0,
    "start_time": "2023-01-22T08:59:43.761Z"
   },
   {
    "duration": 0,
    "start_time": "2023-01-22T08:59:43.762Z"
   },
   {
    "duration": 0,
    "start_time": "2023-01-22T08:59:43.763Z"
   },
   {
    "duration": 0,
    "start_time": "2023-01-22T08:59:43.798Z"
   },
   {
    "duration": 0,
    "start_time": "2023-01-22T08:59:43.800Z"
   },
   {
    "duration": 0,
    "start_time": "2023-01-22T08:59:43.801Z"
   },
   {
    "duration": 0,
    "start_time": "2023-01-22T08:59:43.802Z"
   },
   {
    "duration": 0,
    "start_time": "2023-01-22T08:59:43.803Z"
   },
   {
    "duration": 0,
    "start_time": "2023-01-22T08:59:43.804Z"
   },
   {
    "duration": 0,
    "start_time": "2023-01-22T08:59:43.805Z"
   },
   {
    "duration": 0,
    "start_time": "2023-01-22T08:59:43.806Z"
   },
   {
    "duration": 1213,
    "start_time": "2023-01-22T09:01:50.565Z"
   },
   {
    "duration": 31,
    "start_time": "2023-01-22T09:01:51.781Z"
   },
   {
    "duration": 13,
    "start_time": "2023-01-22T09:01:51.814Z"
   },
   {
    "duration": 15,
    "start_time": "2023-01-22T09:01:51.829Z"
   },
   {
    "duration": 18,
    "start_time": "2023-01-22T09:01:51.847Z"
   },
   {
    "duration": 18,
    "start_time": "2023-01-22T09:01:51.867Z"
   },
   {
    "duration": 21,
    "start_time": "2023-01-22T09:01:51.887Z"
   },
   {
    "duration": 40,
    "start_time": "2023-01-22T09:01:51.910Z"
   },
   {
    "duration": 8,
    "start_time": "2023-01-22T09:01:51.952Z"
   },
   {
    "duration": 12,
    "start_time": "2023-01-22T09:01:51.962Z"
   },
   {
    "duration": 20,
    "start_time": "2023-01-22T09:01:51.975Z"
   },
   {
    "duration": 14,
    "start_time": "2023-01-22T09:01:51.997Z"
   },
   {
    "duration": 11,
    "start_time": "2023-01-22T09:01:52.012Z"
   },
   {
    "duration": 6,
    "start_time": "2023-01-22T09:01:52.027Z"
   },
   {
    "duration": 7,
    "start_time": "2023-01-22T09:01:52.035Z"
   },
   {
    "duration": 23,
    "start_time": "2023-01-22T09:01:52.044Z"
   },
   {
    "duration": 42,
    "start_time": "2023-01-22T09:01:52.069Z"
   },
   {
    "duration": 30,
    "start_time": "2023-01-22T09:01:52.114Z"
   },
   {
    "duration": 23,
    "start_time": "2023-01-22T09:01:52.147Z"
   },
   {
    "duration": 323,
    "start_time": "2023-01-22T09:01:52.172Z"
   },
   {
    "duration": 306,
    "start_time": "2023-01-22T09:01:52.498Z"
   },
   {
    "duration": 417,
    "start_time": "2023-01-22T09:01:52.805Z"
   },
   {
    "duration": 361,
    "start_time": "2023-01-22T09:01:53.224Z"
   },
   {
    "duration": 490,
    "start_time": "2023-01-22T09:01:53.587Z"
   },
   {
    "duration": 232,
    "start_time": "2023-01-22T09:01:54.079Z"
   },
   {
    "duration": 5,
    "start_time": "2023-01-22T09:01:54.313Z"
   },
   {
    "duration": 7,
    "start_time": "2023-01-22T09:01:54.319Z"
   },
   {
    "duration": 10,
    "start_time": "2023-01-22T09:01:54.328Z"
   },
   {
    "duration": 18,
    "start_time": "2023-01-22T09:01:54.339Z"
   },
   {
    "duration": 12,
    "start_time": "2023-01-22T09:01:54.359Z"
   },
   {
    "duration": 209,
    "start_time": "2023-01-22T09:01:54.373Z"
   },
   {
    "duration": 16,
    "start_time": "2023-01-22T09:01:54.583Z"
   },
   {
    "duration": 63,
    "start_time": "2023-01-22T09:01:54.601Z"
   },
   {
    "duration": 17,
    "start_time": "2023-01-22T09:01:54.666Z"
   },
   {
    "duration": 292,
    "start_time": "2023-01-22T09:01:54.685Z"
   },
   {
    "duration": 162,
    "start_time": "2023-01-22T09:01:54.978Z"
   },
   {
    "duration": 10,
    "start_time": "2023-01-22T09:01:55.142Z"
   },
   {
    "duration": 10,
    "start_time": "2023-01-22T09:01:55.153Z"
   },
   {
    "duration": 31,
    "start_time": "2023-01-22T09:01:55.164Z"
   },
   {
    "duration": 16,
    "start_time": "2023-01-22T09:01:55.197Z"
   },
   {
    "duration": 27,
    "start_time": "2023-01-22T09:01:55.217Z"
   },
   {
    "duration": 5,
    "start_time": "2023-01-22T09:01:55.246Z"
   },
   {
    "duration": 16,
    "start_time": "2023-01-22T09:01:55.253Z"
   },
   {
    "duration": 10,
    "start_time": "2023-01-22T09:01:55.270Z"
   },
   {
    "duration": 6,
    "start_time": "2023-01-22T09:01:55.299Z"
   },
   {
    "duration": 1175,
    "start_time": "2023-01-22T09:58:43.824Z"
   },
   {
    "duration": 32,
    "start_time": "2023-01-22T09:58:45.001Z"
   },
   {
    "duration": 15,
    "start_time": "2023-01-22T09:58:45.035Z"
   },
   {
    "duration": 14,
    "start_time": "2023-01-22T09:58:45.053Z"
   },
   {
    "duration": 15,
    "start_time": "2023-01-22T09:58:45.069Z"
   },
   {
    "duration": 28,
    "start_time": "2023-01-22T09:58:45.086Z"
   },
   {
    "duration": 12,
    "start_time": "2023-01-22T09:58:45.116Z"
   },
   {
    "duration": 46,
    "start_time": "2023-01-22T09:58:45.129Z"
   },
   {
    "duration": 9,
    "start_time": "2023-01-22T09:58:45.176Z"
   },
   {
    "duration": 20,
    "start_time": "2023-01-22T09:58:45.188Z"
   },
   {
    "duration": 25,
    "start_time": "2023-01-22T09:58:45.209Z"
   },
   {
    "duration": 9,
    "start_time": "2023-01-22T09:58:45.236Z"
   },
   {
    "duration": 9,
    "start_time": "2023-01-22T09:58:45.247Z"
   },
   {
    "duration": 11,
    "start_time": "2023-01-22T09:58:45.257Z"
   },
   {
    "duration": 8,
    "start_time": "2023-01-22T09:58:45.270Z"
   },
   {
    "duration": 27,
    "start_time": "2023-01-22T09:58:45.279Z"
   },
   {
    "duration": 17,
    "start_time": "2023-01-22T09:58:45.308Z"
   },
   {
    "duration": 17,
    "start_time": "2023-01-22T09:58:45.326Z"
   },
   {
    "duration": 12,
    "start_time": "2023-01-22T09:58:45.345Z"
   },
   {
    "duration": 331,
    "start_time": "2023-01-22T09:58:45.359Z"
   },
   {
    "duration": 363,
    "start_time": "2023-01-22T09:58:45.691Z"
   },
   {
    "duration": 506,
    "start_time": "2023-01-22T09:58:46.057Z"
   },
   {
    "duration": 397,
    "start_time": "2023-01-22T09:58:46.564Z"
   },
   {
    "duration": 454,
    "start_time": "2023-01-22T09:58:46.963Z"
   },
   {
    "duration": 224,
    "start_time": "2023-01-22T09:58:47.418Z"
   },
   {
    "duration": 5,
    "start_time": "2023-01-22T09:58:47.644Z"
   },
   {
    "duration": 14,
    "start_time": "2023-01-22T09:58:47.651Z"
   },
   {
    "duration": 10,
    "start_time": "2023-01-22T09:58:47.669Z"
   },
   {
    "duration": 16,
    "start_time": "2023-01-22T09:58:47.680Z"
   },
   {
    "duration": 13,
    "start_time": "2023-01-22T09:58:47.699Z"
   },
   {
    "duration": 230,
    "start_time": "2023-01-22T09:58:47.714Z"
   },
   {
    "duration": 6,
    "start_time": "2023-01-22T09:58:47.946Z"
   },
   {
    "duration": 11,
    "start_time": "2023-01-22T09:58:47.954Z"
   },
   {
    "duration": 11,
    "start_time": "2023-01-22T09:58:47.968Z"
   },
   {
    "duration": 342,
    "start_time": "2023-01-22T09:58:47.981Z"
   },
   {
    "duration": 233,
    "start_time": "2023-01-22T09:58:48.325Z"
   },
   {
    "duration": 15,
    "start_time": "2023-01-22T09:58:48.560Z"
   },
   {
    "duration": 25,
    "start_time": "2023-01-22T09:58:48.576Z"
   },
   {
    "duration": 9,
    "start_time": "2023-01-22T09:58:48.603Z"
   },
   {
    "duration": 14,
    "start_time": "2023-01-22T09:58:48.614Z"
   },
   {
    "duration": 30,
    "start_time": "2023-01-22T09:58:48.630Z"
   },
   {
    "duration": 8,
    "start_time": "2023-01-22T09:58:48.662Z"
   },
   {
    "duration": 23,
    "start_time": "2023-01-22T09:58:48.698Z"
   },
   {
    "duration": 18,
    "start_time": "2023-01-22T09:58:48.723Z"
   },
   {
    "duration": 15,
    "start_time": "2023-01-22T09:58:48.743Z"
   },
   {
    "duration": 14,
    "start_time": "2023-01-22T10:07:23.814Z"
   }
  ],
  "kernelspec": {
   "display_name": "Python 3 (ipykernel)",
   "language": "python",
   "name": "python3"
  },
  "language_info": {
   "codemirror_mode": {
    "name": "ipython",
    "version": 3
   },
   "file_extension": ".py",
   "mimetype": "text/x-python",
   "name": "python",
   "nbconvert_exporter": "python",
   "pygments_lexer": "ipython3",
   "version": "3.9.13"
  },
  "toc": {
   "base_numbering": 1,
   "nav_menu": {},
   "number_sections": true,
   "sideBar": true,
   "skip_h1_title": true,
   "title_cell": "Table of Contents",
   "title_sidebar": "Contents",
   "toc_cell": false,
   "toc_position": {},
   "toc_section_display": true,
   "toc_window_display": true
  }
 },
 "nbformat": 4,
 "nbformat_minor": 2
}
