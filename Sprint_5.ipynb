{
 "cells": [
  {
   "cell_type": "markdown",
   "metadata": {},
   "source": [
    "**План исследования**"
   ]
  },
  {
   "cell_type": "markdown",
   "metadata": {},
   "source": [
    "<span style=\"color:green\">1.Предобработка данных:<span>\n",
    " - Откроем датасет\n",
    " - Изучим таблицу визуально: какие столбцы есть вообще, и какие данные как в строках запсианны\n",
    " - Изучим данные на предмет: какой тип данных в каких столбцах и сколько в каждом столбце пропусков\n",
    " - Приведём названия колонок в одинаковый вид\n",
    " - Определить и заполнить пропуски в данных\n",
    " - Привести данные к нужному типу (при необходимости)\n",
    " - Проверить на дубликаты\n",
    " - Поискать и избавиться от аномалий в данных"
   ]
  },
  {
   "cell_type": "markdown",
   "metadata": {},
   "source": [
    "<span style=\"color:green\">2. Добавить данные в таблицу:<span>\n",
    "- Суммарные продажи во всех регионах и запишите их в отдельный столбец"
   ]
  },
  {
   "cell_type": "markdown",
   "metadata": {},
   "source": [
    "<span style=\"color:green\">3. Проанализирвоать данные в датасете:<span>\n",
    "- Сколько игр выпускалось в разные годы\n",
    "- Как менялись продажи по платформам. Выберите платформы с наибольшими суммарными продажами и постройте распределение по годам. За какой характерный срок появляются новые и исчезают старые платформы?\n",
    "- Взять данные за актуальный период\n",
    "- Какие платформы лидируют по продажам, растут или падают?\n",
    "- Пострить график «ящик с усами» по глобальным продажам игр в разбивке по платформам\n",
    "- Проанализирвоать как влияют на продажи внутри одной популярной платформы отзывы пользователей и критиков. Построить диаграмму рассеяния и посчитайте корреляцию между отзывами и продажами\n",
    "- Соотнести выводы на разных платформах между собой\n",
    "- Посмотреть на общее распределение игр по жанрам"
   ]
  },
  {
   "cell_type": "markdown",
   "metadata": {},
   "source": [
    "<span style=\"color:green\">4. Составить портрет пользователя кажлого региона (NA, EU, JP):<span>\n",
    "    \n",
    "- Самые популярные платформы (топ-5). Опишите различия в долях продаж.\n",
    "- Самые популярные жанры (топ-5). Поясните разницу.\n",
    "- Влияет ли рейтинг ESRB на продажи в отдельном регионе?"
   ]
  },
  {
   "cell_type": "markdown",
   "metadata": {},
   "source": [
    "<span style=\"color:green\">5. Проверка гипотез:<span>\n",
    "    \n",
    "- Средние пользовательские рейтинги платформ Xbox One и PC одинаковые;\n",
    "- Средние пользовательские рейтинги жанров Action (англ. «действие», экшен-игры) и Sports (англ. «спортивные соревнования») разные."
   ]
  },
  {
   "cell_type": "markdown",
   "metadata": {},
   "source": [
    "<span style=\"color:green\">6. Написать общий вывод<span>"
   ]
  },
  {
   "cell_type": "markdown",
   "metadata": {},
   "source": [
    "<a name=\"stage_1\"></a>\n",
    "# 1. Прсомотр и предобработка данных"
   ]
  },
  {
   "cell_type": "code",
   "execution_count": 1,
   "metadata": {},
   "outputs": [],
   "source": [
    "# импортируем все библиотеки, которые могут понадобиться и прочитаем датасет\n",
    "import pandas as pd\n",
    "import numpy as np\n",
    "import matplotlib.pyplot as plt\n",
    "import seaborn as sns\n",
    "\n",
    "from datetime import datetime\n",
    "from scipy import stats as st\n",
    "\n",
    "data = pd.read_csv('/datasets/games.csv')\n"
   ]
  },
  {
   "cell_type": "code",
   "execution_count": 2,
   "metadata": {},
   "outputs": [
    {
     "data": {
      "text/html": [
       "<div>\n",
       "<style scoped>\n",
       "    .dataframe tbody tr th:only-of-type {\n",
       "        vertical-align: middle;\n",
       "    }\n",
       "\n",
       "    .dataframe tbody tr th {\n",
       "        vertical-align: top;\n",
       "    }\n",
       "\n",
       "    .dataframe thead th {\n",
       "        text-align: right;\n",
       "    }\n",
       "</style>\n",
       "<table border=\"1\" class=\"dataframe\">\n",
       "  <thead>\n",
       "    <tr style=\"text-align: right;\">\n",
       "      <th></th>\n",
       "      <th>Name</th>\n",
       "      <th>Platform</th>\n",
       "      <th>Year_of_Release</th>\n",
       "      <th>Genre</th>\n",
       "      <th>NA_sales</th>\n",
       "      <th>EU_sales</th>\n",
       "      <th>JP_sales</th>\n",
       "      <th>Other_sales</th>\n",
       "      <th>Critic_Score</th>\n",
       "      <th>User_Score</th>\n",
       "      <th>Rating</th>\n",
       "    </tr>\n",
       "  </thead>\n",
       "  <tbody>\n",
       "    <tr>\n",
       "      <th>0</th>\n",
       "      <td>Wii Sports</td>\n",
       "      <td>Wii</td>\n",
       "      <td>2006.0</td>\n",
       "      <td>Sports</td>\n",
       "      <td>41.36</td>\n",
       "      <td>28.96</td>\n",
       "      <td>3.77</td>\n",
       "      <td>8.45</td>\n",
       "      <td>76.0</td>\n",
       "      <td>8</td>\n",
       "      <td>E</td>\n",
       "    </tr>\n",
       "    <tr>\n",
       "      <th>1</th>\n",
       "      <td>Super Mario Bros.</td>\n",
       "      <td>NES</td>\n",
       "      <td>1985.0</td>\n",
       "      <td>Platform</td>\n",
       "      <td>29.08</td>\n",
       "      <td>3.58</td>\n",
       "      <td>6.81</td>\n",
       "      <td>0.77</td>\n",
       "      <td>NaN</td>\n",
       "      <td>NaN</td>\n",
       "      <td>NaN</td>\n",
       "    </tr>\n",
       "    <tr>\n",
       "      <th>2</th>\n",
       "      <td>Mario Kart Wii</td>\n",
       "      <td>Wii</td>\n",
       "      <td>2008.0</td>\n",
       "      <td>Racing</td>\n",
       "      <td>15.68</td>\n",
       "      <td>12.76</td>\n",
       "      <td>3.79</td>\n",
       "      <td>3.29</td>\n",
       "      <td>82.0</td>\n",
       "      <td>8.3</td>\n",
       "      <td>E</td>\n",
       "    </tr>\n",
       "    <tr>\n",
       "      <th>3</th>\n",
       "      <td>Wii Sports Resort</td>\n",
       "      <td>Wii</td>\n",
       "      <td>2009.0</td>\n",
       "      <td>Sports</td>\n",
       "      <td>15.61</td>\n",
       "      <td>10.93</td>\n",
       "      <td>3.28</td>\n",
       "      <td>2.95</td>\n",
       "      <td>80.0</td>\n",
       "      <td>8</td>\n",
       "      <td>E</td>\n",
       "    </tr>\n",
       "    <tr>\n",
       "      <th>4</th>\n",
       "      <td>Pokemon Red/Pokemon Blue</td>\n",
       "      <td>GB</td>\n",
       "      <td>1996.0</td>\n",
       "      <td>Role-Playing</td>\n",
       "      <td>11.27</td>\n",
       "      <td>8.89</td>\n",
       "      <td>10.22</td>\n",
       "      <td>1.00</td>\n",
       "      <td>NaN</td>\n",
       "      <td>NaN</td>\n",
       "      <td>NaN</td>\n",
       "    </tr>\n",
       "  </tbody>\n",
       "</table>\n",
       "</div>"
      ],
      "text/plain": [
       "                       Name Platform  Year_of_Release         Genre  NA_sales  \\\n",
       "0                Wii Sports      Wii           2006.0        Sports     41.36   \n",
       "1         Super Mario Bros.      NES           1985.0      Platform     29.08   \n",
       "2            Mario Kart Wii      Wii           2008.0        Racing     15.68   \n",
       "3         Wii Sports Resort      Wii           2009.0        Sports     15.61   \n",
       "4  Pokemon Red/Pokemon Blue       GB           1996.0  Role-Playing     11.27   \n",
       "\n",
       "   EU_sales  JP_sales  Other_sales  Critic_Score User_Score Rating  \n",
       "0     28.96      3.77         8.45          76.0          8      E  \n",
       "1      3.58      6.81         0.77           NaN        NaN    NaN  \n",
       "2     12.76      3.79         3.29          82.0        8.3      E  \n",
       "3     10.93      3.28         2.95          80.0          8      E  \n",
       "4      8.89     10.22         1.00           NaN        NaN    NaN  "
      ]
     },
     "execution_count": 2,
     "metadata": {},
     "output_type": "execute_result"
    }
   ],
   "source": [
    "#посмотрим на табилцу\n",
    "data.head()"
   ]
  },
  {
   "cell_type": "code",
   "execution_count": 3,
   "metadata": {},
   "outputs": [
    {
     "name": "stdout",
     "output_type": "stream",
     "text": [
      "<class 'pandas.core.frame.DataFrame'>\n",
      "RangeIndex: 16715 entries, 0 to 16714\n",
      "Data columns (total 11 columns):\n",
      " #   Column           Non-Null Count  Dtype  \n",
      "---  ------           --------------  -----  \n",
      " 0   Name             16713 non-null  object \n",
      " 1   Platform         16715 non-null  object \n",
      " 2   Year_of_Release  16446 non-null  float64\n",
      " 3   Genre            16713 non-null  object \n",
      " 4   NA_sales         16715 non-null  float64\n",
      " 5   EU_sales         16715 non-null  float64\n",
      " 6   JP_sales         16715 non-null  float64\n",
      " 7   Other_sales      16715 non-null  float64\n",
      " 8   Critic_Score     8137 non-null   float64\n",
      " 9   User_Score       10014 non-null  object \n",
      " 10  Rating           9949 non-null   object \n",
      "dtypes: float64(6), object(5)\n",
      "memory usage: 1.4+ MB\n"
     ]
    }
   ],
   "source": [
    "# посмотрим на общую информацию о датасете\n",
    "data.info()"
   ]
  },
  {
   "cell_type": "code",
   "execution_count": 4,
   "metadata": {},
   "outputs": [
    {
     "data": {
      "text/plain": [
       "Name                  2\n",
       "Platform              0\n",
       "Year_of_Release     269\n",
       "Genre                 2\n",
       "NA_sales              0\n",
       "EU_sales              0\n",
       "JP_sales              0\n",
       "Other_sales           0\n",
       "Critic_Score       8578\n",
       "User_Score         6701\n",
       "Rating             6766\n",
       "dtype: int64"
      ]
     },
     "execution_count": 4,
     "metadata": {},
     "output_type": "execute_result"
    }
   ],
   "source": [
    "# посмотрим на пропуски\n",
    "data.isnull().sum()"
   ]
  },
  {
   "cell_type": "markdown",
   "metadata": {},
   "source": [
    "**Поменяем заглавные буквы на стрчоные в названиях колнок**"
   ]
  },
  {
   "cell_type": "code",
   "execution_count": 5,
   "metadata": {},
   "outputs": [
    {
     "data": {
      "text/plain": [
       "['Name',\n",
       " 'Platform',\n",
       " 'Year_of_Release',\n",
       " 'Genre',\n",
       " 'NA_sales',\n",
       " 'EU_sales',\n",
       " 'JP_sales',\n",
       " 'Other_sales',\n",
       " 'Critic_Score',\n",
       " 'User_Score',\n",
       " 'Rating']"
      ]
     },
     "execution_count": 5,
     "metadata": {},
     "output_type": "execute_result"
    }
   ],
   "source": [
    "#теперь заменим все заглавные буквы в названиях колонок на строчные\n",
    "#получаем список названия колонок\n",
    "data.columns.tolist()\n"
   ]
  },
  {
   "cell_type": "code",
   "execution_count": 6,
   "metadata": {},
   "outputs": [],
   "source": [
    "#меняем \n",
    "data.columns = data.columns.str.lower()"
   ]
  },
  {
   "cell_type": "code",
   "execution_count": 7,
   "metadata": {},
   "outputs": [
    {
     "data": {
      "text/plain": [
       "['name',\n",
       " 'platform',\n",
       " 'year_of_release',\n",
       " 'genre',\n",
       " 'na_sales',\n",
       " 'eu_sales',\n",
       " 'jp_sales',\n",
       " 'other_sales',\n",
       " 'critic_score',\n",
       " 'user_score',\n",
       " 'rating']"
      ]
     },
     "execution_count": 7,
     "metadata": {},
     "output_type": "execute_result"
    }
   ],
   "source": [
    "#првоерим что получилось\n",
    "data.columns.tolist()"
   ]
  },
  {
   "cell_type": "markdown",
   "metadata": {},
   "source": [
    "**Работаем с пропусками**"
   ]
  },
  {
   "cell_type": "code",
   "execution_count": 8,
   "metadata": {},
   "outputs": [],
   "source": [
    "#есть 2 пропска в колонке Name. Поскольку их всего два, логично будет удалить .т.к. на общую картину при анализе \n",
    "#они врядли повлияют.\n",
    "\n",
    "data = data.dropna(subset=['name']) \n",
    "\n",
    "#далее смотрим на \"year_of_release\". там 269 пропусков. Тоже не кретичное значение, ктому же мы не можем даже предположить\n",
    "#какой год выпуска у игры, и поскольку их тоже не много, логично будет удалить\n",
    "\n",
    "data = data.dropna(subset=['year_of_release']) \n",
    "\n",
    "# \"critic_score\" - здесь пропусков уже много, просто удалить - моэно их потерять. здесь, считаю, логично будет заменить на \n",
    "# медианое значение, т.к. слишком низкие или высокие оценки могут повлиять на среднее и исказить общую оценку\n",
    "\n",
    "data['critic_score']= data['critic_score'].fillna(0)\n",
    "\n",
    "#\"user_score\" -меняем на 0 поскольку это может означать, что пользвоатель никак не оценил игру, поставил ей 0\n",
    "data['user_score']= data['user_score'].fillna(0)\n",
    "\n",
    "#\"rating\" - данные это буквы. заменим их буквой \"N\", что означает, нет рейтинга\n",
    "data['rating']= data['rating'].fillna('N')\n",
    "\n",
    "#есть значения \"tbd\" в \"user_score\", скорее всего это аналог пропусков. его надо заменить на 0 по той же логике что \n",
    "#и обычные пропуски\n",
    "data.loc[data['user_score'] == 'tbd','user_score'] = np.nan\n",
    "data['user_score']= data['user_score'].fillna(0)\n"
   ]
  },
  {
   "cell_type": "code",
   "execution_count": 9,
   "metadata": {},
   "outputs": [
    {
     "data": {
      "text/plain": [
       "name               0\n",
       "platform           0\n",
       "year_of_release    0\n",
       "genre              0\n",
       "na_sales           0\n",
       "eu_sales           0\n",
       "jp_sales           0\n",
       "other_sales        0\n",
       "critic_score       0\n",
       "user_score         0\n",
       "rating             0\n",
       "dtype: int64"
      ]
     },
     "execution_count": 9,
     "metadata": {},
     "output_type": "execute_result"
    }
   ],
   "source": [
    "#проверяем остались ли пропуски\n",
    "data.isnull().sum()"
   ]
  },
  {
   "cell_type": "markdown",
   "metadata": {},
   "source": [
    "**Привести данные к нужному типу**"
   ]
  },
  {
   "cell_type": "code",
   "execution_count": 10,
   "metadata": {
    "scrolled": true
   },
   "outputs": [
    {
     "name": "stdout",
     "output_type": "stream",
     "text": [
      "<class 'pandas.core.frame.DataFrame'>\n",
      "Int64Index: 16444 entries, 0 to 16714\n",
      "Data columns (total 11 columns):\n",
      " #   Column           Non-Null Count  Dtype  \n",
      "---  ------           --------------  -----  \n",
      " 0   name             16444 non-null  object \n",
      " 1   platform         16444 non-null  object \n",
      " 2   year_of_release  16444 non-null  int64  \n",
      " 3   genre            16444 non-null  object \n",
      " 4   na_sales         16444 non-null  float64\n",
      " 5   eu_sales         16444 non-null  float64\n",
      " 6   jp_sales         16444 non-null  float64\n",
      " 7   other_sales      16444 non-null  float64\n",
      " 8   critic_score     16444 non-null  Int64  \n",
      " 9   user_score       16444 non-null  float64\n",
      " 10  rating           16444 non-null  object \n",
      "dtypes: Int64(1), float64(5), int64(1), object(4)\n",
      "memory usage: 1.5+ MB\n"
     ]
    }
   ],
   "source": [
    "# дата релиза почему-то в типе данных float. првиедём её к int\n",
    "data['year_of_release'] = data['year_of_release'].astype('int')\n",
    "data['critic_score'] = data['critic_score'].astype('Int64')\n",
    "data['user_score'] = data['user_score'].astype('float64')\n",
    "# и сразу првоеряем\n",
    "data.info()"
   ]
  },
  {
   "cell_type": "markdown",
   "metadata": {},
   "source": [
    "**Проверим на дубликаты**"
   ]
  },
  {
   "cell_type": "code",
   "execution_count": 11,
   "metadata": {},
   "outputs": [
    {
     "data": {
      "text/plain": [
       "0"
      ]
     },
     "execution_count": 11,
     "metadata": {},
     "output_type": "execute_result"
    }
   ],
   "source": [
    "# првоерим на явные дубликаты\n",
    "data.duplicated().sum()"
   ]
  },
  {
   "cell_type": "code",
   "execution_count": 12,
   "metadata": {},
   "outputs": [
    {
     "data": {
      "text/plain": [
       "['Wii Sports',\n",
       " 'Super Mario Bros.',\n",
       " 'Mario Kart Wii',\n",
       " 'Wii Sports Resort',\n",
       " 'Pokemon Red/Pokemon Blue',\n",
       " 'Tetris',\n",
       " 'New Super Mario Bros.',\n",
       " 'Wii Play',\n",
       " 'New Super Mario Bros. Wii',\n",
       " 'Duck Hunt',\n",
       " 'Nintendogs',\n",
       " 'Mario Kart DS',\n",
       " 'Pokemon Gold/Pokemon Silver',\n",
       " 'Wii Fit',\n",
       " 'Kinect Adventures!',\n",
       " 'Wii Fit Plus',\n",
       " 'Grand Theft Auto V',\n",
       " 'Grand Theft Auto: San Andreas',\n",
       " 'Super Mario World',\n",
       " 'Brain Age: Train Your Brain in Minutes a Day',\n",
       " 'Pokemon Diamond/Pokemon Pearl',\n",
       " 'Super Mario Land',\n",
       " 'Super Mario Bros. 3',\n",
       " 'Grand Theft Auto: Vice City',\n",
       " 'Pokemon Ruby/Pokemon Sapphire',\n",
       " 'Brain Age 2: More Training in Minutes a Day',\n",
       " 'Pokemon Black/Pokemon White',\n",
       " 'Gran Turismo 3: A-Spec',\n",
       " 'Call of Duty: Modern Warfare 3',\n",
       " 'Pokémon Yellow: Special Pikachu Edition',\n",
       " 'Call of Duty: Black Ops 3',\n",
       " 'Call of Duty: Black Ops',\n",
       " 'Pokemon X/Pokemon Y',\n",
       " 'Call of Duty: Black Ops II',\n",
       " 'Call of Duty: Modern Warfare 2',\n",
       " 'Grand Theft Auto III',\n",
       " 'Super Smash Bros. Brawl',\n",
       " 'Mario Kart 7',\n",
       " 'Animal Crossing: Wild World',\n",
       " 'Halo 3',\n",
       " 'Super Mario 64',\n",
       " 'Pokemon HeartGold/Pokemon SoulSilver',\n",
       " 'Pokemon Omega Ruby/Pokemon Alpha Sapphire',\n",
       " 'Gran Turismo 4',\n",
       " 'Super Mario Galaxy',\n",
       " 'Super Mario Land 2: 6 Golden Coins',\n",
       " 'Grand Theft Auto IV',\n",
       " 'Gran Turismo',\n",
       " 'Super Mario 3D Land',\n",
       " 'Gran Turismo 5',\n",
       " 'Super Mario All-Stars',\n",
       " 'Pokemon FireRed/Pokemon LeafGreen',\n",
       " 'Call of Duty: Ghosts',\n",
       " 'Just Dance 3',\n",
       " 'New Super Mario Bros. 2',\n",
       " 'Mario Kart 64',\n",
       " 'Halo: Reach',\n",
       " 'Final Fantasy VII',\n",
       " 'Halo 4',\n",
       " 'Gran Turismo 2',\n",
       " 'Just Dance 2',\n",
       " 'Call of Duty 4: Modern Warfare',\n",
       " 'Donkey Kong Country',\n",
       " 'Minecraft',\n",
       " 'Animal Crossing: New Leaf',\n",
       " 'Mario Party DS',\n",
       " 'The Elder Scrolls V: Skyrim',\n",
       " 'Super Mario Kart',\n",
       " 'FIFA 16',\n",
       " 'Halo 2',\n",
       " 'Wii Party',\n",
       " 'Mario Party 8',\n",
       " 'FIFA Soccer 13',\n",
       " 'GoldenEye 007',\n",
       " 'Pokemon Black 2/Pokemon White 2',\n",
       " 'Final Fantasy X',\n",
       " 'The Sims 3',\n",
       " 'Mario & Sonic at the Olympic Games',\n",
       " 'Star Wars Battlefront (2015)',\n",
       " 'Final Fantasy VIII',\n",
       " 'Pac-Man',\n",
       " 'Pokémon Platinum Version',\n",
       " 'Grand Theft Auto: Liberty City Stories',\n",
       " 'Call of Duty: Advanced Warfare',\n",
       " 'The Legend of Zelda: Ocarina of Time',\n",
       " 'FIFA 17',\n",
       " 'Crash Bandicoot 2: Cortex Strikes Back',\n",
       " 'Super Smash Bros. for Wii U and 3DS',\n",
       " 'Super Mario Galaxy 2',\n",
       " 'Super Mario Bros. 2',\n",
       " 'Call of Duty: World at War',\n",
       " 'Battlefield 3',\n",
       " 'Need for Speed Underground',\n",
       " 'Just Dance',\n",
       " 'Fallout 4',\n",
       " 'Tekken 3',\n",
       " 'The Legend of Zelda: Twilight Princess',\n",
       " 'Pokemon Sun/Moon',\n",
       " 'Crash Bandicoot 3: Warped',\n",
       " 'Mario Kart 8',\n",
       " 'Super Smash Bros. Melee',\n",
       " 'Mario Kart: Double Dash!!',\n",
       " 'Need for Speed Underground 2',\n",
       " 'Medal of Honor: Frontline',\n",
       " 'Crash Bandicoot',\n",
       " 'Just Dance 4',\n",
       " 'Gears of War 2',\n",
       " \"Uncharted 3: Drake's Deception\",\n",
       " 'Zumba Fitness',\n",
       " 'Uncharted 2: Among Thieves',\n",
       " 'FIFA 12',\n",
       " 'Big Brain Academy',\n",
       " 'The Legend of Zelda',\n",
       " 'Red Dead Redemption',\n",
       " 'FIFA 14',\n",
       " \"Assassin's Creed III\",\n",
       " 'Donkey Kong Country Returns',\n",
       " 'Halo: Combat Evolved',\n",
       " 'Pokémon Emerald Version',\n",
       " 'Kingdom Hearts',\n",
       " 'Pokémon Crystal Version',\n",
       " 'Halo 3: ODST',\n",
       " 'Super Mario Sunshine',\n",
       " 'Street Fighter II: The World Warrior',\n",
       " 'World of Warcraft',\n",
       " 'Driver',\n",
       " 'Gears of War 3',\n",
       " 'Kinect Sports',\n",
       " 'Gears of War',\n",
       " 'FIFA 15',\n",
       " 'Metal Gear Solid 2: Sons of Liberty',\n",
       " 'Sonic the Hedgehog 2',\n",
       " 'Metal Gear Solid',\n",
       " 'Metal Gear Solid 4: Guns of the Patriots',\n",
       " 'Final Fantasy XII',\n",
       " 'The Last of Us',\n",
       " 'LittleBigPlanet',\n",
       " 'Resident Evil 2',\n",
       " 'Dragon Quest IX: Sentinels of the Starry Skies',\n",
       " 'Tekken 2',\n",
       " 'Destiny',\n",
       " 'LEGO Star Wars: The Complete Saga',\n",
       " 'Cooking Mama',\n",
       " 'Super Smash Bros.',\n",
       " \"Assassin's Creed II\",\n",
       " \"Assassin's Creed\",\n",
       " 'Forza Motorsport 3',\n",
       " 'Super Mario Advance',\n",
       " 'Monster Hunter Freedom Unite',\n",
       " 'Batman: Arkham City',\n",
       " 'Mario Kart: Super Circuit',\n",
       " 'Pokemon Stadium',\n",
       " 'Crash Bandicoot: The Wrath of Cortex',\n",
       " \"Uncharted 4: A Thief's End\",\n",
       " 'Dr. Mario',\n",
       " 'Final Fantasy XIII',\n",
       " 'Pokemon Pinball',\n",
       " 'Final Fantasy IX',\n",
       " 'Final Fantasy X-2',\n",
       " 'Donkey Kong 64',\n",
       " 'Tomb Raider II',\n",
       " 'Tomodachi Life',\n",
       " 'New Super Mario Bros. U',\n",
       " 'Dragon Quest VIII: Journey of the Cursed King',\n",
       " 'Professor Layton and the Curious Village',\n",
       " 'Super Mario Land 3: Wario Land',\n",
       " \"Donkey Kong Country 2: Diddy's Kong Quest\",\n",
       " 'Diablo III',\n",
       " 'Medal of Honor: Rising Sun',\n",
       " \"Kirby's Dream Land\",\n",
       " 'Microsoft Flight Simulator',\n",
       " 'Guitar Hero II',\n",
       " 'Fable III',\n",
       " 'Resident Evil 5',\n",
       " 'The Legend of Zelda: Phantom Hourglass',\n",
       " 'FIFA Soccer 11',\n",
       " 'Resident Evil',\n",
       " 'Grand Theft Auto: Vice City Stories',\n",
       " \"Tony Hawk's Pro Skater\",\n",
       " 'Warzone 2100',\n",
       " 'Spyro the Dragon',\n",
       " 'Guitar Hero III: Legends of Rock',\n",
       " \"Link's Crossbow Training\",\n",
       " 'Pokemon Mystery Dungeon: Explorers of Time/Explorers of Darkness',\n",
       " 'Fallout 3',\n",
       " \"Uncharted: Drake's Fortune\",\n",
       " 'Madden NFL 06',\n",
       " 'Diddy Kong Racing',\n",
       " 'Monster Hunter Freedom 3',\n",
       " 'StarCraft II: Wings of Liberty',\n",
       " 'God of War III',\n",
       " 'Crash Team Racing',\n",
       " 'Driver 2',\n",
       " 'The Simpsons: Hit & Run',\n",
       " \"Tony Hawk's Pro Skater 2\",\n",
       " 'The Lord of the Rings: The Two Towers',\n",
       " 'Tomb Raider',\n",
       " 'Animal Crossing: City Folk',\n",
       " 'Uncharted: The Nathan Drake Collection',\n",
       " 'The Legend of Zelda: A Link to the Past',\n",
       " 'The Legend of Zelda: The Wind Waker',\n",
       " \"Luigi's Mansion: Dark Moon\",\n",
       " 'Forza Motorsport 4',\n",
       " 'Mario & Sonic at the Olympic Winter Games',\n",
       " 'Madden NFL 2005',\n",
       " 'Pitfall!',\n",
       " 'Madden NFL 07',\n",
       " 'Halo 5: Guardians',\n",
       " 'Spider-Man: The Movie',\n",
       " 'Dragon Quest VII: Warriors of Eden',\n",
       " 'Call of Duty: Infinite Warfare',\n",
       " 'God of War',\n",
       " 'Splatoon',\n",
       " 'Nintendo Land',\n",
       " \"Tony Hawk's Pro Skater 3\",\n",
       " 'Winning Eleven: Pro Evolution Soccer 2007',\n",
       " 'The Elder Scrolls IV: Oblivion',\n",
       " 'Zelda II: The Adventure of Link',\n",
       " 'Need for Speed: Most Wanted',\n",
       " 'Michael Jackson: The Experience',\n",
       " 'Resistance: Fall of Man',\n",
       " 'Sonic the Hedgehog',\n",
       " 'Kingdom Hearts II',\n",
       " 'Super Mario 3D World',\n",
       " 'Asteroids',\n",
       " 'Fable II',\n",
       " 'Namco Museum',\n",
       " 'Batman: Arkham Asylum',\n",
       " 'Metal Gear Solid 3: Snake Eater',\n",
       " \"Assassin's Creed: Revelations\",\n",
       " 'Daxter',\n",
       " 'Warcraft II: Tides of Darkness',\n",
       " 'FIFA Soccer 06',\n",
       " 'EyeToy Play',\n",
       " 'Gran Turismo 5 Prologue',\n",
       " 'Teenage Mutant Ninja Turtles',\n",
       " 'Street Fighter IV',\n",
       " 'Excitebike',\n",
       " 'Frogger',\n",
       " 'Madden NFL 2003',\n",
       " 'Half-Life',\n",
       " \"Super Mario World 2: Yoshi's Island\",\n",
       " 'FIFA Soccer 07',\n",
       " 'Street Fighter II Turbo',\n",
       " 'World of Warcraft: The Burning Crusade',\n",
       " 'Battlefield 1',\n",
       " 'God of War II',\n",
       " 'World Soccer Winning Eleven 9',\n",
       " 'Fallout: New Vegas',\n",
       " 'Forza Motorsport 2',\n",
       " 'Carnival Games',\n",
       " 'Watch Dogs',\n",
       " 'Namco Museum Vol.3',\n",
       " 'Tekken Tag Tournament',\n",
       " 'Far Cry 4',\n",
       " 'Star Fox 64',\n",
       " 'Golf',\n",
       " 'Namco Museum: 50th Anniversary',\n",
       " 'Left 4 Dead 2',\n",
       " 'The Witcher 3: Wild Hunt',\n",
       " \"Assassin's Creed: Unity\",\n",
       " 'Batman: Arkham Knight',\n",
       " 'The Legend of Zelda: Skyward Sword',\n",
       " 'Professor Layton and the Diabolical Box',\n",
       " 'Donkey Kong Land',\n",
       " 'EA Sports Active',\n",
       " \"Tony Hawk's Underground\",\n",
       " 'Monster Hunter 4 Ultimate',\n",
       " 'NBA 2K16',\n",
       " 'Tekken 5',\n",
       " 'Dragon Warrior III',\n",
       " 'MotorStorm',\n",
       " 'Nintendogs + cats',\n",
       " 'World Soccer Winning Eleven 8 International',\n",
       " 'Sports Champions',\n",
       " 'Namco Museum Vol.1',\n",
       " \"The Legend of Zelda: Link's Awakening\",\n",
       " 'Flash Focus: Vision Training in Minutes a Day',\n",
       " \"Tom Clancy's The Division\",\n",
       " 'Big Brain Academy: Wii Degree',\n",
       " \"Resident Evil Director's Cut\",\n",
       " \"Mario & Luigi: Bowser's Inside Story\",\n",
       " 'LEGO Indiana Jones: The Original Adventures',\n",
       " 'The Sims: Unleashed',\n",
       " 'Ratchet & Clank: Size Matters',\n",
       " \"Harry Potter and the Sorcerer's Stone\",\n",
       " 'Mario & Sonic at the London 2012 Olympic Games',\n",
       " 'Resident Evil 3: Nemesis',\n",
       " 'Super Paper Mario',\n",
       " 'Spyro: Year of the Dragon',\n",
       " \"Assassin's Creed IV: Black Flag\",\n",
       " 'FIFA Soccer 2005',\n",
       " 'Pokémon Trading Card Game',\n",
       " 'Friend Collection',\n",
       " \"Tony Hawk's Pro Skater 4\",\n",
       " 'MySims',\n",
       " 'Midnight Club 3: DUB Edition',\n",
       " 'Banjo-Kazooie',\n",
       " 'SOCOM: U.S. Navy SEALs',\n",
       " 'Jak and Daxter: The Precursor Legacy',\n",
       " 'Pokemon Snap',\n",
       " 'Pro Evolution Soccer 2008',\n",
       " 'Resident Evil 4',\n",
       " 'Guitar Hero: World Tour',\n",
       " 'FIFA Soccer 10',\n",
       " 'Star Wars: Battlefront',\n",
       " 'Doom II: Hell on Earth',\n",
       " 'The Simpsons: Road Rage',\n",
       " \"Luigi's Mansion\",\n",
       " 'Battlefield 4',\n",
       " 'Star Wars: Battlefront II',\n",
       " 'Just Dance 2014',\n",
       " 'Cooking Mama 2: Dinner With Friends',\n",
       " 'WWF SmackDown!',\n",
       " 'Croc: Legend of the Gobbos',\n",
       " 'The Getaway',\n",
       " 'Tomb Raider III: Adventures of Lara Croft',\n",
       " 'James Bond 007: Agent Under Fire',\n",
       " 'LEGO Star Wars: The Video Game',\n",
       " 'Rugrats in Paris: The Movie',\n",
       " \"Spyro 2: Ripto's Rage!\",\n",
       " 'Left 4 Dead',\n",
       " \"Donkey Kong Country 3: Dixie Kong's Double Trouble!\",\n",
       " 'Kung Fu',\n",
       " \"Assassin's Creed: Brotherhood\",\n",
       " 'Battlefield: Bad Company 2',\n",
       " 'Guitar Hero: On Tour',\n",
       " 'Clubhouse Games',\n",
       " 'Monster Hunter 4',\n",
       " 'Borderlands',\n",
       " 'Tekken 4',\n",
       " 'Final Fantasy III',\n",
       " 'Grand Theft Auto 2',\n",
       " 'Metal Gear Solid V: The Phantom Pain',\n",
       " 'Spider-Man 2',\n",
       " 'F-1 Race',\n",
       " 'FIFA Soccer 2003',\n",
       " 'LittleBigPlanet 2',\n",
       " 'Crash Bash',\n",
       " \"Assassin's Creed Syndicate\",\n",
       " 'LEGO Batman: The Videogame',\n",
       " 'WWF War Zone',\n",
       " \"The Legend of Zelda: Majora's Mask\",\n",
       " 'Far Cry 3',\n",
       " 'Rugrats: Search For Reptar',\n",
       " 'English Training: Have Fun Improving Your Skills!',\n",
       " 'James Bond 007: Nightfire',\n",
       " 'Ratchet & Clank',\n",
       " 'Monster Hunter X',\n",
       " 'Star Wars Episode III: Revenge of the Sith',\n",
       " 'The Legend of Zelda: Spirit Tracks',\n",
       " 'Max Payne',\n",
       " 'The Lord of the Rings: The Return of the King',\n",
       " 'Yokai Watch 2 Ganso/Honke',\n",
       " 'Gears of War: Ultimate Edition',\n",
       " 'True Crime: Streets of LA',\n",
       " 'Professor Layton and the Unwound Future',\n",
       " 'Gran Turismo (PSP)',\n",
       " 'Wii Music',\n",
       " 'Tekken',\n",
       " 'Madden NFL 16',\n",
       " 'Gran Turismo 6',\n",
       " 'Halo: The Master Chief Collection',\n",
       " '007: Tomorrow Never Dies',\n",
       " 'Super Mario Maker',\n",
       " 'WWF SmackDown! 2: Know Your Role',\n",
       " 'Baseball',\n",
       " 'Killer Instinct',\n",
       " 'Dragon Quest VI: Maboroshi no Daichi',\n",
       " 'God of War: Chains of Olympus',\n",
       " 'Enter the Matrix',\n",
       " 'Crisis Core: Final Fantasy VII',\n",
       " 'Dance Central',\n",
       " 'L.A. Noire',\n",
       " 'Ace Combat 04: Shattered Skies',\n",
       " 'Animal Crossing',\n",
       " 'FIFA Soccer 08',\n",
       " 'Club Penguin: Elite Penguin Force',\n",
       " 'Spider-Man',\n",
       " 'Mario Party 9',\n",
       " 'Need for Speed III: Hot Pursuit',\n",
       " 'Star Wars Episode I Racer',\n",
       " 'Sonic Rush',\n",
       " 'Dragon Warrior IV',\n",
       " 'Rhythm Heaven',\n",
       " 'Personal Trainer: Cooking',\n",
       " 'The Legend of Zelda: A Link Between Worlds',\n",
       " 'Resident Evil 6',\n",
       " 'Mass Effect 2',\n",
       " 'Dragon Ball Z: Budokai',\n",
       " 'Madden NFL 2002',\n",
       " 'World Class Track Meet',\n",
       " 'Donkey Kong',\n",
       " 'The Sims: Vacation',\n",
       " 'Animal Crossing: Happy Home Designer',\n",
       " 'The Sims 4',\n",
       " 'Borderlands 2',\n",
       " 'Kung Fu Panda',\n",
       " 'Mass Effect 3',\n",
       " 'Heavy Rain',\n",
       " 'Rayman',\n",
       " 'Saints Row 2',\n",
       " \"Tom Clancy's Splinter Cell\",\n",
       " \"Mike Tyson's Punch-Out!!\",\n",
       " 'WWE SmackDown! Shut Your Mouth',\n",
       " 'Killzone 2',\n",
       " 'Epic Mickey',\n",
       " 'NBA 2K13',\n",
       " 'Dragon Ball Z: Budokai Tenkaichi 3',\n",
       " 'Star Fox',\n",
       " 'The Sims: Livin Large',\n",
       " 'World Soccer Winning Eleven 6 International',\n",
       " 'Devil May Cry',\n",
       " 'Star Wars: The Old Republic',\n",
       " 'Middle-Earth: Shadow of Mordor',\n",
       " 'Sonic Heroes',\n",
       " 'Hitman 2: Silent Assassin',\n",
       " 'Titanfall',\n",
       " 'Wave Race 64',\n",
       " 'SOCOM II: U.S. Navy SEALs',\n",
       " 'WWE SmackDown! vs. RAW 2006',\n",
       " 'Pac-Man Collection',\n",
       " 'inFAMOUS',\n",
       " 'Kirby Super Star Ultra',\n",
       " 'Mass Effect',\n",
       " 'Sonic Mega Collection Plus',\n",
       " 'World Soccer Winning Eleven 7 International',\n",
       " 'Sega Superstars Tennis',\n",
       " 'Hot Shots Golf 3',\n",
       " 'Cooking Mama: Cook Off',\n",
       " 'Call of Duty: Finest Hour',\n",
       " 'WarioWare: Smooth Moves',\n",
       " 'Syphon Filter',\n",
       " 'Imagine: Babyz',\n",
       " 'Colin McRae Rally',\n",
       " 'Madden NFL 13',\n",
       " 'The Elder Scrolls III: Morrowind',\n",
       " 'Command & Conquer: Red Alert',\n",
       " 'F-Zero',\n",
       " \"Yoshi's Story\",\n",
       " 'Mortal Kombat',\n",
       " 'Madden NFL 10',\n",
       " 'WWE SmackDown! vs. Raw',\n",
       " 'BioShock',\n",
       " 'Metroid Prime',\n",
       " 'Finding Nemo',\n",
       " 'Zumba Fitness 2',\n",
       " 'Myst',\n",
       " 'Medal of Honor',\n",
       " 'Imagine: Fashion Designer',\n",
       " 'WWE SmackDown! Here Comes the Pain',\n",
       " 'Hot Shots Golf',\n",
       " \"A Bug's Life\",\n",
       " 'WWF SmackDown! Just Bring It',\n",
       " 'inFAMOUS: Second Son',\n",
       " 'Dragon Quest V: Tenkuu no Hanayome',\n",
       " 'Mortal Kombat Trilogy',\n",
       " 'Monster Hunter Tri',\n",
       " 'NBA Street',\n",
       " 'Jak II',\n",
       " 'Ratchet & Clank: Going Commando',\n",
       " 'Need for Speed: Hot Pursuit',\n",
       " \"Skylanders: Spyro's Adventure\",\n",
       " 'Mortal Kombat X',\n",
       " 'The Sims',\n",
       " 'Killzone 3',\n",
       " 'Star Wars: The Force Unleashed',\n",
       " \"Yoshi's Island DS\",\n",
       " 'Saints Row: The Third',\n",
       " 'Missile Command',\n",
       " 'Mario Paint',\n",
       " 'Tekken 6',\n",
       " 'Pokémon Stadium 2',\n",
       " 'Metroid',\n",
       " 'Sonic and the Secret Rings',\n",
       " 'Onimusha: Warlords',\n",
       " 'Mario Party',\n",
       " 'Call of Duty 3',\n",
       " 'Madden NFL 12',\n",
       " 'LEGO Star Wars II: The Original Trilogy',\n",
       " 'Killzone: Shadow Fall',\n",
       " 'Madden NFL 11',\n",
       " 'Burnout 3: Takedown',\n",
       " 'Yokai Watch 2 Shinuchi',\n",
       " 'Mario vs. Donkey Kong: Mini-Land Mayhem!',\n",
       " 'Professor Layton and the Last Specter',\n",
       " 'Call Of Duty 2: Big Red One',\n",
       " 'Fable',\n",
       " 'Hannah Montana',\n",
       " 'Super Mario Bros.: The Lost Levels',\n",
       " 'Need for Speed: Shift',\n",
       " 'Star Wars: Shadows of the Empire',\n",
       " 'Medal of Honor Heroes',\n",
       " 'Final Fantasy XIII-2',\n",
       " 'Midnight Club: Street Racing',\n",
       " 'Skate 3',\n",
       " 'ESPN NFL 2K5',\n",
       " 'Halo Wars',\n",
       " 'NBA 2K12',\n",
       " 'Pac-Man: Adventures in Time',\n",
       " 'Harry Potter and the Chamber of Secrets',\n",
       " 'Streets of Rage',\n",
       " 'God of War Collection',\n",
       " 'NBA Live 2005',\n",
       " 'Mario Strikers Charged',\n",
       " 'FIFA Soccer 09',\n",
       " 'Style Savvy',\n",
       " 'WWE SmackDown vs. RAW 2007',\n",
       " 'Ratchet & Clank: Up Your Arsenal',\n",
       " 'Madden NFL 08',\n",
       " 'Monster Hunter Freedom 2',\n",
       " 'Ratchet & Clank Future: Tools of Destruction',\n",
       " 'Super Mario All-Stars: Limited Edition',\n",
       " 'Sonic Adventure 2 Battle',\n",
       " 'Dragon Warrior II',\n",
       " 'Ghostbusters: The Video Game (DS Version)',\n",
       " 'Dragon Age: Origins',\n",
       " 'Pokémon Colosseum',\n",
       " 'Madden NFL 09',\n",
       " 'Crazy Taxi',\n",
       " 'Art Academy',\n",
       " 'NBA 2K14',\n",
       " 'Perfect Dark',\n",
       " 'Skylanders Giants',\n",
       " 'Dragon Warrior',\n",
       " 'Deca Sports',\n",
       " 'PES 2009: Pro Evolution Soccer',\n",
       " 'Mario Party 2',\n",
       " 'Marvel: Ultimate Alliance',\n",
       " 'Rockstar Games Double Pack: Grand Theft Auto III & Grand Theft Auto Vice City',\n",
       " 'Mortal Kombat: Deadly Alliance',\n",
       " 'Game Party',\n",
       " 'Bloodborne',\n",
       " 'Tomb Raider: The Last Revelation',\n",
       " 'Mario Party 4',\n",
       " 'Pure',\n",
       " 'Resistance 2',\n",
       " 'NBA 2K15',\n",
       " 'Final Fantasy V',\n",
       " 'Final Fantasy Tactics',\n",
       " 'Midnight Club: Los Angeles',\n",
       " 'Twisted Metal 2',\n",
       " \"The Sims: Bustin' Out\",\n",
       " 'Riven: The Sequel to Myst',\n",
       " 'LEGO Harry Potter: Years 1-4',\n",
       " 'Need for Speed (2015)',\n",
       " 'Ice Hockey',\n",
       " 'Sonic Adventure',\n",
       " \"Tom Clancy's Rainbow Six: Vegas 2\",\n",
       " 'uDraw Studio',\n",
       " 'Tomb Raider (2013)',\n",
       " 'Need for Speed Carbon: Own the City',\n",
       " 'Dragon Ball Z: Budokai 2',\n",
       " 'pro evolution soccer 2011',\n",
       " 'ATV Offroad Fury',\n",
       " 'Dino Crisis',\n",
       " 'Need for Speed: ProStreet',\n",
       " 'Halo: Combat Evolved Anniversary',\n",
       " 'Tetris Plus',\n",
       " 'Pro Wrestling',\n",
       " 'Theme Hospital',\n",
       " 'Monopoly',\n",
       " 'Guitar Hero',\n",
       " 'WCW/nWo Revenge',\n",
       " 'Yu-Gi-Oh! The Duelists of the Roses',\n",
       " 'Dead Island',\n",
       " 'Half-Life 2',\n",
       " 'The Incredibles',\n",
       " \"Tony Hawk's Underground 2\",\n",
       " \"Kirby's Dream Land 2\",\n",
       " 'Donkey Kong Land II',\n",
       " 'Dragon Warrior Monsters',\n",
       " 'Kinect: Disneyland Adventures',\n",
       " 'WWE SmackDown vs Raw 2008',\n",
       " \"The Legend of Zelda: Majora's Mask 3D\",\n",
       " 'Resident Evil - Code: Veronica X',\n",
       " 'Kinect Sports: Season Two',\n",
       " 'My Fitness Coach',\n",
       " 'Mario Tennis',\n",
       " 'Grand Theft Auto',\n",
       " 'James Bond 007: Everything or Nothing',\n",
       " 'Need For Speed: High Stakes',\n",
       " 'Chrono Trigger',\n",
       " 'Guild Wars 2',\n",
       " 'Cool Boarders 3',\n",
       " 'Paper Mario: Sticker Star',\n",
       " 'WarioWare Touched!',\n",
       " 'Batman: Arkham Origins',\n",
       " 'Yokai Watch Busters',\n",
       " 'Pro Evolution Soccer 2010',\n",
       " 'Mario Bros.',\n",
       " 'Pokemon Ranger: Shadows of Almia',\n",
       " 'TOCA Touring Car Championship',\n",
       " 'Kirby: Nightmare in Dream Land',\n",
       " 'Wario Land 4',\n",
       " \"Sonic's Ultimate Genesis Collection\",\n",
       " 'Far Cry: Primal',\n",
       " \"Onimusha 2: Samurai's Destiny\",\n",
       " 'Cool Boarders 2',\n",
       " 'Paper Mario: The Thousand-Year Door',\n",
       " 'God of War: Ascension',\n",
       " 'Sonic Advance',\n",
       " 'Super Monkey Ball: Banana Blitz',\n",
       " 'Just Dance Kids',\n",
       " 'New Super Luigi U',\n",
       " 'Spyro: Season of Ice',\n",
       " 'Dissidia: Final Fantasy',\n",
       " 'Madden NFL 25',\n",
       " 'Teenage Mutant Ninja Turtles II: The Arcade Game',\n",
       " 'Dance Dance Revolution X2',\n",
       " 'Prince of Persia: The Sands of Time',\n",
       " 'LEGO Marvel Super Heroes',\n",
       " \"The Legend of Zelda: Link's Awakening DX\",\n",
       " \"Tom Clancy's Rainbow Six: Siege\",\n",
       " \"Devil May Cry 3: Dante's Awakening Special Edition\",\n",
       " 'Forza Motorsport 5',\n",
       " 'Rock Band 2',\n",
       " 'Pro Yakyuu Family Stadium',\n",
       " 'Wario Land 3',\n",
       " 'BioShock 2',\n",
       " \"High School Musical: Makin' the Cut!\",\n",
       " 'Star Wars: Knights of the Old Republic',\n",
       " \"Kirby's Pinball Land\",\n",
       " 'Madden NFL 15',\n",
       " 'Pro Evolution Soccer 2012',\n",
       " 'Saints Row',\n",
       " 'Yu-Gi-Oh: Duel Monsters 4',\n",
       " 'ATV Offroad Fury 2',\n",
       " 'Mario & Luigi: Superstar Saga',\n",
       " 'Star Wars: Rogue Squadron',\n",
       " 'Tennis',\n",
       " 'The Sims: House Party',\n",
       " 'Scribblenauts',\n",
       " 'Sonic Unleashed',\n",
       " 'Syphon Filter 2',\n",
       " 'Pokemon Ranger',\n",
       " 'Volleyball',\n",
       " 'Skylanders SWAP Force',\n",
       " 'Overwatch',\n",
       " 'Hitman: Absolution',\n",
       " 'SimCity 2000',\n",
       " 'R.C. Pro-Am',\n",
       " 'Super Mario RPG: Legend of the Seven Stars',\n",
       " 'Mahjong',\n",
       " 'Demon Attack',\n",
       " 'Call of Duty: Roads to Victory',\n",
       " 'Dance Dance Revolution Extreme',\n",
       " 'Final Fantasy Tactics Advance',\n",
       " 'Your Shape featuring Jenny McCarthy',\n",
       " 'Project Gotham Racing',\n",
       " 'Need for Speed: Hot Pursuit 2',\n",
       " 'Dynasty Warriors 4',\n",
       " 'Parasite Eve',\n",
       " 'Tetris DS',\n",
       " 'Project Gotham Racing (JP weekly sales)',\n",
       " 'Scooby-Doo! Night of 100 Frights',\n",
       " 'Battlefield: Hardline',\n",
       " \"Devil May Cry 3: Dante's Awakening\",\n",
       " 'Derby Stallion',\n",
       " 'NBA 2K11',\n",
       " 'Dying Light',\n",
       " 'Yokai Watch',\n",
       " 'Dead Rising',\n",
       " 'World of Warcraft: Cataclysm',\n",
       " 'Tetris Worlds',\n",
       " 'Sim Theme Park',\n",
       " 'Mario Party 5',\n",
       " 'Warcraft: Orcs & Humans',\n",
       " 'Mario & Luigi: Dream Team',\n",
       " 'Portal 2',\n",
       " 'Mario Sports Mix',\n",
       " 'Need for Speed: Most Wanted 5-1-0',\n",
       " 'Spec Ops: Airborne Commando',\n",
       " 'The Sims 2: Pets',\n",
       " 'Dance Dance Revolution: Hottest Party',\n",
       " 'DriveClub',\n",
       " 'Yu-Gi-Oh! The Eternal Duelist Soul',\n",
       " 'UFC 2009 Undisputed',\n",
       " 'Metal Gear Solid: Peace Walker',\n",
       " \"Kirby's Epic Yarn\",\n",
       " 'Wipeout: The Game',\n",
       " 'Pokemon Mystery Dungeon: Red/Blue Rescue Team',\n",
       " 'R4: Ridge Racer Type 4',\n",
       " 'Kingdom Hearts: Birth by Sleep',\n",
       " \"Tom Clancy's Splinter Cell: Conviction\",\n",
       " 'SoulCalibur II',\n",
       " 'Sonic Mega Collection',\n",
       " 'Need For Speed: Undercover',\n",
       " 'Toy Story 3: The Video Game',\n",
       " 'NBA Jam',\n",
       " 'SOCOM: U.S. Navy SEALs: Combined Assault',\n",
       " \"Peter Jackson's King Kong: The Official Game of the Movie\",\n",
       " 'Dance Central 2',\n",
       " 'PGR4 - Project Gotham Racing 4',\n",
       " '1080°: TenEighty Snowboarding',\n",
       " 'NBA Live 2004',\n",
       " 'Call of Duty 2',\n",
       " 'Rayman Raving Rabbids: TV Party',\n",
       " 'Pokémon Mystery Dungeon: Blue Rescue Team',\n",
       " 'Dark Souls',\n",
       " 'Fire Emblem: Awakening',\n",
       " 'Need for Speed: The Run',\n",
       " 'Just Dance 2015',\n",
       " 'Dragon Age: Inquisition',\n",
       " 'Super Street Fighter II',\n",
       " 'Dead Space',\n",
       " 'Mortal Kombat vs. DC Universe',\n",
       " 'TouchMaster',\n",
       " 'Tenchu: Stealth Assassins',\n",
       " 'Kingdom Hearts 358/2 Days',\n",
       " 'SimCity',\n",
       " 'Need for Speed Rivals',\n",
       " 'Spyro: Enter the Dragonfly',\n",
       " 'Devil May Cry 2',\n",
       " 'E.T.: The Extra Terrestrial',\n",
       " 'Hot Shots Golf: Open Tee',\n",
       " 'Soccer',\n",
       " 'Rad Racer',\n",
       " 'Forza Horizon',\n",
       " \"Tom Clancy's Rainbow Six: Vegas\",\n",
       " 'Crash Nitro Kart',\n",
       " 'Star Wars: Dark Forces',\n",
       " 'NBA Street Vol. 2',\n",
       " 'Def Jam Vendetta',\n",
       " 'Kirby Squeak Squad',\n",
       " 'Burnout Paradise',\n",
       " 'Who wants to be a millionaire',\n",
       " 'Alleyway',\n",
       " 'Scooby Doo and the Cyber Chase',\n",
       " 'Dragon Ball Z: Budokai 3',\n",
       " 'Jet Moto 2',\n",
       " \"Tom Clancy's Ghost Recon\",\n",
       " 'BioShock Infinite',\n",
       " 'X-Men Legends',\n",
       " 'Mortal Kombat II',\n",
       " 'Virtua Fighter 2',\n",
       " 'Destiny: The Taken King',\n",
       " 'Tetris DX',\n",
       " 'The Legend of Zelda: Oracle of Ages',\n",
       " 'Red Faction',\n",
       " \"The Sims: Makin' Magic\",\n",
       " 'Mario Party: Island Tour',\n",
       " 'MX Unleashed',\n",
       " 'PaRappa The Rapper',\n",
       " 'Mario Party 3',\n",
       " 'LittleBigPlanet 3',\n",
       " 'Star Wars Rogue Leader: Rogue Squadron II',\n",
       " 'Mario Super Sluggers',\n",
       " 'Game Party 2',\n",
       " 'Yu-Gi-Oh! Forbidden Memories',\n",
       " 'Mortal Kombat: Deception',\n",
       " 'Hot Shots Golf 2',\n",
       " 'Medal of Honor: European Assault (All Region sales)',\n",
       " 'NBA 2K17',\n",
       " 'Toy Story Mania!',\n",
       " 'WCW Nitro',\n",
       " 'High School Musical: Sing It!',\n",
       " 'Star Fox Adventures',\n",
       " 'FIFA 2000',\n",
       " 'Dynasty Warriors 3',\n",
       " 'The Legend of Zelda: Oracle of Seasons',\n",
       " 'Ratchet & Clank Future: A Crack in Time',\n",
       " 'Shrek 2',\n",
       " 'Turok 2: Seeds of Evil',\n",
       " 'The Legend of Dragoon',\n",
       " 'SingStar',\n",
       " 'NBA Live 2002',\n",
       " 'Just Cause 3',\n",
       " 'Chrono Cross',\n",
       " 'Jak 3',\n",
       " 'Kingdom Hearts: Chain of Memories',\n",
       " 'Pinball',\n",
       " 'Max Payne 3',\n",
       " 'Gran Turismo Concept 2001 Tokyo',\n",
       " 'Phineas and Ferb',\n",
       " 'NCAA Football 06',\n",
       " 'Hey You, Pikachu!',\n",
       " 'Rayman Raving Rabbids 2',\n",
       " '2 Games in 1: Sonic Advance & ChuChu Rocket!',\n",
       " 'Jet Moto',\n",
       " 'Kirby: Triple Deluxe',\n",
       " 'Secret of Mana',\n",
       " 'GoldenEye 007 (2010)',\n",
       " 'Sonic Classic Collection',\n",
       " 'Air Combat',\n",
       " 'inFAMOUS 2',\n",
       " 'World of Warcraft: Mists of Pandaria',\n",
       " 'Sonic & Knuckles',\n",
       " 'The Sims: Hot Date',\n",
       " \"Demon's Souls\",\n",
       " 'The Orange Box',\n",
       " 'DDRMAX2: Dance Dance Revolution',\n",
       " 'Virtua Fighter 4',\n",
       " 'Mafia III',\n",
       " 'Sly 2: Band of Thieves',\n",
       " 'Sonic Advance 2',\n",
       " 'NFL GameDay 2000',\n",
       " 'Forza Motorsport 6',\n",
       " 'The Evil Within',\n",
       " 'Metroid Prime 3: Corruption',\n",
       " \"Disney's The Lion King\",\n",
       " 'Professor Layton and the Mask of Miracle',\n",
       " 'Midnight Club II',\n",
       " 'SpongeBob SquarePants: SuperSponge',\n",
       " 'The Getaway: Black Monday',\n",
       " '50 Cent: Bulletproof',\n",
       " 'Final Fantasy II',\n",
       " 'Kirby 64: The Crystal Shards',\n",
       " 'Dead or Alive 3',\n",
       " 'Dragon Quest Monsters: Joker',\n",
       " 'LEGO Star Wars III: The Clone Wars',\n",
       " 'Metroid II: Return of Samus',\n",
       " 'WWF Attitude',\n",
       " 'The SpongeBob SquarePants Movie',\n",
       " 'Golden Sun',\n",
       " 'Sonic the Hedgehog 3',\n",
       " 'Kid Icarus',\n",
       " 'Def Jam: Fight for NY',\n",
       " 'State of Emergency',\n",
       " '2 Games in 1 Double Pack: The Incredibles / Finding Nemo: The Continuing Adventures',\n",
       " 'The Urbz: Sims in the City',\n",
       " 'Star Wars: Starfighter',\n",
       " 'Madden NFL 2000',\n",
       " 'Pro Evolution Soccer',\n",
       " 'Madden NFL 17',\n",
       " 'Just Cause 2',\n",
       " \"Disney's Aladdin\",\n",
       " \"Kirby's Adventure\",\n",
       " 'Yoshi',\n",
       " 'The Elder Scrolls Online',\n",
       " 'Crackdown',\n",
       " 'Wii Party U',\n",
       " 'Dance Dance Revolution X',\n",
       " '2 Games in 1: Disney Princess & The Lion King',\n",
       " 'Star Wars Episode I: The Phantom Menace',\n",
       " 'Xenosaga Episode I: Der Wille zur Macht',\n",
       " 'Kinect Star Wars',\n",
       " \"Dragon's Dogma\",\n",
       " \"Cruis'n USA\",\n",
       " 'Madden NFL 99',\n",
       " 'The Order: 1886',\n",
       " 'SSX Tricky',\n",
       " 'Knack',\n",
       " 'Twisted Metal III',\n",
       " 'Dragon Quest VI: Realms of Revelation',\n",
       " 'Crash Bandicoot: The Huge Adventure',\n",
       " 'The Crew',\n",
       " 'Call of Duty: World at War Final Fronts',\n",
       " 'Star Ocean: Till The End of Time',\n",
       " 'Dishonored',\n",
       " 'Toy Story 2: Buzz Lightyear to the Rescue!',\n",
       " 'The Beatles: Rock Band',\n",
       " 'Ace Combat 5: The Unsung War',\n",
       " 'Kanshuu Nippon Joushikiryoku Kentei Kyoukai: Imasara Hito ni wa Kikenai Otona no Joushikiryoku Training DS',\n",
       " 'Imagine: Teacher',\n",
       " 'Deal or No Deal',\n",
       " 'Super Puyo Puyo',\n",
       " 'NCAA Football 07',\n",
       " 'The Sims 3: Late Night Expansion Pack',\n",
       " \"No Man's Sky\",\n",
       " 'Ben 10: Protector of Earth',\n",
       " \"Cabela's Big Game Hunter 2010\",\n",
       " 'SOCOM 3: U.S. Navy SEALs',\n",
       " \"Jampack Winter '99\",\n",
       " 'WCW vs. nWo: World Tour',\n",
       " 'WCW/NWO Thunder',\n",
       " 'Dragon Ball Z: The Legacy of Goku',\n",
       " 'Cooking Mama 3: Shop & Chop',\n",
       " 'Personal Trainer: Math',\n",
       " 'Game Party 3',\n",
       " 'World Championship Poker: Featuring Howard Lederer - All In',\n",
       " 'NFL GameDay 98',\n",
       " 'Sonic Colors',\n",
       " \"Yoshi's Cookie\",\n",
       " 'Time Crisis',\n",
       " \"Sid Meier's Civilization V\",\n",
       " ' Fire Emblem Fates',\n",
       " 'The Sims: Superstar',\n",
       " 'Metroid Fusion',\n",
       " 'We Ski',\n",
       " 'Star Wars Battlefront: Renegade Squadron',\n",
       " 'SSX 3',\n",
       " 'Madden NFL 2001',\n",
       " \"Disney's DuckTales\",\n",
       " 'Monsters, Inc.',\n",
       " 'PGR: Project Gotham Racing 2',\n",
       " 'Spy Hunter',\n",
       " 'NCAA Football 2004',\n",
       " 'Fight Night Round 3',\n",
       " 'StarCraft II: Heart of the Swarm',\n",
       " 'SpongeBob SquarePants: Battle for Bikini Bottom',\n",
       " 'Until Dawn',\n",
       " 'Big Beach Sports',\n",
       " \"Street Fighter II': Special Champion Edition\",\n",
       " 'SSX',\n",
       " 'Shaun White Snowboarding: Road Trip',\n",
       " 'NBA Ballers',\n",
       " 'Saints Row IV',\n",
       " 'NBA Live 2003',\n",
       " 'LEGO Batman 2: DC Super Heroes',\n",
       " 'Dragon Ball Z: Budokai Tenkaichi',\n",
       " 'Dark Souls III',\n",
       " 'Ms. Pac-Man',\n",
       " \"Kirby's Return to Dreamland\",\n",
       " 'Mario Party 6',\n",
       " 'Super Scope 6',\n",
       " 'Star Wars The Clone Wars: Lightsaber Duels',\n",
       " 'Need for Speed Carbon',\n",
       " 'Heavenly Sword',\n",
       " 'Kirby & the Amazing Mirror',\n",
       " 'Army of Two',\n",
       " 'Dig Dug',\n",
       " \"Tom Clancy's Rainbow Six\",\n",
       " \"Ghosts 'n Goblins\",\n",
       " 'Tiger Woods PGA Tour 2003',\n",
       " 'NBA Live 06 (All region sales)',\n",
       " 'Prince of Persia: Warrior Within',\n",
       " 'Beyond: Two Souls',\n",
       " 'Pikmin',\n",
       " 'Tiger Woods PGA Tour 2004',\n",
       " 'Ape Escape',\n",
       " 'NCAA Football 2005',\n",
       " 'Viva Pinata',\n",
       " \"Tony Hawk's American Wasteland (Old all region sales)\",\n",
       " 'Kinectimals',\n",
       " 'Kirby Air Ride',\n",
       " 'Sled Storm',\n",
       " 'Dragon Quest IV: Chapters of the Chosen',\n",
       " 'NFL Street 2',\n",
       " 'Yu-Gi-Oh! Duel Monsters',\n",
       " 'Super Mario Strikers',\n",
       " 'Buzz! The Music Quiz',\n",
       " 'Rage',\n",
       " 'Mario Hoops 3 on 3',\n",
       " \"SpongeBob's Atlantis SquarePantis\",\n",
       " 'Dollar Dash',\n",
       " 'F-1 World Grand Prix',\n",
       " 'River Raid',\n",
       " 'Silent Hill',\n",
       " 'Disney Infinity',\n",
       " 'ESPN NBA 2K5',\n",
       " 'Diablo',\n",
       " 'Far Cry 2',\n",
       " 'Soul Edge',\n",
       " 'NASCAR 2000',\n",
       " 'Pokemon Battle Revolution',\n",
       " 'Kingdom Hearts 3D: Dream Drop Distance',\n",
       " 'Dance Dance Revolution: Hottest Party 2',\n",
       " 'SoulCalibur IV',\n",
       " 'Jampack Summer 2K',\n",
       " 'Sonic Generations',\n",
       " 'Spyro 2: Season of Flame',\n",
       " 'Mario Party 10',\n",
       " 'Devil May Cry 4',\n",
       " 'Dead Rising 3',\n",
       " 'NCAA Football 2002',\n",
       " 'Gears of War: Judgment',\n",
       " 'Guitar Hero: On Tour Decades',\n",
       " 'Conflict: Desert Storm',\n",
       " 'Mario Party 7',\n",
       " 'Dragon Quest V: Hand of the Heavenly Bride',\n",
       " 'High School Musical 3: Senior Year',\n",
       " \"Smuggler's Run\",\n",
       " 'Carnival Games: Mini Golf',\n",
       " 'Donkey Kong Classics',\n",
       " 'Hannah Montana: Music Jam',\n",
       " 'Twisted Metal',\n",
       " 'Final Fight',\n",
       " 'Pokemon Mystery Dungeon: Explorers of Sky',\n",
       " 'Dragon Quest Monsters 2',\n",
       " 'Pokemon Pinball: Ruby & Sapphire',\n",
       " 'MySims Kingdom',\n",
       " 'LEGO Pirates of the Caribbean: The Video Game',\n",
       " 'Stuntman',\n",
       " \"Tom Clancy's Rainbow Six 3\",\n",
       " '007: The World is not Enough',\n",
       " 'Spider-Man 2: Enter: Electro',\n",
       " 'Guitar Hero 5',\n",
       " 'Command & Conquer: Tiberian Sun',\n",
       " 'Wolfenstein: The New Order',\n",
       " 'Mafia II',\n",
       " 'Moshi Monsters: Moshling Zoo',\n",
       " 'Dark Cloud',\n",
       " 'Warcraft III: The Frozen Throne',\n",
       " 'Active Life: Outdoor Challenge',\n",
       " \"Tom Clancy's Ghost Recon Advanced Warfighter\",\n",
       " 'Ratchet & Clank (2016)',\n",
       " 'MVP Baseball 2005',\n",
       " 'Die Hard Trilogy',\n",
       " 'Uncharted: Golden Abyss',\n",
       " 'Go Vacation',\n",
       " 'Pro Evolution Soccer 2013',\n",
       " 'Mortal Kombat 3',\n",
       " 'NFL GameDay 99',\n",
       " 'Mario Golf: Toadstool Tour',\n",
       " 'Tiger Woods 99 PGA Tour Golf',\n",
       " 'Resident Evil: The Umbrella Chronicles',\n",
       " 'Knockout Kings',\n",
       " 'The Simpsons Skateboarding',\n",
       " 'Donkey Kong Country: Tropical Freeze',\n",
       " ...]"
      ]
     },
     "execution_count": 12,
     "metadata": {},
     "output_type": "execute_result"
    }
   ],
   "source": [
    "# затем на не явные\n",
    "data['name'].unique().tolist()"
   ]
  },
  {
   "cell_type": "markdown",
   "metadata": {},
   "source": [
    "**Поиск и обработка аномалий**"
   ]
  },
  {
   "cell_type": "code",
   "execution_count": 13,
   "metadata": {},
   "outputs": [
    {
     "data": {
      "text/html": [
       "<div>\n",
       "<style scoped>\n",
       "    .dataframe tbody tr th:only-of-type {\n",
       "        vertical-align: middle;\n",
       "    }\n",
       "\n",
       "    .dataframe tbody tr th {\n",
       "        vertical-align: top;\n",
       "    }\n",
       "\n",
       "    .dataframe thead th {\n",
       "        text-align: right;\n",
       "    }\n",
       "</style>\n",
       "<table border=\"1\" class=\"dataframe\">\n",
       "  <thead>\n",
       "    <tr style=\"text-align: right;\">\n",
       "      <th></th>\n",
       "      <th>year_of_release</th>\n",
       "      <th>na_sales</th>\n",
       "      <th>eu_sales</th>\n",
       "      <th>jp_sales</th>\n",
       "      <th>other_sales</th>\n",
       "      <th>critic_score</th>\n",
       "      <th>user_score</th>\n",
       "    </tr>\n",
       "  </thead>\n",
       "  <tbody>\n",
       "    <tr>\n",
       "      <th>count</th>\n",
       "      <td>16444.000000</td>\n",
       "      <td>16444.000000</td>\n",
       "      <td>16444.000000</td>\n",
       "      <td>16444.000000</td>\n",
       "      <td>16444.000000</td>\n",
       "      <td>16444.000000</td>\n",
       "      <td>16444.000000</td>\n",
       "    </tr>\n",
       "    <tr>\n",
       "      <th>mean</th>\n",
       "      <td>2006.486256</td>\n",
       "      <td>0.264012</td>\n",
       "      <td>0.145930</td>\n",
       "      <td>0.078487</td>\n",
       "      <td>0.047594</td>\n",
       "      <td>33.494405</td>\n",
       "      <td>3.234237</td>\n",
       "    </tr>\n",
       "    <tr>\n",
       "      <th>std</th>\n",
       "      <td>5.875525</td>\n",
       "      <td>0.818378</td>\n",
       "      <td>0.506716</td>\n",
       "      <td>0.311100</td>\n",
       "      <td>0.188005</td>\n",
       "      <td>35.821558</td>\n",
       "      <td>3.689043</td>\n",
       "    </tr>\n",
       "    <tr>\n",
       "      <th>min</th>\n",
       "      <td>1980.000000</td>\n",
       "      <td>0.000000</td>\n",
       "      <td>0.000000</td>\n",
       "      <td>0.000000</td>\n",
       "      <td>0.000000</td>\n",
       "      <td>0.000000</td>\n",
       "      <td>0.000000</td>\n",
       "    </tr>\n",
       "    <tr>\n",
       "      <th>25%</th>\n",
       "      <td>2003.000000</td>\n",
       "      <td>0.000000</td>\n",
       "      <td>0.000000</td>\n",
       "      <td>0.000000</td>\n",
       "      <td>0.000000</td>\n",
       "      <td>0.000000</td>\n",
       "      <td>0.000000</td>\n",
       "    </tr>\n",
       "    <tr>\n",
       "      <th>50%</th>\n",
       "      <td>2007.000000</td>\n",
       "      <td>0.080000</td>\n",
       "      <td>0.020000</td>\n",
       "      <td>0.000000</td>\n",
       "      <td>0.010000</td>\n",
       "      <td>0.000000</td>\n",
       "      <td>0.000000</td>\n",
       "    </tr>\n",
       "    <tr>\n",
       "      <th>75%</th>\n",
       "      <td>2010.000000</td>\n",
       "      <td>0.240000</td>\n",
       "      <td>0.110000</td>\n",
       "      <td>0.040000</td>\n",
       "      <td>0.030000</td>\n",
       "      <td>70.000000</td>\n",
       "      <td>7.300000</td>\n",
       "    </tr>\n",
       "    <tr>\n",
       "      <th>max</th>\n",
       "      <td>2016.000000</td>\n",
       "      <td>41.360000</td>\n",
       "      <td>28.960000</td>\n",
       "      <td>10.220000</td>\n",
       "      <td>10.570000</td>\n",
       "      <td>98.000000</td>\n",
       "      <td>9.700000</td>\n",
       "    </tr>\n",
       "  </tbody>\n",
       "</table>\n",
       "</div>"
      ],
      "text/plain": [
       "       year_of_release      na_sales      eu_sales      jp_sales  \\\n",
       "count     16444.000000  16444.000000  16444.000000  16444.000000   \n",
       "mean       2006.486256      0.264012      0.145930      0.078487   \n",
       "std           5.875525      0.818378      0.506716      0.311100   \n",
       "min        1980.000000      0.000000      0.000000      0.000000   \n",
       "25%        2003.000000      0.000000      0.000000      0.000000   \n",
       "50%        2007.000000      0.080000      0.020000      0.000000   \n",
       "75%        2010.000000      0.240000      0.110000      0.040000   \n",
       "max        2016.000000     41.360000     28.960000     10.220000   \n",
       "\n",
       "        other_sales  critic_score    user_score  \n",
       "count  16444.000000  16444.000000  16444.000000  \n",
       "mean       0.047594     33.494405      3.234237  \n",
       "std        0.188005     35.821558      3.689043  \n",
       "min        0.000000      0.000000      0.000000  \n",
       "25%        0.000000      0.000000      0.000000  \n",
       "50%        0.010000      0.000000      0.000000  \n",
       "75%        0.030000     70.000000      7.300000  \n",
       "max       10.570000     98.000000      9.700000  "
      ]
     },
     "execution_count": 13,
     "metadata": {},
     "output_type": "execute_result"
    }
   ],
   "source": [
    "data.describe()"
   ]
  },
  {
   "cell_type": "markdown",
   "metadata": {},
   "source": [
    "Явные анмоальные значения отсутствуют"
   ]
  },
  {
   "cell_type": "markdown",
   "metadata": {},
   "source": [
    "<a name=\"stage_1\"></a>\n",
    "# 2. Добавление данных в таблицу"
   ]
  },
  {
   "cell_type": "code",
   "execution_count": 14,
   "metadata": {},
   "outputs": [
    {
     "data": {
      "text/html": [
       "<div>\n",
       "<style scoped>\n",
       "    .dataframe tbody tr th:only-of-type {\n",
       "        vertical-align: middle;\n",
       "    }\n",
       "\n",
       "    .dataframe tbody tr th {\n",
       "        vertical-align: top;\n",
       "    }\n",
       "\n",
       "    .dataframe thead th {\n",
       "        text-align: right;\n",
       "    }\n",
       "</style>\n",
       "<table border=\"1\" class=\"dataframe\">\n",
       "  <thead>\n",
       "    <tr style=\"text-align: right;\">\n",
       "      <th></th>\n",
       "      <th>name</th>\n",
       "      <th>platform</th>\n",
       "      <th>year_of_release</th>\n",
       "      <th>genre</th>\n",
       "      <th>na_sales</th>\n",
       "      <th>eu_sales</th>\n",
       "      <th>jp_sales</th>\n",
       "      <th>other_sales</th>\n",
       "      <th>critic_score</th>\n",
       "      <th>user_score</th>\n",
       "      <th>rating</th>\n",
       "      <th>total_sales</th>\n",
       "    </tr>\n",
       "  </thead>\n",
       "  <tbody>\n",
       "    <tr>\n",
       "      <th>0</th>\n",
       "      <td>Wii Sports</td>\n",
       "      <td>Wii</td>\n",
       "      <td>2006</td>\n",
       "      <td>Sports</td>\n",
       "      <td>41.36</td>\n",
       "      <td>28.96</td>\n",
       "      <td>3.77</td>\n",
       "      <td>8.45</td>\n",
       "      <td>76</td>\n",
       "      <td>8.0</td>\n",
       "      <td>E</td>\n",
       "      <td>111.50</td>\n",
       "    </tr>\n",
       "    <tr>\n",
       "      <th>1</th>\n",
       "      <td>Super Mario Bros.</td>\n",
       "      <td>NES</td>\n",
       "      <td>1985</td>\n",
       "      <td>Platform</td>\n",
       "      <td>29.08</td>\n",
       "      <td>3.58</td>\n",
       "      <td>6.81</td>\n",
       "      <td>0.77</td>\n",
       "      <td>0</td>\n",
       "      <td>0.0</td>\n",
       "      <td>N</td>\n",
       "      <td>43.82</td>\n",
       "    </tr>\n",
       "    <tr>\n",
       "      <th>2</th>\n",
       "      <td>Mario Kart Wii</td>\n",
       "      <td>Wii</td>\n",
       "      <td>2008</td>\n",
       "      <td>Racing</td>\n",
       "      <td>15.68</td>\n",
       "      <td>12.76</td>\n",
       "      <td>3.79</td>\n",
       "      <td>3.29</td>\n",
       "      <td>82</td>\n",
       "      <td>8.3</td>\n",
       "      <td>E</td>\n",
       "      <td>48.28</td>\n",
       "    </tr>\n",
       "    <tr>\n",
       "      <th>3</th>\n",
       "      <td>Wii Sports Resort</td>\n",
       "      <td>Wii</td>\n",
       "      <td>2009</td>\n",
       "      <td>Sports</td>\n",
       "      <td>15.61</td>\n",
       "      <td>10.93</td>\n",
       "      <td>3.28</td>\n",
       "      <td>2.95</td>\n",
       "      <td>80</td>\n",
       "      <td>8.0</td>\n",
       "      <td>E</td>\n",
       "      <td>43.70</td>\n",
       "    </tr>\n",
       "    <tr>\n",
       "      <th>4</th>\n",
       "      <td>Pokemon Red/Pokemon Blue</td>\n",
       "      <td>GB</td>\n",
       "      <td>1996</td>\n",
       "      <td>Role-Playing</td>\n",
       "      <td>11.27</td>\n",
       "      <td>8.89</td>\n",
       "      <td>10.22</td>\n",
       "      <td>1.00</td>\n",
       "      <td>0</td>\n",
       "      <td>0.0</td>\n",
       "      <td>N</td>\n",
       "      <td>40.27</td>\n",
       "    </tr>\n",
       "  </tbody>\n",
       "</table>\n",
       "</div>"
      ],
      "text/plain": [
       "                       name platform  year_of_release         genre  na_sales  \\\n",
       "0                Wii Sports      Wii             2006        Sports     41.36   \n",
       "1         Super Mario Bros.      NES             1985      Platform     29.08   \n",
       "2            Mario Kart Wii      Wii             2008        Racing     15.68   \n",
       "3         Wii Sports Resort      Wii             2009        Sports     15.61   \n",
       "4  Pokemon Red/Pokemon Blue       GB             1996  Role-Playing     11.27   \n",
       "\n",
       "   eu_sales  jp_sales  other_sales  critic_score  user_score rating  \\\n",
       "0     28.96      3.77         8.45            76         8.0      E   \n",
       "1      3.58      6.81         0.77             0         0.0      N   \n",
       "2     12.76      3.79         3.29            82         8.3      E   \n",
       "3     10.93      3.28         2.95            80         8.0      E   \n",
       "4      8.89     10.22         1.00             0         0.0      N   \n",
       "\n",
       "   total_sales  \n",
       "0       111.50  \n",
       "1        43.82  \n",
       "2        48.28  \n",
       "3        43.70  \n",
       "4        40.27  "
      ]
     },
     "execution_count": 14,
     "metadata": {},
     "output_type": "execute_result"
    }
   ],
   "source": [
    "data['total_sales'] = data.loc[:,['na_sales', 'eu_sales', 'eu_sales', 'jp_sales', 'other_sales']].sum(axis=1)\n",
    "data.head()"
   ]
  },
  {
   "cell_type": "markdown",
   "metadata": {},
   "source": [
    "<a name=\"stage_1\"></a>\n",
    "# 3.Анализ данных в датасете"
   ]
  },
  {
   "cell_type": "markdown",
   "metadata": {},
   "source": [
    "**Сколько игр выпускалось в разные годы**"
   ]
  },
  {
   "cell_type": "code",
   "execution_count": 15,
   "metadata": {},
   "outputs": [
    {
     "data": {
      "text/plain": [
       "Text(0, 0.5, 'Крл-во проданных игр')"
      ]
     },
     "execution_count": 15,
     "metadata": {},
     "output_type": "execute_result"
    },
    {
     "data": {
      "image/png": "[encoded data removed]",
      "text/plain": [
       "<Figure size 432x288 with 1 Axes>"
      ]
     },
     "metadata": {
      "needs_background": "light"
     },
     "output_type": "display_data"
    }
   ],
   "source": [
    "import pylab as pl\n",
    "file1_hist = data.hist(column='year_of_release', sharex=True, sharey=True)\n",
    "file1_hist[0][0].set_title('Кол-во проданных игр по годам')\n",
    "file1_hist[0][0].set_xlabel('Года')\n",
    "file1_hist[0][0].set_ylabel('Крл-во проданных игр')\n"
   ]
  },
  {
   "cell_type": "markdown",
   "metadata": {},
   "source": [
    "Больше всего игр выпускалось с 2009 по 2012 год. С 1990 года по 2008, количество выпускаемых игр возрастало, затем наблюдается резкое снижение выпуска игр с 2012 года, и далее остаётся на том же урвоне."
   ]
  },
  {
   "cell_type": "markdown",
   "metadata": {},
   "source": [
    "**Как менялись продажи по платформам. Выберите платформы с наибольшими суммарными продажами и постройте распределение по годам. За какой характерный срок появляются новые и исчезают старые платформы?**"
   ]
  },
  {
   "cell_type": "code",
   "execution_count": 16,
   "metadata": {},
   "outputs": [
    {
     "data": {
      "image/png": "[encoded data removed]",
      "text/plain": [
       "<Figure size 720x360 with 1 Axes>"
      ]
     },
     "metadata": {
      "needs_background": "light"
     },
     "output_type": "display_data"
    }
   ],
   "source": [
    "total_sales_per_platform = (data.groupby(['platform'],as_index = False)['total_sales'].sum()\n",
    "                                 .sort_values('total_sales',ascending = False)\n",
    "                           )\n",
    "\n",
    "(total_sales_per_platform.plot(kind='bar',x='platform', y='total_sales',figsize=(10, 5),legend=False, title='Количество проданных игр по платформам')\n",
    "                         .set(xlabel='Платформа', ylabel='Глобальные продажи')\n",
    ")\n",
    "plt.show()"
   ]
  },
  {
   "cell_type": "markdown",
   "metadata": {},
   "source": [
    "Данный график нужен, чтобы посмотреть, на какой платформе продано больше всего игр - PS2."
   ]
  },
  {
   "cell_type": "code",
   "execution_count": 17,
   "metadata": {},
   "outputs": [
    {
     "data": {
      "text/plain": [
       "['PS2',\n",
       " 'PS3',\n",
       " 'X360',\n",
       " 'Wii',\n",
       " 'DS',\n",
       " 'PS',\n",
       " 'PS4',\n",
       " 'PC',\n",
       " 'GBA',\n",
       " 'PSP',\n",
       " '3DS',\n",
       " 'XB',\n",
       " 'GB',\n",
       " 'NES',\n",
       " 'N64',\n",
       " 'GC',\n",
       " 'SNES',\n",
       " 'XOne',\n",
       " 'WiiU',\n",
       " '2600',\n",
       " 'PSV',\n",
       " 'SAT',\n",
       " 'GEN',\n",
       " 'DC',\n",
       " 'SCD',\n",
       " 'NG',\n",
       " 'WS',\n",
       " 'TG16',\n",
       " '3DO',\n",
       " 'GG',\n",
       " 'PCFX']"
      ]
     },
     "execution_count": 17,
     "metadata": {},
     "output_type": "execute_result"
    }
   ],
   "source": [
    "top_now = total_sales_per_platform['platform'].tolist()\n",
    "top_now"
   ]
  },
  {
   "cell_type": "code",
   "execution_count": 18,
   "metadata": {},
   "outputs": [
    {
     "data": {
      "text/plain": [
       "['PS2', 'PS3', 'X360', 'Wii', 'DS', 'PS']"
      ]
     },
     "execution_count": 18,
     "metadata": {},
     "output_type": "execute_result"
    }
   ],
   "source": [
    "top_6_alltime = total_sales_per_platform.head(6)['platform'].tolist()\n",
    "top_6_alltime"
   ]
  },
  {
   "cell_type": "code",
   "execution_count": 19,
   "metadata": {},
   "outputs": [
    {
     "data": {
      "image/png": "[encoded data removed]",
      "text/plain": [
       "<Figure size 720x360 with 1 Axes>"
      ]
     },
     "metadata": {
      "needs_background": "light"
     },
     "output_type": "display_data"
    }
   ],
   "source": [
    "for name in top_6_alltime:\n",
    "    data.query('platform == @name and year_of_release != -1').pivot_table(index = 'year_of_release',\n",
    "                        values = 'total_sales', aggfunc = 'sum').sort_values('year_of_release',\n",
    "                                                    ascending = False)['total_sales'].plot(figsize = (10, 5), label=name, title='Продажи игр по платформам (кол-во)')\n",
    "   \n",
    "    plt.xlabel('Дата релиза', labelpad = 10)\n",
    "    plt.ylabel('Продажи', labelpad = 50)\n",
    "    plt.legend()"
   ]
  },
  {
   "cell_type": "markdown",
   "metadata": {},
   "source": [
    "Если смотреть по годам, то на графике видно, как менялась популярность платформ в разные годы.\n",
    "\n",
    "Так мы видим, что платформа PS2 (с наибольшим количеством игр) была популярна с 2001 по 2004 года, а затем популярнасть её начала снижаться.\n",
    "\n",
    "Остальные платформы в разные года, повторяют это график: взлёт популярности и затем спад в связи с появлением другой платформы (в среднем, исходя из графика интервал популярности около 5 лет, после чего выходила новая платформа)\n",
    "\n",
    "Также наблюдается примерно одинаковая популярность и спад в один период платформ PS3 и X360, т.к. эти платформы вышли примерно в одно и тоже время."
   ]
  },
  {
   "cell_type": "markdown",
   "metadata": {},
   "source": [
    "**Взять данные за актуальный период**"
   ]
  },
  {
   "cell_type": "code",
   "execution_count": 20,
   "metadata": {},
   "outputs": [
    {
     "data": {
      "image/png": "[encoded data removed]",
      "text/plain": [
       "<Figure size 432x288 with 1 Axes>"
      ]
     },
     "metadata": {
      "needs_background": "light"
     },
     "output_type": "display_data"
    }
   ],
   "source": [
    "#Чтобы выявить актуальный период, построим график продаж по каждому году\n",
    "data[data['year_of_release'] != 2077].groupby('year_of_release').agg({'total_sales':'sum'}).plot(legend=False,title='Количество игр по годам').set(xlabel='Год релиза', ylabel='Кол-во');"
   ]
  },
  {
   "cell_type": "markdown",
   "metadata": {},
   "source": [
    "Исходя из графика, считаю актуальным взять данные начиная с 2014 года, когда началось плавное и неуклонное сниджение продаж."
   ]
  },
  {
   "cell_type": "markdown",
   "metadata": {},
   "source": [
    "**Пострить график «ящик с усами» по глобальным продажам игр в разбивке по платформам**"
   ]
  },
  {
   "cell_type": "code",
   "execution_count": 21,
   "metadata": {},
   "outputs": [
    {
     "data": {
      "image/png": "[encoded data removed]",
      "text/plain": [
       "<Figure size 1440x720 with 1 Axes>"
      ]
     },
     "metadata": {},
     "output_type": "display_data"
    }
   ],
   "source": [
    "sns.set(rc={'figure.figsize':(20,10)}) # здесь я настраиваю размер самого графика в jupyter\n",
    "ax = sns.boxplot(x=\"platform\", y=\"total_sales\", data= data, palette=\"Set3\")\n",
    "ax.set(ylim=(0,5))\n",
    "ax.set_title('Глобальные продажи в разбивке по платформам');"
   ]
  },
  {
   "cell_type": "markdown",
   "metadata": {},
   "source": [
    "Из данного графика, мы видим, что медианное значение оценок по большинству платформ дерджится в промежутке от 0 до 0,5. \n",
    "\n",
    "У не опулярных платформ большинство оценок (около 50%) так же в районе от 0 до 0,5. У популярных платформ этот показатель выше. также Большиснтво оценок в высоком диапазоене у непопулярных платформ GEN, GB, NES. Связано это скорее всего с тем, что на этих платформах играю толлько поклонники конкретных платформ/игр на этих платформах."
   ]
  },
  {
   "cell_type": "markdown",
   "metadata": {},
   "source": [
    "**Проанализирвоать как влияют на продажи внутри одной популярной платформы отзывы пользователей и критиков. Построить диаграмму рассеяния и посчитайте корреляцию между отзывами и продажами**"
   ]
  },
  {
   "cell_type": "markdown",
   "metadata": {},
   "source": [
    "Строим диаграммы рассеяния по продажам и отзывам пользователей и критиков. Построив такие диаграммы, сможем проанализировать как они влияют на продажи.\n"
   ]
  },
  {
   "cell_type": "code",
   "execution_count": 22,
   "metadata": {},
   "outputs": [
    {
     "data": {
      "text/html": [
       "<div>\n",
       "<style scoped>\n",
       "    .dataframe tbody tr th:only-of-type {\n",
       "        vertical-align: middle;\n",
       "    }\n",
       "\n",
       "    .dataframe tbody tr th {\n",
       "        vertical-align: top;\n",
       "    }\n",
       "\n",
       "    .dataframe thead th {\n",
       "        text-align: right;\n",
       "    }\n",
       "</style>\n",
       "<table border=\"1\" class=\"dataframe\">\n",
       "  <thead>\n",
       "    <tr style=\"text-align: right;\">\n",
       "      <th></th>\n",
       "      <th>platform</th>\n",
       "      <th>total_sales</th>\n",
       "    </tr>\n",
       "  </thead>\n",
       "  <tbody>\n",
       "    <tr>\n",
       "      <th>3</th>\n",
       "      <td>PS4</td>\n",
       "      <td>418.19</td>\n",
       "    </tr>\n",
       "    <tr>\n",
       "      <th>9</th>\n",
       "      <td>XOne</td>\n",
       "      <td>186.61</td>\n",
       "    </tr>\n",
       "    <tr>\n",
       "      <th>0</th>\n",
       "      <td>3DS</td>\n",
       "      <td>102.80</td>\n",
       "    </tr>\n",
       "    <tr>\n",
       "      <th>2</th>\n",
       "      <td>PS3</td>\n",
       "      <td>93.72</td>\n",
       "    </tr>\n",
       "    <tr>\n",
       "      <th>8</th>\n",
       "      <td>X360</td>\n",
       "      <td>63.71</td>\n",
       "    </tr>\n",
       "    <tr>\n",
       "      <th>7</th>\n",
       "      <td>WiiU</td>\n",
       "      <td>56.13</td>\n",
       "    </tr>\n",
       "    <tr>\n",
       "      <th>1</th>\n",
       "      <td>PC</td>\n",
       "      <td>45.02</td>\n",
       "    </tr>\n",
       "    <tr>\n",
       "      <th>5</th>\n",
       "      <td>PSV</td>\n",
       "      <td>25.93</td>\n",
       "    </tr>\n",
       "    <tr>\n",
       "      <th>6</th>\n",
       "      <td>Wii</td>\n",
       "      <td>7.66</td>\n",
       "    </tr>\n",
       "    <tr>\n",
       "      <th>4</th>\n",
       "      <td>PSP</td>\n",
       "      <td>0.36</td>\n",
       "    </tr>\n",
       "  </tbody>\n",
       "</table>\n",
       "</div>"
      ],
      "text/plain": [
       "  platform  total_sales\n",
       "3      PS4       418.19\n",
       "9     XOne       186.61\n",
       "0      3DS       102.80\n",
       "2      PS3        93.72\n",
       "8     X360        63.71\n",
       "7     WiiU        56.13\n",
       "1       PC        45.02\n",
       "5      PSV        25.93\n",
       "6      Wii         7.66\n",
       "4      PSP         0.36"
      ]
     },
     "execution_count": 22,
     "metadata": {},
     "output_type": "execute_result"
    }
   ],
   "source": [
    "#для начала найдём актуальные платформы по которым больше всего продаж. за точку старта возьмём 2012 год, \n",
    "#т.к. с этого момента количество игр не изменно\n",
    "actual_platforms = data.query('year_of_release >= 2014')\n",
    "actual_platforms_search = (actual_platforms.groupby(['platform'],as_index = False)['total_sales'].sum()\n",
    "                                 .sort_values('total_sales',ascending = False)\n",
    "                           )\n",
    "actual_platforms_search"
   ]
  },
  {
   "cell_type": "markdown",
   "metadata": {},
   "source": [
    "Из этой таблицы, можно сделать вывод, что по количеству продаж после 2014 года лидирует платформа PS4"
   ]
  },
  {
   "cell_type": "code",
   "execution_count": 23,
   "metadata": {},
   "outputs": [
    {
     "data": {
      "text/plain": [
       "['PS4', 'XOne', '3DS', 'PS3', 'X360', 'WiiU', 'PC', 'PSV', 'Wii', 'PSP']"
      ]
     },
     "execution_count": 23,
     "metadata": {},
     "output_type": "execute_result"
    }
   ],
   "source": [
    "top_now = actual_platforms_search['platform'].tolist()\n",
    "top_now"
   ]
  },
  {
   "cell_type": "code",
   "execution_count": 24,
   "metadata": {},
   "outputs": [
    {
     "data": {
      "image/png": "[encoded data removed]",
      "text/plain": [
       "<Figure size 720x360 with 1 Axes>"
      ]
     },
     "metadata": {},
     "output_type": "display_data"
    }
   ],
   "source": [
    "for name in top_now:\n",
    "    actual_platforms.query('platform == @name').pivot_table(index = 'year_of_release',\n",
    "                        values = 'total_sales', aggfunc = 'sum').sort_values('year_of_release',\n",
    "                                                    ascending = False)['total_sales'].plot(figsize=(10, 5), label = name, title = 'Продажи популярных платформ за актуальный период')\n",
    "    \n",
    "    plt.xticks(np.arange(2014, 2017, step=1))\n",
    "    plt.xlabel('Дата релиза', labelpad = 10)\n",
    "    plt.ylabel('Продажи', labelpad = 10)\n",
    "    plt.legend()"
   ]
  },
  {
   "cell_type": "markdown",
   "metadata": {},
   "source": [
    "График подтверждает, что больше всего продаж у PS4, так жепопулярной является платформа Xone. У названных двух платформ падение продаж происходит плавно, и ожидать увеличенияпродаж не стоит. "
   ]
  },
  {
   "cell_type": "code",
   "execution_count": 25,
   "metadata": {},
   "outputs": [],
   "source": [
    "#теперь отберём  дял постройки диаграм рассеяния по популярной платформе: PS4\n",
    "PS4 = data[(data['platform'] == 'PS4') & (data['year_of_release'] >= 2014) & (data['critic_score'] != 0) & (data['user_score'] != 0)]"
   ]
  },
  {
   "cell_type": "code",
   "execution_count": 26,
   "metadata": {},
   "outputs": [
    {
     "data": {
      "image/png": "[encoded data removed]",
      "text/plain": [
       "<Figure size 720x360 with 1 Axes>"
      ]
     },
     "metadata": {},
     "output_type": "display_data"
    }
   ],
   "source": [
    "# влияние на продажи отзывов критиков\n",
    "PS4.plot(x='critic_score', y='total_sales', kind='scatter', title='Платформа PS4',figsize=(10, 5), color='blue');\n",
    "plt.xlabel('Всего продаж', labelpad = 10)\n",
    "plt.ylabel('оценки критиков', labelpad = 50);"
   ]
  },
  {
   "cell_type": "code",
   "execution_count": 27,
   "metadata": {},
   "outputs": [
    {
     "data": {
      "image/png": "[encoded data removed]",
      "text/plain": [
       "<Figure size 720x360 with 1 Axes>"
      ]
     },
     "metadata": {},
     "output_type": "display_data"
    }
   ],
   "source": [
    "# влияние на продажи отзывов игроков\n",
    "PS4.plot(x='user_score', y='total_sales', kind='scatter', title='Платформа PS4',figsize=(10, 5), color='blue');\n",
    "plt.xlabel('Всего продаж', labelpad = 10)\n",
    "plt.ylabel('Оценки игроков', labelpad = 50);"
   ]
  },
  {
   "cell_type": "markdown",
   "metadata": {},
   "source": [
    "По диаграммам рассеяния можно увидеть, что оценка критиков или игроков не сильно влияет на покупку игры, т.к. большинство значений сосредоточены в низу диграммы и в правой часте, где низкие оценки и большое количество покупок."
   ]
  },
  {
   "cell_type": "markdown",
   "metadata": {},
   "source": [
    "**Соотнести выводы на разных платформах между собой**"
   ]
  },
  {
   "cell_type": "markdown",
   "metadata": {},
   "source": [
    "Вторая по популярности в продажах платформа Xone. Построим и для неё такиеже диаграммы рассеяния, чтобы посомтреть влияют ли оценки на продажи."
   ]
  },
  {
   "cell_type": "code",
   "execution_count": 28,
   "metadata": {},
   "outputs": [],
   "source": [
    "XOne = data[(data['platform'] == 'XOne') & (data['year_of_release'] >= 2014) & (data['critic_score'] != 0) & (data['user_score'] != 0)]"
   ]
  },
  {
   "cell_type": "code",
   "execution_count": 29,
   "metadata": {},
   "outputs": [
    {
     "data": {
      "image/png": "[encoded data removed]",
      "text/plain": [
       "<Figure size 720x360 with 1 Axes>"
      ]
     },
     "metadata": {},
     "output_type": "display_data"
    }
   ],
   "source": [
    "XOne.plot(x='critic_score', y='total_sales', kind='scatter', title='Платформа XOne',figsize=(10, 5), color='blue');\n",
    "plt.xlabel('Всего продаж', labelpad = 10)\n",
    "plt.ylabel('оценки критиков', labelpad = 50);"
   ]
  },
  {
   "cell_type": "code",
   "execution_count": 30,
   "metadata": {},
   "outputs": [
    {
     "data": {
      "image/png": "[encoded data removed]",
      "text/plain": [
       "<Figure size 720x360 with 1 Axes>"
      ]
     },
     "metadata": {},
     "output_type": "display_data"
    }
   ],
   "source": [
    "XOne.plot(x='user_score', y='total_sales', kind='scatter', title='Платформа XOne',figsize=(10, 5), color='blue');\n",
    "plt.xlabel('Всего продаж', labelpad = 10)\n",
    "plt.ylabel('Оценки игроков', labelpad = 50);"
   ]
  },
  {
   "cell_type": "markdown",
   "metadata": {},
   "source": [
    "В целом, продажи снижаются на всех платформах, однако больше всего продаж на платформах вышедших в последние годы (на платформе PS4, вышедней последней, общее количество продаж больше 400, что больше чем у других платформ).\n",
    "\n",
    "Исходя из графиков ящика с усами, оценки на разных платформах держатся примерно в одном диапазоне, и не сильно влияют на количество покупок, что подвеждается диагарммами рассеяния по самой популярной платформе PS4 - там нет зависимости колчиество покупок от оценок критиков или других игроков. такая же картина наблюдается и у второй по популярнсоти платформы - XOne. Оценки и количество продаж не сильно зависят друг от друга."
   ]
  },
  {
   "cell_type": "markdown",
   "metadata": {},
   "source": [
    "**Посмотреть на общее распределение игр по жанрам**"
   ]
  },
  {
   "cell_type": "code",
   "execution_count": 31,
   "metadata": {},
   "outputs": [
    {
     "data": {
      "image/png": "[encoded data removed]",
      "text/plain": [
       "<Figure size 720x360 with 1 Axes>"
      ]
     },
     "metadata": {},
     "output_type": "display_data"
    }
   ],
   "source": [
    "#посмотрим на распределение на самой популярной по продажам платформе\n",
    "(PS4\n",
    "    .pivot_table(index='genre', values='total_sales')\n",
    "    .sort_values('total_sales', ascending=False)\n",
    "    .plot(kind='bar', y='total_sales', figsize=(10, 5), legend=False,title = 'Платформа PS4')\n",
    "    .set(xlabel='Жанр', ylabel='Глобальные продажи'))\n",
    "\n",
    "plt.show()"
   ]
  },
  {
   "cell_type": "code",
   "execution_count": 32,
   "metadata": {},
   "outputs": [
    {
     "data": {
      "image/png": "[encoded data removed]",
      "text/plain": [
       "<Figure size 720x360 with 1 Axes>"
      ]
     },
     "metadata": {},
     "output_type": "display_data"
    }
   ],
   "source": [
    "# Посмотрим на распределение по популярным платформам\n",
    "(actual_platforms\n",
    "    .pivot_table(index='genre', values='total_sales')\n",
    "    .sort_values('total_sales', ascending=False)\n",
    "    .plot(kind='bar', y='total_sales', figsize=(10, 5), legend=False,title = 'Все платформы с 2012 года')\n",
    "    .set(xlabel='Жанр', ylabel='Глобальные продажи'))\n",
    "\n",
    "plt.show()"
   ]
  },
  {
   "cell_type": "markdown",
   "metadata": {},
   "source": [
    "Исходя из двух графиков выше можно сделать выводы:\n",
    "- Что на самой популярной платформе, что на всех платформах самым популярным по покупкам счиатется жанр \"Shooter\". У него большне всего продаж.\n",
    "- Adventure - самый не популярный жанр, по всем платформам, но не на самой популярной.\n",
    "- На самой популярной платформе, саый непопулярный жанр это \"Puzzle\""
   ]
  },
  {
   "cell_type": "markdown",
   "metadata": {},
   "source": [
    "<a name=\"stage_1\"></a>\n",
    "# 4. Составить портрет пользователя кажлого региона (NA, EU, JP):\n"
   ]
  },
  {
   "cell_type": "markdown",
   "metadata": {},
   "source": [
    "**Самые популярные платформы (топ-5). Опишите различия в долях продаж.**\n"
   ]
  },
  {
   "cell_type": "code",
   "execution_count": 33,
   "metadata": {},
   "outputs": [
    {
     "data": {
      "image/png": "[encoded data removed]",
      "text/plain": [
       "<Figure size 432x432 with 1 Axes>"
      ]
     },
     "metadata": {},
     "output_type": "display_data"
    },
    {
     "data": {
      "image/png": "[encoded data removed]",
      "text/plain": [
       "<Figure size 432x432 with 1 Axes>"
      ]
     },
     "metadata": {},
     "output_type": "display_data"
    },
    {
     "data": {
      "image/png": "[encoded data removed]",
      "text/plain": [
       "<Figure size 432x432 with 1 Axes>"
      ]
     },
     "metadata": {},
     "output_type": "display_data"
    }
   ],
   "source": [
    "#Сначала нужно собрать всех пользователей по регионам\n",
    "regions_users = ['na_sales','eu_sales','jp_sales']\n",
    "\n",
    "#теперь посмотрим на доли продаж. для этого хорошо подойдёт круглая диаграмма\n",
    "for region in regions_users:\n",
    "    (actual_platforms.pivot_table(index='platform', values=region, aggfunc='sum')\n",
    "                .sort_values(region, ascending=False).head(5)\n",
    "                .plot(kind='pie', y=region, autopct='%1.0f%%', figsize=(6, 6), legend=True, title = region)\n",
    "                .set(ylabel='to sell')\n",
    "    )\n",
    "    plt.show()"
   ]
  },
  {
   "cell_type": "markdown",
   "metadata": {},
   "source": [
    "на круговых диограммах по регионам видно:\n",
    "1. На Североамерканском рынке распределение продаж почти равномерно. Лидирует доля продаж X360 (доля 28%), а вот платформы PS4(22%)и PS3 (21%) почти равны, что говорит о том, что они равны по количеству продаж.\n",
    "2. На Европейском рынке лидирует PS4 (31%), за ним идут PS3(26%), остальные меньше 205 доля продаж.\n",
    "3. На японском рынке большую долю занимает 3DS(51%), остальные платформы меньше 20%\n",
    "Из такого распределения можно сделать вывод о том, что на Американском и Еропейском рынке по продажам лидируют популярные во всём мире платформы, а во тв японии судя по всему популярна какя-то местная платформа для игр."
   ]
  },
  {
   "cell_type": "markdown",
   "metadata": {},
   "source": [
    "**Самые популярные жанры (топ-5). Поясните разницу.**"
   ]
  },
  {
   "cell_type": "code",
   "execution_count": 34,
   "metadata": {},
   "outputs": [
    {
     "data": {
      "image/png": "[encoded data removed]",
      "text/plain": [
       "<Figure size 432x432 with 1 Axes>"
      ]
     },
     "metadata": {},
     "output_type": "display_data"
    },
    {
     "data": {
      "image/png": "[encoded data removed]",
      "text/plain": [
       "<Figure size 432x432 with 1 Axes>"
      ]
     },
     "metadata": {},
     "output_type": "display_data"
    },
    {
     "data": {
      "image/png": "[encoded data removed]",
      "text/plain": [
       "<Figure size 432x432 with 1 Axes>"
      ]
     },
     "metadata": {},
     "output_type": "display_data"
    }
   ],
   "source": [
    "for region in regions_users:\n",
    "    (actual_platforms.pivot_table(index='genre', values=region, aggfunc='sum')\n",
    "                .sort_values(region, ascending=False).head(5)\n",
    "                .plot(kind='pie', y=region, autopct='%1.0f%%', figsize=(6, 6), legend=False, title = region)\n",
    "                .set(ylabel='to sell')\n",
    "    )\n",
    "    plt.show()"
   ]
  },
  {
   "cell_type": "markdown",
   "metadata": {},
   "source": [
    "Из графиков виднно, что на Североамериканском и Европейском рыноках лидирует жанр \"Action\". На японском \"Role-Playing\". Объяснить эту разницу можно популярностью платформ в конкретном регионе. Видимо в ролевые игры на 3DS играть удобнее всего, а в экшин на платформах от X-box и Playstayhon."
   ]
  },
  {
   "cell_type": "markdown",
   "metadata": {},
   "source": [
    "**Влияет ли рейтинг ESRB на продажи в отдельном регионе?**"
   ]
  },
  {
   "cell_type": "code",
   "execution_count": 35,
   "metadata": {},
   "outputs": [
    {
     "data": {
      "image/png": "[encoded data removed]",
      "text/plain": [
       "<Figure size 432x432 with 1 Axes>"
      ]
     },
     "metadata": {},
     "output_type": "display_data"
    },
    {
     "data": {
      "image/png": "[encoded data removed]",
      "text/plain": [
       "<Figure size 432x432 with 1 Axes>"
      ]
     },
     "metadata": {},
     "output_type": "display_data"
    },
    {
     "data": {
      "image/png": "[encoded data removed]",
      "text/plain": [
       "<Figure size 432x432 with 1 Axes>"
      ]
     },
     "metadata": {},
     "output_type": "display_data"
    }
   ],
   "source": [
    "\n",
    "for region in regions_users:\n",
    "    (actual_platforms.pivot_table(index='rating', values=region, aggfunc='sum')\n",
    "                .sort_values(region, ascending=False).head(5)\n",
    "                .plot(kind='pie', y=region, autopct='%1.0f%%', figsize=(6, 6), legend=False, title = region)\n",
    "    )\n",
    "    plt.show()"
   ]
  },
  {
   "cell_type": "markdown",
   "metadata": {},
   "source": [
    "На Североамеркианском и Европейском рынке хорошо продаются игры с рейтингом \"М\". на японском без рейтинга."
   ]
  },
  {
   "cell_type": "markdown",
   "metadata": {},
   "source": [
    "**Вывод**\n",
    "\n",
    "Среднестатический игрок из Севернйо америки и европы похожи - они предпочитают игры с рейтингом \"М\", и играют на платформах X-box и PS, а также предпочитают игры в жанре \"Action\" больше чем все остальные жанры.\n",
    "Японский рынок уникальный. Там предпочитают играть на своей прситавке 3DS в ролевые игры без рейтинга."
   ]
  },
  {
   "cell_type": "markdown",
   "metadata": {},
   "source": [
    "<a name=\"stage_1\"></a>\n",
    "# 5. Проверка гипотез:\n"
   ]
  },
  {
   "cell_type": "markdown",
   "metadata": {},
   "source": [
    "Необходимо проверить две гипотезы:\n",
    "- Средние пользовательские рейтинги платформ Xbox One и PC одинаковые;\n",
    "- Средние пользовательские рейтинги жанров Action (англ. «действие», экшен-игры) и Sports (англ. «спортивные соревнования») разные."
   ]
  },
  {
   "cell_type": "markdown",
   "metadata": {},
   "source": [
    "**Средние пользовательские рейтинги платформ Xbox One и PC одинаковые**"
   ]
  },
  {
   "cell_type": "markdown",
   "metadata": {},
   "source": [
    "У нас есть две гепотизы:\n",
    "\n",
    "H0: Средние пользовательские рейтинги платформ Xbox One и PC одинаковые.\n",
    "\n",
    "H1: Средние пользовательские рейтинги платформ Xbox One и PC различаются."
   ]
  },
  {
   "cell_type": "code",
   "execution_count": 36,
   "metadata": {},
   "outputs": [
    {
     "name": "stdout",
     "output_type": "stream",
     "text": [
      "Дисперсия выборки xone 1.8795460055096425\n",
      "Дисперсия выборки pc 2.8773743617307175\n"
     ]
    }
   ],
   "source": [
    "#\n",
    "xone = actual_platforms.query(\"platform == 'XOne' and user_score != 0\")\n",
    "pc = actual_platforms.query(\"platform == 'PC' and user_score != 0\")\n",
    "\n",
    "print(\"Дисперсия выборки xone\",np.var(xone['user_score']))\n",
    "print(\"Дисперсия выборки pc\",np.var(pc['user_score']))"
   ]
  },
  {
   "cell_type": "code",
   "execution_count": 37,
   "metadata": {},
   "outputs": [
    {
     "name": "stdout",
     "output_type": "stream",
     "text": [
      "p-значение: 0.11601398086668832\n",
      "Не получилось отвергнуть нулевую гипотезу\n"
     ]
    }
   ],
   "source": [
    "#\n",
    "alpha = .05\n",
    "\n",
    "results = st.ttest_ind(\n",
    "    xone['user_score'],\n",
    "    pc['user_score'],\n",
    "    equal_var=False  # Welch’s t-test, который не предполагает равенство дисперсий\n",
    ")\n",
    "\n",
    "print('p-значение:', results.pvalue)\n",
    "\n",
    "if (results.pvalue < alpha):\n",
    "    print(\"Отвергаем нулевую гипотезу\")\n",
    "else:\n",
    "    print(\"Не получилось отвергнуть нулевую гипотезу\")"
   ]
  },
  {
   "cell_type": "markdown",
   "metadata": {},
   "source": [
    "Дополнительно выведем средние значения рейтинга"
   ]
  },
  {
   "cell_type": "code",
   "execution_count": 38,
   "metadata": {},
   "outputs": [
    {
     "data": {
      "text/plain": [
       "6.594545454545456"
      ]
     },
     "execution_count": 38,
     "metadata": {},
     "output_type": "execute_result"
    }
   ],
   "source": [
    "xone['user_score'].mean()"
   ]
  },
  {
   "cell_type": "code",
   "execution_count": 39,
   "metadata": {},
   "outputs": [
    {
     "data": {
      "text/plain": [
       "6.298360655737705"
      ]
     },
     "execution_count": 39,
     "metadata": {},
     "output_type": "execute_result"
    }
   ],
   "source": [
    "pc['user_score'].mean()"
   ]
  },
  {
   "cell_type": "markdown",
   "metadata": {},
   "source": [
    "Результат p-value говорит нам о том, что  с вероятностью почти в 12% получится такой же результат, что означает, что одинаковость оценок на выбранных двух платформах не случайна. Поэтмоу отвергнуть нулевую гипотезу не получится. "
   ]
  },
  {
   "cell_type": "markdown",
   "metadata": {},
   "source": [
    "**Средние пользовательские рейтинги жанров Action (англ. «действие», экшен-игры) и Sports (англ. «спортивные соревнования») разные.**"
   ]
  },
  {
   "cell_type": "markdown",
   "metadata": {},
   "source": [
    "Две гипотезы:\n",
    "\n",
    "H0: Средние пользовательские рейтинги жанров Action и Sports одинаковые.\n",
    "\n",
    "H1: Средние пользовательские рейтинги жанров Action и Sports различаются.\n"
   ]
  },
  {
   "cell_type": "code",
   "execution_count": 40,
   "metadata": {},
   "outputs": [
    {
     "name": "stdout",
     "output_type": "stream",
     "text": [
      "Дисперсия выборки action 1.89208448117539\n",
      "Дисперсия выборки sport 3.4198375596751185\n"
     ]
    }
   ],
   "source": [
    "#\n",
    "action = actual_platforms.query(\"genre == 'Action' and user_score != 0\")\n",
    "sport = actual_platforms.query(\"genre == 'Sports' and user_score != 0\")\n",
    "\n",
    "print(\"Дисперсия выборки action\",np.var(action['user_score']))\n",
    "print(\"Дисперсия выборки sport\",np.var(sport['user_score']))"
   ]
  },
  {
   "cell_type": "code",
   "execution_count": 41,
   "metadata": {},
   "outputs": [
    {
     "name": "stdout",
     "output_type": "stream",
     "text": [
      "p-значение: 1.1825550382644557e-14\n",
      "Отвергаем нулевую гипотезу\n"
     ]
    }
   ],
   "source": [
    "#\n",
    "alpha = .05\n",
    "\n",
    "results = st.ttest_ind(\n",
    "    action['user_score'],\n",
    "    sport['user_score'],\n",
    "    equal_var=False,  # Welch’s t-test, который не предполагает равенство дисперсий\n",
    ")\n",
    "\n",
    "print('p-значение:', results.pvalue)\n",
    "\n",
    "if (results.pvalue < alpha):\n",
    "    print(\"Отвергаем нулевую гипотезу\")\n",
    "else:\n",
    "    print(\"Не получилось отвергнуть нулевую гипотезу\")"
   ]
  },
  {
   "cell_type": "markdown",
   "metadata": {},
   "source": [
    "Дополнительно выведем средние значения рейтинга"
   ]
  },
  {
   "cell_type": "code",
   "execution_count": 42,
   "metadata": {},
   "outputs": [
    {
     "data": {
      "text/plain": [
       "6.760606060606061"
      ]
     },
     "execution_count": 42,
     "metadata": {},
     "output_type": "execute_result"
    }
   ],
   "source": [
    "action['user_score'].mean()"
   ]
  },
  {
   "cell_type": "code",
   "execution_count": 43,
   "metadata": {},
   "outputs": [
    {
     "data": {
      "text/plain": [
       "5.2251968503937"
      ]
     },
     "execution_count": 43,
     "metadata": {},
     "output_type": "execute_result"
    }
   ],
   "source": [
    "sport['user_score'].mean()"
   ]
  },
  {
   "cell_type": "markdown",
   "metadata": {},
   "source": [
    "Вероятность получить одинаковые оценки составляет меньше 1%. Это очень маленькая вероятность поэтому нулевая гипотеза отвергается. Средний пользвоательский рейтинг жанров Action и Sports различаются."
   ]
  },
  {
   "cell_type": "markdown",
   "metadata": {},
   "source": [
    "<a name=\"stage_1\"></a>\n",
    "# 6. Написать общий вывод"
   ]
  },
  {
   "cell_type": "markdown",
   "metadata": {},
   "source": [
    "По результатам проведённого исследования можно сделать следющие выводы:\n",
    "\n",
    "1. Начиная с 2012 года выпуск игр на всех платформах находится на одном уровне, и он ниже чем был с 2008 по 2011 года.\n",
    "2. Начиная с 2014 года наблюдается уменьшение продаж на всех популярных платформах.\n",
    "3. Больше всего продаж по всем регионом риходится на платформу PS4 (~418 млн. копий начиная с 2014 г. ).\n",
    "4. По популярности платформ и покупаемым играм по жанру Североамериканский и европейский рынок похожи, у них почти одинаковая доля продаж как по устройствам (X-box и PS - доли не меньше 20%) так и по популярности жанра (около 30 % приходится на \"Action\")\n",
    "5. Японский рынок отличается от остальных, там лидирует своя платформа (51% доля продаж), так и по жанру (на 43% на ролевую игру)\n",
    "5. По возрастному ограничению Японский рынок тоже отличается от остальных, в нём привалируют игры без возрастного рейтинга (57% доля продаж)\n",
    "6. Среднии оценки на платформах Xbox One и PC одинаковые одинаковые, это подтверждается исследованием, о том, что при случайном соотношении оценок вероятность попасть в этот результат составляет 12% что является допустимым риском.\n",
    "7. Среднии оценки по жанрам Action и Sports различаются, т.к. согласно исследвоанию, вероятность того что они будут одинаковые составляет меньше 1% что слишком высокий риск.\n",
    "\n",
    "В итоге выгодно продавать игры под Североамериканский и Европейский рынок в жанре \"Action\" на платформах PS4 и XOne, на японском рынке для успешных продаж нужно учесть их особенности и сосредоточиться на платформе 3DS в жанре ролевой игры. так можно будет получить Максимальную прибыль т.к. от оценок продажи сильно не зависят (можно не опасатсья плохих отзывов).\n"
   ]
  },
  {
   "cell_type": "code",
   "execution_count": null,
   "metadata": {},
   "outputs": [],
   "source": []
  }
 ],
 "metadata": {
  "ExecuteTimeLog": [
   {
    "duration": 102,
    "start_time": "2022-11-14T08:18:00.354Z"
   },
   {
    "duration": 491,
    "start_time": "2022-11-14T08:30:58.282Z"
   },
   {
    "duration": 46,
    "start_time": "2022-11-14T08:31:50.798Z"
   },
   {
    "duration": 106,
    "start_time": "2022-11-14T08:32:01.739Z"
   },
   {
    "duration": 1016,
    "start_time": "2022-11-14T08:33:16.576Z"
   },
   {
    "duration": 65,
    "start_time": "2022-11-14T08:33:29.381Z"
   },
   {
    "duration": 64,
    "start_time": "2022-11-14T08:33:37.307Z"
   },
   {
    "duration": 22,
    "start_time": "2022-11-14T08:33:42.052Z"
   },
   {
    "duration": 9,
    "start_time": "2022-11-14T08:34:08.042Z"
   },
   {
    "duration": 14,
    "start_time": "2022-11-14T08:34:20.630Z"
   },
   {
    "duration": 50,
    "start_time": "2022-11-14T08:34:27.244Z"
   },
   {
    "duration": 20,
    "start_time": "2022-11-14T08:34:28.502Z"
   },
   {
    "duration": 63,
    "start_time": "2022-11-14T08:34:33.229Z"
   },
   {
    "duration": 11,
    "start_time": "2022-11-14T08:36:28.522Z"
   },
   {
    "duration": 15,
    "start_time": "2022-11-14T08:36:51.358Z"
   },
   {
    "duration": 13,
    "start_time": "2022-11-14T08:37:34.872Z"
   },
   {
    "duration": 3,
    "start_time": "2022-11-14T08:39:52.794Z"
   },
   {
    "duration": 9,
    "start_time": "2022-11-14T08:39:57.778Z"
   },
   {
    "duration": 357,
    "start_time": "2022-11-14T09:23:53.359Z"
   },
   {
    "duration": 8,
    "start_time": "2022-11-14T09:24:34.486Z"
   },
   {
    "duration": 343,
    "start_time": "2022-11-14T09:24:52.159Z"
   },
   {
    "duration": 8,
    "start_time": "2022-11-14T09:26:10.885Z"
   },
   {
    "duration": 372,
    "start_time": "2022-11-14T09:26:20.341Z"
   },
   {
    "duration": 4,
    "start_time": "2022-11-14T09:26:32.921Z"
   },
   {
    "duration": 372,
    "start_time": "2022-11-14T09:26:38.259Z"
   },
   {
    "duration": 9,
    "start_time": "2022-11-14T09:27:24.271Z"
   },
   {
    "duration": 3,
    "start_time": "2022-11-14T09:27:31.823Z"
   },
   {
    "duration": 3,
    "start_time": "2022-11-14T09:27:42.567Z"
   },
   {
    "duration": 292,
    "start_time": "2022-11-14T09:28:42.536Z"
   },
   {
    "duration": 374,
    "start_time": "2022-11-14T09:28:57.527Z"
   },
   {
    "duration": 3,
    "start_time": "2022-11-14T09:30:05.720Z"
   },
   {
    "duration": 4,
    "start_time": "2022-11-14T09:30:08.409Z"
   },
   {
    "duration": 11,
    "start_time": "2022-11-14T09:40:57.533Z"
   },
   {
    "duration": 3,
    "start_time": "2022-11-14T09:41:48.915Z"
   },
   {
    "duration": 16,
    "start_time": "2022-11-14T09:41:57.107Z"
   },
   {
    "duration": 8,
    "start_time": "2022-11-14T09:42:33.220Z"
   },
   {
    "duration": 9,
    "start_time": "2022-11-14T09:42:37.060Z"
   },
   {
    "duration": 11,
    "start_time": "2022-11-14T09:44:16.502Z"
   },
   {
    "duration": 9,
    "start_time": "2022-11-14T09:44:17.458Z"
   },
   {
    "duration": 13,
    "start_time": "2022-11-14T09:47:49.745Z"
   },
   {
    "duration": 9,
    "start_time": "2022-11-14T09:47:50.522Z"
   },
   {
    "duration": 27,
    "start_time": "2022-11-14T09:48:54.059Z"
   },
   {
    "duration": 25,
    "start_time": "2022-11-14T09:49:20.547Z"
   },
   {
    "duration": 1110,
    "start_time": "2022-11-14T09:49:31.218Z"
   },
   {
    "duration": 18,
    "start_time": "2022-11-14T09:49:32.331Z"
   },
   {
    "duration": 16,
    "start_time": "2022-11-14T09:49:32.467Z"
   },
   {
    "duration": 10,
    "start_time": "2022-11-14T09:49:34.347Z"
   },
   {
    "duration": 4,
    "start_time": "2022-11-14T09:49:35.763Z"
   },
   {
    "duration": 3,
    "start_time": "2022-11-14T09:49:36.811Z"
   },
   {
    "duration": 5,
    "start_time": "2022-11-14T09:49:37.499Z"
   },
   {
    "duration": 95,
    "start_time": "2022-11-14T09:49:39.332Z"
   },
   {
    "duration": 30,
    "start_time": "2022-11-14T09:49:51.629Z"
   },
   {
    "duration": 12,
    "start_time": "2022-11-14T09:49:59.548Z"
   },
   {
    "duration": 26,
    "start_time": "2022-11-14T09:50:28.860Z"
   },
   {
    "duration": 77,
    "start_time": "2022-11-14T09:50:41.021Z"
   },
   {
    "duration": 26,
    "start_time": "2022-11-14T09:50:43.644Z"
   },
   {
    "duration": 23,
    "start_time": "2022-11-14T09:52:35.679Z"
   },
   {
    "duration": 326,
    "start_time": "2022-11-14T09:52:43.728Z"
   },
   {
    "duration": 28,
    "start_time": "2022-11-14T09:53:00.168Z"
   },
   {
    "duration": 12,
    "start_time": "2022-11-14T09:53:20.210Z"
   },
   {
    "duration": 28,
    "start_time": "2022-11-14T09:53:24.434Z"
   },
   {
    "duration": 15,
    "start_time": "2022-11-14T09:54:47.370Z"
   },
   {
    "duration": 25,
    "start_time": "2022-11-14T09:55:08.522Z"
   },
   {
    "duration": 33,
    "start_time": "2022-11-14T09:55:17.241Z"
   },
   {
    "duration": 14,
    "start_time": "2022-11-14T09:55:47.346Z"
   },
   {
    "duration": 9,
    "start_time": "2022-11-14T09:55:48.832Z"
   },
   {
    "duration": 16,
    "start_time": "2022-11-14T09:56:50.746Z"
   },
   {
    "duration": 10,
    "start_time": "2022-11-14T09:56:51.962Z"
   },
   {
    "duration": 325,
    "start_time": "2022-11-14T09:58:59.076Z"
   },
   {
    "duration": 15,
    "start_time": "2022-11-14T10:00:18.148Z"
   },
   {
    "duration": 20,
    "start_time": "2022-11-14T10:04:03.442Z"
   },
   {
    "duration": 18,
    "start_time": "2022-11-14T10:04:23.809Z"
   },
   {
    "duration": 11,
    "start_time": "2022-11-14T10:04:24.713Z"
   },
   {
    "duration": 15,
    "start_time": "2022-11-14T10:04:26.473Z"
   },
   {
    "duration": 20,
    "start_time": "2022-11-14T10:05:00.146Z"
   },
   {
    "duration": 10,
    "start_time": "2022-11-14T10:05:00.560Z"
   },
   {
    "duration": 16,
    "start_time": "2022-11-14T10:05:01.786Z"
   },
   {
    "duration": 16,
    "start_time": "2022-11-14T10:06:32.723Z"
   },
   {
    "duration": 9,
    "start_time": "2022-11-14T10:06:33.171Z"
   },
   {
    "duration": 15,
    "start_time": "2022-11-14T10:06:34.371Z"
   },
   {
    "duration": 19,
    "start_time": "2022-11-14T10:06:53.508Z"
   },
   {
    "duration": 10,
    "start_time": "2022-11-14T10:06:53.802Z"
   },
   {
    "duration": 15,
    "start_time": "2022-11-14T10:06:54.675Z"
   },
   {
    "duration": 19,
    "start_time": "2022-11-14T10:07:13.974Z"
   },
   {
    "duration": 9,
    "start_time": "2022-11-14T10:07:14.412Z"
   },
   {
    "duration": 19,
    "start_time": "2022-11-14T10:07:15.308Z"
   },
   {
    "duration": 23,
    "start_time": "2022-11-14T10:07:26.196Z"
   },
   {
    "duration": 9,
    "start_time": "2022-11-14T10:07:26.469Z"
   },
   {
    "duration": 15,
    "start_time": "2022-11-14T10:07:27.292Z"
   },
   {
    "duration": 332,
    "start_time": "2022-11-14T10:07:41.117Z"
   },
   {
    "duration": 23,
    "start_time": "2022-11-14T10:07:59.238Z"
   },
   {
    "duration": 9,
    "start_time": "2022-11-14T10:07:59.709Z"
   },
   {
    "duration": 291,
    "start_time": "2022-11-14T10:08:00.669Z"
   },
   {
    "duration": 17,
    "start_time": "2022-11-14T10:08:50.782Z"
   },
   {
    "duration": 16,
    "start_time": "2022-11-14T10:10:50.592Z"
   },
   {
    "duration": 4,
    "start_time": "2022-11-14T10:11:02.672Z"
   },
   {
    "duration": 17,
    "start_time": "2022-11-14T10:11:23.872Z"
   },
   {
    "duration": 13,
    "start_time": "2022-11-14T10:12:38.913Z"
   },
   {
    "duration": 14,
    "start_time": "2022-11-14T10:13:41.042Z"
   },
   {
    "duration": 32,
    "start_time": "2022-11-14T10:14:33.515Z"
   },
   {
    "duration": 5,
    "start_time": "2022-11-14T10:35:47.847Z"
   },
   {
    "duration": 15,
    "start_time": "2022-11-14T10:37:14.377Z"
   },
   {
    "duration": 9,
    "start_time": "2022-11-14T10:37:15.096Z"
   },
   {
    "duration": 14,
    "start_time": "2022-11-14T10:37:19.001Z"
   },
   {
    "duration": 13,
    "start_time": "2022-11-14T10:37:19.823Z"
   },
   {
    "duration": 14,
    "start_time": "2022-11-14T10:37:20.705Z"
   },
   {
    "duration": 19,
    "start_time": "2022-11-14T10:38:27.393Z"
   },
   {
    "duration": 175,
    "start_time": "2022-11-14T10:52:53.909Z"
   },
   {
    "duration": 122,
    "start_time": "2022-11-14T10:52:58.610Z"
   },
   {
    "duration": 277,
    "start_time": "2022-11-14T13:04:33.329Z"
   },
   {
    "duration": 8,
    "start_time": "2022-11-14T13:04:46.719Z"
   },
   {
    "duration": 14,
    "start_time": "2022-11-14T13:05:23.808Z"
   },
   {
    "duration": 10,
    "start_time": "2022-11-14T13:05:31.689Z"
   },
   {
    "duration": 5,
    "start_time": "2022-11-14T13:05:53.416Z"
   },
   {
    "duration": 301,
    "start_time": "2022-11-14T13:05:53.746Z"
   },
   {
    "duration": 124,
    "start_time": "2022-11-14T13:40:41.771Z"
   },
   {
    "duration": 131,
    "start_time": "2022-11-14T13:40:47.540Z"
   },
   {
    "duration": 393,
    "start_time": "2022-11-14T13:40:58.580Z"
   },
   {
    "duration": 117,
    "start_time": "2022-11-14T13:45:58.953Z"
   },
   {
    "duration": 8,
    "start_time": "2022-11-14T14:03:20.699Z"
   },
   {
    "duration": 9,
    "start_time": "2022-11-14T14:04:39.779Z"
   },
   {
    "duration": 109,
    "start_time": "2022-11-14T14:04:46.348Z"
   },
   {
    "duration": 19,
    "start_time": "2022-11-14T14:04:49.963Z"
   },
   {
    "duration": 96,
    "start_time": "2022-11-14T14:05:06.085Z"
   },
   {
    "duration": 95,
    "start_time": "2022-11-14T14:05:16.468Z"
   },
   {
    "duration": 17,
    "start_time": "2022-11-14T14:06:11.196Z"
   },
   {
    "duration": 21,
    "start_time": "2022-11-14T14:06:30.231Z"
   },
   {
    "duration": 14,
    "start_time": "2022-11-14T14:06:50.062Z"
   },
   {
    "duration": 80,
    "start_time": "2022-11-14T14:07:18.654Z"
   },
   {
    "duration": 73,
    "start_time": "2022-11-14T14:07:32.449Z"
   },
   {
    "duration": 76,
    "start_time": "2022-11-14T14:07:39.174Z"
   },
   {
    "duration": 74,
    "start_time": "2022-11-14T14:07:49.439Z"
   },
   {
    "duration": 75,
    "start_time": "2022-11-14T14:08:22.024Z"
   },
   {
    "duration": 1123,
    "start_time": "2022-11-14T14:11:32.314Z"
   },
   {
    "duration": 0,
    "start_time": "2022-11-14T14:11:33.439Z"
   },
   {
    "duration": 71,
    "start_time": "2022-11-14T14:11:55.570Z"
   },
   {
    "duration": 1122,
    "start_time": "2022-11-14T14:12:00.025Z"
   },
   {
    "duration": 1106,
    "start_time": "2022-11-14T14:12:26.539Z"
   },
   {
    "duration": 26,
    "start_time": "2022-11-14T14:13:25.284Z"
   },
   {
    "duration": 1075,
    "start_time": "2022-11-14T14:13:42.128Z"
   },
   {
    "duration": 1219,
    "start_time": "2022-11-14T14:14:30.213Z"
   },
   {
    "duration": 82,
    "start_time": "2022-11-14T14:14:44.575Z"
   },
   {
    "duration": 1181,
    "start_time": "2022-11-14T14:14:51.644Z"
   },
   {
    "duration": 1163,
    "start_time": "2022-11-14T14:15:07.748Z"
   },
   {
    "duration": 8,
    "start_time": "2022-11-14T14:17:13.263Z"
   },
   {
    "duration": 4,
    "start_time": "2022-11-14T14:17:50.698Z"
   },
   {
    "duration": 8,
    "start_time": "2022-11-14T14:18:02.239Z"
   },
   {
    "duration": 1142,
    "start_time": "2022-11-14T14:18:08.040Z"
   },
   {
    "duration": 71,
    "start_time": "2022-11-14T14:18:37.023Z"
   },
   {
    "duration": 1135,
    "start_time": "2022-11-14T14:19:04.464Z"
   },
   {
    "duration": 69,
    "start_time": "2022-11-14T14:20:34.595Z"
   },
   {
    "duration": 1165,
    "start_time": "2022-11-14T14:20:39.138Z"
   },
   {
    "duration": 72,
    "start_time": "2022-11-14T14:20:49.458Z"
   },
   {
    "duration": 1122,
    "start_time": "2022-11-14T14:20:58.451Z"
   },
   {
    "duration": 27,
    "start_time": "2022-11-14T14:22:07.147Z"
   },
   {
    "duration": 25,
    "start_time": "2022-11-14T14:22:27.414Z"
   },
   {
    "duration": 35,
    "start_time": "2022-11-14T14:23:08.454Z"
   },
   {
    "duration": 28,
    "start_time": "2022-11-14T14:23:39.430Z"
   },
   {
    "duration": 1251,
    "start_time": "2022-11-14T14:24:19.429Z"
   },
   {
    "duration": 18,
    "start_time": "2022-11-14T14:24:20.682Z"
   },
   {
    "duration": 15,
    "start_time": "2022-11-14T14:24:21.351Z"
   },
   {
    "duration": 9,
    "start_time": "2022-11-14T14:24:24.045Z"
   },
   {
    "duration": 6,
    "start_time": "2022-11-14T14:24:25.700Z"
   },
   {
    "duration": 3,
    "start_time": "2022-11-14T14:24:26.661Z"
   },
   {
    "duration": 4,
    "start_time": "2022-11-14T14:24:27.333Z"
   },
   {
    "duration": 22,
    "start_time": "2022-11-14T14:24:29.717Z"
   },
   {
    "duration": 10,
    "start_time": "2022-11-14T14:24:30.566Z"
   },
   {
    "duration": 16,
    "start_time": "2022-11-14T14:24:31.901Z"
   },
   {
    "duration": 15,
    "start_time": "2022-11-14T14:24:32.765Z"
   },
   {
    "duration": 15,
    "start_time": "2022-11-14T14:24:33.373Z"
   },
   {
    "duration": 34,
    "start_time": "2022-11-14T14:24:34.510Z"
   },
   {
    "duration": 18,
    "start_time": "2022-11-14T14:24:35.901Z"
   },
   {
    "duration": 180,
    "start_time": "2022-11-14T14:24:37.388Z"
   },
   {
    "duration": 286,
    "start_time": "2022-11-14T14:24:38.795Z"
   },
   {
    "duration": 5,
    "start_time": "2022-11-14T14:24:39.717Z"
   },
   {
    "duration": 5,
    "start_time": "2022-11-14T14:24:40.444Z"
   },
   {
    "duration": 305,
    "start_time": "2022-11-14T14:24:41.253Z"
   },
   {
    "duration": 141,
    "start_time": "2022-11-14T14:24:43.620Z"
   },
   {
    "duration": 105,
    "start_time": "2022-11-14T14:24:45.565Z"
   },
   {
    "duration": 22,
    "start_time": "2022-11-14T14:24:47.994Z"
   },
   {
    "duration": 94,
    "start_time": "2022-11-14T14:28:31.921Z"
   },
   {
    "duration": 9,
    "start_time": "2022-11-14T14:28:55.593Z"
   },
   {
    "duration": 66,
    "start_time": "2022-11-14T14:29:04.201Z"
   },
   {
    "duration": 9,
    "start_time": "2022-11-14T14:29:17.810Z"
   },
   {
    "duration": 8,
    "start_time": "2022-11-14T14:29:37.754Z"
   },
   {
    "duration": 3,
    "start_time": "2022-11-14T14:29:39.049Z"
   },
   {
    "duration": 10,
    "start_time": "2022-11-14T14:32:04.196Z"
   },
   {
    "duration": 99,
    "start_time": "2022-11-14T14:32:13.861Z"
   },
   {
    "duration": 88,
    "start_time": "2022-11-14T14:35:17.865Z"
   },
   {
    "duration": 6,
    "start_time": "2022-11-14T14:36:04.393Z"
   },
   {
    "duration": 5,
    "start_time": "2022-11-14T14:36:31.929Z"
   },
   {
    "duration": 4,
    "start_time": "2022-11-14T14:36:46.001Z"
   },
   {
    "duration": 127,
    "start_time": "2022-11-14T14:37:06.945Z"
   },
   {
    "duration": 186,
    "start_time": "2022-11-14T14:37:09.890Z"
   },
   {
    "duration": 110,
    "start_time": "2022-11-14T14:37:19.753Z"
   },
   {
    "duration": 133,
    "start_time": "2022-11-14T14:37:22.618Z"
   },
   {
    "duration": 296,
    "start_time": "2022-11-14T14:37:47.322Z"
   },
   {
    "duration": 242,
    "start_time": "2022-11-14T14:38:20.306Z"
   },
   {
    "duration": 244,
    "start_time": "2022-11-14T14:38:23.466Z"
   },
   {
    "duration": 267,
    "start_time": "2022-11-14T14:39:12.108Z"
   },
   {
    "duration": 242,
    "start_time": "2022-11-14T14:39:26.531Z"
   },
   {
    "duration": 4,
    "start_time": "2022-11-14T14:39:52.644Z"
   },
   {
    "duration": 137,
    "start_time": "2022-11-14T14:39:58.020Z"
   },
   {
    "duration": 119,
    "start_time": "2022-11-14T14:40:03.124Z"
   },
   {
    "duration": 119,
    "start_time": "2022-11-14T15:05:42.040Z"
   },
   {
    "duration": 139,
    "start_time": "2022-11-14T15:05:48.714Z"
   },
   {
    "duration": 9,
    "start_time": "2022-11-14T15:07:05.988Z"
   },
   {
    "duration": 181,
    "start_time": "2022-11-14T15:08:44.205Z"
   },
   {
    "duration": 230,
    "start_time": "2022-11-14T15:10:10.776Z"
   },
   {
    "duration": 125,
    "start_time": "2022-11-14T17:00:10.151Z"
   },
   {
    "duration": 103,
    "start_time": "2022-11-15T08:06:25.120Z"
   },
   {
    "duration": 83,
    "start_time": "2022-11-15T08:15:48.144Z"
   },
   {
    "duration": 54,
    "start_time": "2022-11-15T08:15:56.740Z"
   },
   {
    "duration": 1510,
    "start_time": "2022-11-15T08:16:02.026Z"
   },
   {
    "duration": 19,
    "start_time": "2022-11-15T08:16:03.538Z"
   },
   {
    "duration": 15,
    "start_time": "2022-11-15T08:16:03.559Z"
   },
   {
    "duration": 16,
    "start_time": "2022-11-15T08:16:03.576Z"
   },
   {
    "duration": 4,
    "start_time": "2022-11-15T08:16:04.846Z"
   },
   {
    "duration": 4,
    "start_time": "2022-11-15T08:16:05.430Z"
   },
   {
    "duration": 4,
    "start_time": "2022-11-15T08:16:05.906Z"
   },
   {
    "duration": 30,
    "start_time": "2022-11-15T08:16:06.971Z"
   },
   {
    "duration": 14,
    "start_time": "2022-11-15T08:16:07.474Z"
   },
   {
    "duration": 22,
    "start_time": "2022-11-15T08:16:08.470Z"
   },
   {
    "duration": 14,
    "start_time": "2022-11-15T08:16:09.342Z"
   },
   {
    "duration": 18,
    "start_time": "2022-11-15T08:16:09.747Z"
   },
   {
    "duration": 30,
    "start_time": "2022-11-15T08:16:11.305Z"
   },
   {
    "duration": 23,
    "start_time": "2022-11-15T08:16:12.973Z"
   },
   {
    "duration": 161,
    "start_time": "2022-11-15T08:16:14.370Z"
   },
   {
    "duration": 316,
    "start_time": "2022-11-15T08:16:16.346Z"
   },
   {
    "duration": 5,
    "start_time": "2022-11-15T08:16:18.132Z"
   },
   {
    "duration": 5,
    "start_time": "2022-11-15T08:16:18.638Z"
   },
   {
    "duration": 363,
    "start_time": "2022-11-15T08:16:19.187Z"
   },
   {
    "duration": 173,
    "start_time": "2022-11-15T08:16:21.390Z"
   },
   {
    "duration": 663,
    "start_time": "2022-11-15T08:16:23.389Z"
   },
   {
    "duration": 16,
    "start_time": "2022-11-15T08:16:27.702Z"
   },
   {
    "duration": 5,
    "start_time": "2022-11-15T08:16:28.523Z"
   },
   {
    "duration": 167,
    "start_time": "2022-11-15T08:16:29.054Z"
   },
   {
    "duration": 155,
    "start_time": "2022-11-15T08:16:29.647Z"
   },
   {
    "duration": 208,
    "start_time": "2022-11-15T08:16:32.054Z"
   },
   {
    "duration": 216,
    "start_time": "2022-11-15T08:16:32.936Z"
   },
   {
    "duration": 746,
    "start_time": "2022-11-15T08:16:49.975Z"
   },
   {
    "duration": 294,
    "start_time": "2022-11-15T08:34:17.971Z"
   },
   {
    "duration": 86,
    "start_time": "2022-11-15T08:42:17.001Z"
   },
   {
    "duration": 419,
    "start_time": "2022-11-15T08:42:48.961Z"
   },
   {
    "duration": 608,
    "start_time": "2022-11-15T08:45:06.011Z"
   },
   {
    "duration": 345,
    "start_time": "2022-11-15T09:41:50.114Z"
   },
   {
    "duration": 685,
    "start_time": "2022-11-15T09:42:35.660Z"
   },
   {
    "duration": 331,
    "start_time": "2022-11-15T09:42:38.286Z"
   },
   {
    "duration": 342,
    "start_time": "2022-11-15T09:43:24.448Z"
   },
   {
    "duration": 1569,
    "start_time": "2022-11-15T13:28:52.946Z"
   },
   {
    "duration": 31,
    "start_time": "2022-11-15T13:28:54.518Z"
   },
   {
    "duration": 16,
    "start_time": "2022-11-15T13:28:57.024Z"
   },
   {
    "duration": 9,
    "start_time": "2022-11-15T13:28:57.369Z"
   },
   {
    "duration": 4,
    "start_time": "2022-11-15T13:28:58.310Z"
   },
   {
    "duration": 3,
    "start_time": "2022-11-15T13:28:58.798Z"
   },
   {
    "duration": 4,
    "start_time": "2022-11-15T13:28:59.192Z"
   },
   {
    "duration": 24,
    "start_time": "2022-11-15T13:29:00.018Z"
   },
   {
    "duration": 10,
    "start_time": "2022-11-15T13:29:00.457Z"
   },
   {
    "duration": 18,
    "start_time": "2022-11-15T13:29:01.367Z"
   },
   {
    "duration": 14,
    "start_time": "2022-11-15T13:29:02.174Z"
   },
   {
    "duration": 16,
    "start_time": "2022-11-15T13:29:02.590Z"
   },
   {
    "duration": 39,
    "start_time": "2022-11-15T13:29:03.471Z"
   },
   {
    "duration": 29,
    "start_time": "2022-11-15T13:29:04.622Z"
   },
   {
    "duration": 188,
    "start_time": "2022-11-15T13:29:05.782Z"
   },
   {
    "duration": 303,
    "start_time": "2022-11-15T13:29:06.952Z"
   },
   {
    "duration": 4,
    "start_time": "2022-11-15T13:29:08.015Z"
   },
   {
    "duration": 5,
    "start_time": "2022-11-15T13:29:08.487Z"
   },
   {
    "duration": 357,
    "start_time": "2022-11-15T13:29:08.918Z"
   },
   {
    "duration": 163,
    "start_time": "2022-11-15T13:29:10.426Z"
   },
   {
    "duration": 796,
    "start_time": "2022-11-15T13:29:11.952Z"
   },
   {
    "duration": 20,
    "start_time": "2022-11-15T13:29:14.064Z"
   },
   {
    "duration": 4,
    "start_time": "2022-11-15T13:29:14.911Z"
   },
   {
    "duration": 163,
    "start_time": "2022-11-15T13:29:15.327Z"
   },
   {
    "duration": 149,
    "start_time": "2022-11-15T13:29:16.247Z"
   },
   {
    "duration": 192,
    "start_time": "2022-11-15T13:29:18.110Z"
   },
   {
    "duration": 207,
    "start_time": "2022-11-15T13:29:18.477Z"
   },
   {
    "duration": 632,
    "start_time": "2022-11-15T13:29:20.095Z"
   },
   {
    "duration": 358,
    "start_time": "2022-11-15T13:29:21.832Z"
   },
   {
    "duration": 467,
    "start_time": "2022-11-15T13:29:23.152Z"
   },
   {
    "duration": 11,
    "start_time": "2022-11-15T13:29:56.088Z"
   },
   {
    "duration": 6,
    "start_time": "2022-11-15T13:30:09.271Z"
   },
   {
    "duration": 13,
    "start_time": "2022-11-15T13:30:54.833Z"
   },
   {
    "duration": 7,
    "start_time": "2022-11-15T13:31:12.720Z"
   },
   {
    "duration": 31,
    "start_time": "2022-11-15T17:43:38.360Z"
   },
   {
    "duration": 53,
    "start_time": "2022-11-15T17:44:01.465Z"
   },
   {
    "duration": 19,
    "start_time": "2022-11-15T17:44:02.010Z"
   },
   {
    "duration": 1223,
    "start_time": "2022-11-15T17:44:10.270Z"
   },
   {
    "duration": 18,
    "start_time": "2022-11-15T17:44:11.495Z"
   },
   {
    "duration": 17,
    "start_time": "2022-11-15T17:44:12.322Z"
   },
   {
    "duration": 9,
    "start_time": "2022-11-15T17:44:13.306Z"
   },
   {
    "duration": 4,
    "start_time": "2022-11-15T17:44:14.728Z"
   },
   {
    "duration": 3,
    "start_time": "2022-11-15T17:44:15.400Z"
   },
   {
    "duration": 4,
    "start_time": "2022-11-15T17:44:16.340Z"
   },
   {
    "duration": 21,
    "start_time": "2022-11-15T17:44:17.530Z"
   },
   {
    "duration": 10,
    "start_time": "2022-11-15T17:44:19.070Z"
   },
   {
    "duration": 19,
    "start_time": "2022-11-15T17:44:20.501Z"
   },
   {
    "duration": 14,
    "start_time": "2022-11-15T17:44:23.699Z"
   },
   {
    "duration": 16,
    "start_time": "2022-11-15T17:44:24.393Z"
   },
   {
    "duration": 44,
    "start_time": "2022-11-15T17:44:28.047Z"
   },
   {
    "duration": 19,
    "start_time": "2022-11-15T17:44:31.470Z"
   },
   {
    "duration": 150,
    "start_time": "2022-11-15T17:44:32.933Z"
   },
   {
    "duration": 308,
    "start_time": "2022-11-15T17:44:34.797Z"
   },
   {
    "duration": 4,
    "start_time": "2022-11-15T17:44:39.508Z"
   },
   {
    "duration": 6,
    "start_time": "2022-11-15T17:44:40.194Z"
   },
   {
    "duration": 319,
    "start_time": "2022-11-15T17:44:40.816Z"
   },
   {
    "duration": 142,
    "start_time": "2022-11-15T17:44:43.371Z"
   },
   {
    "duration": 831,
    "start_time": "2022-11-15T17:44:46.305Z"
   },
   {
    "duration": 15,
    "start_time": "2022-11-15T17:44:49.518Z"
   },
   {
    "duration": 6,
    "start_time": "2022-11-15T17:44:52.287Z"
   },
   {
    "duration": 162,
    "start_time": "2022-11-15T17:44:52.896Z"
   },
   {
    "duration": 133,
    "start_time": "2022-11-15T17:44:54.327Z"
   },
   {
    "duration": 192,
    "start_time": "2022-11-15T17:44:58.961Z"
   },
   {
    "duration": 206,
    "start_time": "2022-11-15T17:45:00.104Z"
   },
   {
    "duration": 657,
    "start_time": "2022-11-15T17:45:03.469Z"
   },
   {
    "duration": 401,
    "start_time": "2022-11-15T17:45:05.597Z"
   },
   {
    "duration": 442,
    "start_time": "2022-11-15T17:45:08.028Z"
   },
   {
    "duration": 11,
    "start_time": "2022-11-15T17:45:12.070Z"
   },
   {
    "duration": 5,
    "start_time": "2022-11-15T17:45:19.768Z"
   },
   {
    "duration": 11,
    "start_time": "2022-11-15T17:45:23.076Z"
   },
   {
    "duration": 6,
    "start_time": "2022-11-15T17:45:23.848Z"
   },
   {
    "duration": 1223,
    "start_time": "2022-11-16T11:49:13.489Z"
   },
   {
    "duration": 15,
    "start_time": "2022-11-16T11:49:14.714Z"
   },
   {
    "duration": 16,
    "start_time": "2022-11-16T11:49:14.730Z"
   },
   {
    "duration": 8,
    "start_time": "2022-11-16T11:49:14.748Z"
   },
   {
    "duration": 4,
    "start_time": "2022-11-16T11:49:14.757Z"
   },
   {
    "duration": 5,
    "start_time": "2022-11-16T11:49:14.762Z"
   },
   {
    "duration": 6,
    "start_time": "2022-11-16T11:49:14.768Z"
   },
   {
    "duration": 21,
    "start_time": "2022-11-16T11:49:14.775Z"
   },
   {
    "duration": 7,
    "start_time": "2022-11-16T11:49:14.798Z"
   },
   {
    "duration": 14,
    "start_time": "2022-11-16T11:49:14.807Z"
   },
   {
    "duration": 30,
    "start_time": "2022-11-16T11:49:14.822Z"
   },
   {
    "duration": 13,
    "start_time": "2022-11-16T11:49:14.854Z"
   },
   {
    "duration": 29,
    "start_time": "2022-11-16T11:49:14.868Z"
   },
   {
    "duration": 13,
    "start_time": "2022-11-16T11:49:14.899Z"
   },
   {
    "duration": 140,
    "start_time": "2022-11-16T11:49:14.913Z"
   },
   {
    "duration": 228,
    "start_time": "2022-11-16T11:49:15.055Z"
   },
   {
    "duration": 3,
    "start_time": "2022-11-16T11:49:15.285Z"
   },
   {
    "duration": 7,
    "start_time": "2022-11-16T11:49:15.289Z"
   },
   {
    "duration": 246,
    "start_time": "2022-11-16T11:49:15.297Z"
   },
   {
    "duration": 119,
    "start_time": "2022-11-16T11:49:15.544Z"
   },
   {
    "duration": 638,
    "start_time": "2022-11-16T11:49:15.665Z"
   },
   {
    "duration": 13,
    "start_time": "2022-11-16T11:49:16.304Z"
   },
   {
    "duration": 5,
    "start_time": "2022-11-16T11:49:16.319Z"
   },
   {
    "duration": 130,
    "start_time": "2022-11-16T11:49:16.326Z"
   },
   {
    "duration": 130,
    "start_time": "2022-11-16T11:49:16.458Z"
   },
   {
    "duration": 156,
    "start_time": "2022-11-16T11:49:16.589Z"
   },
   {
    "duration": 165,
    "start_time": "2022-11-16T11:49:16.746Z"
   },
   {
    "duration": 466,
    "start_time": "2022-11-16T11:49:16.914Z"
   },
   {
    "duration": 281,
    "start_time": "2022-11-16T11:49:17.381Z"
   },
   {
    "duration": 325,
    "start_time": "2022-11-16T11:49:17.663Z"
   },
   {
    "duration": 8,
    "start_time": "2022-11-16T11:49:17.989Z"
   },
   {
    "duration": 6,
    "start_time": "2022-11-16T11:49:17.999Z"
   },
   {
    "duration": 11,
    "start_time": "2022-11-16T11:49:18.007Z"
   },
   {
    "duration": 4,
    "start_time": "2022-11-16T11:49:18.020Z"
   },
   {
    "duration": 1117,
    "start_time": "2022-11-16T12:52:34.249Z"
   },
   {
    "duration": 15,
    "start_time": "2022-11-16T12:52:35.368Z"
   },
   {
    "duration": 20,
    "start_time": "2022-11-16T12:52:35.385Z"
   },
   {
    "duration": 8,
    "start_time": "2022-11-16T12:52:35.407Z"
   },
   {
    "duration": 4,
    "start_time": "2022-11-16T12:52:35.417Z"
   },
   {
    "duration": 7,
    "start_time": "2022-11-16T12:52:35.423Z"
   },
   {
    "duration": 8,
    "start_time": "2022-11-16T12:52:35.432Z"
   },
   {
    "duration": 28,
    "start_time": "2022-11-16T12:52:35.441Z"
   },
   {
    "duration": 7,
    "start_time": "2022-11-16T12:52:35.470Z"
   },
   {
    "duration": 18,
    "start_time": "2022-11-16T12:52:35.479Z"
   },
   {
    "duration": 11,
    "start_time": "2022-11-16T12:52:35.498Z"
   },
   {
    "duration": 14,
    "start_time": "2022-11-16T12:52:35.510Z"
   },
   {
    "duration": 51,
    "start_time": "2022-11-16T12:52:35.525Z"
   },
   {
    "duration": 12,
    "start_time": "2022-11-16T12:52:35.579Z"
   },
   {
    "duration": 120,
    "start_time": "2022-11-16T12:52:35.593Z"
   },
   {
    "duration": 233,
    "start_time": "2022-11-16T12:52:35.714Z"
   },
   {
    "duration": 5,
    "start_time": "2022-11-16T12:52:35.948Z"
   },
   {
    "duration": 7,
    "start_time": "2022-11-16T12:52:35.954Z"
   },
   {
    "duration": 241,
    "start_time": "2022-11-16T12:52:35.962Z"
   },
   {
    "duration": 119,
    "start_time": "2022-11-16T12:52:36.204Z"
   },
   {
    "duration": 607,
    "start_time": "2022-11-16T12:52:36.324Z"
   },
   {
    "duration": 15,
    "start_time": "2022-11-16T12:52:36.933Z"
   },
   {
    "duration": 5,
    "start_time": "2022-11-16T12:52:36.949Z"
   },
   {
    "duration": 141,
    "start_time": "2022-11-16T12:52:36.955Z"
   },
   {
    "duration": 112,
    "start_time": "2022-11-16T12:52:37.097Z"
   },
   {
    "duration": 151,
    "start_time": "2022-11-16T12:52:37.210Z"
   },
   {
    "duration": 154,
    "start_time": "2022-11-16T12:52:37.362Z"
   },
   {
    "duration": 473,
    "start_time": "2022-11-16T12:52:37.518Z"
   },
   {
    "duration": 279,
    "start_time": "2022-11-16T12:52:37.992Z"
   },
   {
    "duration": 331,
    "start_time": "2022-11-16T12:52:38.272Z"
   },
   {
    "duration": 9,
    "start_time": "2022-11-16T12:52:38.604Z"
   },
   {
    "duration": 7,
    "start_time": "2022-11-16T12:52:38.614Z"
   },
   {
    "duration": 10,
    "start_time": "2022-11-16T12:52:38.623Z"
   },
   {
    "duration": 19,
    "start_time": "2022-11-16T12:52:38.634Z"
   },
   {
    "duration": 1568,
    "start_time": "2022-11-16T13:17:03.914Z"
   },
   {
    "duration": 22,
    "start_time": "2022-11-16T13:17:05.485Z"
   },
   {
    "duration": 20,
    "start_time": "2022-11-16T13:17:06.508Z"
   },
   {
    "duration": 9,
    "start_time": "2022-11-16T13:17:10.291Z"
   },
   {
    "duration": 4,
    "start_time": "2022-11-16T13:17:11.331Z"
   },
   {
    "duration": 3,
    "start_time": "2022-11-16T13:17:11.947Z"
   },
   {
    "duration": 5,
    "start_time": "2022-11-16T13:17:12.571Z"
   },
   {
    "duration": 22,
    "start_time": "2022-11-16T13:17:13.699Z"
   },
   {
    "duration": 11,
    "start_time": "2022-11-16T13:17:16.186Z"
   },
   {
    "duration": 20,
    "start_time": "2022-11-16T13:17:17.170Z"
   },
   {
    "duration": 14,
    "start_time": "2022-11-16T13:17:18.570Z"
   },
   {
    "duration": 16,
    "start_time": "2022-11-16T13:17:19.523Z"
   },
   {
    "duration": 38,
    "start_time": "2022-11-16T13:17:20.426Z"
   },
   {
    "duration": 17,
    "start_time": "2022-11-16T13:17:22.762Z"
   },
   {
    "duration": 146,
    "start_time": "2022-11-16T13:17:24.867Z"
   },
   {
    "duration": 285,
    "start_time": "2022-11-16T13:17:26.755Z"
   },
   {
    "duration": 5,
    "start_time": "2022-11-16T13:17:28.738Z"
   },
   {
    "duration": 5,
    "start_time": "2022-11-16T13:17:29.155Z"
   },
   {
    "duration": 325,
    "start_time": "2022-11-16T13:17:29.972Z"
   },
   {
    "duration": 140,
    "start_time": "2022-11-16T13:17:32.163Z"
   },
   {
    "duration": 463,
    "start_time": "2022-11-16T13:18:46.826Z"
   },
   {
    "duration": 338,
    "start_time": "2022-11-16T13:18:51.895Z"
   },
   {
    "duration": 286,
    "start_time": "2022-11-16T13:19:41.470Z"
   },
   {
    "duration": 235,
    "start_time": "2022-11-16T13:20:15.833Z"
   },
   {
    "duration": 87,
    "start_time": "2022-11-16T13:21:14.137Z"
   },
   {
    "duration": 124,
    "start_time": "2022-11-16T13:21:25.032Z"
   },
   {
    "duration": 128,
    "start_time": "2022-11-16T13:21:38.218Z"
   },
   {
    "duration": 122,
    "start_time": "2022-11-16T13:21:53.930Z"
   },
   {
    "duration": 157,
    "start_time": "2022-11-16T13:22:08.378Z"
   },
   {
    "duration": 1232,
    "start_time": "2022-11-16T13:23:07.450Z"
   },
   {
    "duration": 51,
    "start_time": "2022-11-16T13:24:22.467Z"
   },
   {
    "duration": 1286,
    "start_time": "2022-11-16T13:25:06.774Z"
   },
   {
    "duration": 19,
    "start_time": "2022-11-16T13:25:10.401Z"
   },
   {
    "duration": 15,
    "start_time": "2022-11-16T13:25:11.499Z"
   },
   {
    "duration": 10,
    "start_time": "2022-11-16T13:25:12.411Z"
   },
   {
    "duration": 4,
    "start_time": "2022-11-16T13:25:13.170Z"
   },
   {
    "duration": 3,
    "start_time": "2022-11-16T13:25:13.701Z"
   },
   {
    "duration": 4,
    "start_time": "2022-11-16T13:25:14.322Z"
   },
   {
    "duration": 22,
    "start_time": "2022-11-16T13:25:15.082Z"
   },
   {
    "duration": 12,
    "start_time": "2022-11-16T13:25:16.475Z"
   },
   {
    "duration": 24,
    "start_time": "2022-11-16T13:25:17.178Z"
   },
   {
    "duration": 14,
    "start_time": "2022-11-16T13:25:18.265Z"
   },
   {
    "duration": 17,
    "start_time": "2022-11-16T13:25:19.098Z"
   },
   {
    "duration": 40,
    "start_time": "2022-11-16T13:25:20.210Z"
   },
   {
    "duration": 19,
    "start_time": "2022-11-16T13:25:21.595Z"
   },
   {
    "duration": 1308,
    "start_time": "2022-11-16T13:30:46.288Z"
   },
   {
    "duration": 20,
    "start_time": "2022-11-16T13:30:48.087Z"
   },
   {
    "duration": 15,
    "start_time": "2022-11-16T13:30:49.600Z"
   },
   {
    "duration": 11,
    "start_time": "2022-11-16T13:30:50.080Z"
   },
   {
    "duration": 5,
    "start_time": "2022-11-16T13:30:50.487Z"
   },
   {
    "duration": 3,
    "start_time": "2022-11-16T13:30:50.647Z"
   },
   {
    "duration": 4,
    "start_time": "2022-11-16T13:30:51.294Z"
   },
   {
    "duration": 20,
    "start_time": "2022-11-16T13:30:51.801Z"
   },
   {
    "duration": 10,
    "start_time": "2022-11-16T13:30:52.702Z"
   },
   {
    "duration": 19,
    "start_time": "2022-11-16T13:30:53.399Z"
   },
   {
    "duration": 15,
    "start_time": "2022-11-16T13:30:54.648Z"
   },
   {
    "duration": 16,
    "start_time": "2022-11-16T13:30:55.482Z"
   },
   {
    "duration": 41,
    "start_time": "2022-11-16T13:30:56.680Z"
   },
   {
    "duration": 18,
    "start_time": "2022-11-16T13:30:58.696Z"
   },
   {
    "duration": 151,
    "start_time": "2022-11-16T13:31:00.668Z"
   },
   {
    "duration": 112,
    "start_time": "2022-11-16T13:31:14.497Z"
   },
   {
    "duration": 16,
    "start_time": "2022-11-16T13:31:47.203Z"
   },
   {
    "duration": 60,
    "start_time": "2022-11-16T13:32:40.315Z"
   },
   {
    "duration": 0,
    "start_time": "2022-11-16T13:39:08.719Z"
   },
   {
    "duration": 30,
    "start_time": "2022-11-16T13:40:58.465Z"
   },
   {
    "duration": 5128,
    "start_time": "2022-11-16T13:41:18.402Z"
   },
   {
    "duration": 5216,
    "start_time": "2022-11-16T13:41:55.812Z"
   },
   {
    "duration": 162,
    "start_time": "2022-11-16T13:42:21.686Z"
   },
   {
    "duration": 164,
    "start_time": "2022-11-16T13:42:30.603Z"
   },
   {
    "duration": 150,
    "start_time": "2022-11-16T13:42:45.056Z"
   },
   {
    "duration": 152,
    "start_time": "2022-11-16T13:43:19.347Z"
   },
   {
    "duration": 49,
    "start_time": "2022-11-16T13:43:41.669Z"
   },
   {
    "duration": 157,
    "start_time": "2022-11-16T13:43:45.734Z"
   },
   {
    "duration": 156,
    "start_time": "2022-11-16T13:44:14.325Z"
   },
   {
    "duration": 147,
    "start_time": "2022-11-16T13:44:48.437Z"
   },
   {
    "duration": 160,
    "start_time": "2022-11-16T13:44:53.876Z"
   },
   {
    "duration": 163,
    "start_time": "2022-11-16T13:45:15.108Z"
   },
   {
    "duration": 150,
    "start_time": "2022-11-16T13:45:21.724Z"
   },
   {
    "duration": 167,
    "start_time": "2022-11-16T13:47:04.823Z"
   },
   {
    "duration": 152,
    "start_time": "2022-11-16T13:47:37.783Z"
   },
   {
    "duration": 167,
    "start_time": "2022-11-16T13:48:06.117Z"
   },
   {
    "duration": 707,
    "start_time": "2022-11-16T13:52:07.947Z"
   },
   {
    "duration": 55,
    "start_time": "2022-11-16T13:52:30.579Z"
   },
   {
    "duration": 290,
    "start_time": "2022-11-16T13:52:36.195Z"
   },
   {
    "duration": 721,
    "start_time": "2022-11-16T13:53:17.130Z"
   },
   {
    "duration": 700,
    "start_time": "2022-11-16T13:55:04.062Z"
   },
   {
    "duration": 10,
    "start_time": "2022-11-16T13:56:22.223Z"
   },
   {
    "duration": 543,
    "start_time": "2022-11-16T13:57:01.152Z"
   },
   {
    "duration": 537,
    "start_time": "2022-11-16T13:57:10.238Z"
   },
   {
    "duration": 559,
    "start_time": "2022-11-16T13:57:20.983Z"
   },
   {
    "duration": 545,
    "start_time": "2022-11-16T13:57:28.199Z"
   },
   {
    "duration": 138,
    "start_time": "2022-11-16T13:58:06.624Z"
   },
   {
    "duration": 702,
    "start_time": "2022-11-16T13:58:28.745Z"
   },
   {
    "duration": 14,
    "start_time": "2022-11-16T13:59:05.233Z"
   },
   {
    "duration": 13,
    "start_time": "2022-11-16T13:59:10.424Z"
   },
   {
    "duration": 242,
    "start_time": "2022-11-16T13:59:13.248Z"
   },
   {
    "duration": 706,
    "start_time": "2022-11-16T14:00:04.203Z"
   },
   {
    "duration": 724,
    "start_time": "2022-11-16T14:00:44.515Z"
   },
   {
    "duration": 15,
    "start_time": "2022-11-16T14:00:48.771Z"
   },
   {
    "duration": 15,
    "start_time": "2022-11-16T14:01:08.546Z"
   },
   {
    "duration": 733,
    "start_time": "2022-11-16T14:01:48.676Z"
   },
   {
    "duration": 806,
    "start_time": "2022-11-16T14:01:56.420Z"
   },
   {
    "duration": 11,
    "start_time": "2022-11-16T14:02:13.195Z"
   },
   {
    "duration": 640,
    "start_time": "2022-11-16T14:02:25.284Z"
   },
   {
    "duration": 680,
    "start_time": "2022-11-16T14:02:37.387Z"
   },
   {
    "duration": 671,
    "start_time": "2022-11-16T14:02:43.172Z"
   },
   {
    "duration": 705,
    "start_time": "2022-11-16T14:02:52.102Z"
   },
   {
    "duration": 698,
    "start_time": "2022-11-16T14:03:12.572Z"
   },
   {
    "duration": 669,
    "start_time": "2022-11-16T14:03:32.501Z"
   },
   {
    "duration": 17,
    "start_time": "2022-11-16T14:03:46.098Z"
   },
   {
    "duration": 16,
    "start_time": "2022-11-16T14:05:44.238Z"
   },
   {
    "duration": 5,
    "start_time": "2022-11-16T14:05:58.696Z"
   },
   {
    "duration": 195,
    "start_time": "2022-11-16T14:06:02.102Z"
   },
   {
    "duration": 178,
    "start_time": "2022-11-16T14:06:06.998Z"
   },
   {
    "duration": 42,
    "start_time": "2022-11-16T14:12:51.479Z"
   },
   {
    "duration": 181,
    "start_time": "2022-11-16T14:25:02.563Z"
   },
   {
    "duration": 181,
    "start_time": "2022-11-16T14:26:04.944Z"
   },
   {
    "duration": 177,
    "start_time": "2022-11-16T14:26:12.287Z"
   },
   {
    "duration": 176,
    "start_time": "2022-11-16T14:26:18.791Z"
   },
   {
    "duration": 10,
    "start_time": "2022-11-16T14:27:46.385Z"
   },
   {
    "duration": 212,
    "start_time": "2022-11-16T14:27:47.484Z"
   },
   {
    "duration": 213,
    "start_time": "2022-11-16T14:27:49.696Z"
   },
   {
    "duration": 252,
    "start_time": "2022-11-16T14:45:26.134Z"
   },
   {
    "duration": 230,
    "start_time": "2022-11-16T14:45:54.682Z"
   },
   {
    "duration": 209,
    "start_time": "2022-11-16T14:47:17.720Z"
   },
   {
    "duration": 11,
    "start_time": "2022-11-16T14:51:38.890Z"
   },
   {
    "duration": 5,
    "start_time": "2022-11-16T14:51:58.586Z"
   },
   {
    "duration": 514,
    "start_time": "2022-11-16T14:51:58.947Z"
   },
   {
    "duration": 497,
    "start_time": "2022-11-16T14:52:08.380Z"
   },
   {
    "duration": 198,
    "start_time": "2022-11-16T14:58:50.121Z"
   },
   {
    "duration": 510,
    "start_time": "2022-11-16T14:59:00.314Z"
   },
   {
    "duration": 481,
    "start_time": "2022-11-16T14:59:10.442Z"
   },
   {
    "duration": 13,
    "start_time": "2022-11-16T16:48:11.702Z"
   },
   {
    "duration": 12,
    "start_time": "2022-11-16T16:52:17.595Z"
   },
   {
    "duration": 7,
    "start_time": "2022-11-16T16:52:20.835Z"
   },
   {
    "duration": 223,
    "start_time": "2022-11-16T16:52:21.707Z"
   },
   {
    "duration": 217,
    "start_time": "2022-11-16T16:52:22.634Z"
   },
   {
    "duration": 225,
    "start_time": "2022-11-16T16:52:42.220Z"
   },
   {
    "duration": 210,
    "start_time": "2022-11-16T16:52:42.947Z"
   },
   {
    "duration": 414,
    "start_time": "2022-11-16T16:57:26.483Z"
   },
   {
    "duration": 210,
    "start_time": "2022-11-16T16:59:54.491Z"
   },
   {
    "duration": 58,
    "start_time": "2022-11-16T17:00:48.757Z"
   },
   {
    "duration": 484,
    "start_time": "2022-11-16T17:00:54.689Z"
   },
   {
    "duration": 543,
    "start_time": "2022-11-16T17:01:09.507Z"
   },
   {
    "duration": 447,
    "start_time": "2022-11-16T17:01:20.796Z"
   },
   {
    "duration": 692,
    "start_time": "2022-11-16T17:01:36.983Z"
   },
   {
    "duration": 53,
    "start_time": "2022-11-16T17:34:00.972Z"
   },
   {
    "duration": 15,
    "start_time": "2022-11-16T17:34:01.442Z"
   },
   {
    "duration": 1267,
    "start_time": "2022-11-16T17:34:08.627Z"
   },
   {
    "duration": 20,
    "start_time": "2022-11-16T17:34:09.897Z"
   },
   {
    "duration": 17,
    "start_time": "2022-11-16T17:34:10.996Z"
   },
   {
    "duration": 11,
    "start_time": "2022-11-16T17:34:11.645Z"
   },
   {
    "duration": 5,
    "start_time": "2022-11-16T17:34:12.507Z"
   },
   {
    "duration": 4,
    "start_time": "2022-11-16T17:34:12.936Z"
   },
   {
    "duration": 4,
    "start_time": "2022-11-16T17:34:13.612Z"
   },
   {
    "duration": 21,
    "start_time": "2022-11-16T17:34:14.388Z"
   },
   {
    "duration": 10,
    "start_time": "2022-11-16T17:34:22.775Z"
   },
   {
    "duration": 19,
    "start_time": "2022-11-16T17:34:23.612Z"
   },
   {
    "duration": 15,
    "start_time": "2022-11-16T17:34:25.044Z"
   },
   {
    "duration": 16,
    "start_time": "2022-11-16T17:34:26.012Z"
   },
   {
    "duration": 51,
    "start_time": "2022-11-16T17:34:26.908Z"
   },
   {
    "duration": 28,
    "start_time": "2022-11-16T17:34:28.804Z"
   },
   {
    "duration": 181,
    "start_time": "2022-11-16T17:34:30.755Z"
   },
   {
    "duration": 315,
    "start_time": "2022-11-16T17:34:33.708Z"
   },
   {
    "duration": 6,
    "start_time": "2022-11-16T17:34:36.203Z"
   },
   {
    "duration": 6,
    "start_time": "2022-11-16T17:34:36.740Z"
   },
   {
    "duration": 348,
    "start_time": "2022-11-16T17:34:37.389Z"
   },
   {
    "duration": 142,
    "start_time": "2022-11-16T17:35:03.640Z"
   },
   {
    "duration": 842,
    "start_time": "2022-11-16T17:35:06.742Z"
   },
   {
    "duration": 21,
    "start_time": "2022-11-16T17:35:10.805Z"
   },
   {
    "duration": 5,
    "start_time": "2022-11-16T17:35:13.357Z"
   },
   {
    "duration": 479,
    "start_time": "2022-11-16T17:35:13.978Z"
   },
   {
    "duration": 9,
    "start_time": "2022-11-16T17:35:18.940Z"
   },
   {
    "duration": 224,
    "start_time": "2022-11-16T17:35:24.252Z"
   },
   {
    "duration": 217,
    "start_time": "2022-11-16T17:35:25.862Z"
   },
   {
    "duration": 8,
    "start_time": "2022-11-16T17:35:28.836Z"
   },
   {
    "duration": 229,
    "start_time": "2022-11-16T17:35:29.541Z"
   },
   {
    "duration": 220,
    "start_time": "2022-11-16T17:35:30.541Z"
   },
   {
    "duration": 230,
    "start_time": "2022-11-16T17:35:35.549Z"
   },
   {
    "duration": 264,
    "start_time": "2022-11-16T17:35:37.541Z"
   },
   {
    "duration": 775,
    "start_time": "2022-11-16T17:35:46.428Z"
   },
   {
    "duration": 394,
    "start_time": "2022-11-16T17:36:24.636Z"
   },
   {
    "duration": 435,
    "start_time": "2022-11-16T17:36:29.871Z"
   },
   {
    "duration": 12,
    "start_time": "2022-11-16T17:36:39.390Z"
   },
   {
    "duration": 5,
    "start_time": "2022-11-16T17:36:51.142Z"
   },
   {
    "duration": 11,
    "start_time": "2022-11-16T17:37:22.582Z"
   },
   {
    "duration": 5,
    "start_time": "2022-11-16T17:37:23.951Z"
   },
   {
    "duration": 6,
    "start_time": "2022-11-16T17:41:55.721Z"
   },
   {
    "duration": 6,
    "start_time": "2022-11-16T17:41:56.449Z"
   },
   {
    "duration": 5,
    "start_time": "2022-11-16T17:42:20.752Z"
   },
   {
    "duration": 5,
    "start_time": "2022-11-16T17:42:21.242Z"
   },
   {
    "duration": 1720,
    "start_time": "2022-11-17T16:19:00.168Z"
   },
   {
    "duration": 21,
    "start_time": "2022-11-17T16:19:01.890Z"
   },
   {
    "duration": 20,
    "start_time": "2022-11-17T16:19:01.913Z"
   },
   {
    "duration": 10,
    "start_time": "2022-11-17T16:19:01.935Z"
   },
   {
    "duration": 12,
    "start_time": "2022-11-17T16:19:01.948Z"
   },
   {
    "duration": 49,
    "start_time": "2022-11-17T16:19:01.961Z"
   },
   {
    "duration": 33,
    "start_time": "2022-11-17T16:19:02.012Z"
   },
   {
    "duration": 46,
    "start_time": "2022-11-17T16:19:02.047Z"
   },
   {
    "duration": 41,
    "start_time": "2022-11-17T16:19:02.095Z"
   },
   {
    "duration": 22,
    "start_time": "2022-11-17T16:19:02.138Z"
   },
   {
    "duration": 31,
    "start_time": "2022-11-17T16:19:02.162Z"
   },
   {
    "duration": 83,
    "start_time": "2022-11-17T16:19:02.195Z"
   },
   {
    "duration": 49,
    "start_time": "2022-11-17T16:19:02.279Z"
   },
   {
    "duration": 18,
    "start_time": "2022-11-17T16:19:02.331Z"
   },
   {
    "duration": 211,
    "start_time": "2022-11-17T16:19:02.351Z"
   },
   {
    "duration": 326,
    "start_time": "2022-11-17T16:19:02.563Z"
   },
   {
    "duration": 20,
    "start_time": "2022-11-17T16:19:02.890Z"
   },
   {
    "duration": 8,
    "start_time": "2022-11-17T16:19:02.911Z"
   },
   {
    "duration": 334,
    "start_time": "2022-11-17T16:19:02.920Z"
   },
   {
    "duration": 156,
    "start_time": "2022-11-17T16:19:03.256Z"
   },
   {
    "duration": 792,
    "start_time": "2022-11-17T16:19:03.418Z"
   },
   {
    "duration": 16,
    "start_time": "2022-11-17T16:19:04.211Z"
   },
   {
    "duration": 8,
    "start_time": "2022-11-17T16:19:04.230Z"
   },
   {
    "duration": 608,
    "start_time": "2022-11-17T16:19:04.240Z"
   },
   {
    "duration": 10,
    "start_time": "2022-11-17T16:19:04.850Z"
   },
   {
    "duration": 514,
    "start_time": "2022-11-17T16:19:04.896Z"
   },
   {
    "duration": 504,
    "start_time": "2022-11-17T16:19:05.413Z"
   },
   {
    "duration": 7,
    "start_time": "2022-11-17T16:19:05.919Z"
   },
   {
    "duration": 324,
    "start_time": "2022-11-17T16:19:05.928Z"
   },
   {
    "duration": 217,
    "start_time": "2022-11-17T16:19:06.254Z"
   },
   {
    "duration": 338,
    "start_time": "2022-11-17T16:19:06.473Z"
   },
   {
    "duration": 253,
    "start_time": "2022-11-17T16:19:06.813Z"
   },
   {
    "duration": 714,
    "start_time": "2022-11-17T16:19:07.067Z"
   },
   {
    "duration": 358,
    "start_time": "2022-11-17T16:19:07.783Z"
   },
   {
    "duration": 337,
    "start_time": "2022-11-17T16:19:08.143Z"
   },
   {
    "duration": 23,
    "start_time": "2022-11-17T16:19:08.481Z"
   },
   {
    "duration": 42,
    "start_time": "2022-11-17T16:19:08.507Z"
   },
   {
    "duration": 62,
    "start_time": "2022-11-17T16:19:08.551Z"
   },
   {
    "duration": 25,
    "start_time": "2022-11-17T16:19:08.614Z"
   },
   {
    "duration": 34,
    "start_time": "2022-11-17T16:19:08.641Z"
   },
   {
    "duration": 18,
    "start_time": "2022-11-17T16:19:08.679Z"
   },
   {
    "duration": 44,
    "start_time": "2022-11-17T16:19:08.698Z"
   },
   {
    "duration": 15,
    "start_time": "2022-11-17T16:19:08.743Z"
   }
  ],
  "kernelspec": {
   "display_name": "Python 3 (ipykernel)",
   "language": "python",
   "name": "python3"
  },
  "language_info": {
   "codemirror_mode": {
    "name": "ipython",
    "version": 3
   },
   "file_extension": ".py",
   "mimetype": "text/x-python",
   "name": "python",
   "nbconvert_exporter": "python",
   "pygments_lexer": "ipython3",
   "version": "3.9.13"
  },
  "toc": {
   "base_numbering": 1,
   "nav_menu": {},
   "number_sections": true,
   "sideBar": true,
   "skip_h1_title": true,
   "title_cell": "Table of Contents",
   "title_sidebar": "Contents",
   "toc_cell": false,
   "toc_position": {},
   "toc_section_display": true,
   "toc_window_display": false
  }
 },
 "nbformat": 4,
 "nbformat_minor": 2
}
