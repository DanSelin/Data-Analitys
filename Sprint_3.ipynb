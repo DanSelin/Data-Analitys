{
 "cells": [
  {
   "cell_type": "markdown",
   "metadata": {},
   "source": [
    "# Исследование объявлений о продаже квартир\n",
    "\n",
    "В вашем распоряжении данные сервиса Яндекс.Недвижимость — архив объявлений о продаже квартир в Санкт-Петербурге и соседних населённых пунктов за несколько лет. Нужно научиться определять рыночную стоимость объектов недвижимости. Ваша задача — установить параметры. Это позволит построить автоматизированную систему: она отследит аномалии и мошенническую деятельность. \n",
    "\n",
    "По каждой квартире на продажу доступны два вида данных. Первые вписаны пользователем, вторые — получены автоматически на основе картографических данных. Например, расстояние до центра, аэропорта, ближайшего парка и водоёма. "
   ]
  },
  {
   "cell_type": "markdown",
   "metadata": {},
   "source": [
    "### Откройте файл с данными и изучите общую информацию. "
   ]
  },
  {
   "cell_type": "code",
   "execution_count": 1,
   "metadata": {
    "scrolled": false
   },
   "outputs": [
    {
     "name": "stdout",
     "output_type": "stream",
     "text": [
      "   total_images  last_price  total_area first_day_exposition  rooms  \\\n",
      "0            20  13000000.0      108.00  2019-03-07T00:00:00      3   \n",
      "1             7   3350000.0       40.40  2018-12-04T00:00:00      1   \n",
      "2            10   5196000.0       56.00  2015-08-20T00:00:00      2   \n",
      "3             0  64900000.0      159.00  2015-07-24T00:00:00      3   \n",
      "4             2  10000000.0      100.00  2018-06-19T00:00:00      2   \n",
      "5            10   2890000.0       30.40  2018-09-10T00:00:00      1   \n",
      "6             6   3700000.0       37.30  2017-11-02T00:00:00      1   \n",
      "7             5   7915000.0       71.60  2019-04-18T00:00:00      2   \n",
      "8            20   2900000.0       33.16  2018-05-23T00:00:00      1   \n",
      "9            18   5400000.0       61.00  2017-02-26T00:00:00      3   \n",
      "\n",
      "   ceiling_height  floors_total  living_area  floor is_apartment  ...  \\\n",
      "0            2.70          16.0        51.00      8          NaN  ...   \n",
      "1             NaN          11.0        18.60      1          NaN  ...   \n",
      "2             NaN           5.0        34.30      4          NaN  ...   \n",
      "3             NaN          14.0          NaN      9          NaN  ...   \n",
      "4            3.03          14.0        32.00     13          NaN  ...   \n",
      "5             NaN          12.0        14.40      5          NaN  ...   \n",
      "6             NaN          26.0        10.60      6          NaN  ...   \n",
      "7             NaN          24.0          NaN     22          NaN  ...   \n",
      "8             NaN          27.0        15.43     26          NaN  ...   \n",
      "9            2.50           9.0        43.60      7          NaN  ...   \n",
      "\n",
      "   kitchen_area  balcony              locality_name  airports_nearest  \\\n",
      "0         25.00      NaN            Санкт-Петербург           18863.0   \n",
      "1         11.00      2.0             посёлок Шушары           12817.0   \n",
      "2          8.30      0.0            Санкт-Петербург           21741.0   \n",
      "3           NaN      0.0            Санкт-Петербург           28098.0   \n",
      "4         41.00      NaN            Санкт-Петербург           31856.0   \n",
      "5          9.10      NaN  городской посёлок Янино-1               NaN   \n",
      "6         14.40      1.0          посёлок Парголово           52996.0   \n",
      "7         18.90      2.0            Санкт-Петербург           23982.0   \n",
      "8          8.81      NaN             посёлок Мурино               NaN   \n",
      "9          6.50      2.0            Санкт-Петербург           50898.0   \n",
      "\n",
      "  cityCenters_nearest  parks_around3000  parks_nearest  ponds_around3000  \\\n",
      "0             16028.0               1.0          482.0               2.0   \n",
      "1             18603.0               0.0            NaN               0.0   \n",
      "2             13933.0               1.0           90.0               2.0   \n",
      "3              6800.0               2.0           84.0               3.0   \n",
      "4              8098.0               2.0          112.0               1.0   \n",
      "5                 NaN               NaN            NaN               NaN   \n",
      "6             19143.0               0.0            NaN               0.0   \n",
      "7             11634.0               0.0            NaN               0.0   \n",
      "8                 NaN               NaN            NaN               NaN   \n",
      "9             15008.0               0.0            NaN               0.0   \n",
      "\n",
      "   ponds_nearest  days_exposition  \n",
      "0          755.0              NaN  \n",
      "1            NaN             81.0  \n",
      "2          574.0            558.0  \n",
      "3          234.0            424.0  \n",
      "4           48.0            121.0  \n",
      "5            NaN             55.0  \n",
      "6            NaN            155.0  \n",
      "7            NaN              NaN  \n",
      "8            NaN            189.0  \n",
      "9            NaN            289.0  \n",
      "\n",
      "[10 rows x 22 columns]\n",
      "<class 'pandas.core.frame.DataFrame'>\n",
      "RangeIndex: 23699 entries, 0 to 23698\n",
      "Data columns (total 22 columns):\n",
      " #   Column                Non-Null Count  Dtype  \n",
      "---  ------                --------------  -----  \n",
      " 0   total_images          23699 non-null  int64  \n",
      " 1   last_price            23699 non-null  float64\n",
      " 2   total_area            23699 non-null  float64\n",
      " 3   first_day_exposition  23699 non-null  object \n",
      " 4   rooms                 23699 non-null  int64  \n",
      " 5   ceiling_height        14504 non-null  float64\n",
      " 6   floors_total          23613 non-null  float64\n",
      " 7   living_area           21796 non-null  float64\n",
      " 8   floor                 23699 non-null  int64  \n",
      " 9   is_apartment          2775 non-null   object \n",
      " 10  studio                23699 non-null  bool   \n",
      " 11  open_plan             23699 non-null  bool   \n",
      " 12  kitchen_area          21421 non-null  float64\n",
      " 13  balcony               12180 non-null  float64\n",
      " 14  locality_name         23650 non-null  object \n",
      " 15  airports_nearest      18157 non-null  float64\n",
      " 16  cityCenters_nearest   18180 non-null  float64\n",
      " 17  parks_around3000      18181 non-null  float64\n",
      " 18  parks_nearest         8079 non-null   float64\n",
      " 19  ponds_around3000      18181 non-null  float64\n",
      " 20  ponds_nearest         9110 non-null   float64\n",
      " 21  days_exposition       20518 non-null  float64\n",
      "dtypes: bool(2), float64(14), int64(3), object(3)\n",
      "memory usage: 3.7+ MB\n"
     ]
    },
    {
     "data": {
      "image/png": "[encoded data removed]",
      "text/plain": [
       "<Figure size 1080x1080 with 20 Axes>"
      ]
     },
     "metadata": {
      "needs_background": "light"
     },
     "output_type": "display_data"
    }
   ],
   "source": [
    "import pandas as pd\n",
    "\n",
    "data = pd.read_csv('/datasets/real_estate_data.csv', sep='\\t') \n",
    "print(data.head(10))\n",
    "data.info()\n",
    "data.isnull().sum()\n",
    "data.hist(figsize=(15, 15));"
   ]
  },
  {
   "cell_type": "markdown",
   "metadata": {},
   "source": [
    "**Выводы**\n",
    "\n",
    "Проблемы в данных, с которыми нужно разобраться:\n",
    "1. Есть пропуски в данных\n",
    "2. В некоторых колонках нужно првиести данные из одного типа в другой\n",
    "3. В некоторых колонках нужно перевести данные изх метров в километры"
   ]
  },
  {
   "cell_type": "markdown",
   "metadata": {},
   "source": [
    "### Предобработка данных"
   ]
  },
  {
   "cell_type": "code",
   "execution_count": 2,
   "metadata": {},
   "outputs": [
    {
     "data": {
      "text/plain": [
       "total_images            0\n",
       "last_price              0\n",
       "total_area              0\n",
       "first_day_exposition    0\n",
       "rooms                   0\n",
       "ceiling_height          0\n",
       "floors_total            0\n",
       "living_area             0\n",
       "floor                   0\n",
       "is_apartment            0\n",
       "studio                  0\n",
       "open_plan               0\n",
       "kitchen_area            0\n",
       "balcony                 0\n",
       "locality_name           0\n",
       "airports_nearest        0\n",
       "cityCenters_nearest     0\n",
       "parks_around3000        0\n",
       "parks_nearest           0\n",
       "ponds_around3000        0\n",
       "ponds_nearest           0\n",
       "days_exposition         0\n",
       "dtype: int64"
      ]
     },
     "execution_count": 2,
     "metadata": {},
     "output_type": "execute_result"
    }
   ],
   "source": [
    "#сначала нужно заполнить пробелы в данных\n",
    "\n",
    "data = data.dropna(subset=['locality_name', 'floors_total']) #В названии населённого пункта и всего этажей в доме пропуски удалим, т.к. заменить их нечем + их не много, и удаление этих строк на общую картину не должно повлиять\n",
    "#дальше меняем пропуски на значения\n",
    "\n",
    "#высота потолков - заменим на среднее значение\n",
    "data['ceiling_height']= data['ceiling_height'].fillna(data['ceiling_height'].mean())\n",
    "\n",
    "\n",
    "data['living_area']= data['living_area'].fillna(data['living_area'].median()) \n",
    "#т.к. разброс большой, то логичнее применить медианное значение к замене пропусков. Среднее может сильно исказить данные \n",
    "\n",
    "\n",
    "\n",
    "data['is_apartment']= data['is_apartment'].fillna(0) # все пропуски заменим на True (0) т.к. фонд в основном жилой.\n",
    "data['is_apartment'] = data['is_apartment'].map({True: 1, False: 0}) \n",
    "#заодно приведём к числовому типу, чтобы проще было считать если необходимо\n",
    "\n",
    "\n",
    "data['kitchen_area']= data['kitchen_area'].fillna(data['kitchen_area'].median())\n",
    "#площадь кухни тоже имеет смысл заполнить пропуски медианой, по тойже причине что и в жилой площади\n",
    "\n",
    "\n",
    "data['balcony']= data['balcony'].fillna(0)\n",
    "#балконы поставим везде на месте пропусков 0, т.к. раз не указан, т оскорее всего балконов и нет\n",
    "\n",
    "\n",
    "data['cityCenters_nearest']= data['cityCenters_nearest'].fillna(data['cityCenters_nearest'].median())\n",
    "#растояние до центра города заполним медианой, т.к. среднее может исказить данные из-за слишком далёких и квартир расположенных в центре.\n",
    "\n",
    "\n",
    "data['parks_around3000']= data['parks_around3000'].fillna(0)\n",
    "#заменим пропуски на 0, т.к. возможно пропуски означают, что в радиусе 3 км нет парков, т.е. 0\n",
    "\n",
    "data['parks_nearest']= data['parks_nearest'].fillna(data['parks_nearest'].median())\n",
    "#растояние до ближайшего парка заменим на медианное, т.к. на среднее могут повлиять квартиры расположенные слишком далеко или слишком близко о тпарка \n",
    "\n",
    "\n",
    "data['ponds_around3000']= data['ponds_around3000'].fillna(0)\n",
    "#пропуски заменим на 0, т.к. они могут означать что водоёмов нет\n",
    "\n",
    "\n",
    "data['ponds_nearest']= data['ponds_nearest'].fillna(data['ponds_nearest'].median())\n",
    "#заменяем пропуски медианой по логике с растоянием до ближайшего парка\n",
    "\n",
    "data['days_exposition']= data['days_exposition'].fillna(data['days_exposition'].median())\n",
    "#заменим на медиану, чтобы исключить неточность данных из-за слишком короткизх или долгих объявлений\n",
    "\n",
    "\n",
    "data['airports_nearest']= data['airports_nearest'].fillna(data['airports_nearest'].median())\n",
    "#растояние до ближайшего аэропорта берём медиану из соображений, что слишком далёкте или слишком близкие квартиры могут исказить данные\n",
    "\n",
    "#снова проверяем остались ли пропуски\n",
    "data.isnull().sum()"
   ]
  },
  {
   "cell_type": "code",
   "execution_count": 3,
   "metadata": {},
   "outputs": [
    {
     "name": "stdout",
     "output_type": "stream",
     "text": [
      "<class 'pandas.core.frame.DataFrame'>\n",
      "Int64Index: 23565 entries, 0 to 23698\n",
      "Data columns (total 22 columns):\n",
      " #   Column                Non-Null Count  Dtype         \n",
      "---  ------                --------------  -----         \n",
      " 0   total_images          23565 non-null  int64         \n",
      " 1   last_price            23565 non-null  int64         \n",
      " 2   total_area            23565 non-null  float64       \n",
      " 3   first_day_exposition  23565 non-null  datetime64[ns]\n",
      " 4   rooms                 23565 non-null  int64         \n",
      " 5   ceiling_height        23565 non-null  float64       \n",
      " 6   floors_total          23565 non-null  int64         \n",
      " 7   living_area           23565 non-null  float64       \n",
      " 8   floor                 23565 non-null  int64         \n",
      " 9   is_apartment          23565 non-null  int64         \n",
      " 10  studio                23565 non-null  bool          \n",
      " 11  open_plan             23565 non-null  bool          \n",
      " 12  kitchen_area          23565 non-null  float64       \n",
      " 13  balcony               23565 non-null  int64         \n",
      " 14  locality_name         23565 non-null  object        \n",
      " 15  airports_nearest      23565 non-null  float64       \n",
      " 16  cityCenters_nearest   23565 non-null  float64       \n",
      " 17  parks_around3000      23565 non-null  int64         \n",
      " 18  parks_nearest         23565 non-null  float64       \n",
      " 19  ponds_around3000      23565 non-null  int64         \n",
      " 20  ponds_nearest         23565 non-null  float64       \n",
      " 21  days_exposition       23565 non-null  int64         \n",
      "dtypes: bool(2), datetime64[ns](1), float64(8), int64(10), object(1)\n",
      "memory usage: 3.8+ MB\n"
     ]
    }
   ],
   "source": [
    "# теперь необходимо изменить тип данных в тех колонках, где это необходимо\n",
    "#для начала данные в first-day-exposition из формата object переведём в тип data\n",
    "data['first_day_exposition'] = pd.to_datetime(data['first_day_exposition'], format='%Y-%m-%dT%H:%M:%S')\n",
    "#print(data['first_day_exposition'])\n",
    "\n",
    "#переводим кол-во этажей в int\n",
    "data['floors_total'] = data['floors_total'].astype('int')\n",
    "\n",
    "data['floor'] = data['floor'].astype('int')\n",
    "\n",
    "# тоже делаем с balcony\n",
    "data['balcony'] = data['balcony'].astype('int')\n",
    "\n",
    "# тоже делаем с parks_around3000\n",
    "data['parks_around3000'] = data['parks_around3000'].astype('int')\n",
    "\n",
    "# тоже делаем с ponds_around3000\n",
    "data['ponds_around3000'] = data['ponds_around3000'].astype('int')\n",
    "# тоже делаем с days_exposition\n",
    "data['days_exposition'] = data['days_exposition'].astype('int')\n",
    "# переведём в тип int столбец `last_price`\n",
    "data['last_price'] = data['last_price'].astype('int')\n",
    "#проверяем поменялись ли типы данных\n",
    "data.info()"
   ]
  },
  {
   "cell_type": "code",
   "execution_count": 4,
   "metadata": {},
   "outputs": [
    {
     "name": "stdout",
     "output_type": "stream",
     "text": [
      "0    18\n",
      "1    12\n",
      "2    21\n",
      "3    28\n",
      "4    31\n",
      "Name: airports_nearest, dtype: int64\n",
      "0    16\n",
      "1    18\n",
      "2    13\n",
      "3     6\n",
      "4     8\n",
      "Name: cityCenters_nearest, dtype: int64\n",
      "0    0\n",
      "1    0\n",
      "2    0\n",
      "3    0\n",
      "4    0\n",
      "Name: parks_nearest, dtype: int64\n",
      "0    0.755\n",
      "1    0.503\n",
      "2    0.574\n",
      "3    0.234\n",
      "4    0.048\n",
      "Name: ponds_nearest, dtype: float64\n"
     ]
    }
   ],
   "source": [
    "# переводим метры в километры\n",
    "data['airports_nearest'] = data['airports_nearest'] / 1000\n",
    "data['cityCenters_nearest'] = data['cityCenters_nearest'] / 1000\n",
    "data['parks_nearest'] = data['parks_nearest'] / 1000\n",
    "data['ponds_nearest'] = data['ponds_nearest'] / 1000\n",
    "\n",
    "#округление\n",
    "data['airports_nearest'] = data['airports_nearest'].astype('int')\n",
    "data['cityCenters_nearest'] = data['cityCenters_nearest'].astype('int')\n",
    "data['parks_nearest'] = data['parks_nearest'].astype('int')\n",
    "data['parks_nearest'] = data['parks_nearest'].astype('int')\n",
    "\n",
    "#првоеряем данные\n",
    "print(data['airports_nearest'].head())\n",
    "print(data['cityCenters_nearest'].head())\n",
    "print(data['parks_nearest'].head())\n",
    "print(data['ponds_nearest'].head())"
   ]
  },
  {
   "cell_type": "code",
   "execution_count": 5,
   "metadata": {},
   "outputs": [
    {
     "data": {
      "text/plain": [
       "['санкт-петербург',\n",
       " 'поселок шушары',\n",
       " 'городской поселок янино-1',\n",
       " 'поселок парголово',\n",
       " 'поселок мурино',\n",
       " 'ломоносов',\n",
       " 'сертолово',\n",
       " 'петергоф',\n",
       " 'пушкин',\n",
       " 'деревня кудрово',\n",
       " 'коммунар',\n",
       " 'колпино',\n",
       " 'поселок городского типа красный бор',\n",
       " 'гатчина',\n",
       " 'деревня федоровское',\n",
       " 'выборг',\n",
       " 'кронштадт',\n",
       " 'кировск',\n",
       " 'деревня новое девяткино',\n",
       " 'поселок металлострой',\n",
       " 'поселок городского типа лебяжье',\n",
       " 'поселок городского типа сиверский',\n",
       " 'поселок молодцово',\n",
       " 'поселок городского типа кузьмоловский',\n",
       " 'садовое товарищество новая ропша',\n",
       " 'павловск',\n",
       " 'деревня пикколово',\n",
       " 'всеволожск',\n",
       " 'волхов',\n",
       " 'кингисепп',\n",
       " 'приозерск',\n",
       " 'сестрорецк',\n",
       " 'деревня куттузи',\n",
       " 'поселок аннино',\n",
       " 'поселок городского типа ефимовский',\n",
       " 'поселок плодовое',\n",
       " 'деревня заклинье',\n",
       " 'поселок торковичи',\n",
       " 'поселок первомайское',\n",
       " 'красное село',\n",
       " 'поселок понтонный',\n",
       " 'сясьстрой',\n",
       " 'деревня старая',\n",
       " 'деревня лесколово',\n",
       " 'поселок новый свет',\n",
       " 'сланцы',\n",
       " 'село путилово',\n",
       " 'ивангород',\n",
       " 'мурино',\n",
       " 'шлиссельбург',\n",
       " 'никольское',\n",
       " 'зеленогорск',\n",
       " 'сосновый бор',\n",
       " 'деревня оржицы',\n",
       " 'деревня кальтино',\n",
       " 'кудрово',\n",
       " 'поселок романовка',\n",
       " 'поселок бугры',\n",
       " 'поселок городского типа рощино',\n",
       " 'кириши',\n",
       " 'луга',\n",
       " 'волосово',\n",
       " 'отрадное',\n",
       " 'село павлово',\n",
       " 'поселок оредеж',\n",
       " 'село копорье',\n",
       " 'поселок молодежное',\n",
       " 'тихвин',\n",
       " 'поселок победа',\n",
       " 'деревня нурма',\n",
       " 'поселок городского типа синявино',\n",
       " 'тосно',\n",
       " 'поселок стрельна',\n",
       " 'бокситогорск',\n",
       " 'поселок александровская',\n",
       " 'деревня лопухинка',\n",
       " 'пикалево',\n",
       " 'поселок терволово',\n",
       " 'поселок городского типа советский',\n",
       " 'подпорожье',\n",
       " 'поселок петровское',\n",
       " 'поселок городского типа токсово',\n",
       " 'поселок сельцо',\n",
       " 'поселок городского типа вырица',\n",
       " 'деревня кипень',\n",
       " 'деревня келози',\n",
       " 'деревня вартемяги',\n",
       " 'поселок тельмана',\n",
       " 'поселок севастьяново',\n",
       " 'городской поселок большая ижора',\n",
       " 'городской поселок павлово',\n",
       " 'деревня агалатово',\n",
       " 'поселок новогорелово',\n",
       " 'городской поселок лесогорский',\n",
       " 'деревня лаголово',\n",
       " 'поселок цвелодубово',\n",
       " 'поселок городского типа рахья',\n",
       " 'деревня белогорка',\n",
       " 'поселок заводской',\n",
       " 'городской поселок новоселье',\n",
       " 'деревня большие колпаны',\n",
       " 'деревня горбунки',\n",
       " 'деревня батово',\n",
       " 'деревня заневка',\n",
       " 'деревня иссад',\n",
       " 'приморск',\n",
       " 'городской поселок федоровское',\n",
       " 'деревня мистолово',\n",
       " 'новая ладога',\n",
       " 'поселок зимитицы',\n",
       " 'поселок барышево',\n",
       " 'деревня разметелево',\n",
       " 'поселок городского типа имени свердлова',\n",
       " 'деревня пеники',\n",
       " 'поселок рябово',\n",
       " 'деревня пудомяги',\n",
       " 'поселок станции корнево',\n",
       " 'деревня низино',\n",
       " 'деревня бегуницы',\n",
       " 'поселок поляны',\n",
       " 'городской поселок мга',\n",
       " 'поселок елизаветино',\n",
       " 'поселок городского типа кузнечное',\n",
       " 'деревня колтуши',\n",
       " 'поселок запорожское',\n",
       " 'деревня гостилицы',\n",
       " 'деревня малое карлино',\n",
       " 'поселок мичуринское',\n",
       " 'поселок городского типа имени морозова',\n",
       " 'поселок песочный',\n",
       " 'поселок сосново',\n",
       " 'деревня аро',\n",
       " 'поселок ильичево',\n",
       " 'поселок городского типа тайцы',\n",
       " 'деревня малое верево',\n",
       " 'деревня извара',\n",
       " 'поселок станции вещево',\n",
       " 'село паша',\n",
       " 'деревня калитино',\n",
       " 'поселок городского типа ульяновка',\n",
       " 'деревня чудской бор',\n",
       " 'поселок городского типа дубровка',\n",
       " 'деревня мины',\n",
       " 'поселок войсковицы',\n",
       " 'деревня коркино',\n",
       " 'поселок ропша',\n",
       " 'поселок городского типа приладожский',\n",
       " 'поселок щеглово',\n",
       " 'поселок гаврилово',\n",
       " 'лодейное поле',\n",
       " 'деревня рабитицы',\n",
       " 'поселок городского типа никольский',\n",
       " 'деревня кузьмолово',\n",
       " 'деревня малые колпаны',\n",
       " 'поселок петро-славянка',\n",
       " 'городской поселок назия',\n",
       " 'поселок репино',\n",
       " 'поселок углово',\n",
       " 'поселок старая малукса',\n",
       " 'садовое товарищество рахья',\n",
       " 'деревня меньково',\n",
       " 'деревня старые бегуницы',\n",
       " 'поселок саперный',\n",
       " 'поселок семрино',\n",
       " 'поселок глажево',\n",
       " 'поселок кобринское',\n",
       " 'деревня гарболово',\n",
       " 'деревня юкки',\n",
       " 'поселок станции приветнинское',\n",
       " 'деревня мануйлово',\n",
       " 'деревня пчева',\n",
       " 'поселок цвылево',\n",
       " 'поселок мельниково',\n",
       " 'поселок пудость',\n",
       " 'поселок усть-луга',\n",
       " 'светогорск',\n",
       " 'любань',\n",
       " 'поселок селезнево',\n",
       " 'поселок городского типа рябово',\n",
       " 'каменногорск',\n",
       " 'деревня кривко',\n",
       " 'поселок глебычево',\n",
       " 'деревня парицы',\n",
       " 'поселок жилпоселок',\n",
       " 'поселок городского типа мга',\n",
       " 'поселок войскорово',\n",
       " 'село никольское',\n",
       " 'поселок стеклянный',\n",
       " 'поселок городского типа важины',\n",
       " 'поселок мыза-ивановка',\n",
       " 'село русско-высоцкое',\n",
       " 'поселок городского типа форносово',\n",
       " 'село старая ладога',\n",
       " 'поселок житково',\n",
       " 'городской поселок виллози',\n",
       " 'деревня лампово',\n",
       " 'деревня шпаньково',\n",
       " 'деревня лаврики',\n",
       " 'поселок сумино',\n",
       " 'поселок возрождение',\n",
       " 'деревня старосиверская',\n",
       " 'поселок кикерино',\n",
       " 'деревня старое хинколово',\n",
       " 'поселок пригородный',\n",
       " 'поселок торфяное',\n",
       " 'городской поселок будогощь',\n",
       " 'поселок суходолье',\n",
       " 'поселок красная долина',\n",
       " 'деревня хапо-ое',\n",
       " 'поселок городского типа дружная горка',\n",
       " 'поселок лисий нос',\n",
       " 'деревня яльгелево',\n",
       " 'село рождествено',\n",
       " 'деревня старополье',\n",
       " 'поселок левашово',\n",
       " 'деревня сяськелево',\n",
       " 'деревня камышовка',\n",
       " 'садоводческое некоммерческое товарищество лесная поляна',\n",
       " 'деревня хязельки',\n",
       " 'поселок жилгородок',\n",
       " 'поселок городского типа павлово',\n",
       " 'деревня ялгино',\n",
       " 'поселок новый учхоз',\n",
       " 'городской поселок рощино',\n",
       " 'поселок гончарово',\n",
       " 'поселок почап',\n",
       " 'поселок саперное',\n",
       " 'поселок платформа 69-й километр',\n",
       " 'поселок каложицы',\n",
       " 'деревня фалилеево',\n",
       " 'деревня пельгора',\n",
       " 'поселок городского типа лесогорский',\n",
       " 'деревня торошковичи',\n",
       " 'поселок белоостров',\n",
       " 'поселок алексеевка',\n",
       " 'поселок серебрянский',\n",
       " 'поселок лукаши',\n",
       " 'деревня щеглово',\n",
       " 'деревня тарасово',\n",
       " 'поселок кингисеппский',\n",
       " 'поселок при железнодорожной станции вещево',\n",
       " 'поселок ушаки',\n",
       " 'деревня котлы',\n",
       " 'деревня сижно',\n",
       " 'деревня торосово',\n",
       " 'поселок форт красная горка',\n",
       " 'деревня новолисино',\n",
       " 'поселок станции громово',\n",
       " 'деревня глинка',\n",
       " 'поселок городского типа назия',\n",
       " 'деревня старая пустошь',\n",
       " 'поселок коммунары',\n",
       " 'поселок починок',\n",
       " 'поселок городского типа вознесенье',\n",
       " 'деревня разбегаево',\n",
       " 'поселок гладкое',\n",
       " 'поселок при железнодорожной станции приветнинское',\n",
       " 'поселок тесово-4',\n",
       " 'деревня бор',\n",
       " 'поселок коробицыно',\n",
       " 'деревня большая вруда',\n",
       " 'деревня курковицы',\n",
       " 'городской поселок советский',\n",
       " 'поселок кобралово',\n",
       " 'деревня суоранда',\n",
       " 'поселок городского типа кондратьево',\n",
       " 'коттеджный поселок счастье',\n",
       " 'поселок любань',\n",
       " 'деревня реброво',\n",
       " 'деревня зимитицы',\n",
       " 'деревня тойворово',\n",
       " 'поселок семиозерье',\n",
       " 'поселок лесное',\n",
       " 'поселок совхозный',\n",
       " 'поселок ленинское',\n",
       " 'поселок суйда',\n",
       " 'деревня нижние осельки',\n",
       " 'поселок станции свирь',\n",
       " 'поселок перово',\n",
       " 'высоцк',\n",
       " 'поселок гарболово',\n",
       " 'село шум',\n",
       " 'поселок котельский',\n",
       " 'поселок станции лужайка',\n",
       " 'деревня большая пустомержа',\n",
       " 'поселок красносельское',\n",
       " 'деревня вахнова кара',\n",
       " 'деревня пижма',\n",
       " 'коттеджный поселок кивеннапа север',\n",
       " 'поселок ромашки',\n",
       " 'деревня каськово',\n",
       " 'деревня куровицы',\n",
       " 'поселок плоское',\n",
       " 'поселок городского типа большая ижора',\n",
       " 'поселок кирпичное',\n",
       " 'деревня ям-тесово',\n",
       " 'деревня раздолье',\n",
       " 'деревня терпилицы',\n",
       " 'поселок шугозеро',\n",
       " 'деревня ваганово',\n",
       " 'поселок пушное',\n",
       " 'садовое товарищество садко',\n",
       " 'поселок усть-ижора',\n",
       " 'деревня выскатка',\n",
       " 'городской поселок свирьстрой',\n",
       " 'поселок громово',\n",
       " 'деревня кисельня',\n",
       " 'деревня трубников бор',\n",
       " 'поселок калитино',\n",
       " 'поселок высокоключевой',\n",
       " 'садовое товарищество приладожский',\n",
       " 'поселок пансионат зеленый бор',\n",
       " 'деревня ненимяки',\n",
       " 'деревня снегиревка',\n",
       " 'деревня рапполово',\n",
       " 'деревня пустынка',\n",
       " 'поселок рабитицы',\n",
       " 'деревня большой сабск',\n",
       " 'деревня русско',\n",
       " 'деревня лупполово',\n",
       " 'деревня большое рейзино',\n",
       " 'деревня малая романовка',\n",
       " 'поселок дружноселье',\n",
       " 'поселок пчевжа',\n",
       " 'поселок володарское',\n",
       " 'деревня нижняя',\n",
       " 'коттеджный поселок лесное',\n",
       " 'деревня тихковицы',\n",
       " 'деревня борисова грива',\n",
       " 'поселок дзержинского']"
      ]
     },
     "execution_count": 5,
     "metadata": {},
     "output_type": "execute_result"
    }
   ],
   "source": [
    "#теперь нужно устранить дубликаты в названиях населённых пунктов\n",
    "# сначала посмотрим какие названия есть вообще\n",
    "data['locality_name'].unique().tolist()\n",
    "# некоторые названяи имеются такой вид:поселок Гарболово и деревня Гарболово - менять их нет смысла, т.к. это могут быть разные населённые пункты\n",
    "#поэтому менять ничего здесь не будем, явных дубликатов не наблюдается. Можно поменять только регистр: заглвные буквы сделать строчными\n",
    "data['locality_name'] = data['locality_name'].str.lower()\n",
    "#заодно моджно все \"ё\" заменить на \"е\" для единообразия\n",
    "data['locality_name'] = data['locality_name'].str.replace('ё', 'е', regex=True)\n",
    "#ещё раз проверяем\n",
    "data['locality_name'].unique().tolist()"
   ]
  },
  {
   "cell_type": "code",
   "execution_count": 6,
   "metadata": {},
   "outputs": [
    {
     "data": {
      "text/html": [
       "<div>\n",
       "<style scoped>\n",
       "    .dataframe tbody tr th:only-of-type {\n",
       "        vertical-align: middle;\n",
       "    }\n",
       "\n",
       "    .dataframe tbody tr th {\n",
       "        vertical-align: top;\n",
       "    }\n",
       "\n",
       "    .dataframe thead th {\n",
       "        text-align: right;\n",
       "    }\n",
       "</style>\n",
       "<table border=\"1\" class=\"dataframe\">\n",
       "  <thead>\n",
       "    <tr style=\"text-align: right;\">\n",
       "      <th></th>\n",
       "      <th>total_images</th>\n",
       "      <th>last_price</th>\n",
       "      <th>total_area</th>\n",
       "      <th>rooms</th>\n",
       "      <th>ceiling_height</th>\n",
       "      <th>floors_total</th>\n",
       "      <th>living_area</th>\n",
       "      <th>floor</th>\n",
       "      <th>is_apartment</th>\n",
       "      <th>kitchen_area</th>\n",
       "      <th>balcony</th>\n",
       "      <th>airports_nearest</th>\n",
       "      <th>cityCenters_nearest</th>\n",
       "      <th>parks_around3000</th>\n",
       "      <th>parks_nearest</th>\n",
       "      <th>ponds_around3000</th>\n",
       "      <th>ponds_nearest</th>\n",
       "      <th>days_exposition</th>\n",
       "    </tr>\n",
       "  </thead>\n",
       "  <tbody>\n",
       "    <tr>\n",
       "      <th>count</th>\n",
       "      <td>23565.000000</td>\n",
       "      <td>2.356500e+04</td>\n",
       "      <td>23565.000000</td>\n",
       "      <td>23565.000000</td>\n",
       "      <td>23565.000000</td>\n",
       "      <td>23565.000000</td>\n",
       "      <td>23565.000000</td>\n",
       "      <td>23565.000000</td>\n",
       "      <td>23565.000000</td>\n",
       "      <td>23565.000000</td>\n",
       "      <td>23565.000000</td>\n",
       "      <td>23565.000000</td>\n",
       "      <td>23565.000000</td>\n",
       "      <td>23565.000000</td>\n",
       "      <td>23565.000000</td>\n",
       "      <td>23565.000000</td>\n",
       "      <td>23565.000000</td>\n",
       "      <td>23565.000000</td>\n",
       "    </tr>\n",
       "    <tr>\n",
       "      <th>mean</th>\n",
       "      <td>9.878421</td>\n",
       "      <td>6.540058e+06</td>\n",
       "      <td>60.322824</td>\n",
       "      <td>2.070656</td>\n",
       "      <td>2.771283</td>\n",
       "      <td>10.675875</td>\n",
       "      <td>34.102255</td>\n",
       "      <td>5.878124</td>\n",
       "      <td>0.002122</td>\n",
       "      <td>10.423234</td>\n",
       "      <td>0.593677</td>\n",
       "      <td>27.746955</td>\n",
       "      <td>13.533673</td>\n",
       "      <td>0.468831</td>\n",
       "      <td>0.020921</td>\n",
       "      <td>0.589900</td>\n",
       "      <td>0.508863</td>\n",
       "      <td>169.203692</td>\n",
       "    </tr>\n",
       "    <tr>\n",
       "      <th>std</th>\n",
       "      <td>5.681156</td>\n",
       "      <td>1.091093e+07</td>\n",
       "      <td>35.657060</td>\n",
       "      <td>1.078591</td>\n",
       "      <td>0.989266</td>\n",
       "      <td>6.594823</td>\n",
       "      <td>21.189133</td>\n",
       "      <td>4.871485</td>\n",
       "      <td>0.046015</td>\n",
       "      <td>5.631746</td>\n",
       "      <td>0.960660</td>\n",
       "      <td>11.100493</td>\n",
       "      <td>7.549740</td>\n",
       "      <td>0.748403</td>\n",
       "      <td>0.175851</td>\n",
       "      <td>0.883966</td>\n",
       "      <td>0.172307</td>\n",
       "      <td>206.497729</td>\n",
       "    </tr>\n",
       "    <tr>\n",
       "      <th>min</th>\n",
       "      <td>0.000000</td>\n",
       "      <td>1.219000e+04</td>\n",
       "      <td>12.000000</td>\n",
       "      <td>0.000000</td>\n",
       "      <td>1.000000</td>\n",
       "      <td>1.000000</td>\n",
       "      <td>2.000000</td>\n",
       "      <td>1.000000</td>\n",
       "      <td>0.000000</td>\n",
       "      <td>1.300000</td>\n",
       "      <td>0.000000</td>\n",
       "      <td>0.000000</td>\n",
       "      <td>0.000000</td>\n",
       "      <td>0.000000</td>\n",
       "      <td>0.000000</td>\n",
       "      <td>0.000000</td>\n",
       "      <td>0.013000</td>\n",
       "      <td>1.000000</td>\n",
       "    </tr>\n",
       "    <tr>\n",
       "      <th>25%</th>\n",
       "      <td>6.000000</td>\n",
       "      <td>3.400000e+06</td>\n",
       "      <td>40.000000</td>\n",
       "      <td>1.000000</td>\n",
       "      <td>2.600000</td>\n",
       "      <td>5.000000</td>\n",
       "      <td>19.000000</td>\n",
       "      <td>2.000000</td>\n",
       "      <td>0.000000</td>\n",
       "      <td>7.300000</td>\n",
       "      <td>0.000000</td>\n",
       "      <td>21.000000</td>\n",
       "      <td>10.000000</td>\n",
       "      <td>0.000000</td>\n",
       "      <td>0.000000</td>\n",
       "      <td>0.000000</td>\n",
       "      <td>0.503000</td>\n",
       "      <td>45.000000</td>\n",
       "    </tr>\n",
       "    <tr>\n",
       "      <th>50%</th>\n",
       "      <td>9.000000</td>\n",
       "      <td>4.646000e+06</td>\n",
       "      <td>52.000000</td>\n",
       "      <td>2.000000</td>\n",
       "      <td>2.771283</td>\n",
       "      <td>9.000000</td>\n",
       "      <td>30.000000</td>\n",
       "      <td>4.000000</td>\n",
       "      <td>0.000000</td>\n",
       "      <td>9.100000</td>\n",
       "      <td>0.000000</td>\n",
       "      <td>26.000000</td>\n",
       "      <td>13.000000</td>\n",
       "      <td>0.000000</td>\n",
       "      <td>0.000000</td>\n",
       "      <td>0.000000</td>\n",
       "      <td>0.503000</td>\n",
       "      <td>95.000000</td>\n",
       "    </tr>\n",
       "    <tr>\n",
       "      <th>75%</th>\n",
       "      <td>14.000000</td>\n",
       "      <td>6.790000e+06</td>\n",
       "      <td>69.700000</td>\n",
       "      <td>3.000000</td>\n",
       "      <td>2.771283</td>\n",
       "      <td>16.000000</td>\n",
       "      <td>41.100000</td>\n",
       "      <td>8.000000</td>\n",
       "      <td>0.000000</td>\n",
       "      <td>11.410000</td>\n",
       "      <td>1.000000</td>\n",
       "      <td>34.000000</td>\n",
       "      <td>15.000000</td>\n",
       "      <td>1.000000</td>\n",
       "      <td>0.000000</td>\n",
       "      <td>1.000000</td>\n",
       "      <td>0.503000</td>\n",
       "      <td>198.000000</td>\n",
       "    </tr>\n",
       "    <tr>\n",
       "      <th>max</th>\n",
       "      <td>50.000000</td>\n",
       "      <td>7.630000e+08</td>\n",
       "      <td>900.000000</td>\n",
       "      <td>19.000000</td>\n",
       "      <td>100.000000</td>\n",
       "      <td>60.000000</td>\n",
       "      <td>409.700000</td>\n",
       "      <td>33.000000</td>\n",
       "      <td>1.000000</td>\n",
       "      <td>112.000000</td>\n",
       "      <td>5.000000</td>\n",
       "      <td>84.000000</td>\n",
       "      <td>65.000000</td>\n",
       "      <td>3.000000</td>\n",
       "      <td>3.000000</td>\n",
       "      <td>3.000000</td>\n",
       "      <td>1.344000</td>\n",
       "      <td>1580.000000</td>\n",
       "    </tr>\n",
       "  </tbody>\n",
       "</table>\n",
       "</div>"
      ],
      "text/plain": [
       "       total_images    last_price    total_area         rooms  ceiling_height  \\\n",
       "count  23565.000000  2.356500e+04  23565.000000  23565.000000    23565.000000   \n",
       "mean       9.878421  6.540058e+06     60.322824      2.070656        2.771283   \n",
       "std        5.681156  1.091093e+07     35.657060      1.078591        0.989266   \n",
       "min        0.000000  1.219000e+04     12.000000      0.000000        1.000000   \n",
       "25%        6.000000  3.400000e+06     40.000000      1.000000        2.600000   \n",
       "50%        9.000000  4.646000e+06     52.000000      2.000000        2.771283   \n",
       "75%       14.000000  6.790000e+06     69.700000      3.000000        2.771283   \n",
       "max       50.000000  7.630000e+08    900.000000     19.000000      100.000000   \n",
       "\n",
       "       floors_total   living_area         floor  is_apartment  kitchen_area  \\\n",
       "count  23565.000000  23565.000000  23565.000000  23565.000000  23565.000000   \n",
       "mean      10.675875     34.102255      5.878124      0.002122     10.423234   \n",
       "std        6.594823     21.189133      4.871485      0.046015      5.631746   \n",
       "min        1.000000      2.000000      1.000000      0.000000      1.300000   \n",
       "25%        5.000000     19.000000      2.000000      0.000000      7.300000   \n",
       "50%        9.000000     30.000000      4.000000      0.000000      9.100000   \n",
       "75%       16.000000     41.100000      8.000000      0.000000     11.410000   \n",
       "max       60.000000    409.700000     33.000000      1.000000    112.000000   \n",
       "\n",
       "            balcony  airports_nearest  cityCenters_nearest  parks_around3000  \\\n",
       "count  23565.000000      23565.000000         23565.000000      23565.000000   \n",
       "mean       0.593677         27.746955            13.533673          0.468831   \n",
       "std        0.960660         11.100493             7.549740          0.748403   \n",
       "min        0.000000          0.000000             0.000000          0.000000   \n",
       "25%        0.000000         21.000000            10.000000          0.000000   \n",
       "50%        0.000000         26.000000            13.000000          0.000000   \n",
       "75%        1.000000         34.000000            15.000000          1.000000   \n",
       "max        5.000000         84.000000            65.000000          3.000000   \n",
       "\n",
       "       parks_nearest  ponds_around3000  ponds_nearest  days_exposition  \n",
       "count   23565.000000      23565.000000   23565.000000     23565.000000  \n",
       "mean        0.020921          0.589900       0.508863       169.203692  \n",
       "std         0.175851          0.883966       0.172307       206.497729  \n",
       "min         0.000000          0.000000       0.013000         1.000000  \n",
       "25%         0.000000          0.000000       0.503000        45.000000  \n",
       "50%         0.000000          0.000000       0.503000        95.000000  \n",
       "75%         0.000000          1.000000       0.503000       198.000000  \n",
       "max         3.000000          3.000000       1.344000      1580.000000  "
      ]
     },
     "execution_count": 6,
     "metadata": {},
     "output_type": "execute_result"
    }
   ],
   "source": [
    "#попробуем поискать аномалии\n",
    "data.describe()"
   ]
  },
  {
   "cell_type": "code",
   "execution_count": 7,
   "metadata": {},
   "outputs": [
    {
     "data": {
      "text/html": [
       "<div>\n",
       "<style scoped>\n",
       "    .dataframe tbody tr th:only-of-type {\n",
       "        vertical-align: middle;\n",
       "    }\n",
       "\n",
       "    .dataframe tbody tr th {\n",
       "        vertical-align: top;\n",
       "    }\n",
       "\n",
       "    .dataframe thead th {\n",
       "        text-align: right;\n",
       "    }\n",
       "</style>\n",
       "<table border=\"1\" class=\"dataframe\">\n",
       "  <thead>\n",
       "    <tr style=\"text-align: right;\">\n",
       "      <th></th>\n",
       "      <th>total_images</th>\n",
       "      <th>last_price</th>\n",
       "      <th>total_area</th>\n",
       "      <th>rooms</th>\n",
       "      <th>ceiling_height</th>\n",
       "      <th>floors_total</th>\n",
       "      <th>living_area</th>\n",
       "      <th>floor</th>\n",
       "      <th>is_apartment</th>\n",
       "      <th>kitchen_area</th>\n",
       "      <th>balcony</th>\n",
       "      <th>airports_nearest</th>\n",
       "      <th>cityCenters_nearest</th>\n",
       "      <th>parks_around3000</th>\n",
       "      <th>parks_nearest</th>\n",
       "      <th>ponds_around3000</th>\n",
       "      <th>ponds_nearest</th>\n",
       "      <th>days_exposition</th>\n",
       "    </tr>\n",
       "  </thead>\n",
       "  <tbody>\n",
       "    <tr>\n",
       "      <th>count</th>\n",
       "      <td>23565.000000</td>\n",
       "      <td>2.151900e+04</td>\n",
       "      <td>22326.000000</td>\n",
       "      <td>23371.000000</td>\n",
       "      <td>22033.000000</td>\n",
       "      <td>23565.000000</td>\n",
       "      <td>22688.000000</td>\n",
       "      <td>23565.000000</td>\n",
       "      <td>23565.000000</td>\n",
       "      <td>22005.000000</td>\n",
       "      <td>23565.000000</td>\n",
       "      <td>23565.000000</td>\n",
       "      <td>23565.000000</td>\n",
       "      <td>23565.000000</td>\n",
       "      <td>23565.000000</td>\n",
       "      <td>23565.000000</td>\n",
       "      <td>23565.000000</td>\n",
       "      <td>21228.000000</td>\n",
       "    </tr>\n",
       "    <tr>\n",
       "      <th>mean</th>\n",
       "      <td>9.878421</td>\n",
       "      <td>4.837115e+06</td>\n",
       "      <td>54.319704</td>\n",
       "      <td>2.030208</td>\n",
       "      <td>2.702974</td>\n",
       "      <td>10.675875</td>\n",
       "      <td>31.208433</td>\n",
       "      <td>5.878124</td>\n",
       "      <td>0.002122</td>\n",
       "      <td>9.310328</td>\n",
       "      <td>0.593677</td>\n",
       "      <td>27.746955</td>\n",
       "      <td>13.533673</td>\n",
       "      <td>0.468831</td>\n",
       "      <td>0.020921</td>\n",
       "      <td>0.589900</td>\n",
       "      <td>0.508863</td>\n",
       "      <td>112.794564</td>\n",
       "    </tr>\n",
       "    <tr>\n",
       "      <th>std</th>\n",
       "      <td>5.681156</td>\n",
       "      <td>2.215774e+06</td>\n",
       "      <td>19.331030</td>\n",
       "      <td>0.973563</td>\n",
       "      <td>0.130320</td>\n",
       "      <td>6.594823</td>\n",
       "      <td>13.035528</td>\n",
       "      <td>4.871485</td>\n",
       "      <td>0.046015</td>\n",
       "      <td>2.754380</td>\n",
       "      <td>0.960660</td>\n",
       "      <td>11.100493</td>\n",
       "      <td>7.549740</td>\n",
       "      <td>0.748403</td>\n",
       "      <td>0.175851</td>\n",
       "      <td>0.883966</td>\n",
       "      <td>0.172307</td>\n",
       "      <td>96.371987</td>\n",
       "    </tr>\n",
       "    <tr>\n",
       "      <th>min</th>\n",
       "      <td>0.000000</td>\n",
       "      <td>1.219000e+04</td>\n",
       "      <td>12.000000</td>\n",
       "      <td>0.000000</td>\n",
       "      <td>2.400000</td>\n",
       "      <td>1.000000</td>\n",
       "      <td>2.000000</td>\n",
       "      <td>1.000000</td>\n",
       "      <td>0.000000</td>\n",
       "      <td>1.300000</td>\n",
       "      <td>0.000000</td>\n",
       "      <td>0.000000</td>\n",
       "      <td>0.000000</td>\n",
       "      <td>0.000000</td>\n",
       "      <td>0.000000</td>\n",
       "      <td>0.000000</td>\n",
       "      <td>0.013000</td>\n",
       "      <td>1.000000</td>\n",
       "    </tr>\n",
       "    <tr>\n",
       "      <th>25%</th>\n",
       "      <td>6.000000</td>\n",
       "      <td>3.300000e+06</td>\n",
       "      <td>39.400000</td>\n",
       "      <td>1.000000</td>\n",
       "      <td>2.600000</td>\n",
       "      <td>5.000000</td>\n",
       "      <td>19.000000</td>\n",
       "      <td>2.000000</td>\n",
       "      <td>0.000000</td>\n",
       "      <td>7.100000</td>\n",
       "      <td>0.000000</td>\n",
       "      <td>21.000000</td>\n",
       "      <td>10.000000</td>\n",
       "      <td>0.000000</td>\n",
       "      <td>0.000000</td>\n",
       "      <td>0.000000</td>\n",
       "      <td>0.503000</td>\n",
       "      <td>45.000000</td>\n",
       "    </tr>\n",
       "    <tr>\n",
       "      <th>50%</th>\n",
       "      <td>9.000000</td>\n",
       "      <td>4.400000e+06</td>\n",
       "      <td>50.000000</td>\n",
       "      <td>2.000000</td>\n",
       "      <td>2.771283</td>\n",
       "      <td>9.000000</td>\n",
       "      <td>30.000000</td>\n",
       "      <td>4.000000</td>\n",
       "      <td>0.000000</td>\n",
       "      <td>9.100000</td>\n",
       "      <td>0.000000</td>\n",
       "      <td>26.000000</td>\n",
       "      <td>13.000000</td>\n",
       "      <td>0.000000</td>\n",
       "      <td>0.000000</td>\n",
       "      <td>0.000000</td>\n",
       "      <td>0.503000</td>\n",
       "      <td>95.000000</td>\n",
       "    </tr>\n",
       "    <tr>\n",
       "      <th>75%</th>\n",
       "      <td>14.000000</td>\n",
       "      <td>6.000000e+06</td>\n",
       "      <td>65.500000</td>\n",
       "      <td>3.000000</td>\n",
       "      <td>2.771283</td>\n",
       "      <td>16.000000</td>\n",
       "      <td>39.500000</td>\n",
       "      <td>8.000000</td>\n",
       "      <td>0.000000</td>\n",
       "      <td>10.900000</td>\n",
       "      <td>1.000000</td>\n",
       "      <td>34.000000</td>\n",
       "      <td>15.000000</td>\n",
       "      <td>1.000000</td>\n",
       "      <td>0.000000</td>\n",
       "      <td>1.000000</td>\n",
       "      <td>0.503000</td>\n",
       "      <td>146.000000</td>\n",
       "    </tr>\n",
       "    <tr>\n",
       "      <th>max</th>\n",
       "      <td>50.000000</td>\n",
       "      <td>1.186686e+07</td>\n",
       "      <td>114.200000</td>\n",
       "      <td>5.000000</td>\n",
       "      <td>3.020000</td>\n",
       "      <td>60.000000</td>\n",
       "      <td>74.200000</td>\n",
       "      <td>33.000000</td>\n",
       "      <td>1.000000</td>\n",
       "      <td>17.550000</td>\n",
       "      <td>5.000000</td>\n",
       "      <td>84.000000</td>\n",
       "      <td>65.000000</td>\n",
       "      <td>3.000000</td>\n",
       "      <td>3.000000</td>\n",
       "      <td>3.000000</td>\n",
       "      <td>1.344000</td>\n",
       "      <td>427.000000</td>\n",
       "    </tr>\n",
       "  </tbody>\n",
       "</table>\n",
       "</div>"
      ],
      "text/plain": [
       "       total_images    last_price    total_area         rooms  ceiling_height  \\\n",
       "count  23565.000000  2.151900e+04  22326.000000  23371.000000    22033.000000   \n",
       "mean       9.878421  4.837115e+06     54.319704      2.030208        2.702974   \n",
       "std        5.681156  2.215774e+06     19.331030      0.973563        0.130320   \n",
       "min        0.000000  1.219000e+04     12.000000      0.000000        2.400000   \n",
       "25%        6.000000  3.300000e+06     39.400000      1.000000        2.600000   \n",
       "50%        9.000000  4.400000e+06     50.000000      2.000000        2.771283   \n",
       "75%       14.000000  6.000000e+06     65.500000      3.000000        2.771283   \n",
       "max       50.000000  1.186686e+07    114.200000      5.000000        3.020000   \n",
       "\n",
       "       floors_total   living_area         floor  is_apartment  kitchen_area  \\\n",
       "count  23565.000000  22688.000000  23565.000000  23565.000000  22005.000000   \n",
       "mean      10.675875     31.208433      5.878124      0.002122      9.310328   \n",
       "std        6.594823     13.035528      4.871485      0.046015      2.754380   \n",
       "min        1.000000      2.000000      1.000000      0.000000      1.300000   \n",
       "25%        5.000000     19.000000      2.000000      0.000000      7.100000   \n",
       "50%        9.000000     30.000000      4.000000      0.000000      9.100000   \n",
       "75%       16.000000     39.500000      8.000000      0.000000     10.900000   \n",
       "max       60.000000     74.200000     33.000000      1.000000     17.550000   \n",
       "\n",
       "            balcony  airports_nearest  cityCenters_nearest  parks_around3000  \\\n",
       "count  23565.000000      23565.000000         23565.000000      23565.000000   \n",
       "mean       0.593677         27.746955            13.533673          0.468831   \n",
       "std        0.960660         11.100493             7.549740          0.748403   \n",
       "min        0.000000          0.000000             0.000000          0.000000   \n",
       "25%        0.000000         21.000000            10.000000          0.000000   \n",
       "50%        0.000000         26.000000            13.000000          0.000000   \n",
       "75%        1.000000         34.000000            15.000000          1.000000   \n",
       "max        5.000000         84.000000            65.000000          3.000000   \n",
       "\n",
       "       parks_nearest  ponds_around3000  ponds_nearest  days_exposition  \n",
       "count   23565.000000      23565.000000   23565.000000     21228.000000  \n",
       "mean        0.020921          0.589900       0.508863       112.794564  \n",
       "std         0.175851          0.883966       0.172307        96.371987  \n",
       "min         0.000000          0.000000       0.013000         1.000000  \n",
       "25%         0.000000          0.000000       0.503000        45.000000  \n",
       "50%         0.000000          0.000000       0.503000        95.000000  \n",
       "75%         0.000000          1.000000       0.503000       146.000000  \n",
       "max         3.000000          3.000000       1.344000       427.000000  "
      ]
     },
     "execution_count": 7,
     "metadata": {},
     "output_type": "execute_result"
    }
   ],
   "source": [
    "# есть аномалии и их надо устранить\n",
    "# функция отсекающая аномальные значения.\n",
    "def anomali(df, column):\n",
    "    q1 = df[column].quantile(0.25)\n",
    "    q3 = df[column].quantile(0.75)\n",
    "    iqr = q3 - q1\n",
    "    dfq = df.loc[(df[column] < q3 + 1.5*iqr) & (df[column] > q1 - 1.5*iqr), column]\n",
    "    return dfq\n",
    "# столбцы где присутствуют анмоальные значения, и которые надо убрать\n",
    "list_features = ['last_price', 'total_area', 'kitchen_area', 'living_area', 'days_exposition', 'ceiling_height', 'rooms']\n",
    "for col in list_features:\n",
    "    data[col] = anomali(data, col)\n",
    "    \n",
    "data.describe()"
   ]
  },
  {
   "cell_type": "code",
   "execution_count": 8,
   "metadata": {},
   "outputs": [
    {
     "data": {
      "text/plain": [
       "0"
      ]
     },
     "execution_count": 8,
     "metadata": {},
     "output_type": "execute_result"
    }
   ],
   "source": [
    "# првоерим на явные дубликаты\n",
    "data.duplicated().sum()"
   ]
  },
  {
   "cell_type": "markdown",
   "metadata": {},
   "source": [
    "Явных дубликатов не обнаружено"
   ]
  },
  {
   "cell_type": "markdown",
   "metadata": {},
   "source": [
    "**Выводы промежуточные**\n",
    "1. Проведена работа с пропусками в данных, все пропуски обработаны\n",
    "2. Все типы данных в колонках приведены к тем типам данных, с котороыми возможно дальше работать\n",
    "3. Првоедена првоерка на дубликаты и аномальные значения - не обнаружено\n",
    "4. Првоеренны данные на предмет аномалий + проведена работа с аномалиями на предмет их устранения"
   ]
  },
  {
   "cell_type": "markdown",
   "metadata": {},
   "source": [
    "### Посчитайте и добавьте в таблицу новые столбцы"
   ]
  },
  {
   "cell_type": "code",
   "execution_count": 9,
   "metadata": {},
   "outputs": [
    {
     "name": "stdout",
     "output_type": "stream",
     "text": [
      "0     92727.272727\n",
      "1     82920.792079\n",
      "2     92785.714286\n",
      "3     92727.272727\n",
      "4    100000.000000\n",
      "Name: price_m2, dtype: float64\n"
     ]
    }
   ],
   "source": [
    "#добавим столбец и посчитаем цену одного квадратного метра\n",
    "data['price_m2'] = data['last_price']/data['total_area']\n",
    "data['price_m2']= data['price_m2'].fillna(data['price_m2'].median())\n",
    "# выведем первые 5 строк, чтобы посмотреть получилось ли создать новую колонку и запсиать туда стоимость квадратного метра\n",
    "print(data['price_m2'].head())\n"
   ]
  },
  {
   "cell_type": "code",
   "execution_count": 10,
   "metadata": {},
   "outputs": [
    {
     "name": "stdout",
     "output_type": "stream",
     "text": [
      "0    Thursday\n",
      "1     Tuesday\n",
      "2    Thursday\n",
      "3      Friday\n",
      "4     Tuesday\n",
      "Name: weekday, dtype: object\n"
     ]
    }
   ],
   "source": [
    "#добавим день недели публикации объявления\n",
    "data['weekday'] = data['first_day_exposition'].dt.day_name()\n",
    "print(data['weekday'].head())"
   ]
  },
  {
   "cell_type": "markdown",
   "metadata": {},
   "source": [
    "**Комментарий**\n",
    "Вывел названиями дни недели а не цифрами как требует задание, т.к. так быстрее и проще воспринимать какой же день недели, а не пытаться соотнести в уме цифры с днями (т.е. сразху читаешь \"вторник\", а не видишь 1 и вспоминаешь, что он означает понедельник)"
   ]
  },
  {
   "cell_type": "code",
   "execution_count": 11,
   "metadata": {},
   "outputs": [
    {
     "name": "stdout",
     "output_type": "stream",
     "text": [
      "0     3\n",
      "1    12\n",
      "2     8\n",
      "3     7\n",
      "4     6\n",
      "Name: month, dtype: int64\n"
     ]
    }
   ],
   "source": [
    "# добавим год публикации\n",
    "data['month'] = data['first_day_exposition'].dt.month\n",
    "print(data['month'].head())"
   ]
  },
  {
   "cell_type": "code",
   "execution_count": 12,
   "metadata": {},
   "outputs": [
    {
     "name": "stdout",
     "output_type": "stream",
     "text": [
      "0    2019\n",
      "1    2018\n",
      "2    2015\n",
      "3    2015\n",
      "4    2018\n",
      "Name: year, dtype: int64\n"
     ]
    }
   ],
   "source": [
    "# добавим год публикации\n",
    "data['year'] = data['first_day_exposition'].dt.year\n",
    "print(data['year'].head())"
   ]
  },
  {
   "cell_type": "code",
   "execution_count": 13,
   "metadata": {},
   "outputs": [
    {
     "name": "stdout",
     "output_type": "stream",
     "text": [
      "0    другой\n",
      "1    первый\n",
      "2    другой\n",
      "3    другой\n",
      "4    другой\n",
      "Name: floor_type, dtype: object\n"
     ]
    }
   ],
   "source": [
    "#тип этажа квартиры\n",
    "def floor_group(row):\n",
    "    if row['floor'] == 1:\n",
    "        return 'первый'\n",
    "    elif row['floor'] == row['floors_total']:\n",
    "        return 'последний'\n",
    "    else:\n",
    "        return 'другой'\n",
    "data['floor_type'] = data.apply(floor_group, axis=1)\n",
    "print(data['floor_type'].head())"
   ]
  },
  {
   "cell_type": "code",
   "execution_count": 14,
   "metadata": {},
   "outputs": [
    {
     "name": "stdout",
     "output_type": "stream",
     "text": [
      "<class 'pandas.core.frame.DataFrame'>\n",
      "Int64Index: 23565 entries, 0 to 23698\n",
      "Data columns (total 27 columns):\n",
      " #   Column                Non-Null Count  Dtype         \n",
      "---  ------                --------------  -----         \n",
      " 0   total_images          23565 non-null  int64         \n",
      " 1   last_price            21519 non-null  float64       \n",
      " 2   total_area            22326 non-null  float64       \n",
      " 3   first_day_exposition  23565 non-null  datetime64[ns]\n",
      " 4   rooms                 23371 non-null  float64       \n",
      " 5   ceiling_height        22033 non-null  float64       \n",
      " 6   floors_total          23565 non-null  int64         \n",
      " 7   living_area           22688 non-null  float64       \n",
      " 8   floor                 23565 non-null  int64         \n",
      " 9   is_apartment          23565 non-null  int64         \n",
      " 10  studio                23565 non-null  bool          \n",
      " 11  open_plan             23565 non-null  bool          \n",
      " 12  kitchen_area          22005 non-null  float64       \n",
      " 13  balcony               23565 non-null  int64         \n",
      " 14  locality_name         23565 non-null  object        \n",
      " 15  airports_nearest      23565 non-null  int64         \n",
      " 16  cityCenters_nearest   23565 non-null  int64         \n",
      " 17  parks_around3000      23565 non-null  int64         \n",
      " 18  parks_nearest         23565 non-null  int64         \n",
      " 19  ponds_around3000      23565 non-null  int64         \n",
      " 20  ponds_nearest         23565 non-null  float64       \n",
      " 21  days_exposition       21228 non-null  float64       \n",
      " 22  price_m2              23565 non-null  float64       \n",
      " 23  weekday               23565 non-null  object        \n",
      " 24  month                 23565 non-null  int64         \n",
      " 25  year                  23565 non-null  int64         \n",
      " 26  floor_type            23565 non-null  object        \n",
      "dtypes: bool(2), datetime64[ns](1), float64(9), int64(12), object(3)\n",
      "memory usage: 4.7+ MB\n"
     ]
    }
   ],
   "source": [
    "data.info()"
   ]
  },
  {
   "cell_type": "markdown",
   "metadata": {},
   "source": [
    "**Промежуточный итог**\n",
    "1. Были переведны метры в километры\n",
    "2. Этади поделены на типы: первый, последний, другой\n",
    "3. Выделены в отдельные колонки день недели, месяц и год\n",
    "4. Обработаны пропуски в данных"
   ]
  },
  {
   "cell_type": "markdown",
   "metadata": {},
   "source": [
    "### Проведите исследовательский анализ данных"
   ]
  },
  {
   "cell_type": "code",
   "execution_count": 15,
   "metadata": {},
   "outputs": [
    {
     "data": {
      "text/plain": [
       "<AxesSubplot:>"
      ]
     },
     "execution_count": 15,
     "metadata": {},
     "output_type": "execute_result"
    },
    {
     "data": {
      "image/png": "[encoded data removed]",
      "text/plain": [
       "<Figure size 432x288 with 1 Axes>"
      ]
     },
     "metadata": {
      "needs_background": "light"
     },
     "output_type": "display_data"
    }
   ],
   "source": [
    "# общая площадь\n",
    "data['total_area'].hist()"
   ]
  },
  {
   "cell_type": "code",
   "execution_count": 16,
   "metadata": {},
   "outputs": [
    {
     "data": {
      "text/plain": [
       "<AxesSubplot:>"
      ]
     },
     "execution_count": 16,
     "metadata": {},
     "output_type": "execute_result"
    },
    {
     "data": {
      "image/png": "[encoded data removed]",
      "text/plain": [
       "<Figure size 432x288 with 1 Axes>"
      ]
     },
     "metadata": {
      "needs_background": "light"
     },
     "output_type": "display_data"
    }
   ],
   "source": [
    "# жилая площадь\n",
    "data['living_area'].hist()"
   ]
  },
  {
   "cell_type": "code",
   "execution_count": 17,
   "metadata": {},
   "outputs": [
    {
     "data": {
      "text/plain": [
       "<AxesSubplot:>"
      ]
     },
     "execution_count": 17,
     "metadata": {},
     "output_type": "execute_result"
    },
    {
     "data": {
      "image/png": "[encoded data removed]",
      "text/plain": [
       "<Figure size 432x288 with 1 Axes>"
      ]
     },
     "metadata": {
      "needs_background": "light"
     },
     "output_type": "display_data"
    }
   ],
   "source": [
    "# площадь кухни\n",
    "data['kitchen_area'].hist()"
   ]
  },
  {
   "cell_type": "code",
   "execution_count": 18,
   "metadata": {},
   "outputs": [
    {
     "data": {
      "text/plain": [
       "<AxesSubplot:>"
      ]
     },
     "execution_count": 18,
     "metadata": {},
     "output_type": "execute_result"
    },
    {
     "data": {
      "image/png": "[encoded data removed]",
      "text/plain": [
       "<Figure size 432x288 with 1 Axes>"
      ]
     },
     "metadata": {
      "needs_background": "light"
     },
     "output_type": "display_data"
    }
   ],
   "source": [
    "# цена объекта\n",
    "data['last_price'].hist()"
   ]
  },
  {
   "cell_type": "code",
   "execution_count": 19,
   "metadata": {},
   "outputs": [
    {
     "data": {
      "text/plain": [
       "<AxesSubplot:>"
      ]
     },
     "execution_count": 19,
     "metadata": {},
     "output_type": "execute_result"
    },
    {
     "data": {
      "image/png": "[encoded data removed]",
      "text/plain": [
       "<Figure size 432x288 with 1 Axes>"
      ]
     },
     "metadata": {
      "needs_background": "light"
     },
     "output_type": "display_data"
    }
   ],
   "source": [
    "# количество комнат\n",
    "data['rooms'].hist()"
   ]
  },
  {
   "cell_type": "code",
   "execution_count": 20,
   "metadata": {},
   "outputs": [
    {
     "data": {
      "text/plain": [
       "<AxesSubplot:>"
      ]
     },
     "execution_count": 20,
     "metadata": {},
     "output_type": "execute_result"
    },
    {
     "data": {
      "image/png": "[encoded data removed]",
      "text/plain": [
       "<Figure size 432x288 with 1 Axes>"
      ]
     },
     "metadata": {
      "needs_background": "light"
     },
     "output_type": "display_data"
    }
   ],
   "source": [
    "# этаж квартиры\n",
    "data['floor'].hist()"
   ]
  },
  {
   "cell_type": "code",
   "execution_count": 21,
   "metadata": {},
   "outputs": [
    {
     "data": {
      "text/plain": [
       "<AxesSubplot:>"
      ]
     },
     "execution_count": 21,
     "metadata": {},
     "output_type": "execute_result"
    },
    {
     "data": {
      "image/png": "[encoded data removed]",
      "text/plain": [
       "<Figure size 432x288 with 1 Axes>"
      ]
     },
     "metadata": {
      "needs_background": "light"
     },
     "output_type": "display_data"
    }
   ],
   "source": [
    "# тип этажа квартиры («первый», «последний», «другой»)\n",
    "data['floor_type'].hist()"
   ]
  },
  {
   "cell_type": "code",
   "execution_count": 22,
   "metadata": {},
   "outputs": [
    {
     "data": {
      "text/plain": [
       "<AxesSubplot:>"
      ]
     },
     "execution_count": 22,
     "metadata": {},
     "output_type": "execute_result"
    },
    {
     "data": {
      "image/png": "[encoded data removed]",
      "text/plain": [
       "<Figure size 432x288 with 1 Axes>"
      ]
     },
     "metadata": {
      "needs_background": "light"
     },
     "output_type": "display_data"
    }
   ],
   "source": [
    "# общее количество этажей в доме\n",
    "data['floors_total'].hist()"
   ]
  },
  {
   "cell_type": "code",
   "execution_count": 23,
   "metadata": {},
   "outputs": [
    {
     "data": {
      "text/plain": [
       "<AxesSubplot:>"
      ]
     },
     "execution_count": 23,
     "metadata": {},
     "output_type": "execute_result"
    },
    {
     "data": {
      "image/png": "[encoded data removed]",
      "text/plain": [
       "<Figure size 432x288 with 1 Axes>"
      ]
     },
     "metadata": {
      "needs_background": "light"
     },
     "output_type": "display_data"
    }
   ],
   "source": [
    "# расстояние до центра города в километрах\n",
    "data['cityCenters_nearest'].hist()"
   ]
  },
  {
   "cell_type": "code",
   "execution_count": 24,
   "metadata": {},
   "outputs": [
    {
     "data": {
      "text/plain": [
       "<AxesSubplot:>"
      ]
     },
     "execution_count": 24,
     "metadata": {},
     "output_type": "execute_result"
    },
    {
     "data": {
      "image/png": "[encoded data removed]",
      "text/plain": [
       "<Figure size 432x288 with 1 Axes>"
      ]
     },
     "metadata": {
      "needs_background": "light"
     },
     "output_type": "display_data"
    }
   ],
   "source": [
    "# расстояние до ближайшего аэропорта\n",
    "data['airports_nearest'].hist()"
   ]
  },
  {
   "cell_type": "code",
   "execution_count": 25,
   "metadata": {},
   "outputs": [
    {
     "data": {
      "text/plain": [
       "<AxesSubplot:>"
      ]
     },
     "execution_count": 25,
     "metadata": {},
     "output_type": "execute_result"
    },
    {
     "data": {
      "image/png": "[encoded data removed]",
      "text/plain": [
       "<Figure size 432x288 with 1 Axes>"
      ]
     },
     "metadata": {
      "needs_background": "light"
     },
     "output_type": "display_data"
    }
   ],
   "source": [
    "# расстояние до ближайшего парка\n",
    "data['parks_nearest'].hist()"
   ]
  },
  {
   "cell_type": "code",
   "execution_count": 26,
   "metadata": {},
   "outputs": [
    {
     "data": {
      "text/plain": [
       "<AxesSubplot:>"
      ]
     },
     "execution_count": 26,
     "metadata": {},
     "output_type": "execute_result"
    },
    {
     "data": {
      "image/png": "[encoded data removed]",
      "text/plain": [
       "<Figure size 432x288 with 1 Axes>"
      ]
     },
     "metadata": {
      "needs_background": "light"
     },
     "output_type": "display_data"
    }
   ],
   "source": [
    "# месяц публикации объявления\n",
    "data['month'].hist()"
   ]
  },
  {
   "cell_type": "code",
   "execution_count": 27,
   "metadata": {},
   "outputs": [
    {
     "data": {
      "text/plain": [
       "<AxesSubplot:>"
      ]
     },
     "execution_count": 27,
     "metadata": {},
     "output_type": "execute_result"
    },
    {
     "data": {
      "image/png": "[encoded data removed]",
      "text/plain": [
       "<Figure size 432x288 with 1 Axes>"
      ]
     },
     "metadata": {
      "needs_background": "light"
     },
     "output_type": "display_data"
    }
   ],
   "source": [
    "# день публикации объявления\n",
    "data['weekday'].hist()"
   ]
  },
  {
   "cell_type": "markdown",
   "metadata": {},
   "source": []
  },
  {
   "cell_type": "markdown",
   "metadata": {},
   "source": [
    "**Промежутчоные выводы**\n",
    "По графикам можно сделаь выводы, что большинство квартир:\n",
    "1. Общей площадью до 100 м.кв.\n",
    "2. Жилая площадь у них до 50 м.кв.\n",
    "3. Площадь кухни - 10 м.кв\n",
    "4. Цена объекта - \n",
    "5. В соновнмо продаются 2х и 3х комнатные квартиры\n",
    "6. на этажах от 1 до 3 \n",
    "7. Предыдущий вывод подтверждается тем, что большинство квартир имеют тип этажа - \"другой\"\n",
    "8. В основнмо продаются в домах с этажами от 1 до 5\n",
    "9. До центра города у большинства квартир 12 км\n",
    "10. До аэропорта 30 км\n",
    "11. В большинстве квартир до ближайшего парка расстояние составит 0,5 км\n",
    "12. Больше всего объявлений публикуется в январе и декабре\n",
    "13. По дням недели: в будни дни объявления публикуются чаще чем в выходные"
   ]
  },
  {
   "cell_type": "markdown",
   "metadata": {},
   "source": [
    "**Задание: \"Изучите, как быстро продавались квартиры (столбец days_exposition). Этот параметр показывает, сколько дней «висело» каждое объявление.**"
   ]
  },
  {
   "cell_type": "code",
   "execution_count": 28,
   "metadata": {},
   "outputs": [
    {
     "name": "stdout",
     "output_type": "stream",
     "text": [
      "count    21228.000000\n",
      "mean       112.794564\n",
      "std         96.371987\n",
      "min          1.000000\n",
      "25%         45.000000\n",
      "50%         95.000000\n",
      "75%        146.000000\n",
      "max        427.000000\n",
      "Name: days_exposition, dtype: float64\n",
      "Среднее: 112.79456378368192\n",
      "Медиана: 95.0\n"
     ]
    },
    {
     "data": {
      "image/png": "[encoded data removed]",
      "text/plain": [
       "<Figure size 432x288 with 1 Axes>"
      ]
     },
     "metadata": {
      "needs_background": "light"
     },
     "output_type": "display_data"
    }
   ],
   "source": [
    "#строим гситограмму\n",
    "print(data['days_exposition'].describe())\n",
    "data.boxplot('days_exposition')\n",
    "print('Среднее:', data['days_exposition'].mean())\n",
    "print('Медиана:', data['days_exposition'].median())"
   ]
  },
  {
   "cell_type": "markdown",
   "metadata": {},
   "source": [
    "**Вывод**\n",
    "большинство квартир продаётся за 100 дней, это следует из графика (пиковое значение)\n",
    "Быстрой продажей квартиры считаются продажи за 45 и меньше дней, долгой продажей наоборот - 146 и более дней."
   ]
  },
  {
   "cell_type": "markdown",
   "metadata": {},
   "source": [
    "**Задание: \"Какие факторы больше всего влияют на общую (полную) стоимость объекта? Постройте графики, которые покажут зависимость цены от указанных ниже параметров. Для подготовки данных перед визуализацией вы можете использовать сводные таблицы.\"**"
   ]
  },
  {
   "cell_type": "code",
   "execution_count": 29,
   "metadata": {
    "scrolled": false
   },
   "outputs": [
    {
     "data": {
      "image/png": "[encoded data removed]",
      "text/plain": [
       "<Figure size 360x360 with 1 Axes>"
      ]
     },
     "metadata": {
      "needs_background": "light"
     },
     "output_type": "display_data"
    },
    {
     "name": "stdout",
     "output_type": "stream",
     "text": [
      "Корреляция цены: \n",
      "\n",
      "            last_price  total_area\n",
      "last_price    1.000000    0.905372\n",
      "total_area    0.905372    1.000000 \n",
      "\n"
     ]
    },
    {
     "data": {
      "image/png": "[encoded data removed]",
      "text/plain": [
       "<Figure size 360x360 with 1 Axes>"
      ]
     },
     "metadata": {
      "needs_background": "light"
     },
     "output_type": "display_data"
    },
    {
     "name": "stdout",
     "output_type": "stream",
     "text": [
      "Корреляция цены: \n",
      "\n",
      "             last_price  living_area\n",
      "last_price      1.00000      0.73747\n",
      "living_area     0.73747      1.00000 \n",
      "\n"
     ]
    },
    {
     "data": {
      "image/png": "[encoded data removed]",
      "text/plain": [
       "<Figure size 360x360 with 1 Axes>"
      ]
     },
     "metadata": {
      "needs_background": "light"
     },
     "output_type": "display_data"
    },
    {
     "name": "stdout",
     "output_type": "stream",
     "text": [
      "Корреляция цены: \n",
      "\n",
      "              kitchen_area  last_price\n",
      "kitchen_area        1.0000      0.7999\n",
      "last_price          0.7999      1.0000 \n",
      "\n"
     ]
    },
    {
     "data": {
      "image/png": "[encoded data removed]",
      "text/plain": [
       "<Figure size 360x360 with 1 Axes>"
      ]
     },
     "metadata": {
      "needs_background": "light"
     },
     "output_type": "display_data"
    },
    {
     "name": "stdout",
     "output_type": "stream",
     "text": [
      "Корреляция цены: \n",
      "\n",
      "            last_price\n",
      "last_price         1.0 \n",
      "\n"
     ]
    },
    {
     "data": {
      "image/png": "[encoded data removed]",
      "text/plain": [
       "<Figure size 360x360 with 1 Axes>"
      ]
     },
     "metadata": {
      "needs_background": "light"
     },
     "output_type": "display_data"
    },
    {
     "name": "stdout",
     "output_type": "stream",
     "text": [
      "Корреляция цены: \n",
      "\n",
      "            last_price      year\n",
      "last_price    1.000000  0.073543\n",
      "year          0.073543  1.000000 \n",
      "\n"
     ]
    },
    {
     "data": {
      "image/png": "[encoded data removed]",
      "text/plain": [
       "<Figure size 360x360 with 1 Axes>"
      ]
     },
     "metadata": {
      "needs_background": "light"
     },
     "output_type": "display_data"
    },
    {
     "name": "stdout",
     "output_type": "stream",
     "text": [
      "Корреляция цены: \n",
      "\n",
      "            last_price     month\n",
      "last_price    1.000000  0.031709\n",
      "month         0.031709  1.000000 \n",
      "\n"
     ]
    },
    {
     "data": {
      "image/png": "[encoded data removed]",
      "text/plain": [
       "<Figure size 360x360 with 1 Axes>"
      ]
     },
     "metadata": {
      "needs_background": "light"
     },
     "output_type": "display_data"
    },
    {
     "name": "stdout",
     "output_type": "stream",
     "text": [
      "Корреляция цены: \n",
      "\n",
      "            last_price\n",
      "last_price         1.0 \n",
      "\n"
     ]
    }
   ],
   "source": [
    "import matplotlib.pyplot as plt\n",
    "\n",
    "# Зависимость цены от общей площади\n",
    "(\n",
    "    data.pivot_table(index='total_area', values='last_price')\n",
    "    .plot(grid=True, style='o', figsize=(5, 5))\n",
    ")\n",
    "plt.show()\n",
    "print('Корреляция цены:','\\n')\n",
    "print(data.pivot_table(index='floor', values=['total_area', 'last_price']).corr(),'\\n')\n",
    "\n",
    "# Зависимость цены жилой площади\n",
    "(\n",
    "    data.pivot_table(index='living_area', values='last_price')\n",
    "    .plot(grid=True, style='o', figsize=(5, 5))\n",
    ")\n",
    "plt.show()\n",
    "print('Корреляция цены:','\\n')\n",
    "print(data.pivot_table(index='floor', values=['living_area', 'last_price']).corr(),'\\n')\n",
    "\n",
    "# Зависимость цены от площади кухни\n",
    "(\n",
    "    data.pivot_table(index='kitchen_area', values='last_price')\n",
    "    .plot(grid=True, style='o', figsize=(5, 5))\n",
    ")\n",
    "plt.show()\n",
    "print('Корреляция цены:','\\n')\n",
    "print(data.pivot_table(index='floor', values=['kitchen_area', 'last_price']).corr(),'\\n')\n",
    "\n",
    "# Зависимость цены от типа этажа, на котором расположена квартира (первый, последний, другой)\n",
    "(\n",
    "    data.pivot_table(index='floor_type', values='last_price')\n",
    "    .plot(grid=True, kind='bar', figsize=(5, 5))\n",
    ")\n",
    "plt.show()\n",
    "print('Корреляция цены:','\\n')\n",
    "print(data.pivot_table(index='floor', values=['floor_type', 'last_price']).corr(),'\\n')\n",
    "\n",
    "# Зависимость цены от даты размещения (день недели, месяц, год)\n",
    "#год\n",
    "(\n",
    "    data.pivot_table(index='year', values='last_price')\n",
    "    .plot(grid=True, kind='bar', figsize=(5, 5))\n",
    ")\n",
    "plt.show()\n",
    "print('Корреляция цены:','\\n')\n",
    "print(data.pivot_table(index='floor', values=['year', 'last_price']).corr(),'\\n')\n",
    "\n",
    "#месяц\n",
    "(\n",
    "    data.pivot_table(index='month', values='last_price')\n",
    "    .plot(grid=True, kind='bar', figsize=(5, 5))\n",
    ")\n",
    "plt.show()\n",
    "print('Корреляция цены:','\\n')\n",
    "print(data.pivot_table(index='floor', values=['month', 'last_price']).corr(),'\\n')\n",
    "\n",
    "#день недели\n",
    "(\n",
    "    data.pivot_table(index='weekday', values='last_price')\n",
    "    .plot(grid=True, kind='bar', figsize=(5, 5))\n",
    ")\n",
    "plt.show()\n",
    "print('Корреляция цены:','\\n')\n",
    "print(data.pivot_table(index='floor', values=['weekday', 'last_price']).corr(),'\\n')"
   ]
  },
  {
   "cell_type": "markdown",
   "metadata": {},
   "source": [
    "**Выводы**\n",
    "Исходя из графиков можно сделать следующие выводы:\n",
    "1. Цена зависит от общей площади квартиры, чем больше площадь, тем больше цена (показатель корреляции 0,9)\n",
    "2. Такая же зависимость прсолеживается и с жилой площадью, но менее ярко выраженная (кореляция 0,7)\n",
    "3. От площади кухни цена зависит меньше чем от дилой и общей площади (кореляция 0,7)\n",
    "4. От этажа цена также зависит, меньше всего на первом этаже, самая большая в категории \"другие\" (кореляция 1)\n",
    "5. в 2014 году была самая большая стоимость квартиры, дальше стоимость опускалась, а в 2019 снова наблюдается рост. (кореляция 0,7)\n",
    "6. По месяцам - показатели примерно равные, зависимости почти нет (кореляция 0,3)\n",
    "7. По дням недели показатели прмиерно равны"
   ]
  },
  {
   "cell_type": "markdown",
   "metadata": {},
   "source": [
    "**Задание: \"Посчитайте среднюю цену одного квадратного метра в 10 населённых пунктах с наибольшим числом объявлений. Выделите населённые пункты с самой высокой и низкой стоимостью квадратного метра. Эти данные можно найти по имени в столбце `locality_name`.\"**"
   ]
  },
  {
   "cell_type": "code",
   "execution_count": 30,
   "metadata": {},
   "outputs": [
    {
     "name": "stdout",
     "output_type": "stream",
     "text": [
      "санкт-петербург      15651\n",
      "поселок мурино         552\n",
      "поселок шушары         439\n",
      "всеволожск             398\n",
      "пушкин                 369\n",
      "колпино                338\n",
      "поселок парголово      327\n",
      "гатчина                307\n",
      "деревня кудрово        299\n",
      "выборг                 237\n",
      "Name: locality_name, dtype: int64\n"
     ]
    },
    {
     "data": {
      "text/html": [
       "<div>\n",
       "<style scoped>\n",
       "    .dataframe tbody tr th:only-of-type {\n",
       "        vertical-align: middle;\n",
       "    }\n",
       "\n",
       "    .dataframe tbody tr th {\n",
       "        vertical-align: top;\n",
       "    }\n",
       "\n",
       "    .dataframe thead th {\n",
       "        text-align: right;\n",
       "    }\n",
       "</style>\n",
       "<table border=\"1\" class=\"dataframe\">\n",
       "  <thead>\n",
       "    <tr style=\"text-align: right;\">\n",
       "      <th></th>\n",
       "      <th>price_m2</th>\n",
       "    </tr>\n",
       "    <tr>\n",
       "      <th>locality_name</th>\n",
       "      <th></th>\n",
       "    </tr>\n",
       "  </thead>\n",
       "  <tbody>\n",
       "    <tr>\n",
       "      <th>санкт-петербург</th>\n",
       "      <td>103943</td>\n",
       "    </tr>\n",
       "    <tr>\n",
       "      <th>пушкин</th>\n",
       "      <td>99770</td>\n",
       "    </tr>\n",
       "    <tr>\n",
       "      <th>деревня кудрово</th>\n",
       "      <td>92410</td>\n",
       "    </tr>\n",
       "    <tr>\n",
       "      <th>поселок парголово</th>\n",
       "      <td>90339</td>\n",
       "    </tr>\n",
       "    <tr>\n",
       "      <th>поселок мурино</th>\n",
       "      <td>85629</td>\n",
       "    </tr>\n",
       "    <tr>\n",
       "      <th>поселок шушары</th>\n",
       "      <td>78674</td>\n",
       "    </tr>\n",
       "    <tr>\n",
       "      <th>колпино</th>\n",
       "      <td>75377</td>\n",
       "    </tr>\n",
       "    <tr>\n",
       "      <th>гатчина</th>\n",
       "      <td>68977</td>\n",
       "    </tr>\n",
       "    <tr>\n",
       "      <th>всеволожск</th>\n",
       "      <td>67478</td>\n",
       "    </tr>\n",
       "    <tr>\n",
       "      <th>выборг</th>\n",
       "      <td>59535</td>\n",
       "    </tr>\n",
       "  </tbody>\n",
       "</table>\n",
       "</div>"
      ],
      "text/plain": [
       "                   price_m2\n",
       "locality_name              \n",
       "санкт-петербург      103943\n",
       "пушкин                99770\n",
       "деревня кудрово       92410\n",
       "поселок парголово     90339\n",
       "поселок мурино        85629\n",
       "поселок шушары        78674\n",
       "колпино               75377\n",
       "гатчина               68977\n",
       "всеволожск            67478\n",
       "выборг                59535"
      ]
     },
     "execution_count": 30,
     "metadata": {},
     "output_type": "execute_result"
    }
   ],
   "source": [
    "#Сначала выделим 10 населённых пунктов с наибольшим количеством объявлений\n",
    "city = data['locality_name'].value_counts().head(10)\n",
    "print(city)\n",
    "\n",
    "# теперь посчитаем цену квадратного метра в каждом из городов\n",
    "price_in_city = data.query('locality_name in (@city.index)').pivot_table(values='price_m2', index='locality_name')\n",
    "price_in_city = price_in_city.astype(int)\n",
    "price_in_city.sort_values('price_m2', ascending=False)"
   ]
  },
  {
   "cell_type": "markdown",
   "metadata": {},
   "source": [
    "**Выводы**\n",
    "Самый дорогой квадратный метр в СПб - 104 693 руб. за метр кв. самый дешёвый в Выборге - 58 278 руб. за метр кв. Это логично, т.к.в пригороде жильё всё же дешевле"
   ]
  },
  {
   "cell_type": "markdown",
   "metadata": {},
   "source": [
    "**Задание: \"Ранее вы посчитали расстояние до центра в километрах. Теперь выделите квартиры в Санкт-Петербурге с помощью столбца `locality_name` и вычислите среднюю цену каждого километра. Опишите, как стоимость объектов зависит от расстояния до центра города.\"**"
   ]
  },
  {
   "cell_type": "code",
   "execution_count": 31,
   "metadata": {},
   "outputs": [
    {
     "data": {
      "image/png": "[encoded data removed]",
      "text/plain": [
       "<Figure size 720x360 with 1 Axes>"
      ]
     },
     "metadata": {
      "needs_background": "light"
     },
     "output_type": "display_data"
    }
   ],
   "source": [
    "import matplotlib.pyplot as plt\n",
    "\n",
    "# выбираем квартиры в спб\n",
    "spb = data.query('locality_name == \"санкт-петербург\"')\n",
    "#print(spb)\n",
    "spb_mean = spb['price_m2'].mean()\n",
    "pd.options.mode.chained_assignment = None\n",
    "#print(spb_mean)\n",
    "\n",
    "spb['mean_price_for_km'] = spb_mean / spb['cityCenters_nearest'] #средняя цена для каждого км\n",
    "spb.plot(x='cityCenters_nearest', y='mean_price_for_km', kind='scatter', figsize=(10, 5), grid=True, title = 'Заголовок')\n",
    "plt.show()"
   ]
  },
  {
   "cell_type": "markdown",
   "metadata": {},
   "source": [
    "**Выводы**\n",
    "Чем дальше от центра, тем выше цена кв. метра. тут тоже всё логично, тем ближе к центру, тем выше цена (например, практически в центре стоимость метра квадратного около 600 тыс. руб. в то время, как уже в 10 кс она ниже 100 тыс. руб.)"
   ]
  },
  {
   "cell_type": "markdown",
   "metadata": {},
   "source": [
    "### Общий вывод"
   ]
  },
  {
   "cell_type": "markdown",
   "metadata": {},
   "source": [
    "Была првоедена следующая работа с данными в результате которой убраны аномальные значения,леквидирвоаны пропуски, убраны дубликаты, т.к. они могли повлиять  на расчёты и конечные выводы. В последствии по данным првоедены расчёты и построены графики дял того чтобы понять зависимость цены от таких факторов как общая площадь, площадь кухни, жилая площадь, расстояние до аэропорта, парка, водоёма и др.\n",
    "\n",
    "В результате, исходя из проведённых иследвоаний и рассчётов, можно сделать следующие выводы:\n",
    "1. Самые дорогие квартиры в Санкт-Петербурге (средняя цена кв. метра 103 943 руб.)\n",
    "2. Чем дальше город от Санкт-Петербурга, тем дешевле цена за метр кв. (например из топ 10 цен за метр квадратный самая дешёвая цена в Выборге - 59 535 руб. Это логично, т.к. он дальше остальных городов - 121 км)\n",
    "3. Больше всего цена зависит от общей площади помещения (самая дорогая квартира больше 1 мл и с площадью больше 100 кв метров, а самая дешёвая стоит меньше 1 мл и по площади меньше 200 кв. метров)\n",
    "4. От кухни и жилой площади цена зависит в меньшей степени.\n",
    "5. также цена зависит от этажа. - на последнем эатже согласно графику цена самая большая\n",
    "6. По месяцам чаще всего за максимальную цену продают в декабре, по годам, с 2014 ого цена падает\n",
    "7. чаще всего квартиры продаются за 100 дней"
   ]
  },
  {
   "cell_type": "markdown",
   "metadata": {},
   "source": [
    "**Чек-лист готовности проекта**\n",
    "\n",
    "Поставьте 'x' в выполненных пунктах. Далее нажмите Shift+Enter."
   ]
  },
  {
   "cell_type": "markdown",
   "metadata": {},
   "source": [
    "- [x]  открыт файл\n",
    "- [x] файлы изучены (выведены первые строки, метод `info()`, гистограммы и т.д.)\n",
    "- [x]  определены пропущенные значения\n",
    "- [x]  заполнены пропущенные значения там, где это возможно\n",
    "- [x]  есть пояснение, какие пропущенные значения обнаружены\n",
    "- [x]  изменены типы данных\n",
    "- [x]  есть пояснение, в каких столбцах изменены типы и почему\n",
    "- [x]  устранены неявные дубликаты в названиях населённых пунктов\n",
    "- [x]  устранены редкие и выбивающиеся значения (аномалии) во всех столбцах\n",
    "- [x]  посчитано и добавлено в таблицу: цена одного квадратного метра\n",
    "- [x]  посчитано и добавлено в таблицу: день публикации объявления (0 - понедельник, 1 - вторник и т.д.)\n",
    "- [x]  посчитано и добавлено в таблицу: месяц публикации объявления\n",
    "- [x]  посчитано и добавлено в таблицу: год публикации объявления\n",
    "- [x]  посчитано и добавлено в таблицу: тип этажа квартиры (значения — «первый», «последний», «другой»)\n",
    "- [x]  посчитано и добавлено в таблицу: расстояние в км до центра города\n",
    "- [x]  изучены и описаны следующие параметры:\n",
    "        - общая площадь;\n",
    "        - жилая площадь;\n",
    "        - площадь кухни;\n",
    "        - цена объекта;\n",
    "        - количество комнат;\n",
    "        - высота потолков;\n",
    "        - этаж квартиры;\n",
    "        - тип этажа квартиры («первый», «последний», «другой»);\n",
    "        - общее количество этажей в доме;\n",
    "        - расстояние до центра города в метрах;\n",
    "        - расстояние до ближайшего аэропорта;\n",
    "        - расстояние до ближайшего парка;\n",
    "        - день и месяц публикации объявления\n",
    "- [x]  построены гистограммы для каждого параметра\n",
    "- [x]  выполнено задание: \"Изучите, как быстро продавались квартиры (столбец days_exposition). Этот параметр показывает, сколько дней «висело» каждое объявление.\n",
    "    - Постройте гистограмму.\n",
    "    - Посчитайте среднее и медиану.\n",
    "    - В ячейке типа markdown опишите, сколько обычно занимает продажа. Какие продажи можно считать быстрыми, а какие — необычно долгими?\"\n",
    "- [x]  выполнено задание: \"Какие факторы больше всего влияют на общую (полную) стоимость объекта? Постройте графики, которые покажут зависимость цены от указанных ниже параметров. Для подготовки данных перед визуализацией вы можете использовать сводные таблицы.\"\n",
    "        - общей площади;\n",
    "        - жилой площади;\n",
    "        - площади кухни;\n",
    "        - количество комнат;\n",
    "        - типа этажа, на котором расположена квартира (первый, последний, другой);\n",
    "        - даты размещения (день недели, месяц, год);\n",
    "- [x]  выполнено задание: \"Посчитайте среднюю цену одного квадратного метра в 10 населённых пунктах с наибольшим числом объявлений. Выделите населённые пункты с самой высокой и низкой стоимостью квадратного метра. Эти данные можно найти по имени в столбце `locality_name`.\"\n",
    "- [x]  выполнено задание: \"Ранее вы посчитали расстояние до центра в километрах. Теперь выделите квартиры в Санкт-Петербурге с помощью столбца `locality_name` и вычислите среднюю цену каждого километра. Опишите, как стоимость объектов зависит от расстояния до центра города.\"\n",
    "- [x]  в каждом этапе есть промежуточные выводы\n",
    "- [x]  есть общий вывод"
   ]
  },
  {
   "cell_type": "code",
   "execution_count": null,
   "metadata": {},
   "outputs": [],
   "source": []
  }
 ],
 "metadata": {
  "ExecuteTimeLog": [
   {
    "duration": 512,
    "start_time": "2022-10-20T18:11:26.731Z"
   },
   {
    "duration": 77,
    "start_time": "2022-10-20T18:11:37.785Z"
   },
   {
    "duration": 3168,
    "start_time": "2022-10-22T08:03:07.030Z"
   },
   {
    "duration": 61,
    "start_time": "2022-10-22T08:03:16.725Z"
   },
   {
    "duration": 29,
    "start_time": "2022-10-22T08:03:18.932Z"
   },
   {
    "duration": 13,
    "start_time": "2022-10-22T08:03:20.956Z"
   },
   {
    "duration": 35,
    "start_time": "2022-10-22T08:03:22.995Z"
   },
   {
    "duration": 72,
    "start_time": "2022-10-22T08:03:25.168Z"
   },
   {
    "duration": 30,
    "start_time": "2022-10-22T08:03:26.265Z"
   },
   {
    "duration": 689,
    "start_time": "2022-10-22T16:09:37.536Z"
   },
   {
    "duration": 37,
    "start_time": "2022-10-22T16:09:40.672Z"
   },
   {
    "duration": 24,
    "start_time": "2022-10-22T16:09:42.137Z"
   },
   {
    "duration": 10,
    "start_time": "2022-10-22T16:09:43.142Z"
   },
   {
    "duration": 31,
    "start_time": "2022-10-22T16:09:43.886Z"
   },
   {
    "duration": 67,
    "start_time": "2022-10-22T16:09:44.675Z"
   },
   {
    "duration": 21,
    "start_time": "2022-10-22T16:09:45.433Z"
   },
   {
    "duration": 25,
    "start_time": "2022-10-22T16:09:46.042Z"
   },
   {
    "duration": 2556,
    "start_time": "2022-10-22T16:09:46.676Z"
   },
   {
    "duration": 10,
    "start_time": "2022-10-22T16:09:50.691Z"
   },
   {
    "duration": 15,
    "start_time": "2022-10-22T16:09:55.232Z"
   },
   {
    "duration": 6,
    "start_time": "2022-10-22T16:09:57.488Z"
   },
   {
    "duration": 7,
    "start_time": "2022-10-22T16:09:58.341Z"
   },
   {
    "duration": 313,
    "start_time": "2022-10-22T16:09:59.236Z"
   },
   {
    "duration": 104,
    "start_time": "2022-10-22T16:10:01.774Z"
   },
   {
    "duration": 208,
    "start_time": "2022-10-22T16:10:02.537Z"
   },
   {
    "duration": 132,
    "start_time": "2022-10-22T16:10:03.361Z"
   },
   {
    "duration": 123,
    "start_time": "2022-10-22T16:10:03.983Z"
   },
   {
    "duration": 140,
    "start_time": "2022-10-22T16:10:04.696Z"
   },
   {
    "duration": 142,
    "start_time": "2022-10-22T16:10:05.370Z"
   },
   {
    "duration": 118,
    "start_time": "2022-10-22T16:10:06.103Z"
   },
   {
    "duration": 112,
    "start_time": "2022-10-22T16:10:06.733Z"
   },
   {
    "duration": 121,
    "start_time": "2022-10-22T16:10:07.439Z"
   },
   {
    "duration": 106,
    "start_time": "2022-10-22T16:10:08.030Z"
   },
   {
    "duration": 134,
    "start_time": "2022-10-22T16:10:08.794Z"
   },
   {
    "duration": 136,
    "start_time": "2022-10-22T16:10:09.375Z"
   },
   {
    "duration": 136,
    "start_time": "2022-10-22T16:10:10.240Z"
   },
   {
    "duration": 140,
    "start_time": "2022-10-22T16:10:12.095Z"
   },
   {
    "duration": 1065,
    "start_time": "2022-10-22T16:10:13.994Z"
   },
   {
    "duration": 37,
    "start_time": "2022-10-22T16:10:16.537Z"
   },
   {
    "duration": 188,
    "start_time": "2022-10-22T16:10:18.883Z"
   },
   {
    "duration": 51,
    "start_time": "2022-10-22T18:44:51.821Z"
   },
   {
    "duration": 542,
    "start_time": "2022-10-22T18:44:57.726Z"
   },
   {
    "duration": 41,
    "start_time": "2022-10-22T18:44:59.406Z"
   },
   {
    "duration": 24,
    "start_time": "2022-10-22T18:44:59.828Z"
   },
   {
    "duration": 9,
    "start_time": "2022-10-22T18:45:00.180Z"
   },
   {
    "duration": 30,
    "start_time": "2022-10-22T18:45:00.563Z"
   },
   {
    "duration": 67,
    "start_time": "2022-10-22T18:45:00.907Z"
   },
   {
    "duration": 20,
    "start_time": "2022-10-22T18:45:01.318Z"
   },
   {
    "duration": 26,
    "start_time": "2022-10-22T18:45:01.722Z"
   },
   {
    "duration": 2387,
    "start_time": "2022-10-22T18:45:02.105Z"
   },
   {
    "duration": 8,
    "start_time": "2022-10-22T18:45:04.494Z"
   },
   {
    "duration": 40,
    "start_time": "2022-10-22T18:45:04.504Z"
   },
   {
    "duration": 7,
    "start_time": "2022-10-22T18:45:04.592Z"
   },
   {
    "duration": 6,
    "start_time": "2022-10-22T18:45:05.085Z"
   },
   {
    "duration": 331,
    "start_time": "2022-10-22T18:45:05.670Z"
   },
   {
    "duration": 110,
    "start_time": "2022-10-22T18:45:07.241Z"
   },
   {
    "duration": 186,
    "start_time": "2022-10-22T18:45:07.805Z"
   },
   {
    "duration": 111,
    "start_time": "2022-10-22T18:45:08.339Z"
   },
   {
    "duration": 118,
    "start_time": "2022-10-22T18:45:08.831Z"
   },
   {
    "duration": 125,
    "start_time": "2022-10-22T18:45:09.448Z"
   },
   {
    "duration": 114,
    "start_time": "2022-10-22T18:45:09.972Z"
   },
   {
    "duration": 107,
    "start_time": "2022-10-22T18:45:10.786Z"
   },
   {
    "duration": 106,
    "start_time": "2022-10-22T18:45:12.176Z"
   },
   {
    "duration": 124,
    "start_time": "2022-10-22T18:45:16.114Z"
   },
   {
    "duration": 105,
    "start_time": "2022-10-22T18:45:16.810Z"
   },
   {
    "duration": 123,
    "start_time": "2022-10-22T18:45:17.494Z"
   },
   {
    "duration": 122,
    "start_time": "2022-10-22T18:45:18.109Z"
   },
   {
    "duration": 127,
    "start_time": "2022-10-22T18:45:18.937Z"
   },
   {
    "duration": 133,
    "start_time": "2022-10-22T18:45:21.826Z"
   },
   {
    "duration": 498,
    "start_time": "2022-10-22T18:45:24.828Z"
   },
   {
    "duration": 921,
    "start_time": "2022-10-22T18:46:03.774Z"
   },
   {
    "duration": 81,
    "start_time": "2022-10-22T18:47:16.920Z"
   },
   {
    "duration": 914,
    "start_time": "2022-10-22T18:47:26.868Z"
   },
   {
    "duration": 458,
    "start_time": "2022-10-22T18:48:31.851Z"
   },
   {
    "duration": 39,
    "start_time": "2022-10-22T18:48:33.178Z"
   },
   {
    "duration": 27,
    "start_time": "2022-10-22T18:48:33.650Z"
   },
   {
    "duration": 9,
    "start_time": "2022-10-22T18:48:34.103Z"
   },
   {
    "duration": 32,
    "start_time": "2022-10-22T18:48:34.566Z"
   },
   {
    "duration": 56,
    "start_time": "2022-10-22T18:48:35.034Z"
   },
   {
    "duration": 20,
    "start_time": "2022-10-22T18:48:35.473Z"
   },
   {
    "duration": 25,
    "start_time": "2022-10-22T18:48:36.047Z"
   },
   {
    "duration": 2222,
    "start_time": "2022-10-22T18:48:36.570Z"
   },
   {
    "duration": 7,
    "start_time": "2022-10-22T18:48:38.794Z"
   },
   {
    "duration": 14,
    "start_time": "2022-10-22T18:48:38.802Z"
   },
   {
    "duration": 6,
    "start_time": "2022-10-22T18:48:39.789Z"
   },
   {
    "duration": 5,
    "start_time": "2022-10-22T18:48:40.282Z"
   },
   {
    "duration": 324,
    "start_time": "2022-10-22T18:48:40.785Z"
   },
   {
    "duration": 95,
    "start_time": "2022-10-22T18:48:42.194Z"
   },
   {
    "duration": 121,
    "start_time": "2022-10-22T18:48:42.730Z"
   },
   {
    "duration": 173,
    "start_time": "2022-10-22T18:48:43.139Z"
   },
   {
    "duration": 112,
    "start_time": "2022-10-22T18:48:43.630Z"
   },
   {
    "duration": 121,
    "start_time": "2022-10-22T18:48:44.128Z"
   },
   {
    "duration": 112,
    "start_time": "2022-10-22T18:48:44.587Z"
   },
   {
    "duration": 102,
    "start_time": "2022-10-22T18:48:45.030Z"
   },
   {
    "duration": 105,
    "start_time": "2022-10-22T18:48:45.526Z"
   },
   {
    "duration": 116,
    "start_time": "2022-10-22T18:48:45.935Z"
   },
   {
    "duration": 97,
    "start_time": "2022-10-22T18:48:46.376Z"
   },
   {
    "duration": 120,
    "start_time": "2022-10-22T18:48:46.769Z"
   },
   {
    "duration": 124,
    "start_time": "2022-10-22T18:48:47.191Z"
   },
   {
    "duration": 128,
    "start_time": "2022-10-22T18:48:47.628Z"
   },
   {
    "duration": 130,
    "start_time": "2022-10-22T18:48:48.980Z"
   },
   {
    "duration": 29,
    "start_time": "2022-10-22T18:49:45.606Z"
   },
   {
    "duration": 191,
    "start_time": "2022-10-22T18:49:45.636Z"
   },
   {
    "duration": 953,
    "start_time": "2022-10-22T18:49:45.830Z"
   },
   {
    "duration": 45385,
    "start_time": "2022-10-22T18:50:55.670Z"
   },
   {
    "duration": 905,
    "start_time": "2022-10-22T19:37:38.591Z"
   },
   {
    "duration": 575,
    "start_time": "2022-10-23T08:32:17.103Z"
   },
   {
    "duration": 49,
    "start_time": "2022-10-23T08:32:19.187Z"
   },
   {
    "duration": 26,
    "start_time": "2022-10-23T08:32:19.821Z"
   },
   {
    "duration": 10,
    "start_time": "2022-10-23T08:32:20.475Z"
   },
   {
    "duration": 32,
    "start_time": "2022-10-23T08:32:21.070Z"
   },
   {
    "duration": 68,
    "start_time": "2022-10-23T08:32:21.938Z"
   },
   {
    "duration": 88,
    "start_time": "2022-10-23T08:32:23.197Z"
   },
   {
    "duration": 93,
    "start_time": "2022-10-23T08:32:37.152Z"
   },
   {
    "duration": 92,
    "start_time": "2022-10-23T08:34:33.403Z"
   },
   {
    "duration": 12,
    "start_time": "2022-10-23T08:34:36.707Z"
   },
   {
    "duration": 12,
    "start_time": "2022-10-23T08:34:37.322Z"
   },
   {
    "duration": 6,
    "start_time": "2022-10-23T08:34:38.400Z"
   },
   {
    "duration": 5,
    "start_time": "2022-10-23T08:34:39.146Z"
   },
   {
    "duration": 380,
    "start_time": "2022-10-23T08:34:39.983Z"
   },
   {
    "duration": 501,
    "start_time": "2022-10-23T08:34:41.727Z"
   },
   {
    "duration": 193,
    "start_time": "2022-10-23T08:34:42.230Z"
   },
   {
    "duration": 130,
    "start_time": "2022-10-23T08:34:42.822Z"
   },
   {
    "duration": 123,
    "start_time": "2022-10-23T08:34:43.441Z"
   },
   {
    "duration": 146,
    "start_time": "2022-10-23T08:34:44.046Z"
   },
   {
    "duration": 122,
    "start_time": "2022-10-23T08:34:44.622Z"
   },
   {
    "duration": 132,
    "start_time": "2022-10-23T08:34:45.205Z"
   },
   {
    "duration": 114,
    "start_time": "2022-10-23T08:34:45.739Z"
   },
   {
    "duration": 130,
    "start_time": "2022-10-23T08:34:46.243Z"
   },
   {
    "duration": 130,
    "start_time": "2022-10-23T08:34:46.707Z"
   },
   {
    "duration": 134,
    "start_time": "2022-10-23T08:34:47.130Z"
   },
   {
    "duration": 124,
    "start_time": "2022-10-23T08:34:47.573Z"
   },
   {
    "duration": 192,
    "start_time": "2022-10-23T08:34:48.028Z"
   },
   {
    "duration": 130,
    "start_time": "2022-10-23T08:34:49.994Z"
   },
   {
    "duration": 1022,
    "start_time": "2022-10-23T08:34:51.696Z"
   },
   {
    "duration": 34,
    "start_time": "2022-10-23T08:34:54.700Z"
   },
   {
    "duration": 189,
    "start_time": "2022-10-23T08:34:57.391Z"
   },
   {
    "duration": 51,
    "start_time": "2022-10-23T10:02:38.968Z"
   },
   {
    "duration": 582,
    "start_time": "2022-10-23T10:02:43.641Z"
   },
   {
    "duration": 50,
    "start_time": "2022-10-23T10:02:45.727Z"
   },
   {
    "duration": 27,
    "start_time": "2022-10-23T10:02:46.179Z"
   },
   {
    "duration": 11,
    "start_time": "2022-10-23T10:02:46.636Z"
   },
   {
    "duration": 34,
    "start_time": "2022-10-23T10:02:47.089Z"
   },
   {
    "duration": 69,
    "start_time": "2022-10-23T10:02:47.555Z"
   },
   {
    "duration": 99,
    "start_time": "2022-10-23T10:02:48.046Z"
   },
   {
    "duration": 9,
    "start_time": "2022-10-23T10:02:50.281Z"
   },
   {
    "duration": 14,
    "start_time": "2022-10-23T10:02:50.695Z"
   },
   {
    "duration": 8,
    "start_time": "2022-10-23T10:02:51.467Z"
   },
   {
    "duration": 8,
    "start_time": "2022-10-23T10:02:51.837Z"
   },
   {
    "duration": 370,
    "start_time": "2022-10-23T10:02:52.167Z"
   },
   {
    "duration": 503,
    "start_time": "2022-10-23T10:02:53.279Z"
   },
   {
    "duration": 215,
    "start_time": "2022-10-23T10:02:53.784Z"
   },
   {
    "duration": 155,
    "start_time": "2022-10-23T10:02:54.048Z"
   },
   {
    "duration": 147,
    "start_time": "2022-10-23T10:02:54.461Z"
   },
   {
    "duration": 146,
    "start_time": "2022-10-23T10:02:54.894Z"
   },
   {
    "duration": 132,
    "start_time": "2022-10-23T10:02:55.306Z"
   },
   {
    "duration": 124,
    "start_time": "2022-10-23T10:02:55.697Z"
   },
   {
    "duration": 123,
    "start_time": "2022-10-23T10:02:56.091Z"
   },
   {
    "duration": 144,
    "start_time": "2022-10-23T10:02:56.504Z"
   },
   {
    "duration": 126,
    "start_time": "2022-10-23T10:02:56.928Z"
   },
   {
    "duration": 149,
    "start_time": "2022-10-23T10:02:57.330Z"
   },
   {
    "duration": 138,
    "start_time": "2022-10-23T10:02:57.704Z"
   },
   {
    "duration": 219,
    "start_time": "2022-10-23T10:02:58.081Z"
   },
   {
    "duration": 120,
    "start_time": "2022-10-23T10:02:59.134Z"
   },
   {
    "duration": 1096,
    "start_time": "2022-10-23T10:03:00.323Z"
   },
   {
    "duration": 33,
    "start_time": "2022-10-23T10:03:01.634Z"
   },
   {
    "duration": 201,
    "start_time": "2022-10-23T10:03:03.369Z"
   },
   {
    "duration": 584,
    "start_time": "2022-10-23T10:04:42.395Z"
   },
   {
    "duration": 208,
    "start_time": "2022-10-23T10:04:55.336Z"
   },
   {
    "duration": 194,
    "start_time": "2022-10-23T10:05:24.324Z"
   },
   {
    "duration": 821,
    "start_time": "2022-10-23T10:14:16.376Z"
   },
   {
    "duration": 665,
    "start_time": "2022-10-23T10:14:30.600Z"
   },
   {
    "duration": 595,
    "start_time": "2022-10-23T10:14:54.339Z"
   },
   {
    "duration": 57,
    "start_time": "2022-10-23T10:15:34.207Z"
   },
   {
    "duration": 835,
    "start_time": "2022-10-23T10:15:39.323Z"
   },
   {
    "duration": 21,
    "start_time": "2022-10-23T10:15:53.975Z"
   },
   {
    "duration": 748,
    "start_time": "2022-10-23T10:16:09.257Z"
   },
   {
    "duration": 822,
    "start_time": "2022-10-23T10:16:18.450Z"
   },
   {
    "duration": 650,
    "start_time": "2022-10-23T10:16:28.816Z"
   },
   {
    "duration": 236,
    "start_time": "2022-10-23T10:16:45.386Z"
   },
   {
    "duration": 713,
    "start_time": "2022-10-23T10:17:06.906Z"
   },
   {
    "duration": 22,
    "start_time": "2022-10-23T10:17:18.766Z"
   },
   {
    "duration": 660,
    "start_time": "2022-10-23T10:17:32.979Z"
   },
   {
    "duration": 601,
    "start_time": "2022-10-23T10:17:48.489Z"
   },
   {
    "duration": 1068,
    "start_time": "2022-10-23T10:18:00.733Z"
   },
   {
    "duration": 19,
    "start_time": "2022-10-23T10:18:16.375Z"
   },
   {
    "duration": 18,
    "start_time": "2022-10-23T10:18:25.274Z"
   },
   {
    "duration": 16,
    "start_time": "2022-10-23T10:18:33.831Z"
   },
   {
    "duration": 192,
    "start_time": "2022-10-23T10:19:03.146Z"
   },
   {
    "duration": 727,
    "start_time": "2022-10-23T16:43:30.769Z"
   },
   {
    "duration": 38,
    "start_time": "2022-10-23T16:43:38.396Z"
   },
   {
    "duration": 24,
    "start_time": "2022-10-23T16:43:39.487Z"
   },
   {
    "duration": 9,
    "start_time": "2022-10-23T16:43:40.432Z"
   },
   {
    "duration": 29,
    "start_time": "2022-10-23T16:43:41.218Z"
   },
   {
    "duration": 59,
    "start_time": "2022-10-23T16:43:42.318Z"
   },
   {
    "duration": 87,
    "start_time": "2022-10-23T16:43:43.214Z"
   },
   {
    "duration": 7,
    "start_time": "2022-10-23T16:43:56.059Z"
   },
   {
    "duration": 15,
    "start_time": "2022-10-23T16:43:57.451Z"
   },
   {
    "duration": 29,
    "start_time": "2022-10-23T16:44:46.034Z"
   },
   {
    "duration": 439,
    "start_time": "2022-10-23T16:44:51.156Z"
   },
   {
    "duration": 37,
    "start_time": "2022-10-23T16:44:53.536Z"
   },
   {
    "duration": 23,
    "start_time": "2022-10-23T16:44:54.484Z"
   },
   {
    "duration": 10,
    "start_time": "2022-10-23T16:44:55.258Z"
   },
   {
    "duration": 31,
    "start_time": "2022-10-23T16:44:56.056Z"
   },
   {
    "duration": 64,
    "start_time": "2022-10-23T16:44:56.852Z"
   },
   {
    "duration": 83,
    "start_time": "2022-10-23T16:44:57.644Z"
   },
   {
    "duration": 6,
    "start_time": "2022-10-23T16:45:01.638Z"
   },
   {
    "duration": 16,
    "start_time": "2022-10-23T16:45:04.250Z"
   },
   {
    "duration": 6,
    "start_time": "2022-10-23T16:45:05.418Z"
   },
   {
    "duration": 6,
    "start_time": "2022-10-23T16:45:06.678Z"
   },
   {
    "duration": 326,
    "start_time": "2022-10-23T16:45:08.873Z"
   },
   {
    "duration": 473,
    "start_time": "2022-10-23T16:45:24.061Z"
   },
   {
    "duration": 170,
    "start_time": "2022-10-23T16:45:24.636Z"
   },
   {
    "duration": 123,
    "start_time": "2022-10-23T16:45:25.472Z"
   },
   {
    "duration": 120,
    "start_time": "2022-10-23T16:45:26.159Z"
   },
   {
    "duration": 147,
    "start_time": "2022-10-23T16:45:26.976Z"
   },
   {
    "duration": 117,
    "start_time": "2022-10-23T16:45:29.212Z"
   },
   {
    "duration": 102,
    "start_time": "2022-10-23T16:45:30.039Z"
   },
   {
    "duration": 102,
    "start_time": "2022-10-23T16:45:31.328Z"
   },
   {
    "duration": 126,
    "start_time": "2022-10-23T16:45:32.215Z"
   },
   {
    "duration": 109,
    "start_time": "2022-10-23T16:45:33.172Z"
   },
   {
    "duration": 135,
    "start_time": "2022-10-23T16:45:34.160Z"
   },
   {
    "duration": 124,
    "start_time": "2022-10-23T16:45:34.946Z"
   },
   {
    "duration": 189,
    "start_time": "2022-10-23T16:45:35.671Z"
   },
   {
    "duration": 110,
    "start_time": "2022-10-23T16:45:50.808Z"
   },
   {
    "duration": 941,
    "start_time": "2022-10-23T16:45:52.614Z"
   },
   {
    "duration": 28,
    "start_time": "2022-10-23T16:45:55.021Z"
   },
   {
    "duration": 176,
    "start_time": "2022-10-23T16:45:56.703Z"
   },
   {
    "duration": 8,
    "start_time": "2022-10-23T16:46:48.937Z"
   },
   {
    "duration": 469,
    "start_time": "2022-10-23T16:47:20.035Z"
   },
   {
    "duration": 39,
    "start_time": "2022-10-23T16:47:22.112Z"
   },
   {
    "duration": 23,
    "start_time": "2022-10-23T16:47:23.210Z"
   },
   {
    "duration": 11,
    "start_time": "2022-10-23T16:47:23.945Z"
   },
   {
    "duration": 28,
    "start_time": "2022-10-23T16:47:24.731Z"
   },
   {
    "duration": 60,
    "start_time": "2022-10-23T16:47:25.527Z"
   },
   {
    "duration": 87,
    "start_time": "2022-10-23T16:47:27.151Z"
   },
   {
    "duration": 7,
    "start_time": "2022-10-23T16:47:36.410Z"
   },
   {
    "duration": 11,
    "start_time": "2022-10-23T16:47:37.347Z"
   },
   {
    "duration": 7,
    "start_time": "2022-10-23T16:47:39.555Z"
   },
   {
    "duration": 8,
    "start_time": "2022-10-23T16:47:40.211Z"
   },
   {
    "duration": 346,
    "start_time": "2022-10-23T16:47:40.886Z"
   },
   {
    "duration": 287,
    "start_time": "2022-10-23T16:48:04.026Z"
   },
   {
    "duration": 117,
    "start_time": "2022-10-23T16:48:04.490Z"
   },
   {
    "duration": 183,
    "start_time": "2022-10-23T16:48:05.104Z"
   },
   {
    "duration": 116,
    "start_time": "2022-10-23T16:48:05.558Z"
   },
   {
    "duration": 126,
    "start_time": "2022-10-23T16:48:06.113Z"
   },
   {
    "duration": 117,
    "start_time": "2022-10-23T16:48:06.737Z"
   },
   {
    "duration": 109,
    "start_time": "2022-10-23T16:48:07.294Z"
   },
   {
    "duration": 116,
    "start_time": "2022-10-23T16:48:07.845Z"
   },
   {
    "duration": 117,
    "start_time": "2022-10-23T16:48:08.442Z"
   },
   {
    "duration": 104,
    "start_time": "2022-10-23T16:48:08.977Z"
   },
   {
    "duration": 126,
    "start_time": "2022-10-23T16:48:09.589Z"
   },
   {
    "duration": 129,
    "start_time": "2022-10-23T16:48:10.103Z"
   },
   {
    "duration": 125,
    "start_time": "2022-10-23T16:48:10.647Z"
   },
   {
    "duration": 156,
    "start_time": "2022-10-23T16:48:12.451Z"
   },
   {
    "duration": 892,
    "start_time": "2022-10-23T16:48:14.267Z"
   },
   {
    "duration": 33,
    "start_time": "2022-10-23T16:48:17.291Z"
   },
   {
    "duration": 170,
    "start_time": "2022-10-23T16:48:19.549Z"
   },
   {
    "duration": 97,
    "start_time": "2022-10-23T16:52:57.232Z"
   },
   {
    "duration": 493,
    "start_time": "2022-10-23T17:59:33.772Z"
   },
   {
    "duration": 40,
    "start_time": "2022-10-23T17:59:34.267Z"
   },
   {
    "duration": 34,
    "start_time": "2022-10-23T17:59:34.308Z"
   },
   {
    "duration": 9,
    "start_time": "2022-10-23T17:59:34.344Z"
   },
   {
    "duration": 31,
    "start_time": "2022-10-23T17:59:34.355Z"
   },
   {
    "duration": 87,
    "start_time": "2022-10-23T17:59:34.388Z"
   },
   {
    "duration": 101,
    "start_time": "2022-10-23T17:59:34.476Z"
   },
   {
    "duration": 7,
    "start_time": "2022-10-23T17:59:34.579Z"
   },
   {
    "duration": 25,
    "start_time": "2022-10-23T17:59:34.588Z"
   },
   {
    "duration": 17,
    "start_time": "2022-10-23T17:59:34.617Z"
   },
   {
    "duration": 7,
    "start_time": "2022-10-23T17:59:34.636Z"
   },
   {
    "duration": 403,
    "start_time": "2022-10-23T17:59:34.644Z"
   },
   {
    "duration": 292,
    "start_time": "2022-10-23T17:59:35.049Z"
   },
   {
    "duration": 176,
    "start_time": "2022-10-23T17:59:35.343Z"
   },
   {
    "duration": 160,
    "start_time": "2022-10-23T17:59:35.521Z"
   },
   {
    "duration": 148,
    "start_time": "2022-10-23T17:59:35.682Z"
   },
   {
    "duration": 144,
    "start_time": "2022-10-23T17:59:35.834Z"
   },
   {
    "duration": 142,
    "start_time": "2022-10-23T17:59:35.979Z"
   },
   {
    "duration": 142,
    "start_time": "2022-10-23T17:59:36.122Z"
   },
   {
    "duration": 172,
    "start_time": "2022-10-23T17:59:36.267Z"
   },
   {
    "duration": 158,
    "start_time": "2022-10-23T17:59:36.441Z"
   },
   {
    "duration": 121,
    "start_time": "2022-10-23T17:59:36.601Z"
   },
   {
    "duration": 155,
    "start_time": "2022-10-23T17:59:36.724Z"
   },
   {
    "duration": 138,
    "start_time": "2022-10-23T17:59:36.881Z"
   },
   {
    "duration": 202,
    "start_time": "2022-10-23T17:59:37.021Z"
   },
   {
    "duration": 134,
    "start_time": "2022-10-23T17:59:37.225Z"
   },
   {
    "duration": 1019,
    "start_time": "2022-10-23T17:59:37.361Z"
   },
   {
    "duration": 27,
    "start_time": "2022-10-23T17:59:38.383Z"
   },
   {
    "duration": 209,
    "start_time": "2022-10-23T17:59:38.411Z"
   },
   {
    "duration": 97,
    "start_time": "2022-10-23T18:02:28.407Z"
   },
   {
    "duration": 15,
    "start_time": "2022-10-23T18:02:36.897Z"
   },
   {
    "duration": 5,
    "start_time": "2022-10-23T18:02:52.385Z"
   },
   {
    "duration": 38,
    "start_time": "2022-10-23T18:04:23.193Z"
   },
   {
    "duration": 13,
    "start_time": "2022-10-23T18:04:30.297Z"
   },
   {
    "duration": 6,
    "start_time": "2022-10-23T18:04:39.179Z"
   },
   {
    "duration": 180,
    "start_time": "2022-10-23T18:08:12.736Z"
   },
   {
    "duration": 175,
    "start_time": "2022-10-23T18:08:30.340Z"
   },
   {
    "duration": 2208,
    "start_time": "2022-10-23T18:38:22.877Z"
   },
   {
    "duration": 1339,
    "start_time": "2022-10-23T18:39:39.098Z"
   },
   {
    "duration": 1599,
    "start_time": "2022-10-23T18:48:59.241Z"
   },
   {
    "duration": 2071,
    "start_time": "2022-10-23T18:49:15.938Z"
   },
   {
    "duration": 25,
    "start_time": "2022-10-23T18:51:28.710Z"
   },
   {
    "duration": 33,
    "start_time": "2022-10-23T18:51:36.776Z"
   },
   {
    "duration": 59,
    "start_time": "2022-10-23T18:53:07.139Z"
   },
   {
    "duration": 90,
    "start_time": "2022-10-23T18:56:32.622Z"
   },
   {
    "duration": 20,
    "start_time": "2022-10-23T18:56:49.273Z"
   },
   {
    "duration": 2074,
    "start_time": "2022-10-23T18:57:44.517Z"
   },
   {
    "duration": 43,
    "start_time": "2022-10-23T18:57:47.462Z"
   },
   {
    "duration": 28,
    "start_time": "2022-10-23T18:57:50.608Z"
   },
   {
    "duration": 13,
    "start_time": "2022-10-23T18:57:53.208Z"
   },
   {
    "duration": 30,
    "start_time": "2022-10-23T19:01:03.416Z"
   },
   {
    "duration": 179,
    "start_time": "2022-10-23T19:02:31.842Z"
   },
   {
    "duration": 12,
    "start_time": "2022-10-23T19:03:11.724Z"
   },
   {
    "duration": 10,
    "start_time": "2022-10-23T19:04:37.013Z"
   },
   {
    "duration": 12,
    "start_time": "2022-10-23T19:04:55.312Z"
   },
   {
    "duration": 17,
    "start_time": "2022-10-23T19:05:08.005Z"
   },
   {
    "duration": 16,
    "start_time": "2022-10-23T19:05:27.033Z"
   },
   {
    "duration": 719,
    "start_time": "2022-10-23T19:06:29.332Z"
   },
   {
    "duration": 737,
    "start_time": "2022-10-23T19:06:38.294Z"
   },
   {
    "duration": 200,
    "start_time": "2022-10-23T19:07:05.950Z"
   },
   {
    "duration": 500,
    "start_time": "2022-10-23T19:09:10.412Z"
   },
   {
    "duration": 481,
    "start_time": "2022-10-23T19:09:45.515Z"
   },
   {
    "duration": 552,
    "start_time": "2022-10-23T19:09:57.047Z"
   },
   {
    "duration": 613,
    "start_time": "2022-10-23T19:10:16.667Z"
   },
   {
    "duration": 563,
    "start_time": "2022-10-23T19:11:05.419Z"
   },
   {
    "duration": 2428,
    "start_time": "2022-10-23T19:11:15.112Z"
   },
   {
    "duration": 48,
    "start_time": "2022-10-23T19:11:18.064Z"
   },
   {
    "duration": 40,
    "start_time": "2022-10-23T19:11:19.687Z"
   },
   {
    "duration": 16,
    "start_time": "2022-10-23T19:11:20.706Z"
   },
   {
    "duration": 34,
    "start_time": "2022-10-23T19:11:21.211Z"
   },
   {
    "duration": 75,
    "start_time": "2022-10-23T19:11:22.186Z"
   },
   {
    "duration": 119,
    "start_time": "2022-10-23T19:11:22.680Z"
   },
   {
    "duration": 23,
    "start_time": "2022-10-23T19:11:24.217Z"
   },
   {
    "duration": 9,
    "start_time": "2022-10-23T19:11:26.311Z"
   },
   {
    "duration": 16,
    "start_time": "2022-10-23T19:11:26.811Z"
   },
   {
    "duration": 9,
    "start_time": "2022-10-23T19:11:27.755Z"
   },
   {
    "duration": 8,
    "start_time": "2022-10-23T19:11:28.220Z"
   },
   {
    "duration": 356,
    "start_time": "2022-10-23T19:11:29.273Z"
   },
   {
    "duration": 18,
    "start_time": "2022-10-23T19:11:29.905Z"
   },
   {
    "duration": 149,
    "start_time": "2022-10-23T19:11:32.812Z"
   },
   {
    "duration": 171,
    "start_time": "2022-10-23T19:11:33.769Z"
   },
   {
    "duration": 174,
    "start_time": "2022-10-23T19:11:34.212Z"
   },
   {
    "duration": 159,
    "start_time": "2022-10-23T19:11:34.885Z"
   },
   {
    "duration": 194,
    "start_time": "2022-10-23T19:11:35.447Z"
   },
   {
    "duration": 157,
    "start_time": "2022-10-23T19:11:35.910Z"
   },
   {
    "duration": 141,
    "start_time": "2022-10-23T19:11:36.373Z"
   },
   {
    "duration": 147,
    "start_time": "2022-10-23T19:11:37.279Z"
   },
   {
    "duration": 161,
    "start_time": "2022-10-23T19:11:37.815Z"
   },
   {
    "duration": 141,
    "start_time": "2022-10-23T19:11:38.316Z"
   },
   {
    "duration": 156,
    "start_time": "2022-10-23T19:11:38.858Z"
   },
   {
    "duration": 160,
    "start_time": "2022-10-23T19:11:39.382Z"
   },
   {
    "duration": 201,
    "start_time": "2022-10-23T19:11:40.417Z"
   },
   {
    "duration": 147,
    "start_time": "2022-10-23T19:11:43.129Z"
   },
   {
    "duration": 1246,
    "start_time": "2022-10-23T19:11:46.208Z"
   },
   {
    "duration": 48,
    "start_time": "2022-10-23T19:11:51.024Z"
   },
   {
    "duration": 238,
    "start_time": "2022-10-23T19:12:04.455Z"
   },
   {
    "duration": 1590,
    "start_time": "2022-10-23T19:12:30.765Z"
   },
   {
    "duration": 1366,
    "start_time": "2022-10-23T19:13:00.609Z"
   },
   {
    "duration": 1354,
    "start_time": "2022-10-23T19:14:57.439Z"
   },
   {
    "duration": 1341,
    "start_time": "2022-10-23T19:24:39.380Z"
   },
   {
    "duration": 2720,
    "start_time": "2022-10-23T19:28:17.197Z"
   },
   {
    "duration": 50,
    "start_time": "2022-10-23T19:28:20.725Z"
   },
   {
    "duration": 30,
    "start_time": "2022-10-23T19:28:22.422Z"
   },
   {
    "duration": 17,
    "start_time": "2022-10-23T19:28:23.366Z"
   },
   {
    "duration": 40,
    "start_time": "2022-10-23T19:28:23.841Z"
   },
   {
    "duration": 72,
    "start_time": "2022-10-23T19:28:24.867Z"
   },
   {
    "duration": 113,
    "start_time": "2022-10-23T19:28:25.358Z"
   },
   {
    "duration": 23,
    "start_time": "2022-10-23T19:28:26.886Z"
   },
   {
    "duration": 9,
    "start_time": "2022-10-23T19:28:28.768Z"
   },
   {
    "duration": 15,
    "start_time": "2022-10-23T19:28:29.218Z"
   },
   {
    "duration": 7,
    "start_time": "2022-10-23T19:28:30.132Z"
   },
   {
    "duration": 9,
    "start_time": "2022-10-23T19:28:30.571Z"
   },
   {
    "duration": 468,
    "start_time": "2022-10-23T19:28:31.412Z"
   },
   {
    "duration": 17,
    "start_time": "2022-10-23T19:28:31.881Z"
   },
   {
    "duration": 138,
    "start_time": "2022-10-23T19:28:34.121Z"
   },
   {
    "duration": 167,
    "start_time": "2022-10-23T19:28:35.047Z"
   },
   {
    "duration": 169,
    "start_time": "2022-10-23T19:28:35.487Z"
   },
   {
    "duration": 138,
    "start_time": "2022-10-23T19:28:36.010Z"
   },
   {
    "duration": 254,
    "start_time": "2022-10-23T19:28:36.491Z"
   },
   {
    "duration": 140,
    "start_time": "2022-10-23T19:28:36.914Z"
   },
   {
    "duration": 140,
    "start_time": "2022-10-23T19:28:37.376Z"
   },
   {
    "duration": 136,
    "start_time": "2022-10-23T19:28:38.221Z"
   },
   {
    "duration": 152,
    "start_time": "2022-10-23T19:28:38.703Z"
   },
   {
    "duration": 134,
    "start_time": "2022-10-23T19:28:39.127Z"
   },
   {
    "duration": 134,
    "start_time": "2022-10-23T19:28:39.578Z"
   },
   {
    "duration": 151,
    "start_time": "2022-10-23T19:28:39.990Z"
   },
   {
    "duration": 162,
    "start_time": "2022-10-23T19:28:40.764Z"
   },
   {
    "duration": 119,
    "start_time": "2022-10-23T19:28:42.990Z"
   },
   {
    "duration": 240,
    "start_time": "2022-10-23T19:28:45.099Z"
   },
   {
    "duration": 35,
    "start_time": "2022-10-23T19:28:48.242Z"
   },
   {
    "duration": 219,
    "start_time": "2022-10-23T19:28:50.396Z"
   },
   {
    "duration": 1358,
    "start_time": "2022-10-23T19:33:48.434Z"
   },
   {
    "duration": 2681,
    "start_time": "2022-10-23T21:11:40.534Z"
   },
   {
    "duration": 43,
    "start_time": "2022-10-23T21:11:43.217Z"
   },
   {
    "duration": 27,
    "start_time": "2022-10-23T21:11:43.261Z"
   },
   {
    "duration": 31,
    "start_time": "2022-10-23T21:11:43.290Z"
   },
   {
    "duration": 32,
    "start_time": "2022-10-23T21:11:43.323Z"
   },
   {
    "duration": 82,
    "start_time": "2022-10-23T21:11:43.356Z"
   },
   {
    "duration": 103,
    "start_time": "2022-10-23T21:11:43.440Z"
   },
   {
    "duration": 16,
    "start_time": "2022-10-23T21:11:43.545Z"
   },
   {
    "duration": 6,
    "start_time": "2022-10-23T21:11:43.563Z"
   },
   {
    "duration": 21,
    "start_time": "2022-10-23T21:11:43.572Z"
   },
   {
    "duration": 9,
    "start_time": "2022-10-23T21:11:43.594Z"
   },
   {
    "duration": 7,
    "start_time": "2022-10-23T21:11:43.620Z"
   },
   {
    "duration": 311,
    "start_time": "2022-10-23T21:11:43.628Z"
   },
   {
    "duration": 14,
    "start_time": "2022-10-23T21:11:43.941Z"
   },
   {
    "duration": 127,
    "start_time": "2022-10-23T21:11:43.956Z"
   },
   {
    "duration": 139,
    "start_time": "2022-10-23T21:11:44.084Z"
   },
   {
    "duration": 155,
    "start_time": "2022-10-23T21:11:44.225Z"
   },
   {
    "duration": 199,
    "start_time": "2022-10-23T21:11:44.382Z"
   },
   {
    "duration": 141,
    "start_time": "2022-10-23T21:11:44.583Z"
   },
   {
    "duration": 132,
    "start_time": "2022-10-23T21:11:44.726Z"
   },
   {
    "duration": 124,
    "start_time": "2022-10-23T21:11:44.860Z"
   },
   {
    "duration": 125,
    "start_time": "2022-10-23T21:11:44.985Z"
   },
   {
    "duration": 154,
    "start_time": "2022-10-23T21:11:45.111Z"
   },
   {
    "duration": 118,
    "start_time": "2022-10-23T21:11:45.267Z"
   },
   {
    "duration": 136,
    "start_time": "2022-10-23T21:11:45.386Z"
   },
   {
    "duration": 139,
    "start_time": "2022-10-23T21:11:45.523Z"
   },
   {
    "duration": 159,
    "start_time": "2022-10-23T21:11:45.663Z"
   },
   {
    "duration": 117,
    "start_time": "2022-10-23T21:11:45.826Z"
   },
   {
    "duration": 227,
    "start_time": "2022-10-23T21:11:45.944Z"
   },
   {
    "duration": 0,
    "start_time": "2022-10-23T21:11:46.173Z"
   },
   {
    "duration": 0,
    "start_time": "2022-10-23T21:11:46.175Z"
   },
   {
    "duration": 1240,
    "start_time": "2022-10-23T21:15:04.722Z"
   },
   {
    "duration": 2535,
    "start_time": "2022-10-23T21:15:10.428Z"
   },
   {
    "duration": 44,
    "start_time": "2022-10-23T21:15:12.965Z"
   },
   {
    "duration": 27,
    "start_time": "2022-10-23T21:15:13.011Z"
   },
   {
    "duration": 12,
    "start_time": "2022-10-23T21:15:13.040Z"
   },
   {
    "duration": 34,
    "start_time": "2022-10-23T21:15:13.054Z"
   },
   {
    "duration": 82,
    "start_time": "2022-10-23T21:15:13.090Z"
   },
   {
    "duration": 98,
    "start_time": "2022-10-23T21:15:13.174Z"
   },
   {
    "duration": 19,
    "start_time": "2022-10-23T21:15:13.273Z"
   },
   {
    "duration": 7,
    "start_time": "2022-10-23T21:15:13.293Z"
   },
   {
    "duration": 15,
    "start_time": "2022-10-23T21:15:13.323Z"
   },
   {
    "duration": 11,
    "start_time": "2022-10-23T21:15:13.340Z"
   },
   {
    "duration": 6,
    "start_time": "2022-10-23T21:15:13.352Z"
   },
   {
    "duration": 322,
    "start_time": "2022-10-23T21:15:13.359Z"
   },
   {
    "duration": 13,
    "start_time": "2022-10-23T21:15:13.683Z"
   },
   {
    "duration": 144,
    "start_time": "2022-10-23T21:15:13.697Z"
   },
   {
    "duration": 153,
    "start_time": "2022-10-23T21:15:13.843Z"
   },
   {
    "duration": 158,
    "start_time": "2022-10-23T21:15:13.998Z"
   },
   {
    "duration": 132,
    "start_time": "2022-10-23T21:15:14.158Z"
   },
   {
    "duration": 209,
    "start_time": "2022-10-23T21:15:14.292Z"
   },
   {
    "duration": 145,
    "start_time": "2022-10-23T21:15:14.502Z"
   },
   {
    "duration": 132,
    "start_time": "2022-10-23T21:15:14.649Z"
   },
   {
    "duration": 127,
    "start_time": "2022-10-23T21:15:14.782Z"
   },
   {
    "duration": 134,
    "start_time": "2022-10-23T21:15:14.911Z"
   },
   {
    "duration": 112,
    "start_time": "2022-10-23T21:15:15.047Z"
   },
   {
    "duration": 132,
    "start_time": "2022-10-23T21:15:15.161Z"
   },
   {
    "duration": 138,
    "start_time": "2022-10-23T21:15:15.294Z"
   },
   {
    "duration": 152,
    "start_time": "2022-10-23T21:15:15.434Z"
   },
   {
    "duration": 137,
    "start_time": "2022-10-23T21:15:15.589Z"
   },
   {
    "duration": 1231,
    "start_time": "2022-10-23T21:15:15.728Z"
   },
   {
    "duration": 28,
    "start_time": "2022-10-23T21:15:16.960Z"
   },
   {
    "duration": 197,
    "start_time": "2022-10-23T21:15:16.989Z"
   },
   {
    "duration": 2974,
    "start_time": "2022-10-24T08:39:20.537Z"
   },
   {
    "duration": 1938,
    "start_time": "2022-10-24T08:39:30.674Z"
   },
   {
    "duration": 1827,
    "start_time": "2022-10-24T08:40:21.971Z"
   },
   {
    "duration": 1890,
    "start_time": "2022-10-24T08:40:51.446Z"
   },
   {
    "duration": 1857,
    "start_time": "2022-10-24T08:41:23.683Z"
   },
   {
    "duration": 2458,
    "start_time": "2022-10-24T08:41:42.069Z"
   },
   {
    "duration": 42,
    "start_time": "2022-10-24T08:41:50.905Z"
   },
   {
    "duration": 24,
    "start_time": "2022-10-24T08:41:56.637Z"
   },
   {
    "duration": 16,
    "start_time": "2022-10-24T08:42:02.886Z"
   },
   {
    "duration": 39,
    "start_time": "2022-10-24T08:42:03.889Z"
   },
   {
    "duration": 78,
    "start_time": "2022-10-24T08:42:06.182Z"
   },
   {
    "duration": 103,
    "start_time": "2022-10-24T08:42:07.136Z"
   },
   {
    "duration": 17,
    "start_time": "2022-10-24T08:42:10.403Z"
   },
   {
    "duration": 7,
    "start_time": "2022-10-24T08:42:25.936Z"
   },
   {
    "duration": 15,
    "start_time": "2022-10-24T08:42:27.166Z"
   },
   {
    "duration": 7,
    "start_time": "2022-10-24T08:42:30.664Z"
   },
   {
    "duration": 6,
    "start_time": "2022-10-24T08:42:31.236Z"
   },
   {
    "duration": 306,
    "start_time": "2022-10-24T08:43:08.694Z"
   },
   {
    "duration": 13,
    "start_time": "2022-10-24T08:43:09.756Z"
   },
   {
    "duration": 124,
    "start_time": "2022-10-24T08:43:29.010Z"
   },
   {
    "duration": 136,
    "start_time": "2022-10-24T08:43:31.495Z"
   },
   {
    "duration": 136,
    "start_time": "2022-10-24T08:43:32.068Z"
   },
   {
    "duration": 135,
    "start_time": "2022-10-24T08:43:32.571Z"
   },
   {
    "duration": 207,
    "start_time": "2022-10-24T08:43:33.053Z"
   },
   {
    "duration": 118,
    "start_time": "2022-10-24T08:43:33.516Z"
   },
   {
    "duration": 116,
    "start_time": "2022-10-24T08:43:33.995Z"
   },
   {
    "duration": 135,
    "start_time": "2022-10-24T08:43:34.963Z"
   },
   {
    "duration": 122,
    "start_time": "2022-10-24T08:43:35.499Z"
   },
   {
    "duration": 110,
    "start_time": "2022-10-24T08:43:36.000Z"
   },
   {
    "duration": 112,
    "start_time": "2022-10-24T08:43:36.505Z"
   },
   {
    "duration": 184,
    "start_time": "2022-10-24T08:43:36.995Z"
   },
   {
    "duration": 144,
    "start_time": "2022-10-24T08:43:38.172Z"
   },
   {
    "duration": 115,
    "start_time": "2022-10-24T08:43:45.675Z"
   },
   {
    "duration": 1186,
    "start_time": "2022-10-24T08:45:26.968Z"
   },
   {
    "duration": 33,
    "start_time": "2022-10-24T08:45:40.863Z"
   },
   {
    "duration": 178,
    "start_time": "2022-10-24T08:45:43.528Z"
   }
  ],
  "kernelspec": {
   "display_name": "Python 3 (ipykernel)",
   "language": "python",
   "name": "python3"
  },
  "language_info": {
   "codemirror_mode": {
    "name": "ipython",
    "version": 3
   },
   "file_extension": ".py",
   "mimetype": "text/x-python",
   "name": "python",
   "nbconvert_exporter": "python",
   "pygments_lexer": "ipython3",
   "version": "3.9.13"
  },
  "toc": {
   "base_numbering": 1,
   "nav_menu": {},
   "number_sections": true,
   "sideBar": true,
   "skip_h1_title": true,
   "title_cell": "Table of Contents",
   "title_sidebar": "Contents",
   "toc_cell": false,
   "toc_position": {},
   "toc_section_display": true,
   "toc_window_display": true
  }
 },
 "nbformat": 4,
 "nbformat_minor": 2
}
