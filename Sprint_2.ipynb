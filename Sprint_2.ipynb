{
 "cells": [
  {
   "cell_type": "markdown",
   "id": "95a98856",
   "metadata": {
    "deletable": false,
    "editable": false,
    "id": "c81daeeb"
   },
   "source": [
    "# Исследование надежности заемщиков\n"
   ]
  },
  {
   "cell_type": "markdown",
   "id": "04fec779",
   "metadata": {
    "deletable": false,
    "editable": false,
    "id": "827c20bf"
   },
   "source": [
    "Во второй части проекта вы выполните шаги 3 и 4. Их вручную проверит ревьюер.\n",
    "Чтобы вам не пришлось писать код заново для шагов 1 и 2, мы добавили авторские решения в ячейки с кодом. \n",
    "\n"
   ]
  },
  {
   "cell_type": "markdown",
   "id": "29228bd1",
   "metadata": {
    "deletable": false,
    "editable": false,
    "id": "744d7639"
   },
   "source": [
    "## Откройте таблицу и изучите общую информацию о данных"
   ]
  },
  {
   "cell_type": "markdown",
   "id": "f3fe921a",
   "metadata": {
    "deletable": false,
    "editable": false,
    "id": "e7a14c31"
   },
   "source": [
    "**Задание 1. Импортируйте библиотеку pandas. Считайте данные из csv-файла в датафрейм и сохраните в переменную `data`. Путь к файлу:**\n",
    "\n",
    "`/datasets/data.csv`"
   ]
  },
  {
   "cell_type": "code",
   "execution_count": 1,
   "id": "71d77e54",
   "metadata": {
    "deletable": false,
    "id": "7bcf75c9"
   },
   "outputs": [],
   "source": [
    "import pandas as pd\n",
    "\n",
    "try:\n",
    "    data = pd.read_csv('/datasets/data.csv')\n",
    "except:\n",
    "    data = pd.read_csv('https://code.s3.yandex.net/datasets/data.csv')"
   ]
  },
  {
   "cell_type": "markdown",
   "id": "733c0cdf",
   "metadata": {
    "deletable": false,
    "editable": false,
    "id": "b8038fe3"
   },
   "source": [
    "**Задание 2. Выведите первые 20 строчек датафрейма `data` на экран.**"
   ]
  },
  {
   "cell_type": "code",
   "execution_count": 2,
   "id": "2c3ff32e",
   "metadata": {
    "deletable": false,
    "id": "2a7cab99",
    "outputId": "1a8f3ef2-d323-4ec2-ddf7-89670b5944c4"
   },
   "outputs": [
    {
     "data": {
      "text/html": [
       "<div>\n",
       "<style scoped>\n",
       "    .dataframe tbody tr th:only-of-type {\n",
       "        vertical-align: middle;\n",
       "    }\n",
       "\n",
       "    .dataframe tbody tr th {\n",
       "        vertical-align: top;\n",
       "    }\n",
       "\n",
       "    .dataframe thead th {\n",
       "        text-align: right;\n",
       "    }\n",
       "</style>\n",
       "<table border=\"1\" class=\"dataframe\">\n",
       "  <thead>\n",
       "    <tr style=\"text-align: right;\">\n",
       "      <th></th>\n",
       "      <th>children</th>\n",
       "      <th>days_employed</th>\n",
       "      <th>dob_years</th>\n",
       "      <th>education</th>\n",
       "      <th>education_id</th>\n",
       "      <th>family_status</th>\n",
       "      <th>family_status_id</th>\n",
       "      <th>gender</th>\n",
       "      <th>income_type</th>\n",
       "      <th>debt</th>\n",
       "      <th>total_income</th>\n",
       "      <th>purpose</th>\n",
       "    </tr>\n",
       "  </thead>\n",
       "  <tbody>\n",
       "    <tr>\n",
       "      <th>0</th>\n",
       "      <td>1</td>\n",
       "      <td>-8437.673028</td>\n",
       "      <td>42</td>\n",
       "      <td>высшее</td>\n",
       "      <td>0</td>\n",
       "      <td>женат / замужем</td>\n",
       "      <td>0</td>\n",
       "      <td>F</td>\n",
       "      <td>сотрудник</td>\n",
       "      <td>0</td>\n",
       "      <td>253875.639453</td>\n",
       "      <td>покупка жилья</td>\n",
       "    </tr>\n",
       "    <tr>\n",
       "      <th>1</th>\n",
       "      <td>1</td>\n",
       "      <td>-4024.803754</td>\n",
       "      <td>36</td>\n",
       "      <td>среднее</td>\n",
       "      <td>1</td>\n",
       "      <td>женат / замужем</td>\n",
       "      <td>0</td>\n",
       "      <td>F</td>\n",
       "      <td>сотрудник</td>\n",
       "      <td>0</td>\n",
       "      <td>112080.014102</td>\n",
       "      <td>приобретение автомобиля</td>\n",
       "    </tr>\n",
       "    <tr>\n",
       "      <th>2</th>\n",
       "      <td>0</td>\n",
       "      <td>-5623.422610</td>\n",
       "      <td>33</td>\n",
       "      <td>Среднее</td>\n",
       "      <td>1</td>\n",
       "      <td>женат / замужем</td>\n",
       "      <td>0</td>\n",
       "      <td>M</td>\n",
       "      <td>сотрудник</td>\n",
       "      <td>0</td>\n",
       "      <td>145885.952297</td>\n",
       "      <td>покупка жилья</td>\n",
       "    </tr>\n",
       "    <tr>\n",
       "      <th>3</th>\n",
       "      <td>3</td>\n",
       "      <td>-4124.747207</td>\n",
       "      <td>32</td>\n",
       "      <td>среднее</td>\n",
       "      <td>1</td>\n",
       "      <td>женат / замужем</td>\n",
       "      <td>0</td>\n",
       "      <td>M</td>\n",
       "      <td>сотрудник</td>\n",
       "      <td>0</td>\n",
       "      <td>267628.550329</td>\n",
       "      <td>дополнительное образование</td>\n",
       "    </tr>\n",
       "    <tr>\n",
       "      <th>4</th>\n",
       "      <td>0</td>\n",
       "      <td>340266.072047</td>\n",
       "      <td>53</td>\n",
       "      <td>среднее</td>\n",
       "      <td>1</td>\n",
       "      <td>гражданский брак</td>\n",
       "      <td>1</td>\n",
       "      <td>F</td>\n",
       "      <td>пенсионер</td>\n",
       "      <td>0</td>\n",
       "      <td>158616.077870</td>\n",
       "      <td>сыграть свадьбу</td>\n",
       "    </tr>\n",
       "    <tr>\n",
       "      <th>5</th>\n",
       "      <td>0</td>\n",
       "      <td>-926.185831</td>\n",
       "      <td>27</td>\n",
       "      <td>высшее</td>\n",
       "      <td>0</td>\n",
       "      <td>гражданский брак</td>\n",
       "      <td>1</td>\n",
       "      <td>M</td>\n",
       "      <td>компаньон</td>\n",
       "      <td>0</td>\n",
       "      <td>255763.565419</td>\n",
       "      <td>покупка жилья</td>\n",
       "    </tr>\n",
       "    <tr>\n",
       "      <th>6</th>\n",
       "      <td>0</td>\n",
       "      <td>-2879.202052</td>\n",
       "      <td>43</td>\n",
       "      <td>высшее</td>\n",
       "      <td>0</td>\n",
       "      <td>женат / замужем</td>\n",
       "      <td>0</td>\n",
       "      <td>F</td>\n",
       "      <td>компаньон</td>\n",
       "      <td>0</td>\n",
       "      <td>240525.971920</td>\n",
       "      <td>операции с жильем</td>\n",
       "    </tr>\n",
       "    <tr>\n",
       "      <th>7</th>\n",
       "      <td>0</td>\n",
       "      <td>-152.779569</td>\n",
       "      <td>50</td>\n",
       "      <td>СРЕДНЕЕ</td>\n",
       "      <td>1</td>\n",
       "      <td>женат / замужем</td>\n",
       "      <td>0</td>\n",
       "      <td>M</td>\n",
       "      <td>сотрудник</td>\n",
       "      <td>0</td>\n",
       "      <td>135823.934197</td>\n",
       "      <td>образование</td>\n",
       "    </tr>\n",
       "    <tr>\n",
       "      <th>8</th>\n",
       "      <td>2</td>\n",
       "      <td>-6929.865299</td>\n",
       "      <td>35</td>\n",
       "      <td>ВЫСШЕЕ</td>\n",
       "      <td>0</td>\n",
       "      <td>гражданский брак</td>\n",
       "      <td>1</td>\n",
       "      <td>F</td>\n",
       "      <td>сотрудник</td>\n",
       "      <td>0</td>\n",
       "      <td>95856.832424</td>\n",
       "      <td>на проведение свадьбы</td>\n",
       "    </tr>\n",
       "    <tr>\n",
       "      <th>9</th>\n",
       "      <td>0</td>\n",
       "      <td>-2188.756445</td>\n",
       "      <td>41</td>\n",
       "      <td>среднее</td>\n",
       "      <td>1</td>\n",
       "      <td>женат / замужем</td>\n",
       "      <td>0</td>\n",
       "      <td>M</td>\n",
       "      <td>сотрудник</td>\n",
       "      <td>0</td>\n",
       "      <td>144425.938277</td>\n",
       "      <td>покупка жилья для семьи</td>\n",
       "    </tr>\n",
       "    <tr>\n",
       "      <th>10</th>\n",
       "      <td>2</td>\n",
       "      <td>-4171.483647</td>\n",
       "      <td>36</td>\n",
       "      <td>высшее</td>\n",
       "      <td>0</td>\n",
       "      <td>женат / замужем</td>\n",
       "      <td>0</td>\n",
       "      <td>M</td>\n",
       "      <td>компаньон</td>\n",
       "      <td>0</td>\n",
       "      <td>113943.491460</td>\n",
       "      <td>покупка недвижимости</td>\n",
       "    </tr>\n",
       "    <tr>\n",
       "      <th>11</th>\n",
       "      <td>0</td>\n",
       "      <td>-792.701887</td>\n",
       "      <td>40</td>\n",
       "      <td>среднее</td>\n",
       "      <td>1</td>\n",
       "      <td>женат / замужем</td>\n",
       "      <td>0</td>\n",
       "      <td>F</td>\n",
       "      <td>сотрудник</td>\n",
       "      <td>0</td>\n",
       "      <td>77069.234271</td>\n",
       "      <td>покупка коммерческой недвижимости</td>\n",
       "    </tr>\n",
       "    <tr>\n",
       "      <th>12</th>\n",
       "      <td>0</td>\n",
       "      <td>NaN</td>\n",
       "      <td>65</td>\n",
       "      <td>среднее</td>\n",
       "      <td>1</td>\n",
       "      <td>гражданский брак</td>\n",
       "      <td>1</td>\n",
       "      <td>M</td>\n",
       "      <td>пенсионер</td>\n",
       "      <td>0</td>\n",
       "      <td>NaN</td>\n",
       "      <td>сыграть свадьбу</td>\n",
       "    </tr>\n",
       "    <tr>\n",
       "      <th>13</th>\n",
       "      <td>0</td>\n",
       "      <td>-1846.641941</td>\n",
       "      <td>54</td>\n",
       "      <td>неоконченное высшее</td>\n",
       "      <td>2</td>\n",
       "      <td>женат / замужем</td>\n",
       "      <td>0</td>\n",
       "      <td>F</td>\n",
       "      <td>сотрудник</td>\n",
       "      <td>0</td>\n",
       "      <td>130458.228857</td>\n",
       "      <td>приобретение автомобиля</td>\n",
       "    </tr>\n",
       "    <tr>\n",
       "      <th>14</th>\n",
       "      <td>0</td>\n",
       "      <td>-1844.956182</td>\n",
       "      <td>56</td>\n",
       "      <td>высшее</td>\n",
       "      <td>0</td>\n",
       "      <td>гражданский брак</td>\n",
       "      <td>1</td>\n",
       "      <td>F</td>\n",
       "      <td>компаньон</td>\n",
       "      <td>1</td>\n",
       "      <td>165127.911772</td>\n",
       "      <td>покупка жилой недвижимости</td>\n",
       "    </tr>\n",
       "    <tr>\n",
       "      <th>15</th>\n",
       "      <td>1</td>\n",
       "      <td>-972.364419</td>\n",
       "      <td>26</td>\n",
       "      <td>среднее</td>\n",
       "      <td>1</td>\n",
       "      <td>женат / замужем</td>\n",
       "      <td>0</td>\n",
       "      <td>F</td>\n",
       "      <td>сотрудник</td>\n",
       "      <td>0</td>\n",
       "      <td>116820.904450</td>\n",
       "      <td>строительство собственной недвижимости</td>\n",
       "    </tr>\n",
       "    <tr>\n",
       "      <th>16</th>\n",
       "      <td>0</td>\n",
       "      <td>-1719.934226</td>\n",
       "      <td>35</td>\n",
       "      <td>среднее</td>\n",
       "      <td>1</td>\n",
       "      <td>женат / замужем</td>\n",
       "      <td>0</td>\n",
       "      <td>F</td>\n",
       "      <td>сотрудник</td>\n",
       "      <td>0</td>\n",
       "      <td>289202.704229</td>\n",
       "      <td>недвижимость</td>\n",
       "    </tr>\n",
       "    <tr>\n",
       "      <th>17</th>\n",
       "      <td>0</td>\n",
       "      <td>-2369.999720</td>\n",
       "      <td>33</td>\n",
       "      <td>высшее</td>\n",
       "      <td>0</td>\n",
       "      <td>гражданский брак</td>\n",
       "      <td>1</td>\n",
       "      <td>M</td>\n",
       "      <td>сотрудник</td>\n",
       "      <td>0</td>\n",
       "      <td>90410.586745</td>\n",
       "      <td>строительство недвижимости</td>\n",
       "    </tr>\n",
       "    <tr>\n",
       "      <th>18</th>\n",
       "      <td>0</td>\n",
       "      <td>400281.136913</td>\n",
       "      <td>53</td>\n",
       "      <td>среднее</td>\n",
       "      <td>1</td>\n",
       "      <td>вдовец / вдова</td>\n",
       "      <td>2</td>\n",
       "      <td>F</td>\n",
       "      <td>пенсионер</td>\n",
       "      <td>0</td>\n",
       "      <td>56823.777243</td>\n",
       "      <td>на покупку подержанного автомобиля</td>\n",
       "    </tr>\n",
       "    <tr>\n",
       "      <th>19</th>\n",
       "      <td>0</td>\n",
       "      <td>-10038.818549</td>\n",
       "      <td>48</td>\n",
       "      <td>СРЕДНЕЕ</td>\n",
       "      <td>1</td>\n",
       "      <td>в разводе</td>\n",
       "      <td>3</td>\n",
       "      <td>F</td>\n",
       "      <td>сотрудник</td>\n",
       "      <td>0</td>\n",
       "      <td>242831.107982</td>\n",
       "      <td>на покупку своего автомобиля</td>\n",
       "    </tr>\n",
       "  </tbody>\n",
       "</table>\n",
       "</div>"
      ],
      "text/plain": [
       "    children  days_employed  dob_years            education  education_id  \\\n",
       "0          1   -8437.673028         42               высшее             0   \n",
       "1          1   -4024.803754         36              среднее             1   \n",
       "2          0   -5623.422610         33              Среднее             1   \n",
       "3          3   -4124.747207         32              среднее             1   \n",
       "4          0  340266.072047         53              среднее             1   \n",
       "5          0    -926.185831         27               высшее             0   \n",
       "6          0   -2879.202052         43               высшее             0   \n",
       "7          0    -152.779569         50              СРЕДНЕЕ             1   \n",
       "8          2   -6929.865299         35               ВЫСШЕЕ             0   \n",
       "9          0   -2188.756445         41              среднее             1   \n",
       "10         2   -4171.483647         36               высшее             0   \n",
       "11         0    -792.701887         40              среднее             1   \n",
       "12         0            NaN         65              среднее             1   \n",
       "13         0   -1846.641941         54  неоконченное высшее             2   \n",
       "14         0   -1844.956182         56               высшее             0   \n",
       "15         1    -972.364419         26              среднее             1   \n",
       "16         0   -1719.934226         35              среднее             1   \n",
       "17         0   -2369.999720         33               высшее             0   \n",
       "18         0  400281.136913         53              среднее             1   \n",
       "19         0  -10038.818549         48              СРЕДНЕЕ             1   \n",
       "\n",
       "       family_status  family_status_id gender income_type  debt  \\\n",
       "0    женат / замужем                 0      F   сотрудник     0   \n",
       "1    женат / замужем                 0      F   сотрудник     0   \n",
       "2    женат / замужем                 0      M   сотрудник     0   \n",
       "3    женат / замужем                 0      M   сотрудник     0   \n",
       "4   гражданский брак                 1      F   пенсионер     0   \n",
       "5   гражданский брак                 1      M   компаньон     0   \n",
       "6    женат / замужем                 0      F   компаньон     0   \n",
       "7    женат / замужем                 0      M   сотрудник     0   \n",
       "8   гражданский брак                 1      F   сотрудник     0   \n",
       "9    женат / замужем                 0      M   сотрудник     0   \n",
       "10   женат / замужем                 0      M   компаньон     0   \n",
       "11   женат / замужем                 0      F   сотрудник     0   \n",
       "12  гражданский брак                 1      M   пенсионер     0   \n",
       "13   женат / замужем                 0      F   сотрудник     0   \n",
       "14  гражданский брак                 1      F   компаньон     1   \n",
       "15   женат / замужем                 0      F   сотрудник     0   \n",
       "16   женат / замужем                 0      F   сотрудник     0   \n",
       "17  гражданский брак                 1      M   сотрудник     0   \n",
       "18    вдовец / вдова                 2      F   пенсионер     0   \n",
       "19         в разводе                 3      F   сотрудник     0   \n",
       "\n",
       "     total_income                                 purpose  \n",
       "0   253875.639453                           покупка жилья  \n",
       "1   112080.014102                 приобретение автомобиля  \n",
       "2   145885.952297                           покупка жилья  \n",
       "3   267628.550329              дополнительное образование  \n",
       "4   158616.077870                         сыграть свадьбу  \n",
       "5   255763.565419                           покупка жилья  \n",
       "6   240525.971920                       операции с жильем  \n",
       "7   135823.934197                             образование  \n",
       "8    95856.832424                   на проведение свадьбы  \n",
       "9   144425.938277                 покупка жилья для семьи  \n",
       "10  113943.491460                    покупка недвижимости  \n",
       "11   77069.234271       покупка коммерческой недвижимости  \n",
       "12            NaN                         сыграть свадьбу  \n",
       "13  130458.228857                 приобретение автомобиля  \n",
       "14  165127.911772              покупка жилой недвижимости  \n",
       "15  116820.904450  строительство собственной недвижимости  \n",
       "16  289202.704229                            недвижимость  \n",
       "17   90410.586745              строительство недвижимости  \n",
       "18   56823.777243      на покупку подержанного автомобиля  \n",
       "19  242831.107982            на покупку своего автомобиля  "
      ]
     },
     "execution_count": 2,
     "metadata": {},
     "output_type": "execute_result"
    }
   ],
   "source": [
    "data.head(20)"
   ]
  },
  {
   "cell_type": "markdown",
   "id": "8088e89d",
   "metadata": {
    "deletable": false,
    "editable": false,
    "id": "1c12e233"
   },
   "source": [
    "**Задание 3. Выведите основную информацию о датафрейме с помощью метода `info()`.**"
   ]
  },
  {
   "cell_type": "code",
   "execution_count": 3,
   "id": "7ee2e625",
   "metadata": {
    "deletable": false,
    "id": "2b757bca",
    "outputId": "15376089-8dad-46c9-b520-c05248d43158"
   },
   "outputs": [
    {
     "name": "stdout",
     "output_type": "stream",
     "text": [
      "<class 'pandas.core.frame.DataFrame'>\n",
      "RangeIndex: 21525 entries, 0 to 21524\n",
      "Data columns (total 12 columns):\n",
      " #   Column            Non-Null Count  Dtype  \n",
      "---  ------            --------------  -----  \n",
      " 0   children          21525 non-null  int64  \n",
      " 1   days_employed     19351 non-null  float64\n",
      " 2   dob_years         21525 non-null  int64  \n",
      " 3   education         21525 non-null  object \n",
      " 4   education_id      21525 non-null  int64  \n",
      " 5   family_status     21525 non-null  object \n",
      " 6   family_status_id  21525 non-null  int64  \n",
      " 7   gender            21525 non-null  object \n",
      " 8   income_type       21525 non-null  object \n",
      " 9   debt              21525 non-null  int64  \n",
      " 10  total_income      19351 non-null  float64\n",
      " 11  purpose           21525 non-null  object \n",
      "dtypes: float64(2), int64(5), object(5)\n",
      "memory usage: 2.0+ MB\n"
     ]
    }
   ],
   "source": [
    "data.info()"
   ]
  },
  {
   "cell_type": "markdown",
   "id": "a1f2719d",
   "metadata": {
    "deletable": false,
    "editable": false,
    "id": "333ec665"
   },
   "source": [
    "## Предобработка данных"
   ]
  },
  {
   "cell_type": "markdown",
   "id": "a2a5b827",
   "metadata": {
    "deletable": false,
    "editable": false,
    "id": "02d92d53"
   },
   "source": [
    "### Удаление пропусков"
   ]
  },
  {
   "cell_type": "markdown",
   "id": "297df211",
   "metadata": {
    "deletable": false,
    "editable": false,
    "id": "cd84967c"
   },
   "source": [
    "**Задание 4. Выведите количество пропущенных значений для каждого столбца. Используйте комбинацию двух методов.**"
   ]
  },
  {
   "cell_type": "code",
   "execution_count": 4,
   "id": "33fc40c2",
   "metadata": {
    "deletable": false,
    "id": "7f9b2309",
    "outputId": "81f4d817-781c-465c-ed15-91ce4446810d"
   },
   "outputs": [
    {
     "data": {
      "text/plain": [
       "children               0\n",
       "days_employed       2174\n",
       "dob_years              0\n",
       "education              0\n",
       "education_id           0\n",
       "family_status          0\n",
       "family_status_id       0\n",
       "gender                 0\n",
       "income_type            0\n",
       "debt                   0\n",
       "total_income        2174\n",
       "purpose                0\n",
       "dtype: int64"
      ]
     },
     "execution_count": 4,
     "metadata": {},
     "output_type": "execute_result"
    }
   ],
   "source": [
    "data.isna().sum()"
   ]
  },
  {
   "cell_type": "markdown",
   "id": "8336dcf3",
   "metadata": {
    "deletable": false,
    "editable": false,
    "id": "db86e27b"
   },
   "source": [
    "**Задание 5. В двух столбцах есть пропущенные значения. Один из них — `days_employed`. Пропуски в этом столбце вы обработаете на следующем этапе. Другой столбец с пропущенными значениями — `total_income` — хранит данные о доходах. На сумму дохода сильнее всего влияет тип занятости, поэтому заполнить пропуски в этом столбце нужно медианным значением по каждому типу из столбца `income_type`. Например, у человека с типом занятости `сотрудник` пропуск в столбце `total_income` должен быть заполнен медианным доходом среди всех записей с тем же типом.**"
   ]
  },
  {
   "cell_type": "code",
   "execution_count": 5,
   "id": "d06edc13",
   "metadata": {
    "deletable": false,
    "id": "42006a93"
   },
   "outputs": [],
   "source": [
    "for t in data['income_type'].unique():\n",
    "    data.loc[(data['income_type'] == t) & (data['total_income'].isna()), 'total_income'] = \\\n",
    "    data.loc[(data['income_type'] == t), 'total_income'].median()"
   ]
  },
  {
   "cell_type": "markdown",
   "id": "875400f8",
   "metadata": {
    "deletable": false,
    "editable": false,
    "id": "89da5ece"
   },
   "source": [
    "### Обработка аномальных значений"
   ]
  },
  {
   "cell_type": "markdown",
   "id": "90121dfe",
   "metadata": {
    "deletable": false,
    "editable": false,
    "id": "57964554"
   },
   "source": [
    "**Задание 6. В данных могут встречаться артефакты (аномалии) — значения, которые не отражают действительность и появились по какой-то ошибке. таким артефактом будет отрицательное количество дней трудового стажа в столбце `days_employed`. Для реальных данных это нормально. Обработайте значения в этом столбце: замените все отрицательные значения положительными с помощью метода `abs()`.**"
   ]
  },
  {
   "cell_type": "code",
   "execution_count": 6,
   "id": "051870df",
   "metadata": {
    "deletable": false,
    "id": "f6f055bf"
   },
   "outputs": [],
   "source": [
    "data['days_employed'] = data['days_employed'].abs()"
   ]
  },
  {
   "cell_type": "markdown",
   "id": "bbe6c06d",
   "metadata": {
    "deletable": false,
    "editable": false,
    "id": "6107dd2f"
   },
   "source": [
    "**Задание 7. Для каждого типа занятости выведите медианное значение трудового стажа `days_employed` в днях.**"
   ]
  },
  {
   "cell_type": "code",
   "execution_count": 7,
   "id": "99d23754",
   "metadata": {
    "deletable": false,
    "id": "85a5faf6",
    "outputId": "801ef80e-522b-4668-f34e-565af7432bcf"
   },
   "outputs": [
    {
     "data": {
      "text/plain": [
       "income_type\n",
       "безработный        366413.652744\n",
       "в декрете            3296.759962\n",
       "госслужащий          2689.368353\n",
       "компаньон            1547.382223\n",
       "пенсионер          365213.306266\n",
       "предприниматель       520.848083\n",
       "сотрудник            1574.202821\n",
       "студент               578.751554\n",
       "Name: days_employed, dtype: float64"
      ]
     },
     "execution_count": 7,
     "metadata": {},
     "output_type": "execute_result"
    }
   ],
   "source": [
    "data.groupby('income_type')['days_employed'].agg('median')"
   ]
  },
  {
   "cell_type": "markdown",
   "id": "159be02d",
   "metadata": {
    "deletable": false,
    "editable": false,
    "id": "38d1a030"
   },
   "source": [
    "У двух типов (безработные и пенсионеры) получатся аномально большие значения. Исправить такие значения сложно, поэтому оставьте их как есть. Тем более этот столбец не понадобится вам для исследования."
   ]
  },
  {
   "cell_type": "markdown",
   "id": "c8305b35",
   "metadata": {
    "deletable": false,
    "editable": false,
    "id": "d8a9f147"
   },
   "source": [
    "**Задание 8. Выведите перечень уникальных значений столбца `children`.**"
   ]
  },
  {
   "cell_type": "code",
   "execution_count": 8,
   "id": "7bc500aa",
   "metadata": {
    "deletable": false,
    "id": "ef5056eb",
    "outputId": "6975b15c-7f95-4697-d16d-a0c79b657b03"
   },
   "outputs": [
    {
     "data": {
      "text/plain": [
       "array([ 1,  0,  3,  2, -1,  4, 20,  5])"
      ]
     },
     "execution_count": 8,
     "metadata": {},
     "output_type": "execute_result"
    }
   ],
   "source": [
    "data['children'].unique()"
   ]
  },
  {
   "cell_type": "markdown",
   "id": "f6a7fc63",
   "metadata": {
    "deletable": false,
    "editable": false,
    "id": "40b9ebf2"
   },
   "source": [
    "**Задание 9. В столбце `children` есть два аномальных значения. Удалите строки, в которых встречаются такие аномальные значения из датафрейма `data`.**"
   ]
  },
  {
   "cell_type": "code",
   "execution_count": 9,
   "id": "678030c4",
   "metadata": {
    "deletable": false,
    "id": "3ff9801d"
   },
   "outputs": [],
   "source": [
    "data = data[(data['children'] != -1) & (data['children'] != 20)]"
   ]
  },
  {
   "cell_type": "markdown",
   "id": "95a63f3b",
   "metadata": {
    "deletable": false,
    "editable": false,
    "id": "bbc4d0ce"
   },
   "source": [
    "**Задание 10. Ещё раз выведите перечень уникальных значений столбца `children`, чтобы убедиться, что артефакты удалены.**"
   ]
  },
  {
   "cell_type": "code",
   "execution_count": 10,
   "id": "899dfb62",
   "metadata": {
    "deletable": false,
    "id": "ad4fa8b7",
    "outputId": "b2097101-d49d-44d9-901b-32a65c9463d1"
   },
   "outputs": [
    {
     "data": {
      "text/plain": [
       "array([1, 0, 3, 2, 4, 5])"
      ]
     },
     "execution_count": 10,
     "metadata": {},
     "output_type": "execute_result"
    }
   ],
   "source": [
    "data['children'].unique()"
   ]
  },
  {
   "cell_type": "markdown",
   "id": "58af97d1",
   "metadata": {
    "deletable": false,
    "editable": false,
    "id": "75440b63"
   },
   "source": [
    "### Удаление пропусков (продолжение)"
   ]
  },
  {
   "cell_type": "markdown",
   "id": "1c8b93a3",
   "metadata": {
    "deletable": false,
    "editable": false,
    "id": "f4ea573f"
   },
   "source": [
    "**Задание 11. Заполните пропуски в столбце `days_employed` медианными значениями по каждого типа занятости `income_type`.**"
   ]
  },
  {
   "cell_type": "code",
   "execution_count": 11,
   "id": "cd0b7f12",
   "metadata": {
    "deletable": false,
    "id": "af6b1a7e"
   },
   "outputs": [],
   "source": [
    "for t in data['income_type'].unique():\n",
    "    data.loc[(data['income_type'] == t) & (data['days_employed'].isna()), 'days_employed'] = \\\n",
    "    data.loc[(data['income_type'] == t), 'days_employed'].median()"
   ]
  },
  {
   "cell_type": "markdown",
   "id": "52d10f89",
   "metadata": {
    "deletable": false,
    "editable": false,
    "id": "2753f40d"
   },
   "source": [
    "**Задание 12. Убедитесь, что все пропуски заполнены. Проверьте себя и ещё раз выведите количество пропущенных значений для каждого столбца с помощью двух методов.**"
   ]
  },
  {
   "cell_type": "code",
   "execution_count": 12,
   "id": "1143f8a3",
   "metadata": {
    "deletable": false,
    "id": "55f78bc2",
    "outputId": "8da1e4e1-358e-4e87-98c9-f261bce0a7b2"
   },
   "outputs": [
    {
     "data": {
      "text/plain": [
       "children            0\n",
       "days_employed       0\n",
       "dob_years           0\n",
       "education           0\n",
       "education_id        0\n",
       "family_status       0\n",
       "family_status_id    0\n",
       "gender              0\n",
       "income_type         0\n",
       "debt                0\n",
       "total_income        0\n",
       "purpose             0\n",
       "dtype: int64"
      ]
     },
     "execution_count": 12,
     "metadata": {},
     "output_type": "execute_result"
    }
   ],
   "source": [
    "data.isna().sum()"
   ]
  },
  {
   "cell_type": "markdown",
   "id": "03c2a2d4",
   "metadata": {
    "deletable": false,
    "editable": false,
    "id": "ddc81e43"
   },
   "source": [
    "### Изменение типов данных"
   ]
  },
  {
   "cell_type": "markdown",
   "id": "3307cff1",
   "metadata": {
    "deletable": false,
    "editable": false,
    "id": "42d19d24"
   },
   "source": [
    "**Задание 13. Замените вещественный тип данных в столбце `total_income` на целочисленный с помощью метода `astype()`.**"
   ]
  },
  {
   "cell_type": "code",
   "execution_count": 13,
   "id": "2fc4c032",
   "metadata": {
    "deletable": false,
    "id": "920b65ad"
   },
   "outputs": [],
   "source": [
    "data['total_income'] = data['total_income'].astype(int)"
   ]
  },
  {
   "cell_type": "markdown",
   "id": "ebb34d2f",
   "metadata": {
    "deletable": false,
    "editable": false,
    "id": "80c420ba"
   },
   "source": [
    "### Обработка дубликатов"
   ]
  },
  {
   "cell_type": "markdown",
   "id": "41d2c057",
   "metadata": {
    "deletable": false,
    "editable": false
   },
   "source": [
    "**Задание 14. Обработайте неявные дубликаты в столбце `education`. В этом столбце есть одни и те же значения, но записанные по-разному: с использованием заглавных и строчных букв. Приведите их к нижнему регистру. Проверьте остальные столбцы.**"
   ]
  },
  {
   "cell_type": "code",
   "execution_count": 14,
   "id": "633000bb",
   "metadata": {
    "deletable": false
   },
   "outputs": [],
   "source": [
    "data['education'] = data['education'].str.lower()"
   ]
  },
  {
   "cell_type": "markdown",
   "id": "6e751e13",
   "metadata": {
    "deletable": false,
    "editable": false,
    "id": "dc587695"
   },
   "source": [
    "**Задание 15. Выведите на экран количество строк-дубликатов в данных. Если такие строки присутствуют, удалите их.**"
   ]
  },
  {
   "cell_type": "code",
   "execution_count": 15,
   "id": "67aef14d",
   "metadata": {
    "deletable": false,
    "id": "3ee445e4",
    "outputId": "9684deba-1934-42d1-99e1-cda61740f822"
   },
   "outputs": [
    {
     "data": {
      "text/plain": [
       "71"
      ]
     },
     "execution_count": 15,
     "metadata": {},
     "output_type": "execute_result"
    }
   ],
   "source": [
    "data.duplicated().sum()"
   ]
  },
  {
   "cell_type": "code",
   "execution_count": 16,
   "id": "8dab8223",
   "metadata": {
    "deletable": false,
    "id": "8575fe05"
   },
   "outputs": [],
   "source": [
    "data = data.drop_duplicates()"
   ]
  },
  {
   "cell_type": "markdown",
   "id": "6d460164",
   "metadata": {
    "deletable": false,
    "editable": false,
    "id": "9904cf55"
   },
   "source": [
    "### Категоризация данных"
   ]
  },
  {
   "cell_type": "markdown",
   "id": "c5a512c0",
   "metadata": {
    "deletable": false,
    "editable": false,
    "id": "72fcc8a2"
   },
   "source": [
    "**Задание 16. На основании диапазонов, указанных ниже, создайте в датафрейме `data` столбец `total_income_category` с категориями:**\n",
    "\n",
    "- 0–30000 — `'E'`;\n",
    "- 30001–50000 — `'D'`;\n",
    "- 50001–200000 — `'C'`;\n",
    "- 200001–1000000 — `'B'`;\n",
    "- 1000001 и выше — `'A'`.\n",
    "\n",
    "\n",
    "**Например, кредитополучателю с доходом 25000 нужно назначить категорию `'E'`, а клиенту, получающему 235000, — `'B'`. Используйте собственную функцию с именем `categorize_income()` и метод `apply()`.**"
   ]
  },
  {
   "cell_type": "code",
   "execution_count": 17,
   "id": "d0ea6bec",
   "metadata": {
    "deletable": false,
    "id": "e1771346"
   },
   "outputs": [],
   "source": [
    "def categorize_income(income):\n",
    "    try:\n",
    "        if 0 <= income <= 30000:\n",
    "            return 'E'\n",
    "        elif 30001 <= income <= 50000:\n",
    "            return 'D'\n",
    "        elif 50001 <= income <= 200000:\n",
    "            return 'C'\n",
    "        elif 200001 <= income <= 1000000:\n",
    "            return 'B'\n",
    "        elif income >= 1000001:\n",
    "            return 'A'\n",
    "    except:\n",
    "        pass"
   ]
  },
  {
   "cell_type": "code",
   "execution_count": 18,
   "id": "74244af6",
   "metadata": {
    "deletable": false,
    "id": "d5f3586d"
   },
   "outputs": [],
   "source": [
    "data['total_income_category'] = data['total_income'].apply(categorize_income)"
   ]
  },
  {
   "cell_type": "markdown",
   "id": "ad095f9f",
   "metadata": {
    "deletable": false,
    "editable": false,
    "id": "dde49b5c"
   },
   "source": [
    "**Задание 17. Выведите на экран перечень уникальных целей взятия кредита из столбца `purpose`.**"
   ]
  },
  {
   "cell_type": "code",
   "execution_count": 19,
   "id": "75fdb779",
   "metadata": {
    "deletable": false,
    "id": "f67ce9b3",
    "outputId": "673c12d9-7d7e-4ae0-9812-c622c89dd244"
   },
   "outputs": [
    {
     "data": {
      "text/plain": [
       "array(['покупка жилья', 'приобретение автомобиля',\n",
       "       'дополнительное образование', 'сыграть свадьбу',\n",
       "       'операции с жильем', 'образование', 'на проведение свадьбы',\n",
       "       'покупка жилья для семьи', 'покупка недвижимости',\n",
       "       'покупка коммерческой недвижимости', 'покупка жилой недвижимости',\n",
       "       'строительство собственной недвижимости', 'недвижимость',\n",
       "       'строительство недвижимости', 'на покупку подержанного автомобиля',\n",
       "       'на покупку своего автомобиля',\n",
       "       'операции с коммерческой недвижимостью',\n",
       "       'строительство жилой недвижимости', 'жилье',\n",
       "       'операции со своей недвижимостью', 'автомобили',\n",
       "       'заняться образованием', 'сделка с подержанным автомобилем',\n",
       "       'получение образования', 'автомобиль', 'свадьба',\n",
       "       'получение дополнительного образования', 'покупка своего жилья',\n",
       "       'операции с недвижимостью', 'получение высшего образования',\n",
       "       'свой автомобиль', 'сделка с автомобилем',\n",
       "       'профильное образование', 'высшее образование',\n",
       "       'покупка жилья для сдачи', 'на покупку автомобиля', 'ремонт жилью',\n",
       "       'заняться высшим образованием'], dtype=object)"
      ]
     },
     "execution_count": 19,
     "metadata": {},
     "output_type": "execute_result"
    }
   ],
   "source": [
    "data['purpose'].unique()"
   ]
  },
  {
   "cell_type": "markdown",
   "id": "44fa23b0",
   "metadata": {
    "deletable": false,
    "editable": false,
    "id": "85d0aef0"
   },
   "source": [
    "**Задание 18. Создайте функцию, которая на основании данных из столбца `purpose` сформирует новый столбец `purpose_category`, в который войдут следующие категории:**\n",
    "\n",
    "- `'операции с автомобилем'`,\n",
    "- `'операции с недвижимостью'`,\n",
    "- `'проведение свадьбы'`,\n",
    "- `'получение образования'`.\n",
    "\n",
    "**Например, если в столбце `purpose` находится подстрока `'на покупку автомобиля'`, то в столбце `purpose_category` должна появиться строка `'операции с автомобилем'`.**\n",
    "\n",
    "**Используйте собственную функцию с именем `categorize_purpose()` и метод `apply()`. Изучите данные в столбце `purpose` и определите, какие подстроки помогут вам правильно определить категорию.**"
   ]
  },
  {
   "cell_type": "code",
   "execution_count": 20,
   "id": "a7593889",
   "metadata": {
    "deletable": false,
    "id": "e149fab4"
   },
   "outputs": [],
   "source": [
    "def categorize_purpose(row):\n",
    "    try:\n",
    "        if 'автом' in row:\n",
    "            return 'операции с автомобилем'\n",
    "        elif 'жил' in row or 'недвиж' in row:\n",
    "            return 'операции с недвижимостью'\n",
    "        elif 'свад' in row:\n",
    "            return 'проведение свадьбы'\n",
    "        elif 'образов' in row:\n",
    "            return 'получение образования'\n",
    "    except:\n",
    "        return 'нет категории'"
   ]
  },
  {
   "cell_type": "code",
   "execution_count": 21,
   "id": "f6822b35",
   "metadata": {
    "deletable": false,
    "id": "bf36e69b"
   },
   "outputs": [],
   "source": [
    "data['purpose_category'] = data['purpose'].apply(categorize_purpose)"
   ]
  },
  {
   "cell_type": "markdown",
   "id": "f1c16e0d",
   "metadata": {
    "deletable": false,
    "editable": false,
    "id": "09b242bf"
   },
   "source": [
    "### Шаг 3. Исследуйте данные и ответьте на вопросы"
   ]
  },
  {
   "cell_type": "markdown",
   "id": "27cc6803",
   "metadata": {
    "deletable": false,
    "editable": false,
    "id": "c5d66278"
   },
   "source": [
    "#### 3.1 Есть ли зависимость между количеством детей и возвратом кредита в срок?"
   ]
  },
  {
   "cell_type": "code",
   "execution_count": 22,
   "id": "7ec2fe4a",
   "metadata": {
    "deletable": false,
    "id": "2cacfc4a",
    "scrolled": false
   },
   "outputs": [
    {
     "name": "stdout",
     "output_type": "stream",
     "text": [
      "          no_debt    debt   percent\n",
      "children                           \n",
      "0         13028.0  1063.0  0.075438\n",
      "1          4364.0   444.0  0.092346\n",
      "2          1858.0   194.0  0.094542\n",
      "3           303.0    27.0  0.081818\n",
      "4            37.0     4.0  0.097561\n",
      "5             9.0     0.0  0.000000\n"
     ]
    }
   ],
   "source": [
    "dat = data.groupby('children')['debt'].value_counts()\n",
    "#print(dat)\n",
    "# группируем данные по столбцу с колчиеством детей и информацией сколько заёмщиков в срок вернули кредит а сколько нет.\n",
    "\n",
    "# далее представим данные в виде мводной таблицы, в которой колонки children - количество детей, no_debt - кто вовремя погасил кредит,debt - просрочили погашение и percent - доля не погасиших кредит от общего числа\n",
    "tableDebt = data.pivot_table(index = 'children', columns = 'debt', values = 'education', aggfunc = 'count').fillna(0)\n",
    "tableDebt.columns = ['no_debt','debt']\n",
    "tableDebt['percent'] = tableDebt['debt'] / (tableDebt['debt'] + tableDebt['no_debt'])\n",
    "print(tableDebt)\n",
    "\n",
    "# Ваш код будет здесь. Вы можете создавать новые ячейки."
   ]
  },
  {
   "cell_type": "code",
   "execution_count": 23,
   "id": "833bba0d",
   "metadata": {},
   "outputs": [
    {
     "data": {
      "text/html": [
       "<div>\n",
       "<style scoped>\n",
       "    .dataframe tbody tr th:only-of-type {\n",
       "        vertical-align: middle;\n",
       "    }\n",
       "\n",
       "    .dataframe tbody tr th {\n",
       "        vertical-align: top;\n",
       "    }\n",
       "\n",
       "    .dataframe thead th {\n",
       "        text-align: right;\n",
       "    }\n",
       "</style>\n",
       "<table border=\"1\" class=\"dataframe\">\n",
       "  <thead>\n",
       "    <tr style=\"text-align: right;\">\n",
       "      <th></th>\n",
       "      <th>count</th>\n",
       "      <th>sum</th>\n",
       "      <th>mean</th>\n",
       "    </tr>\n",
       "    <tr>\n",
       "      <th>children</th>\n",
       "      <th></th>\n",
       "      <th></th>\n",
       "      <th></th>\n",
       "    </tr>\n",
       "  </thead>\n",
       "  <tbody>\n",
       "    <tr>\n",
       "      <th>0</th>\n",
       "      <td>14091</td>\n",
       "      <td>1063</td>\n",
       "      <td>0.075438</td>\n",
       "    </tr>\n",
       "    <tr>\n",
       "      <th>1</th>\n",
       "      <td>4808</td>\n",
       "      <td>444</td>\n",
       "      <td>0.092346</td>\n",
       "    </tr>\n",
       "    <tr>\n",
       "      <th>2</th>\n",
       "      <td>2052</td>\n",
       "      <td>194</td>\n",
       "      <td>0.094542</td>\n",
       "    </tr>\n",
       "    <tr>\n",
       "      <th>3</th>\n",
       "      <td>330</td>\n",
       "      <td>27</td>\n",
       "      <td>0.081818</td>\n",
       "    </tr>\n",
       "    <tr>\n",
       "      <th>4</th>\n",
       "      <td>41</td>\n",
       "      <td>4</td>\n",
       "      <td>0.097561</td>\n",
       "    </tr>\n",
       "    <tr>\n",
       "      <th>5</th>\n",
       "      <td>9</td>\n",
       "      <td>0</td>\n",
       "      <td>0.000000</td>\n",
       "    </tr>\n",
       "  </tbody>\n",
       "</table>\n",
       "</div>"
      ],
      "text/plain": [
       "          count   sum      mean\n",
       "children                       \n",
       "0         14091  1063  0.075438\n",
       "1          4808   444  0.092346\n",
       "2          2052   194  0.094542\n",
       "3           330    27  0.081818\n",
       "4            41     4  0.097561\n",
       "5             9     0  0.000000"
      ]
     },
     "execution_count": 23,
     "metadata": {},
     "output_type": "execute_result"
    }
   ],
   "source": [
    "# КОД РЕВЬЮЕРА\n",
    "\n",
    "data.groupby('children')['debt'].agg(['count','sum','mean'])"
   ]
  },
  {
   "cell_type": "code",
   "execution_count": 24,
   "id": "51385f8d",
   "metadata": {},
   "outputs": [
    {
     "data": {
      "text/html": [
       "<div>\n",
       "<style scoped>\n",
       "    .dataframe tbody tr th:only-of-type {\n",
       "        vertical-align: middle;\n",
       "    }\n",
       "\n",
       "    .dataframe tbody tr th {\n",
       "        vertical-align: top;\n",
       "    }\n",
       "\n",
       "    .dataframe thead th {\n",
       "        text-align: right;\n",
       "    }\n",
       "</style>\n",
       "<table border=\"1\" class=\"dataframe\">\n",
       "  <thead>\n",
       "    <tr style=\"text-align: right;\">\n",
       "      <th></th>\n",
       "      <th>count</th>\n",
       "      <th>sum</th>\n",
       "      <th>my_mean</th>\n",
       "    </tr>\n",
       "    <tr>\n",
       "      <th>children</th>\n",
       "      <th></th>\n",
       "      <th></th>\n",
       "      <th></th>\n",
       "    </tr>\n",
       "  </thead>\n",
       "  <tbody>\n",
       "    <tr>\n",
       "      <th>0</th>\n",
       "      <td>14091</td>\n",
       "      <td>1063</td>\n",
       "      <td>7.543822</td>\n",
       "    </tr>\n",
       "    <tr>\n",
       "      <th>1</th>\n",
       "      <td>4808</td>\n",
       "      <td>444</td>\n",
       "      <td>9.234609</td>\n",
       "    </tr>\n",
       "    <tr>\n",
       "      <th>2</th>\n",
       "      <td>2052</td>\n",
       "      <td>194</td>\n",
       "      <td>9.454191</td>\n",
       "    </tr>\n",
       "    <tr>\n",
       "      <th>3</th>\n",
       "      <td>330</td>\n",
       "      <td>27</td>\n",
       "      <td>8.181818</td>\n",
       "    </tr>\n",
       "    <tr>\n",
       "      <th>4</th>\n",
       "      <td>41</td>\n",
       "      <td>4</td>\n",
       "      <td>9.756098</td>\n",
       "    </tr>\n",
       "    <tr>\n",
       "      <th>5</th>\n",
       "      <td>9</td>\n",
       "      <td>0</td>\n",
       "      <td>0.000000</td>\n",
       "    </tr>\n",
       "  </tbody>\n",
       "</table>\n",
       "</div>"
      ],
      "text/plain": [
       "          count   sum   my_mean\n",
       "children                       \n",
       "0         14091  1063  7.543822\n",
       "1          4808   444  9.234609\n",
       "2          2052   194  9.454191\n",
       "3           330    27  8.181818\n",
       "4            41     4  9.756098\n",
       "5             9     0  0.000000"
      ]
     },
     "execution_count": 24,
     "metadata": {},
     "output_type": "execute_result"
    }
   ],
   "source": [
    "# КОД РЕВЬЮЕРА\n",
    "\n",
    "def my_mean(x): return x.mean()*100\n",
    "\n",
    "# В кач-ве агрегирования можно любую функцию брать.\n",
    "data.groupby('children')['debt'].agg(['count', 'sum', my_mean])"
   ]
  },
  {
   "cell_type": "code",
   "execution_count": 25,
   "id": "6bcb9e5e",
   "metadata": {},
   "outputs": [
    {
     "data": {
      "text/html": [
       "<div>\n",
       "<style scoped>\n",
       "    .dataframe tbody tr th:only-of-type {\n",
       "        vertical-align: middle;\n",
       "    }\n",
       "\n",
       "    .dataframe tbody tr th {\n",
       "        vertical-align: top;\n",
       "    }\n",
       "\n",
       "    .dataframe thead th {\n",
       "        text-align: right;\n",
       "    }\n",
       "</style>\n",
       "<table border=\"1\" class=\"dataframe\">\n",
       "  <thead>\n",
       "    <tr style=\"text-align: right;\">\n",
       "      <th></th>\n",
       "      <th>count</th>\n",
       "      <th>sum</th>\n",
       "      <th>my_mean</th>\n",
       "    </tr>\n",
       "    <tr>\n",
       "      <th>children</th>\n",
       "      <th></th>\n",
       "      <th></th>\n",
       "      <th></th>\n",
       "    </tr>\n",
       "  </thead>\n",
       "  <tbody>\n",
       "    <tr>\n",
       "      <th>0</th>\n",
       "      <td>14091</td>\n",
       "      <td>1063</td>\n",
       "      <td>7.54%</td>\n",
       "    </tr>\n",
       "    <tr>\n",
       "      <th>1</th>\n",
       "      <td>4808</td>\n",
       "      <td>444</td>\n",
       "      <td>9.23%</td>\n",
       "    </tr>\n",
       "    <tr>\n",
       "      <th>2</th>\n",
       "      <td>2052</td>\n",
       "      <td>194</td>\n",
       "      <td>9.45%</td>\n",
       "    </tr>\n",
       "    <tr>\n",
       "      <th>3</th>\n",
       "      <td>330</td>\n",
       "      <td>27</td>\n",
       "      <td>8.18%</td>\n",
       "    </tr>\n",
       "    <tr>\n",
       "      <th>4</th>\n",
       "      <td>41</td>\n",
       "      <td>4</td>\n",
       "      <td>9.76%</td>\n",
       "    </tr>\n",
       "    <tr>\n",
       "      <th>5</th>\n",
       "      <td>9</td>\n",
       "      <td>0</td>\n",
       "      <td>0.00%</td>\n",
       "    </tr>\n",
       "  </tbody>\n",
       "</table>\n",
       "</div>"
      ],
      "text/plain": [
       "          count   sum my_mean\n",
       "children                     \n",
       "0         14091  1063  7.54% \n",
       "1          4808   444  9.23% \n",
       "2          2052   194  9.45% \n",
       "3           330    27  8.18% \n",
       "4            41     4  9.76% \n",
       "5             9     0  0.00% "
      ]
     },
     "execution_count": 25,
     "metadata": {},
     "output_type": "execute_result"
    }
   ],
   "source": [
    "# КОД РЕВЬЮЕРА\n",
    "\n",
    "def my_mean(x): return '{:.2%} '.format(x.mean())\n",
    "\n",
    "data.groupby('children')['debt'].agg(['count', 'sum', my_mean])"
   ]
  },
  {
   "cell_type": "markdown",
   "id": "5f83e7fe",
   "metadata": {
    "deletable": false,
    "id": "3a6b99ec"
   },
   "source": [
    "**Вывод:** \n",
    "Самыми безопасными  и надёжными заёмщиками считаются заёмщики без детей. У них меньше всего просрочен платёж, у заёмщиков с 3 и более детьми слишком маленькая выборка (малое количество) чтобы сделать выводы. Но тенденция на лицо: чем больше детей, чем больше вероятность что заёмщик не сернёт кредит."
   ]
  },
  {
   "cell_type": "markdown",
   "id": "15b25212",
   "metadata": {
    "deletable": false,
    "editable": false,
    "id": "97be82ca"
   },
   "source": [
    "#### 3.2 Есть ли зависимость между семейным положением и возвратом кредита в срок?"
   ]
  },
  {
   "cell_type": "code",
   "execution_count": 24,
   "id": "6e94359c",
   "metadata": {
    "deletable": false,
    "id": "dc3f7ee8"
   },
   "outputs": [
    {
     "name": "stdout",
     "output_type": "stream",
     "text": [
      "                       no_debt  debt   percent\n",
      "family_status                                 \n",
      "Не женат / не замужем     2523   273  0.097639\n",
      "в разводе                 1105    84  0.070648\n",
      "вдовец / вдова             888    63  0.066246\n",
      "гражданский брак          3749   385  0.093130\n",
      "женат / замужем          11334   927  0.075606\n"
     ]
    }
   ],
   "source": [
    "#повтороим код предыдущего задания, только заменим детей на семейное положение\n",
    "tableDebt_1 = data.pivot_table(index = 'family_status', columns = 'debt', values = 'education', aggfunc = 'count').fillna(0)\n",
    "tableDebt_1.columns = ['no_debt','debt']\n",
    "tableDebt_1['percent'] = tableDebt_1['debt'] / (tableDebt_1['debt'] + tableDebt_1['no_debt'])\n",
    "print(tableDebt_1)\n",
    "\n",
    "# Ваш код будет здесь. Вы можете создавать новые ячейки."
   ]
  },
  {
   "cell_type": "markdown",
   "id": "9568aa20",
   "metadata": {
    "deletable": false,
    "id": "1cef7837"
   },
   "source": [
    "**Вывод:**  Больше всего просрочивают выплату кредита люди, которые не находятся в браке или же находятся в гражданском браке."
   ]
  },
  {
   "cell_type": "markdown",
   "id": "ebd271e6",
   "metadata": {
    "deletable": false,
    "editable": false,
    "id": "1e8b2fca"
   },
   "source": [
    "#### 3.3 Есть ли зависимость между уровнем дохода и возвратом кредита в срок?"
   ]
  },
  {
   "cell_type": "code",
   "execution_count": 25,
   "id": "586500d7",
   "metadata": {
    "deletable": false,
    "id": "cd7e3720"
   },
   "outputs": [
    {
     "name": "stdout",
     "output_type": "stream",
     "text": [
      "                       no_debt  debt   percent\n",
      "total_income_category                         \n",
      "A                           23     2  0.080000\n",
      "B                         4660   354  0.070602\n",
      "C                        14568  1353  0.084982\n",
      "D                          328    21  0.060172\n",
      "E                           20     2  0.090909\n"
     ]
    }
   ],
   "source": [
    "tableDebt_2 = data.pivot_table(index = 'total_income_category', columns = 'debt', values = 'total_income', aggfunc = 'count').fillna(0)\n",
    "tableDebt_2.columns = ['no_debt','debt']\n",
    "tableDebt_2['percent'] = tableDebt_2['debt'] / (tableDebt_2['debt'] + tableDebt_2['no_debt'])\n",
    "print(tableDebt_2)\n",
    "\n",
    "\n",
    "# Ваш код будет здесь. Вы можете создавать новые ячейки."
   ]
  },
  {
   "cell_type": "markdown",
   "id": "bc354332",
   "metadata": {
    "deletable": false,
    "id": "e8593def"
   },
   "source": [
    "**Вывод:** Чаще всего вовремя возвращают кредит люди с с доходом от 30 тыс до 50 тыс и с доходом от 200 тыс до  1 млн. Лица с доходом от 50 тыс до 200 тыс. реже всего возвращают креджит и являются н есамыми надёжными плательщиками. По тому насколько надёжные или не надёжные плательщики лица с доходом до 30 тыс. руб. и лица с доходом свыше 1 млн. руб. выводы сделать не возможно, т.к. выборка слишком мала."
   ]
  },
  {
   "cell_type": "markdown",
   "id": "c50110b1",
   "metadata": {
    "deletable": false,
    "editable": false,
    "id": "99ecbd1f"
   },
   "source": [
    "#### 3.4 Как разные цели кредита влияют на его возврат в срок?"
   ]
  },
  {
   "cell_type": "code",
   "execution_count": 26,
   "id": "50011d8a",
   "metadata": {
    "deletable": false,
    "id": "2b687290"
   },
   "outputs": [
    {
     "name": "stdout",
     "output_type": "stream",
     "text": [
      "                          no_debt  debt   percent\n",
      "purpose_category                                 \n",
      "операции с автомобилем       3879   400  0.093480\n",
      "операции с недвижимостью     9971   780  0.072551\n",
      "получение образования        3619   369  0.092528\n",
      "проведение свадьбы           2130   183  0.079118\n"
     ]
    }
   ],
   "source": [
    "\n",
    "tableDebt_3 = data.pivot_table(index = 'purpose_category', columns = 'debt', values = 'total_income', aggfunc = 'count').fillna(0)\n",
    "tableDebt_3.columns = ['no_debt','debt']\n",
    "tableDebt_3['percent'] = tableDebt_3['debt'] / (tableDebt_3['debt'] + tableDebt_3['no_debt'])\n",
    "print (tableDebt_3)\n",
    "# Ваш код будет здесь. Вы можете создавать новые ячейки."
   ]
  },
  {
   "cell_type": "markdown",
   "id": "961ff22d",
   "metadata": {
    "deletable": false,
    "id": "b4bb2ce6"
   },
   "source": [
    "**Вывод:** Чаще всего не возвращают кредиты заёмщики с целями связанными с покупкой автомобиля, и образованием, остальные категории возвращают кредит чаще. из этого следует, что заёмщики берущие кредит на автомобиль и образование - возвращают кредит реже остальных и являются более рисковыми заёмщиками."
   ]
  },
  {
   "cell_type": "markdown",
   "id": "c81d4a56",
   "metadata": {
    "deletable": false,
    "editable": false,
    "id": "09c3ac4c"
   },
   "source": [
    "#### 3.5 Приведите возможные причины появления пропусков в исходных данных."
   ]
  },
  {
   "cell_type": "markdown",
   "id": "5c8c5db2",
   "metadata": {
    "deletable": false,
    "id": "9da2ceda"
   },
   "source": [
    "*Ответ:* Причины в пропусках данныхъ могут быть связаны с тем, что эти данные не были указанны заёмщиками при заполнении документов, и таким образом данные просто не были заполнены в данных столбцах."
   ]
  },
  {
   "cell_type": "markdown",
   "id": "95f0f611",
   "metadata": {
    "deletable": false,
    "editable": false,
    "id": "7b0487d6"
   },
   "source": [
    "#### 3.6 Объясните, почему заполнить пропуски медианным значением — лучшее решение для количественных переменных."
   ]
  },
  {
   "cell_type": "markdown",
   "id": "4c6a0d55",
   "metadata": {
    "deletable": false,
    "id": "7ecf2b8e"
   },
   "source": [
    "*Ответ:* Медиана более подхъодящаяя характеристика, т.к. на нее не влияют аномальные значения, которые могут быть в данных. К тому же, если данные имеют нормальное распределение и их количество велико, то медиана будет равняться среднему значению."
   ]
  },
  {
   "cell_type": "markdown",
   "id": "8c4c47cd",
   "metadata": {
    "deletable": false,
    "editable": false,
    "id": "6db5255a"
   },
   "source": [
    "### Шаг 4: общий вывод."
   ]
  },
  {
   "cell_type": "markdown",
   "id": "96d0ede1",
   "metadata": {
    "deletable": false,
    "id": "bad65432"
   },
   "source": [
    "Напишите ваш общий вывод.\n",
    "\n",
    "Были проанализирвоанны данные по заёмщикам по таким позициям как количество детей, цели кредита и средний доход, на их основании можно сделать следующие выводы:\n",
    "\n",
    "Исходя из првоедённого анализа данных можно сделать вывод, что хорошим, среднестатическим заёмщиком будет являться человек: \n",
    "1. Без детей (Всего 7% не возвращают кредит в срок)\n",
    "2. С высоким доходом (Всего 7% заёмщиков не возвращают кредит с доходом от 200 тыс. до 1 млн.)\n",
    "3. С целями кредита не связанными с образованием или покупкой автомобиля (по 7% заёмщиколв с этой целью не возвращают кредит вовремя)\n",
    "\n",
    "Такие заёмщики чаще всего возвращают кредит в срок.\n",
    "\n",
    "Наиболее плохими среднестатитическим заёмщиком, который реже всего возвращает кредит будет:\n",
    "1. С 1 и более детьми (чемб больше детей, тем выше риск невозврата кредита в срок, например, с 1 ребёнком уже 9% заёмщиков не возвращают кредит в срок)\n",
    "2. Со средним доходом (Всего 8% заёмщиков не возвращают кредит с доходом от 50 тыс. до 200 тыс.)\n",
    "3. С целями кредита \"получение образования\" и \"операции с автомобилем\" (по 9% заёмщиколв с этой целью не возвращают кредит вовремя)"
   ]
  },
  {
   "cell_type": "code",
   "execution_count": null,
   "id": "19c0c228",
   "metadata": {},
   "outputs": [],
   "source": []
  }
 ],
 "metadata": {
  "ExecuteTimeLog": [
   {
    "duration": 65,
    "start_time": "2022-10-06T13:48:37.419Z"
   },
   {
    "duration": 5,
    "start_time": "2022-10-06T13:50:11.929Z"
   },
   {
    "duration": 6,
    "start_time": "2022-10-06T13:50:21.302Z"
   },
   {
    "duration": 7,
    "start_time": "2022-10-06T13:50:31.047Z"
   },
   {
    "duration": 460,
    "start_time": "2022-10-06T13:50:39.365Z"
   },
   {
    "duration": 23,
    "start_time": "2022-10-06T13:50:42.142Z"
   },
   {
    "duration": 16,
    "start_time": "2022-10-06T13:50:48.025Z"
   },
   {
    "duration": 11,
    "start_time": "2022-10-06T13:50:50.840Z"
   },
   {
    "duration": 37,
    "start_time": "2022-10-06T13:50:53.522Z"
   },
   {
    "duration": 4,
    "start_time": "2022-10-06T13:50:56.348Z"
   },
   {
    "duration": 8,
    "start_time": "2022-10-06T13:50:58.479Z"
   },
   {
    "duration": 5,
    "start_time": "2022-10-06T13:51:01.708Z"
   },
   {
    "duration": 8,
    "start_time": "2022-10-06T13:51:09.410Z"
   },
   {
    "duration": 4,
    "start_time": "2022-10-06T13:51:11.902Z"
   },
   {
    "duration": 36,
    "start_time": "2022-10-06T13:51:14.880Z"
   },
   {
    "duration": 15,
    "start_time": "2022-10-06T13:51:17.042Z"
   },
   {
    "duration": 4,
    "start_time": "2022-10-06T13:51:20.240Z"
   },
   {
    "duration": 13,
    "start_time": "2022-10-06T13:51:23.013Z"
   },
   {
    "duration": 21,
    "start_time": "2022-10-06T13:51:25.349Z"
   },
   {
    "duration": 17,
    "start_time": "2022-10-06T13:51:27.912Z"
   },
   {
    "duration": 4,
    "start_time": "2022-10-06T13:51:31.350Z"
   },
   {
    "duration": 12,
    "start_time": "2022-10-06T13:51:33.415Z"
   },
   {
    "duration": 6,
    "start_time": "2022-10-06T13:51:35.482Z"
   },
   {
    "duration": 4,
    "start_time": "2022-10-06T13:51:38.238Z"
   },
   {
    "duration": 8,
    "start_time": "2022-10-06T13:51:39.987Z"
   },
   {
    "duration": 29,
    "start_time": "2022-10-06T13:51:43.407Z"
   },
   {
    "duration": 13,
    "start_time": "2022-10-06T13:51:53.078Z"
   },
   {
    "duration": 460,
    "start_time": "2022-10-06T14:01:05.204Z"
   },
   {
    "duration": 104,
    "start_time": "2022-10-06T14:13:31.241Z"
   },
   {
    "duration": 50,
    "start_time": "2022-10-06T14:13:35.460Z"
   },
   {
    "duration": 97,
    "start_time": "2022-10-06T14:14:04.312Z"
   },
   {
    "duration": 69,
    "start_time": "2022-10-06T14:14:22.194Z"
   },
   {
    "duration": 1339,
    "start_time": "2022-10-06T14:14:29.864Z"
   },
   {
    "duration": 60,
    "start_time": "2022-10-06T14:15:06.606Z"
   },
   {
    "duration": 88,
    "start_time": "2022-10-06T14:15:28.940Z"
   },
   {
    "duration": 59,
    "start_time": "2022-10-06T14:15:45.852Z"
   },
   {
    "duration": 20,
    "start_time": "2022-10-06T14:17:42.758Z"
   },
   {
    "duration": 22,
    "start_time": "2022-10-06T14:17:56.704Z"
   },
   {
    "duration": 21,
    "start_time": "2022-10-06T14:18:14.506Z"
   },
   {
    "duration": 19,
    "start_time": "2022-10-06T14:21:52.146Z"
   },
   {
    "duration": 30,
    "start_time": "2022-10-06T14:22:55.167Z"
   },
   {
    "duration": 20,
    "start_time": "2022-10-06T14:23:09.652Z"
   },
   {
    "duration": 51,
    "start_time": "2022-10-08T07:29:55.502Z"
   },
   {
    "duration": 677,
    "start_time": "2022-10-08T07:30:22.645Z"
   },
   {
    "duration": 21,
    "start_time": "2022-10-08T07:30:25.131Z"
   },
   {
    "duration": 14,
    "start_time": "2022-10-08T07:30:29.481Z"
   },
   {
    "duration": 11,
    "start_time": "2022-10-08T07:30:32.580Z"
   },
   {
    "duration": 32,
    "start_time": "2022-10-08T07:30:34.655Z"
   },
   {
    "duration": 3,
    "start_time": "2022-10-08T07:30:36.739Z"
   },
   {
    "duration": 8,
    "start_time": "2022-10-08T07:30:38.812Z"
   },
   {
    "duration": 4,
    "start_time": "2022-10-08T07:30:41.482Z"
   },
   {
    "duration": 7,
    "start_time": "2022-10-08T07:30:44.816Z"
   },
   {
    "duration": 5,
    "start_time": "2022-10-08T07:30:47.131Z"
   },
   {
    "duration": 31,
    "start_time": "2022-10-08T07:30:50.818Z"
   },
   {
    "duration": 9,
    "start_time": "2022-10-08T07:30:53.003Z"
   },
   {
    "duration": 4,
    "start_time": "2022-10-08T07:30:56.584Z"
   },
   {
    "duration": 12,
    "start_time": "2022-10-08T07:30:58.769Z"
   },
   {
    "duration": 20,
    "start_time": "2022-10-08T07:31:01.255Z"
   },
   {
    "duration": 18,
    "start_time": "2022-10-08T07:31:03.069Z"
   },
   {
    "duration": 4,
    "start_time": "2022-10-08T07:31:06.659Z"
   },
   {
    "duration": 9,
    "start_time": "2022-10-08T07:31:08.200Z"
   },
   {
    "duration": 8,
    "start_time": "2022-10-08T07:31:10.043Z"
   },
   {
    "duration": 4,
    "start_time": "2022-10-08T07:31:13.745Z"
   },
   {
    "duration": 9,
    "start_time": "2022-10-08T07:31:14.583Z"
   },
   {
    "duration": 20,
    "start_time": "2022-10-08T07:31:19.796Z"
   },
   {
    "duration": 22,
    "start_time": "2022-10-08T07:32:28.711Z"
   },
   {
    "duration": 446,
    "start_time": "2022-10-08T07:36:46.953Z"
   },
   {
    "duration": 33,
    "start_time": "2022-10-08T07:37:22.653Z"
   },
   {
    "duration": 22,
    "start_time": "2022-10-08T07:39:52.550Z"
   },
   {
    "duration": 20,
    "start_time": "2022-10-08T07:40:06.141Z"
   },
   {
    "duration": 49,
    "start_time": "2022-10-08T07:43:45.006Z"
   },
   {
    "duration": 16,
    "start_time": "2022-10-08T07:43:52.544Z"
   },
   {
    "duration": 14,
    "start_time": "2022-10-08T07:44:00.329Z"
   },
   {
    "duration": 26,
    "start_time": "2022-10-08T07:44:23.324Z"
   },
   {
    "duration": 24,
    "start_time": "2022-10-08T07:47:14.656Z"
   },
   {
    "duration": 25,
    "start_time": "2022-10-08T07:48:56.822Z"
   },
   {
    "duration": 28,
    "start_time": "2022-10-08T07:49:07.641Z"
   },
   {
    "duration": 27,
    "start_time": "2022-10-08T07:50:16.114Z"
   },
   {
    "duration": 32,
    "start_time": "2022-10-08T07:50:25.964Z"
   },
   {
    "duration": 15,
    "start_time": "2022-10-08T07:50:33.333Z"
   },
   {
    "duration": 16,
    "start_time": "2022-10-08T07:50:44.073Z"
   },
   {
    "duration": 14,
    "start_time": "2022-10-08T07:50:55.659Z"
   },
   {
    "duration": 38,
    "start_time": "2022-10-08T07:52:10.827Z"
   },
   {
    "duration": 31,
    "start_time": "2022-10-08T07:52:30.858Z"
   },
   {
    "duration": 33,
    "start_time": "2022-10-08T07:52:55.160Z"
   },
   {
    "duration": 19,
    "start_time": "2022-10-08T07:53:17.962Z"
   },
   {
    "duration": 21,
    "start_time": "2022-10-08T07:53:34.834Z"
   },
   {
    "duration": 18,
    "start_time": "2022-10-08T07:53:41.307Z"
   },
   {
    "duration": 18,
    "start_time": "2022-10-08T07:55:34.041Z"
   },
   {
    "duration": 36,
    "start_time": "2022-10-08T07:56:46.738Z"
   },
   {
    "duration": 33,
    "start_time": "2022-10-08T07:57:17.410Z"
   },
   {
    "duration": 35,
    "start_time": "2022-10-08T07:58:01.223Z"
   },
   {
    "duration": 28,
    "start_time": "2022-10-08T07:58:10.320Z"
   },
   {
    "duration": 28,
    "start_time": "2022-10-08T07:58:37.701Z"
   },
   {
    "duration": 27,
    "start_time": "2022-10-08T07:59:26.046Z"
   },
   {
    "duration": 17,
    "start_time": "2022-10-08T07:59:43.484Z"
   },
   {
    "duration": 21,
    "start_time": "2022-10-08T07:59:55.349Z"
   },
   {
    "duration": 18,
    "start_time": "2022-10-08T08:00:03.017Z"
   },
   {
    "duration": 18,
    "start_time": "2022-10-08T08:01:04.869Z"
   },
   {
    "duration": 129,
    "start_time": "2022-10-08T08:01:25.538Z"
   },
   {
    "duration": 46,
    "start_time": "2022-10-08T08:01:34.514Z"
   },
   {
    "duration": 43,
    "start_time": "2022-10-08T08:01:37.992Z"
   },
   {
    "duration": 768,
    "start_time": "2022-10-08T08:01:52.816Z"
   },
   {
    "duration": 692,
    "start_time": "2022-10-08T08:01:56.030Z"
   },
   {
    "duration": 60,
    "start_time": "2022-10-08T08:02:06.781Z"
   },
   {
    "duration": 81,
    "start_time": "2022-10-08T08:11:38.530Z"
   },
   {
    "duration": 59,
    "start_time": "2022-10-08T08:11:59.714Z"
   },
   {
    "duration": 73,
    "start_time": "2022-10-08T08:12:18.455Z"
   },
   {
    "duration": 48,
    "start_time": "2022-10-08T08:12:38.397Z"
   },
   {
    "duration": 30,
    "start_time": "2022-10-08T08:12:51.414Z"
   },
   {
    "duration": 27,
    "start_time": "2022-10-08T08:13:56.894Z"
   },
   {
    "duration": 30,
    "start_time": "2022-10-08T08:14:13.607Z"
   },
   {
    "duration": 20,
    "start_time": "2022-10-08T08:14:59.835Z"
   },
   {
    "duration": 25,
    "start_time": "2022-10-08T08:18:05.194Z"
   },
   {
    "duration": 18,
    "start_time": "2022-10-08T08:18:20.441Z"
   },
   {
    "duration": 29,
    "start_time": "2022-10-08T08:23:09.566Z"
   },
   {
    "duration": 15,
    "start_time": "2022-10-08T08:24:24.714Z"
   },
   {
    "duration": 9,
    "start_time": "2022-10-08T08:30:22.146Z"
   },
   {
    "duration": 73,
    "start_time": "2022-10-08T08:30:57.299Z"
   },
   {
    "duration": 21,
    "start_time": "2022-10-08T08:31:03.281Z"
   },
   {
    "duration": 9,
    "start_time": "2022-10-08T08:32:40.600Z"
   },
   {
    "duration": 21,
    "start_time": "2022-10-08T08:33:40.792Z"
   },
   {
    "duration": 19,
    "start_time": "2022-10-08T08:33:56.891Z"
   },
   {
    "duration": 18,
    "start_time": "2022-10-08T08:40:50.626Z"
   },
   {
    "duration": 22,
    "start_time": "2022-10-08T08:43:25.232Z"
   },
   {
    "duration": 19,
    "start_time": "2022-10-08T08:43:31.886Z"
   },
   {
    "duration": 20,
    "start_time": "2022-10-08T08:43:42.960Z"
   },
   {
    "duration": 43,
    "start_time": "2022-10-08T08:43:46.770Z"
   },
   {
    "duration": 17,
    "start_time": "2022-10-08T08:43:49.697Z"
   },
   {
    "duration": 16,
    "start_time": "2022-10-08T08:45:13.732Z"
   },
   {
    "duration": 19,
    "start_time": "2022-10-08T08:45:48.810Z"
   },
   {
    "duration": 21,
    "start_time": "2022-10-08T08:45:52.951Z"
   },
   {
    "duration": 18,
    "start_time": "2022-10-08T08:46:14.868Z"
   },
   {
    "duration": 802,
    "start_time": "2022-10-08T12:37:03.310Z"
   },
   {
    "duration": 31,
    "start_time": "2022-10-08T12:37:04.821Z"
   },
   {
    "duration": 16,
    "start_time": "2022-10-08T12:37:06.494Z"
   },
   {
    "duration": 12,
    "start_time": "2022-10-08T12:37:08.983Z"
   },
   {
    "duration": 34,
    "start_time": "2022-10-08T12:37:10.275Z"
   },
   {
    "duration": 4,
    "start_time": "2022-10-08T12:37:11.686Z"
   },
   {
    "duration": 13,
    "start_time": "2022-10-08T12:37:12.936Z"
   },
   {
    "duration": 7,
    "start_time": "2022-10-08T12:37:14.931Z"
   },
   {
    "duration": 8,
    "start_time": "2022-10-08T12:37:16.325Z"
   },
   {
    "duration": 5,
    "start_time": "2022-10-08T12:37:17.651Z"
   },
   {
    "duration": 34,
    "start_time": "2022-10-08T12:37:19.668Z"
   },
   {
    "duration": 15,
    "start_time": "2022-10-08T12:37:20.970Z"
   },
   {
    "duration": 4,
    "start_time": "2022-10-08T12:37:22.511Z"
   },
   {
    "duration": 12,
    "start_time": "2022-10-08T12:37:23.995Z"
   },
   {
    "duration": 33,
    "start_time": "2022-10-08T12:37:25.215Z"
   },
   {
    "duration": 17,
    "start_time": "2022-10-08T12:37:25.899Z"
   },
   {
    "duration": 4,
    "start_time": "2022-10-08T12:37:28.145Z"
   },
   {
    "duration": 21,
    "start_time": "2022-10-08T12:37:28.626Z"
   },
   {
    "duration": 7,
    "start_time": "2022-10-08T12:37:30.456Z"
   },
   {
    "duration": 6,
    "start_time": "2022-10-08T12:37:31.737Z"
   },
   {
    "duration": 9,
    "start_time": "2022-10-08T12:37:32.280Z"
   },
   {
    "duration": 29,
    "start_time": "2022-10-08T12:37:35.203Z"
   },
   {
    "duration": 23,
    "start_time": "2022-10-08T12:37:38.884Z"
   },
   {
    "duration": 21,
    "start_time": "2022-10-08T12:37:56.729Z"
   },
   {
    "duration": 23,
    "start_time": "2022-10-08T12:38:03.269Z"
   },
   {
    "duration": 30,
    "start_time": "2022-10-08T12:38:06.225Z"
   },
   {
    "duration": 20,
    "start_time": "2022-10-08T13:20:19.746Z"
   },
   {
    "duration": 17,
    "start_time": "2022-10-08T13:26:33.248Z"
   },
   {
    "duration": 678,
    "start_time": "2022-10-09T18:35:41.050Z"
   },
   {
    "duration": 21,
    "start_time": "2022-10-09T18:35:42.229Z"
   },
   {
    "duration": 15,
    "start_time": "2022-10-09T18:35:46.488Z"
   },
   {
    "duration": 9,
    "start_time": "2022-10-09T18:35:49.890Z"
   },
   {
    "duration": 30,
    "start_time": "2022-10-09T18:35:52.944Z"
   },
   {
    "duration": 3,
    "start_time": "2022-10-09T18:35:54.950Z"
   },
   {
    "duration": 8,
    "start_time": "2022-10-09T18:35:56.524Z"
   },
   {
    "duration": 4,
    "start_time": "2022-10-09T18:35:59.506Z"
   },
   {
    "duration": 6,
    "start_time": "2022-10-09T18:36:01.489Z"
   },
   {
    "duration": 4,
    "start_time": "2022-10-09T18:36:04.351Z"
   },
   {
    "duration": 29,
    "start_time": "2022-10-09T18:36:06.642Z"
   },
   {
    "duration": 8,
    "start_time": "2022-10-09T18:36:08.499Z"
   },
   {
    "duration": 3,
    "start_time": "2022-10-09T18:36:12.539Z"
   },
   {
    "duration": 11,
    "start_time": "2022-10-09T18:36:15.044Z"
   },
   {
    "duration": 19,
    "start_time": "2022-10-09T18:36:17.095Z"
   },
   {
    "duration": 16,
    "start_time": "2022-10-09T18:36:19.109Z"
   },
   {
    "duration": 4,
    "start_time": "2022-10-09T18:36:22.078Z"
   },
   {
    "duration": 15,
    "start_time": "2022-10-09T18:36:22.616Z"
   },
   {
    "duration": 7,
    "start_time": "2022-10-09T18:36:25.276Z"
   },
   {
    "duration": 4,
    "start_time": "2022-10-09T18:36:28.010Z"
   },
   {
    "duration": 8,
    "start_time": "2022-10-09T18:36:28.491Z"
   },
   {
    "duration": 35,
    "start_time": "2022-10-09T18:36:31.010Z"
   },
   {
    "duration": 19,
    "start_time": "2022-10-09T18:36:35.439Z"
   },
   {
    "duration": 17,
    "start_time": "2022-10-09T18:36:37.535Z"
   },
   {
    "duration": 24,
    "start_time": "2022-10-09T18:36:39.546Z"
   },
   {
    "duration": 18,
    "start_time": "2022-10-09T18:37:51.108Z"
   },
   {
    "duration": 636,
    "start_time": "2022-10-10T08:19:46.715Z"
   },
   {
    "duration": 20,
    "start_time": "2022-10-10T08:19:47.353Z"
   },
   {
    "duration": 12,
    "start_time": "2022-10-10T08:19:47.375Z"
   },
   {
    "duration": 8,
    "start_time": "2022-10-10T08:19:47.389Z"
   },
   {
    "duration": 33,
    "start_time": "2022-10-10T08:19:47.398Z"
   },
   {
    "duration": 3,
    "start_time": "2022-10-10T08:19:47.433Z"
   },
   {
    "duration": 16,
    "start_time": "2022-10-10T08:19:47.438Z"
   },
   {
    "duration": 8,
    "start_time": "2022-10-10T08:19:47.456Z"
   },
   {
    "duration": 10,
    "start_time": "2022-10-10T08:19:47.466Z"
   },
   {
    "duration": 10,
    "start_time": "2022-10-10T08:19:47.479Z"
   },
   {
    "duration": 44,
    "start_time": "2022-10-10T08:19:47.490Z"
   },
   {
    "duration": 8,
    "start_time": "2022-10-10T08:19:47.535Z"
   },
   {
    "duration": 6,
    "start_time": "2022-10-10T08:19:47.545Z"
   },
   {
    "duration": 11,
    "start_time": "2022-10-10T08:19:47.553Z"
   },
   {
    "duration": 17,
    "start_time": "2022-10-10T08:19:47.565Z"
   },
   {
    "duration": 31,
    "start_time": "2022-10-10T08:19:47.583Z"
   },
   {
    "duration": 4,
    "start_time": "2022-10-10T08:19:47.615Z"
   },
   {
    "duration": 14,
    "start_time": "2022-10-10T08:19:47.621Z"
   },
   {
    "duration": 8,
    "start_time": "2022-10-10T08:19:47.636Z"
   },
   {
    "duration": 3,
    "start_time": "2022-10-10T08:19:47.646Z"
   },
   {
    "duration": 10,
    "start_time": "2022-10-10T08:19:47.650Z"
   },
   {
    "duration": 81,
    "start_time": "2022-10-10T08:19:47.662Z"
   },
   {
    "duration": 0,
    "start_time": "2022-10-10T08:19:47.744Z"
   },
   {
    "duration": 0,
    "start_time": "2022-10-10T08:19:47.745Z"
   },
   {
    "duration": 0,
    "start_time": "2022-10-10T08:19:47.746Z"
   },
   {
    "duration": 20,
    "start_time": "2022-10-10T08:20:34.802Z"
   },
   {
    "duration": 17,
    "start_time": "2022-10-10T08:21:06.375Z"
   },
   {
    "duration": 19,
    "start_time": "2022-10-10T08:21:06.395Z"
   },
   {
    "duration": 59,
    "start_time": "2022-10-10T09:38:35.932Z"
   },
   {
    "duration": 7,
    "start_time": "2022-10-10T09:40:20.530Z"
   },
   {
    "duration": 760,
    "start_time": "2022-10-10T09:40:53.925Z"
   },
   {
    "duration": 513,
    "start_time": "2022-10-10T09:40:59.900Z"
   },
   {
    "duration": 22,
    "start_time": "2022-10-10T09:41:02.405Z"
   },
   {
    "duration": 14,
    "start_time": "2022-10-10T09:41:06.059Z"
   },
   {
    "duration": 11,
    "start_time": "2022-10-10T09:41:09.183Z"
   },
   {
    "duration": 37,
    "start_time": "2022-10-10T09:41:11.186Z"
   },
   {
    "duration": 4,
    "start_time": "2022-10-10T09:41:13.521Z"
   },
   {
    "duration": 8,
    "start_time": "2022-10-10T09:41:15.155Z"
   },
   {
    "duration": 4,
    "start_time": "2022-10-10T09:41:17.650Z"
   },
   {
    "duration": 7,
    "start_time": "2022-10-10T09:41:19.988Z"
   },
   {
    "duration": 5,
    "start_time": "2022-10-10T09:41:22.489Z"
   },
   {
    "duration": 45,
    "start_time": "2022-10-10T09:41:25.078Z"
   },
   {
    "duration": 10,
    "start_time": "2022-10-10T09:41:27.008Z"
   },
   {
    "duration": 4,
    "start_time": "2022-10-10T09:41:29.912Z"
   },
   {
    "duration": 12,
    "start_time": "2022-10-10T09:41:31.474Z"
   },
   {
    "duration": 19,
    "start_time": "2022-10-10T09:41:33.103Z"
   },
   {
    "duration": 19,
    "start_time": "2022-10-10T09:41:35.084Z"
   },
   {
    "duration": 4,
    "start_time": "2022-10-10T09:41:37.501Z"
   },
   {
    "duration": 12,
    "start_time": "2022-10-10T09:41:38.819Z"
   },
   {
    "duration": 8,
    "start_time": "2022-10-10T09:41:40.957Z"
   },
   {
    "duration": 4,
    "start_time": "2022-10-10T09:41:43.637Z"
   },
   {
    "duration": 13,
    "start_time": "2022-10-10T09:41:45.012Z"
   },
   {
    "duration": 35,
    "start_time": "2022-10-10T09:41:48.674Z"
   },
   {
    "duration": 30,
    "start_time": "2022-10-10T09:41:56.593Z"
   },
   {
    "duration": 26,
    "start_time": "2022-10-10T09:41:59.846Z"
   },
   {
    "duration": 18,
    "start_time": "2022-10-10T09:42:02.350Z"
   },
   {
    "duration": 28,
    "start_time": "2022-10-10T09:42:05.044Z"
   },
   {
    "duration": 58,
    "start_time": "2022-10-10T09:46:49.760Z"
   },
   {
    "duration": 66,
    "start_time": "2022-10-10T09:47:06.495Z"
   },
   {
    "duration": 48,
    "start_time": "2022-10-10T09:47:59.698Z"
   },
   {
    "duration": 54,
    "start_time": "2022-10-10T09:50:08.374Z"
   },
   {
    "duration": 74,
    "start_time": "2022-10-10T09:50:13.776Z"
   },
   {
    "duration": 112,
    "start_time": "2022-10-10T09:50:22.545Z"
   },
   {
    "duration": 57,
    "start_time": "2022-10-10T09:51:27.070Z"
   },
   {
    "duration": 48,
    "start_time": "2022-10-10T09:51:35.662Z"
   },
   {
    "duration": 52,
    "start_time": "2022-10-10T09:52:07.646Z"
   },
   {
    "duration": 62,
    "start_time": "2022-10-10T09:52:12.523Z"
   },
   {
    "duration": 46,
    "start_time": "2022-10-10T09:53:37.864Z"
   },
   {
    "duration": 50,
    "start_time": "2022-10-10T09:53:56.406Z"
   },
   {
    "duration": 60,
    "start_time": "2022-10-10T09:54:22.727Z"
   },
   {
    "duration": 69,
    "start_time": "2022-10-10T09:54:40.526Z"
   },
   {
    "duration": 114,
    "start_time": "2022-10-10T09:57:14.708Z"
   },
   {
    "duration": 134,
    "start_time": "2022-10-10T10:14:03.870Z"
   },
   {
    "duration": 65,
    "start_time": "2022-10-10T10:17:59.962Z"
   },
   {
    "duration": 440,
    "start_time": "2022-10-10T17:33:53.241Z"
   },
   {
    "duration": 21,
    "start_time": "2022-10-10T17:33:53.683Z"
   },
   {
    "duration": 14,
    "start_time": "2022-10-10T17:33:53.705Z"
   },
   {
    "duration": 9,
    "start_time": "2022-10-10T17:33:53.721Z"
   },
   {
    "duration": 32,
    "start_time": "2022-10-10T17:33:53.731Z"
   },
   {
    "duration": 4,
    "start_time": "2022-10-10T17:33:53.764Z"
   },
   {
    "duration": 9,
    "start_time": "2022-10-10T17:33:53.769Z"
   },
   {
    "duration": 4,
    "start_time": "2022-10-10T17:33:53.780Z"
   },
   {
    "duration": 9,
    "start_time": "2022-10-10T17:33:53.808Z"
   },
   {
    "duration": 8,
    "start_time": "2022-10-10T17:33:53.820Z"
   },
   {
    "duration": 37,
    "start_time": "2022-10-10T17:33:53.829Z"
   },
   {
    "duration": 11,
    "start_time": "2022-10-10T17:33:53.868Z"
   },
   {
    "duration": 29,
    "start_time": "2022-10-10T17:33:53.881Z"
   },
   {
    "duration": 11,
    "start_time": "2022-10-10T17:33:53.912Z"
   },
   {
    "duration": 22,
    "start_time": "2022-10-10T17:33:53.924Z"
   },
   {
    "duration": 16,
    "start_time": "2022-10-10T17:33:53.947Z"
   },
   {
    "duration": 3,
    "start_time": "2022-10-10T17:33:53.965Z"
   },
   {
    "duration": 12,
    "start_time": "2022-10-10T17:33:53.969Z"
   },
   {
    "duration": 27,
    "start_time": "2022-10-10T17:33:53.983Z"
   },
   {
    "duration": 6,
    "start_time": "2022-10-10T17:33:54.011Z"
   },
   {
    "duration": 12,
    "start_time": "2022-10-10T17:33:54.018Z"
   },
   {
    "duration": 22,
    "start_time": "2022-10-10T17:33:54.032Z"
   },
   {
    "duration": 10,
    "start_time": "2022-10-10T17:33:57.120Z"
   },
   {
    "duration": 11,
    "start_time": "2022-10-10T17:33:58.241Z"
   },
   {
    "duration": 12,
    "start_time": "2022-10-10T17:34:01.637Z"
   }
  ],
  "colab": {
   "name": "dpp_template_part2.ipynb",
   "provenance": []
  },
  "kernelspec": {
   "display_name": "Python 3 (ipykernel)",
   "language": "python",
   "name": "python3"
  },
  "language_info": {
   "codemirror_mode": {
    "name": "ipython",
    "version": 3
   },
   "file_extension": ".py",
   "mimetype": "text/x-python",
   "name": "python",
   "nbconvert_exporter": "python",
   "pygments_lexer": "ipython3",
   "version": "3.9.13"
  },
  "toc": {
   "base_numbering": 1,
   "nav_menu": {},
   "number_sections": true,
   "sideBar": true,
   "skip_h1_title": true,
   "title_cell": "Table of Contents",
   "title_sidebar": "Contents",
   "toc_cell": false,
   "toc_position": {},
   "toc_section_display": true,
   "toc_window_display": true
  }
 },
 "nbformat": 4,
 "nbformat_minor": 5
}
